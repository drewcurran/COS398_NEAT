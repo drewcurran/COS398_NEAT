{
 "cells": [
  {
   "attachments": {},
   "cell_type": "markdown",
   "metadata": {},
   "source": [
    "# Imports"
   ]
  },
  {
   "cell_type": "code",
   "execution_count": 1,
   "metadata": {},
   "outputs": [],
   "source": [
    "import os\n",
    "\n",
    "os.chdir('C:\\\\Users\\\\denis\\\\Documents\\\\GitHub\\\\COS398_CatanAI')"
   ]
  },
  {
   "cell_type": "code",
   "execution_count": 2,
   "metadata": {},
   "outputs": [],
   "source": [
    "import numpy as np"
   ]
  },
  {
   "cell_type": "code",
   "execution_count": 3,
   "metadata": {},
   "outputs": [],
   "source": [
    "from NEAT.population import Population\n",
    "from NEAT.species import Species\n",
    "from NEAT.organism import Organism\n",
    "from NEAT.history import InnovationHistory\n",
    "from Circuit_Design.circuit_games import XORGame"
   ]
  },
  {
   "attachments": {},
   "cell_type": "markdown",
   "metadata": {},
   "source": [
    "# Generation"
   ]
  },
  {
   "attachments": {},
   "cell_type": "markdown",
   "metadata": {},
   "source": [
    "## Mutation"
   ]
  },
  {
   "cell_type": "code",
   "execution_count": 4,
   "metadata": {},
   "outputs": [
    {
     "name": "stdout",
     "output_type": "stream",
     "text": [
      "State\n",
      "Neurons: 3 (2), {0: [N(0), N(1)], 1: [N(2)]}\n",
      "Connections: 0, []\n",
      "\n"
     ]
    },
    {
     "data": {
      "image/png": "[encoded data removed]",
      "text/plain": [
       "<Figure size 432x288 with 1 Axes>"
      ]
     },
     "metadata": {
      "needs_background": "light"
     },
     "output_type": "display_data"
    }
   ],
   "source": [
    "population = Population(1000, 1, 1)\n",
    "population.innovation_history = InnovationHistory(population.num_inputs + population.num_outputs + 2) \n",
    "player1 = Organism(1, 1)\n",
    "player1.print_state()\n",
    "player1.draw_state()"
   ]
  },
  {
   "cell_type": "code",
   "execution_count": 5,
   "metadata": {},
   "outputs": [
    {
     "name": "stdout",
     "output_type": "stream",
     "text": [
      "State\n",
      "Neurons: 3 (2), {0: [N(0), N(1)], 1: [N(2)]}\n",
      "Connections: 1, [C(N(0)->N(2),W=-0.2440,I=1,E=1)]\n",
      "\n",
      "[(0, 2)]\n"
     ]
    },
    {
     "data": {
      "image/png": "[encoded data removed]",
      "text/plain": [
       "<Figure size 432x288 with 1 Axes>"
      ]
     },
     "metadata": {
      "needs_background": "light"
     },
     "output_type": "display_data"
    }
   ],
   "source": [
    "population.mutate_genome(player1)\n",
    "player1.print_state()\n",
    "player1.draw_state()\n",
    "print(population.innovation_history.innovations)"
   ]
  },
  {
   "cell_type": "code",
   "execution_count": 6,
   "metadata": {},
   "outputs": [
    {
     "name": "stdout",
     "output_type": "stream",
     "text": [
      "State\n",
      "Neurons: 3 (2), {0: [N(0), N(1)], 1: [N(2)]}\n",
      "Connections: 1, [C(N(0)->N(2),W=-0.2440,I=1,E=1)]\n",
      "\n",
      "[(0, 2)]\n"
     ]
    },
    {
     "data": {
      "image/png": "[encoded data removed]",
      "text/plain": [
       "<Figure size 432x288 with 1 Axes>"
      ]
     },
     "metadata": {
      "needs_background": "light"
     },
     "output_type": "display_data"
    }
   ],
   "source": [
    "population.mutate_neuron(player1)\n",
    "player1.print_state()\n",
    "player1.draw_state()\n",
    "print(population.innovation_history.innovations)"
   ]
  },
  {
   "cell_type": "code",
   "execution_count": 7,
   "metadata": {},
   "outputs": [
    {
     "name": "stdout",
     "output_type": "stream",
     "text": [
      "State\n",
      "Neurons: 3 (2), {0: [N(0), N(1)], 1: [N(2)]}\n",
      "Connections: 2, [C(N(0)->N(2),W=-0.2440,I=1,E=1), C(N(1)->N(2),W=0.5888,I=2,E=1)]\n",
      "\n",
      "[(0, 2), (1, 2)]\n"
     ]
    },
    {
     "data": {
      "image/png": "[encoded data removed]",
      "text/plain": [
       "<Figure size 432x288 with 1 Axes>"
      ]
     },
     "metadata": {
      "needs_background": "light"
     },
     "output_type": "display_data"
    }
   ],
   "source": [
    "population.mutate_gene(player1)\n",
    "player1.print_state()\n",
    "player1.draw_state()\n",
    "print(population.innovation_history.innovations)"
   ]
  },
  {
   "cell_type": "code",
   "execution_count": 8,
   "metadata": {},
   "outputs": [
    {
     "name": "stdout",
     "output_type": "stream",
     "text": [
      "State\n",
      "Neurons: 4 (3), {0: [N(0), N(1)], 1: [N(4)], 2: [N(2)]}\n",
      "Connections: 5, [C(N(0)->N(2),W=-0.2440,I=1,E=1), C(N(1)->N(2),W=0.5888,I=2,E=0), C(N(1)->N(4),W=1.0000,I=3,E=1), C(N(4)->N(2),W=0.5888,I=4,E=1), C(N(0)->N(4),W=0.0000,I=5,E=1)]\n",
      "\n",
      "[(0, 2), (1, 2), (1, 4), (4, 2), (0, 4)]\n"
     ]
    },
    {
     "data": {
      "image/png": "[encoded data removed]",
      "text/plain": [
       "<Figure size 432x288 with 1 Axes>"
      ]
     },
     "metadata": {
      "needs_background": "light"
     },
     "output_type": "display_data"
    }
   ],
   "source": [
    "population.mutate_neuron(player1)\n",
    "player1.print_state()\n",
    "player1.draw_state()\n",
    "print(population.innovation_history.innovations)"
   ]
  },
  {
   "cell_type": "code",
   "execution_count": 9,
   "metadata": {},
   "outputs": [
    {
     "name": "stdout",
     "output_type": "stream",
     "text": [
      "State\n",
      "Neurons: 4 (3), {0: [N(0), N(1)], 1: [N(4)], 2: [N(2)]}\n",
      "Connections: 5, [C(N(0)->N(2),W=-0.2349,I=1,E=1), C(N(1)->N(2),W=0.6209,I=2,E=0), C(N(1)->N(4),W=0.9979,I=3,E=1), C(N(4)->N(2),W=0.5966,I=4,E=1), C(N(0)->N(4),W=0.0476,I=5,E=1)]\n",
      "\n",
      "[(0, 2), (1, 2), (1, 4), (4, 2), (0, 4)]\n"
     ]
    },
    {
     "data": {
      "image/png": "[encoded data removed]",
      "text/plain": [
       "<Figure size 432x288 with 1 Axes>"
      ]
     },
     "metadata": {
      "needs_background": "light"
     },
     "output_type": "display_data"
    }
   ],
   "source": [
    "population.mutate_genome(player1)\n",
    "player1.print_state()\n",
    "player1.draw_state()\n",
    "print(population.innovation_history.innovations)"
   ]
  },
  {
   "attachments": {},
   "cell_type": "markdown",
   "metadata": {},
   "source": [
    "## Cloning"
   ]
  },
  {
   "cell_type": "code",
   "execution_count": 10,
   "metadata": {},
   "outputs": [
    {
     "name": "stdout",
     "output_type": "stream",
     "text": [
      "State\n",
      "Neurons: 4 (3), {0: [N(0), N(1)], 2: [N(2)], 1: [N(4)]}\n",
      "Connections: 5, [C(N(0)->N(2),W=-0.2349,I=1,E=1), C(N(1)->N(2),W=0.6209,I=2,E=0), C(N(1)->N(4),W=0.9979,I=3,E=1), C(N(4)->N(2),W=0.5966,I=4,E=1), C(N(0)->N(4),W=0.0476,I=5,E=1)]\n",
      "\n",
      "[(0, 2), (1, 2), (1, 4), (4, 2), (0, 4)]\n"
     ]
    },
    {
     "data": {
      "image/png": "[encoded data removed]",
      "text/plain": [
       "<Figure size 432x288 with 1 Axes>"
      ]
     },
     "metadata": {
      "needs_background": "light"
     },
     "output_type": "display_data"
    }
   ],
   "source": [
    "player2 = population.clone(player1)\n",
    "player2.print_state()\n",
    "player2.draw_state()\n",
    "print(population.innovation_history.innovations)"
   ]
  },
  {
   "cell_type": "code",
   "execution_count": 11,
   "metadata": {},
   "outputs": [
    {
     "name": "stdout",
     "output_type": "stream",
     "text": [
      "State\n",
      "Neurons: 5 (3), {0: [N(0), N(1)], 2: [N(2)], 1: [N(4), N(5)]}\n",
      "Connections: 8, [C(N(0)->N(2),W=-0.2349,I=1,E=1), C(N(1)->N(2),W=0.6209,I=2,E=0), C(N(1)->N(4),W=0.9979,I=3,E=1), C(N(4)->N(2),W=0.5966,I=4,E=1), C(N(0)->N(4),W=0.0476,I=5,E=1), C(N(1)->N(5),W=1.0000,I=6,E=1), C(N(5)->N(2),W=0.6209,I=7,E=1), C(N(0)->N(5),W=0.0000,I=8,E=1)]\n",
      "\n",
      "[(0, 2), (1, 2), (1, 4), (4, 2), (0, 4), (1, 5), (5, 2), (0, 5)]\n"
     ]
    },
    {
     "data": {
      "image/png": "[encoded data removed]",
      "text/plain": [
       "<Figure size 432x288 with 1 Axes>"
      ]
     },
     "metadata": {
      "needs_background": "light"
     },
     "output_type": "display_data"
    }
   ],
   "source": [
    "population.mutate_neuron(player2)\n",
    "player2.print_state()\n",
    "player2.draw_state()\n",
    "print(population.innovation_history.innovations)"
   ]
  },
  {
   "cell_type": "code",
   "execution_count": 12,
   "metadata": {},
   "outputs": [
    {
     "name": "stdout",
     "output_type": "stream",
     "text": [
      "State\n",
      "Neurons: 5 (3), {0: [N(0), N(1)], 2: [N(2)], 1: [N(4), N(5)]}\n",
      "Connections: 8, [C(N(0)->N(2),W=-0.2349,I=1,E=1), C(N(1)->N(2),W=0.6209,I=2,E=0), C(N(1)->N(4),W=0.9979,I=3,E=1), C(N(4)->N(2),W=0.5966,I=4,E=1), C(N(0)->N(4),W=0.0476,I=5,E=1), C(N(1)->N(5),W=1.0000,I=6,E=1), C(N(5)->N(2),W=0.6209,I=7,E=1), C(N(0)->N(5),W=0.0000,I=8,E=1)]\n",
      "\n",
      "[(0, 2), (1, 2), (1, 4), (4, 2), (0, 4), (1, 5), (5, 2), (0, 5)]\n"
     ]
    },
    {
     "data": {
      "image/png": "[encoded data removed]",
      "text/plain": [
       "<Figure size 432x288 with 1 Axes>"
      ]
     },
     "metadata": {
      "needs_background": "light"
     },
     "output_type": "display_data"
    }
   ],
   "source": [
    "population.mutate_gene(player2)\n",
    "player2.print_state()\n",
    "player2.draw_state()\n",
    "print(population.innovation_history.innovations)"
   ]
  },
  {
   "cell_type": "code",
   "execution_count": 13,
   "metadata": {},
   "outputs": [
    {
     "name": "stdout",
     "output_type": "stream",
     "text": [
      "State\n",
      "Neurons: 5 (3), {0: [N(0), N(1)], 2: [N(2)], 1: [N(4), N(5)]}\n",
      "Connections: 8, [C(N(0)->N(2),W=-0.2444,I=1,E=1), C(N(1)->N(2),W=0.6014,I=2,E=0), C(N(1)->N(4),W=1.0000,I=3,E=1), C(N(4)->N(2),W=0.5928,I=4,E=1), C(N(0)->N(4),W=0.0502,I=5,E=1), C(N(1)->N(5),W=1.0000,I=6,E=1), C(N(5)->N(2),W=0.6034,I=7,E=1), C(N(0)->N(5),W=-0.0107,I=8,E=1)]\n",
      "\n",
      "[(0, 2), (1, 2), (1, 4), (4, 2), (0, 4), (1, 5), (5, 2), (0, 5)]\n"
     ]
    },
    {
     "data": {
      "image/png": "[encoded data removed]",
      "text/plain": [
       "<Figure size 432x288 with 1 Axes>"
      ]
     },
     "metadata": {
      "needs_background": "light"
     },
     "output_type": "display_data"
    }
   ],
   "source": [
    "population.mutate_weights(player2)\n",
    "player2.print_state()\n",
    "player2.draw_state()\n",
    "print(population.innovation_history.innovations)"
   ]
  },
  {
   "cell_type": "code",
   "execution_count": 14,
   "metadata": {},
   "outputs": [
    {
     "name": "stdout",
     "output_type": "stream",
     "text": [
      "State\n",
      "Neurons: 5 (3), {0: [N(0), N(1)], 2: [N(2)], 1: [N(4), N(5)]}\n",
      "Connections: 8, [C(N(0)->N(2),W=-0.2313,I=1,E=1), C(N(1)->N(2),W=0.5838,I=2,E=0), C(N(1)->N(4),W=1.0000,I=3,E=1), C(N(4)->N(2),W=0.5651,I=4,E=1), C(N(0)->N(4),W=0.0490,I=5,E=1), C(N(1)->N(5),W=0.9200,I=6,E=1), C(N(5)->N(2),W=0.6246,I=7,E=1), C(N(0)->N(5),W=0.0076,I=8,E=1)]\n",
      "\n",
      "[(0, 2), (1, 2), (1, 4), (4, 2), (0, 4), (1, 5), (5, 2), (0, 5)]\n"
     ]
    },
    {
     "data": {
      "image/png": "[encoded data removed]",
      "text/plain": [
       "<Figure size 432x288 with 1 Axes>"
      ]
     },
     "metadata": {
      "needs_background": "light"
     },
     "output_type": "display_data"
    }
   ],
   "source": [
    "population.mutate_genome(player2)\n",
    "player2.print_state()\n",
    "player2.draw_state()\n",
    "print(population.innovation_history.innovations)"
   ]
  },
  {
   "attachments": {},
   "cell_type": "markdown",
   "metadata": {},
   "source": [
    "## Crossover"
   ]
  },
  {
   "cell_type": "code",
   "execution_count": 15,
   "metadata": {},
   "outputs": [
    {
     "name": "stdout",
     "output_type": "stream",
     "text": [
      "State\n",
      "Neurons: 4 (3), {0: [N(0), N(1)], 2: [N(2)], 1: [N(4)]}\n",
      "Connections: 5, [C(N(0)->N(2),W=-0.2349,I=1,E=1), C(N(1)->N(2),W=0.6209,I=2,E=0), C(N(1)->N(4),W=1.0000,I=3,E=1), C(N(4)->N(2),W=0.5966,I=4,E=1), C(N(0)->N(4),W=0.0476,I=5,E=1)]\n",
      "\n",
      "[(0, 2), (1, 2), (1, 4), (4, 2), (0, 4), (1, 5), (5, 2), (0, 5)]\n"
     ]
    },
    {
     "data": {
      "image/png": "[encoded data removed]",
      "text/plain": [
       "<Figure size 432x288 with 1 Axes>"
      ]
     },
     "metadata": {
      "needs_background": "light"
     },
     "output_type": "display_data"
    }
   ],
   "source": [
    "player1.fitness = 1\n",
    "player2.fitness = 0\n",
    "player3 = population.crossover(player1, player2)\n",
    "player3.print_state()\n",
    "player3.draw_state()\n",
    "print(population.innovation_history.innovations)"
   ]
  },
  {
   "cell_type": "code",
   "execution_count": 16,
   "metadata": {},
   "outputs": [
    {
     "ename": "AttributeError",
     "evalue": "type object 'Species' has no attribute 'crossover'",
     "output_type": "error",
     "traceback": [
      "\u001b[1;31m---------------------------------------------------------------------------\u001b[0m",
      "\u001b[1;31mAttributeError\u001b[0m                            Traceback (most recent call last)",
      "\u001b[1;32mc:\\Users\\denis\\Documents\\GitHub\\COS398_CatanAI\\NEAT\\test_code.ipynb Cell 21\u001b[0m in \u001b[0;36m<module>\u001b[1;34m\u001b[0m\n\u001b[0;32m      <a href='vscode-notebook-cell:/c%3A/Users/denis/Documents/GitHub/COS398_CatanAI/NEAT/test_code.ipynb#X25sZmlsZQ%3D%3D?line=0'>1</a>\u001b[0m player1\u001b[39m.\u001b[39mfitness \u001b[39m=\u001b[39m \u001b[39m0\u001b[39m\n\u001b[0;32m      <a href='vscode-notebook-cell:/c%3A/Users/denis/Documents/GitHub/COS398_CatanAI/NEAT/test_code.ipynb#X25sZmlsZQ%3D%3D?line=1'>2</a>\u001b[0m player2\u001b[39m.\u001b[39mfitness \u001b[39m=\u001b[39m \u001b[39m1\u001b[39m\n\u001b[1;32m----> <a href='vscode-notebook-cell:/c%3A/Users/denis/Documents/GitHub/COS398_CatanAI/NEAT/test_code.ipynb#X25sZmlsZQ%3D%3D?line=2'>3</a>\u001b[0m player4 \u001b[39m=\u001b[39m Species\u001b[39m.\u001b[39;49mcrossover(player1, player2)\n\u001b[0;32m      <a href='vscode-notebook-cell:/c%3A/Users/denis/Documents/GitHub/COS398_CatanAI/NEAT/test_code.ipynb#X25sZmlsZQ%3D%3D?line=3'>4</a>\u001b[0m player4\u001b[39m.\u001b[39mprint_state()\n\u001b[0;32m      <a href='vscode-notebook-cell:/c%3A/Users/denis/Documents/GitHub/COS398_CatanAI/NEAT/test_code.ipynb#X25sZmlsZQ%3D%3D?line=4'>5</a>\u001b[0m player4\u001b[39m.\u001b[39mdraw_state()\n",
      "\u001b[1;31mAttributeError\u001b[0m: type object 'Species' has no attribute 'crossover'"
     ]
    }
   ],
   "source": [
    "player1.fitness = 0\n",
    "player2.fitness = 1\n",
    "player4 = population.crossover(player1, player2)\n",
    "player4.print_state()\n",
    "player4.draw_state()\n",
    "print(population.innovation_history.innovations)"
   ]
  },
  {
   "attachments": {},
   "cell_type": "markdown",
   "metadata": {},
   "source": [
    "## Species"
   ]
  },
  {
   "cell_type": "code",
   "execution_count": null,
   "metadata": {},
   "outputs": [
    {
     "name": "stdout",
     "output_type": "stream",
     "text": [
      "State\n",
      "Neurons: 3 (2), {0: [N(0), N(1)], 1: [N(2)]}\n",
      "Connections: 2, [C(N(0)->N(2),W=-0.2642,I=4,E=1), C(N(1)->N(2),W=0.9483,I=0,E=1)]\n",
      "\n"
     ]
    },
    {
     "data": {
      "image/png": "[encoded data removed]",
      "text/plain": [
       "<Figure size 432x288 with 1 Axes>"
      ]
     },
     "metadata": {
      "needs_background": "light"
     },
     "output_type": "display_data"
    }
   ],
   "source": [
    "player5 = Organism(1, 1)\n",
    "for _ in range(25):\n",
    "    population.mutate_genome(player5)\n",
    "player5.print_state()\n",
    "player5.draw_state()"
   ]
  },
  {
   "attachments": {},
   "cell_type": "markdown",
   "metadata": {},
   "source": [
    "# Evaluation"
   ]
  },
  {
   "cell_type": "code",
   "execution_count": null,
   "metadata": {},
   "outputs": [
    {
     "name": "stdout",
     "output_type": "stream",
     "text": [
      "State\n",
      "Neurons: 5 (3), {0: [N(0), N(1)], 1: [N(4), N(5)], 2: [N(2)]}\n",
      "Connections: 8, [C(N(1)->N(2),W=0.5973,I=1,E=0), C(N(1)->N(4),W=-0.7733,I=2,E=1), C(N(0)->N(4),W=0.0199,I=4,E=1), C(N(0)->N(2),W=0.5130,I=5,E=1), C(N(1)->N(5),W=0.3372,I=6,E=1), C(N(0)->N(5),W=-0.0338,I=8,E=1), C(N(4)->N(2),W=0.6212,I=3,E=1), C(N(5)->N(2),W=0.6025,I=7,E=1)]\n",
      "\n",
      "1\n",
      "0.5\n",
      "-0.36671132113032\n",
      "0.13478820261352403\n",
      "1.088804420434575\n",
      "[0.7481565193300042]\n"
     ]
    },
    {
     "data": {
      "image/png": "[encoded data removed]",
      "text/plain": [
       "<Figure size 432x288 with 1 Axes>"
      ]
     },
     "metadata": {
      "needs_background": "light"
     },
     "output_type": "display_data"
    }
   ],
   "source": [
    "output = player1.output([1, 0.5])\n",
    "player1.print_state()\n",
    "player1.draw_state()\n",
    "\n",
    "for layer_neurons in player1.neurons.values():\n",
    "    for neuron in layer_neurons:\n",
    "        print(neuron.input_value)\n",
    "print(output)"
   ]
  },
  {
   "attachments": {},
   "cell_type": "markdown",
   "metadata": {},
   "source": [
    "# Training"
   ]
  },
  {
   "cell_type": "code",
   "execution_count": null,
   "metadata": {},
   "outputs": [],
   "source": [
    "def population_info(population):\n",
    "    return \"Players: %d\\n\" % len(population.players) + \\\n",
    "    \"Species: %d\\n\" % len(population.species) + \\\n",
    "    \"Innovations: %d\\n\" % len(population.innovation_history.innovations) + \\\n",
    "    \"Species Threshold: %.4f\" % population.species_threshold\n",
    "\n",
    "def species_info(i):\n",
    "    return \"Species %d - \" % i + \\\n",
    "    \"Players: %d, \" % len(population.species[i].players) + \\\n",
    "    \"Average Fitness: %.4f, \" % population.species[i].average_fitness + \\\n",
    "    \"Max Fitness: %.4f, \" % population.species[i].fittest_player.fitness + \\\n",
    "    \"Max Fitness Ever: %.4f, \" % population.species[i].max_fitness + \\\n",
    "    \"Fittest Innovations: %d, \" % len(population.species[i].fittest_player.innovation_labels) + \\\n",
    "    \"Staleness: %d\" % population.species[i].staleness"
   ]
  },
  {
   "cell_type": "code",
   "execution_count": null,
   "metadata": {},
   "outputs": [
    {
     "name": "stdout",
     "output_type": "stream",
     "text": [
      "500\n",
      "Players: 500\n",
      "Species: 2\n",
      "Innovations: 6\n",
      "Species Threshold: 3.0000\n",
      "Species 0 - Players: 980, Average Fitness: 50.1296, Max Fitness: 65.0000, Max Fitness Ever: 65.0000, Fittest Innovations: 1, Staleness: 0\n",
      "Species 1 - Players: 20, Average Fitness: 49.5000, Max Fitness: 60.0000, Max Fitness Ever: 60.0000, Fittest Innovations: 1, Staleness: 0\n",
      "501\n",
      "Players: 501\n",
      "Species: 1\n",
      "Innovations: 82\n",
      "Species Threshold: 3.0000\n",
      "Species 0 - Players: 1002, Average Fitness: 50.1158, Max Fitness: 83.0000, Max Fitness Ever: 83.0000, Fittest Innovations: 2, Staleness: 0\n"
     ]
    }
   ],
   "source": [
    "population = Population(1000, 2, 2)\n",
    "\n",
    "for _ in range(5):\n",
    "    population.new_generation()\n",
    "    won = XORGame(100).play_game(population.players)\n",
    "    for i in range(len(population.players)):\n",
    "        population.players[i].set_fitness(won[i])\n",
    "    population.update_generation()\n",
    "    print(len(population.players))\n",
    "    print(population_info(population))\n",
    "    for i in range(len(population.species)):\n",
    "        print(species_info(i))"
   ]
  },
  {
   "cell_type": "code",
   "execution_count": null,
   "metadata": {},
   "outputs": [],
   "source": [
    "def training_stats(iteration, population):\n",
    "    fitness = 0\n",
    "    for player in population.players:\n",
    "        fitness += player.fitness\n",
    "    average_fitness = fitness / len(population.players)\n",
    "    return \"Iteration: %d, \" % iteration + \\\n",
    "    \"Population: %d, \" % len(population.players) + \\\n",
    "    \"Innovations: %d, \" % len(population.innovation_history.innovations) + \\\n",
    "    \"Species: %d, \" % len(population.species) + \\\n",
    "    \"Average Fitness: %.4f, \" % average_fitness + \\\n",
    "    \"Max Fitness: %.4f, \" % population.max_fitness + \\\n",
    "    \"Species Threshold: %.1f\" % population.species_threshold"
   ]
  },
  {
   "cell_type": "code",
   "execution_count": null,
   "metadata": {},
   "outputs": [
    {
     "name": "stdout",
     "output_type": "stream",
     "text": [
      "Iteration: 0, Population: 500, Innovations: 6, Species: 2, Average Fitness: 53.7140, Max Fitness: 65.0000, Staleness Threshold: 3.0\n",
      "Iteration: 1, Population: 501, Innovations: 132, Species: 2, Average Fitness: 54.7824, Max Fitness: 86.0000, Staleness Threshold: 3.0\n",
      "Iteration: 2, Population: 498, Innovations: 211, Species: 2, Average Fitness: 54.9016, Max Fitness: 82.0000, Staleness Threshold: 3.0\n",
      "Iteration: 3, Population: 498, Innovations: 330, Species: 3, Average Fitness: 55.6084, Max Fitness: 83.0000, Staleness Threshold: 3.0\n",
      "Iteration: 4, Population: 497, Innovations: 464, Species: 4, Average Fitness: 56.8531, Max Fitness: 85.0000, Staleness Threshold: 3.0\n",
      "Iteration: 5, Population: 498, Innovations: 642, Species: 4, Average Fitness: 62.0301, Max Fitness: 84.0000, Staleness Threshold: 3.0\n",
      "Iteration: 6, Population: 499, Innovations: 801, Species: 4, Average Fitness: 60.5752, Max Fitness: 86.0000, Staleness Threshold: 3.0\n",
      "Iteration: 7, Population: 498, Innovations: 985, Species: 4, Average Fitness: 58.0462, Max Fitness: 83.0000, Staleness Threshold: 3.0\n",
      "Iteration: 8, Population: 499, Innovations: 1159, Species: 4, Average Fitness: 56.6473, Max Fitness: 83.0000, Staleness Threshold: 3.0\n",
      "Iteration: 9, Population: 499, Innovations: 1304, Species: 2, Average Fitness: 56.0220, Max Fitness: 84.0000, Staleness Threshold: 3.0\n",
      "Iteration: 10, Population: 498, Innovations: 1446, Species: 4, Average Fitness: 57.7791, Max Fitness: 87.0000, Staleness Threshold: 3.0\n",
      "Iteration: 11, Population: 497, Innovations: 1590, Species: 6, Average Fitness: 57.7002, Max Fitness: 83.0000, Staleness Threshold: 3.0\n",
      "Iteration: 12, Population: 499, Innovations: 1716, Species: 3, Average Fitness: 57.4689, Max Fitness: 85.0000, Staleness Threshold: 3.0\n",
      "Iteration: 13, Population: 499, Innovations: 1850, Species: 3, Average Fitness: 57.4509, Max Fitness: 84.0000, Staleness Threshold: 3.0\n",
      "Iteration: 14, Population: 499, Innovations: 1991, Species: 4, Average Fitness: 56.8056, Max Fitness: 82.0000, Staleness Threshold: 3.0\n",
      "Iteration: 15, Population: 497, Innovations: 2170, Species: 5, Average Fitness: 59.5131, Max Fitness: 88.0000, Staleness Threshold: 3.0\n",
      "Iteration: 16, Population: 497, Innovations: 2298, Species: 5, Average Fitness: 57.5151, Max Fitness: 86.0000, Staleness Threshold: 3.0\n",
      "Iteration: 17, Population: 498, Innovations: 2465, Species: 6, Average Fitness: 67.4839, Max Fitness: 86.0000, Staleness Threshold: 3.0\n",
      "Iteration: 18, Population: 495, Innovations: 2623, Species: 6, Average Fitness: 61.7010, Max Fitness: 88.0000, Staleness Threshold: 3.0\n",
      "Iteration: 19, Population: 495, Innovations: 2762, Species: 4, Average Fitness: 61.8909, Max Fitness: 85.0000, Staleness Threshold: 3.0\n",
      "Iteration: 20, Population: 497, Innovations: 2910, Species: 3, Average Fitness: 64.3642, Max Fitness: 87.0000, Staleness Threshold: 3.0\n",
      "Iteration: 21, Population: 498, Innovations: 3081, Species: 3, Average Fitness: 63.9719, Max Fitness: 86.0000, Staleness Threshold: 2.7\n",
      "Iteration: 22, Population: 497, Innovations: 3258, Species: 5, Average Fitness: 62.3199, Max Fitness: 90.0000, Staleness Threshold: 2.4\n",
      "Iteration: 23, Population: 495, Innovations: 3405, Species: 7, Average Fitness: 59.9414, Max Fitness: 86.0000, Staleness Threshold: 2.1\n",
      "Iteration: 24, Population: 495, Innovations: 3557, Species: 8, Average Fitness: 60.7111, Max Fitness: 85.0000, Staleness Threshold: 2.1\n"
     ]
    }
   ],
   "source": [
    "num_iters = 25\n",
    "print_step = 1\n",
    "max_hits_threshold = 5\n",
    "max_hits = 0\n",
    "num_games = 100\n",
    "\n",
    "population = Population(1000, 2, 2)\n",
    "\n",
    "for iteration in range(num_iters):\n",
    "    population.new_generation()\n",
    "    wins = XORGame(num_games).play_game(population.players)\n",
    "    for i in range(len(population.players)):\n",
    "        population.players[i].set_fitness(wins[i])\n",
    "    population.update_generation()\n",
    "    if population.max_fitness == num_games:\n",
    "        print(training_stats(iteration, population))\n",
    "        max_hits += 1\n",
    "    elif iteration % print_step == 0:\n",
    "        print(training_stats(iteration, population))\n",
    "        max_hits = 0\n",
    "    else:\n",
    "        max_hits = 0\n",
    "    if max_hits == max_hits_threshold:\n",
    "        break"
   ]
  },
  {
   "cell_type": "code",
   "execution_count": null,
   "metadata": {},
   "outputs": [
    {
     "ename": "AttributeError",
     "evalue": "'Organism' object has no attribute 'decide'",
     "output_type": "error",
     "traceback": [
      "\u001b[1;31m---------------------------------------------------------------------------\u001b[0m",
      "\u001b[1;31mAttributeError\u001b[0m                            Traceback (most recent call last)",
      "\u001b[1;32mc:\\Users\\denis\\Documents\\GitHub\\COS398_CatanAI\\NEAT\\test_code.ipynb Cell 31\u001b[0m in \u001b[0;36m<module>\u001b[1;34m\u001b[0m\n\u001b[0;32m      <a href='vscode-notebook-cell:/c%3A/Users/denis/Documents/GitHub/COS398_CatanAI/NEAT/test_code.ipynb#X41sZmlsZQ%3D%3D?line=1'>2</a>\u001b[0m \u001b[39mfor\u001b[39;00m i \u001b[39min\u001b[39;00m \u001b[39mrange\u001b[39m(\u001b[39m4\u001b[39m):\n\u001b[0;32m      <a href='vscode-notebook-cell:/c%3A/Users/denis/Documents/GitHub/COS398_CatanAI/NEAT/test_code.ipynb#X41sZmlsZQ%3D%3D?line=2'>3</a>\u001b[0m     inputs \u001b[39m=\u001b[39m [\u001b[39m1\u001b[39m, \u001b[39m0\u001b[39m \u001b[39mif\u001b[39;00m i \u001b[39m<\u001b[39m \u001b[39m2\u001b[39m \u001b[39melse\u001b[39;00m \u001b[39m1\u001b[39m, \u001b[39m0\u001b[39m \u001b[39mif\u001b[39;00m i \u001b[39m%\u001b[39m \u001b[39m2\u001b[39m \u001b[39m==\u001b[39m \u001b[39m0\u001b[39m \u001b[39melse\u001b[39;00m \u001b[39m1\u001b[39m]\n\u001b[1;32m----> <a href='vscode-notebook-cell:/c%3A/Users/denis/Documents/GitHub/COS398_CatanAI/NEAT/test_code.ipynb#X41sZmlsZQ%3D%3D?line=3'>4</a>\u001b[0m     decision \u001b[39m=\u001b[39m max_player\u001b[39m.\u001b[39;49mdecide(inputs)\n\u001b[0;32m      <a href='vscode-notebook-cell:/c%3A/Users/denis/Documents/GitHub/COS398_CatanAI/NEAT/test_code.ipynb#X41sZmlsZQ%3D%3D?line=4'>5</a>\u001b[0m     \u001b[39mprint\u001b[39m(inputs, max_player\u001b[39m.\u001b[39mnn\u001b[39m.\u001b[39mforward_pass(inputs), decision)\n\u001b[0;32m      <a href='vscode-notebook-cell:/c%3A/Users/denis/Documents/GitHub/COS398_CatanAI/NEAT/test_code.ipynb#X41sZmlsZQ%3D%3D?line=5'>6</a>\u001b[0m max_player\u001b[39m.\u001b[39mnn\u001b[39m.\u001b[39mprint_state()\n",
      "\u001b[1;31mAttributeError\u001b[0m: 'Organism' object has no attribute 'decide'"
     ]
    }
   ],
   "source": [
    "max_player = population.species[0].players[0]\n",
    "for i in range(4):\n",
    "    inputs = [1, 0 if i < 2 else 1, 0 if i % 2 == 0 else 1]\n",
    "    decision = max_player.decide(inputs)\n",
    "    print(inputs, max_player.nn.forward_pass(inputs), decision)\n",
    "max_player.nn.print_state()\n",
    "max_player.nn.draw_state()"
   ]
  }
 ],
 "metadata": {
  "kernelspec": {
   "display_name": "Python 3",
   "language": "python",
   "name": "python3"
  },
  "language_info": {
   "codemirror_mode": {
    "name": "ipython",
    "version": 3
   },
   "file_extension": ".py",
   "mimetype": "text/x-python",
   "name": "python",
   "nbconvert_exporter": "python",
   "pygments_lexer": "ipython3",
   "version": "3.10.2"
  },
  "orig_nbformat": 4
 },
 "nbformat": 4,
 "nbformat_minor": 2
}
