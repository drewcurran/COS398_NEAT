{
 "cells": [
  {
   "attachments": {},
   "cell_type": "markdown",
   "metadata": {},
   "source": [
    "# Imports"
   ]
  },
  {
   "cell_type": "code",
   "execution_count": 1,
   "metadata": {},
   "outputs": [],
   "source": [
    "import numpy as np\n",
    "\n",
    "from genome import Genome\n",
    "from player import Player\n",
    "from population import Population\n",
    "from game import Game"
   ]
  },
  {
   "attachments": {},
   "cell_type": "markdown",
   "metadata": {},
   "source": [
    "# Setup"
   ]
  },
  {
   "cell_type": "code",
   "execution_count": 2,
   "metadata": {},
   "outputs": [],
   "source": [
    "history = []"
   ]
  },
  {
   "attachments": {},
   "cell_type": "markdown",
   "metadata": {},
   "source": [
    "# Genome Testing"
   ]
  },
  {
   "attachments": {},
   "cell_type": "markdown",
   "metadata": {},
   "source": [
    "## Genomes"
   ]
  },
  {
   "cell_type": "code",
   "execution_count": 3,
   "metadata": {},
   "outputs": [
    {
     "name": "stdout",
     "output_type": "stream",
     "text": [
      "Initializing genome1\n",
      "\tState\n",
      "\tNodes: 3 (2), {0: [Node(0,L=0), Node(1,L=0)], 1: [Node(2,L=1)]}\n",
      "\tConnections: 0, []\n",
      "\n",
      "\n"
     ]
    },
    {
     "data": {
      "image/png": "[encoded data removed]",
      "text/plain": [
       "<Figure size 432x288 with 1 Axes>"
      ]
     },
     "metadata": {
      "needs_background": "light"
     },
     "output_type": "display_data"
    }
   ],
   "source": [
    "print(\"Initializing genome1\")\n",
    "genome1 = Genome(1, 1)\n",
    "genome1.print_state()\n",
    "genome1.draw_state()"
   ]
  },
  {
   "cell_type": "code",
   "execution_count": 4,
   "metadata": {},
   "outputs": [
    {
     "name": "stdout",
     "output_type": "stream",
     "text": [
      "General mutation\n",
      "\tState\n",
      "\tNodes: 3 (2), {0: [Node(0,L=0), Node(1,L=0)], 1: [Node(2,L=1)]}\n",
      "\tConnections: 1, [Gene(Node(1,L=0)->Node(2,L=1),W=-0.8276,I=0,E=1)]\n",
      "\tHistory: [History(1->2,I=0,L=[])]\n",
      "\n",
      "\tMutations\n",
      "\tConnections: [Gene(Node(1,L=0)->Node(2,L=1),W=-0.8276,I=0,E=1)]\n",
      "\n",
      "\n"
     ]
    },
    {
     "data": {
      "image/png": "[encoded data removed]",
      "text/plain": [
       "<Figure size 432x288 with 1 Axes>"
      ]
     },
     "metadata": {
      "needs_background": "light"
     },
     "output_type": "display_data"
    }
   ],
   "source": [
    "print(\"General mutation\")\n",
    "nodes, connections = genome1.mutate_genome(history)\n",
    "genome1.print_state(history=history, nodes=nodes, connections=connections)\n",
    "genome1.draw_state()"
   ]
  },
  {
   "cell_type": "code",
   "execution_count": 5,
   "metadata": {},
   "outputs": [
    {
     "name": "stdout",
     "output_type": "stream",
     "text": [
      "Node mutation\n",
      "\tState\n",
      "\tNodes: 4 (3), {0: [Node(0,L=0), Node(1,L=0)], 1: [Node(3,L=1)], 2: [Node(2,L=2)]}\n",
      "\tConnections: 4, [Gene(Node(1,L=0)->Node(2,L=2),W=-0.8276,I=0,E=0), Gene(Node(1,L=0)->Node(3,L=1),W=1.0000,I=1,E=1), Gene(Node(3,L=1)->Node(2,L=2),W=-0.8276,I=2,E=1), Gene(Node(0,L=0)->Node(3,L=1),W=0.0000,I=3,E=1)]\n",
      "\tHistory: [History(1->2,I=0,L=[]), History(1->3,I=1,L=[0]), History(3->2,I=2,L=[0, 1]), History(0->3,I=3,L=[0, 1, 2])]\n",
      "\n",
      "\tMutations\n",
      "\tNodes: [Node(3,L=1)]\n",
      "\tConnections: [Gene(Node(1,L=0)->Node(3,L=1),W=1.0000,I=1,E=1), Gene(Node(3,L=1)->Node(2,L=2),W=-0.8276,I=2,E=1), Gene(Node(0,L=0)->Node(3,L=1),W=0.0000,I=3,E=1)]\n",
      "\n",
      "\n"
     ]
    },
    {
     "data": {
      "image/png": "[encoded data removed]",
      "text/plain": [
       "<Figure size 432x288 with 1 Axes>"
      ]
     },
     "metadata": {
      "needs_background": "light"
     },
     "output_type": "display_data"
    }
   ],
   "source": [
    "print(\"Node mutation\")\n",
    "nodes, connections = genome1.mutate_node(history)\n",
    "genome1.print_state(history=history, nodes=nodes, connections=connections)\n",
    "genome1.draw_state()"
   ]
  },
  {
   "cell_type": "code",
   "execution_count": 6,
   "metadata": {},
   "outputs": [
    {
     "name": "stdout",
     "output_type": "stream",
     "text": [
      "Gene mutation\n",
      "\tState\n",
      "\tNodes: 4 (3), {0: [Node(0,L=0), Node(1,L=0)], 1: [Node(3,L=1)], 2: [Node(2,L=2)]}\n",
      "\tConnections: 5, [Gene(Node(1,L=0)->Node(2,L=2),W=-0.8276,I=0,E=0), Gene(Node(1,L=0)->Node(3,L=1),W=1.0000,I=1,E=1), Gene(Node(3,L=1)->Node(2,L=2),W=-0.8276,I=2,E=1), Gene(Node(0,L=0)->Node(3,L=1),W=0.0000,I=3,E=1), Gene(Node(0,L=0)->Node(2,L=2),W=0.2210,I=4,E=1)]\n",
      "\tHistory: [History(1->2,I=0,L=[]), History(1->3,I=1,L=[0]), History(3->2,I=2,L=[0, 1]), History(0->3,I=3,L=[0, 1, 2]), History(0->2,I=4,L=[0, 1, 2, 3])]\n",
      "\n",
      "\tMutations\n",
      "\tConnections: [Gene(Node(0,L=0)->Node(2,L=2),W=0.2210,I=4,E=1)]\n",
      "\n",
      "\n"
     ]
    },
    {
     "data": {
      "image/png": "[encoded data removed]",
      "text/plain": [
       "<Figure size 432x288 with 1 Axes>"
      ]
     },
     "metadata": {
      "needs_background": "light"
     },
     "output_type": "display_data"
    }
   ],
   "source": [
    "print(\"Gene mutation\")\n",
    "connection = genome1.mutate_connection(history)\n",
    "genome1.print_state(history=history, connections=[connection])\n",
    "genome1.draw_state()"
   ]
  },
  {
   "cell_type": "code",
   "execution_count": 7,
   "metadata": {},
   "outputs": [
    {
     "name": "stdout",
     "output_type": "stream",
     "text": [
      "Node mutation\n",
      "\tState\n",
      "\tNodes: 5 (3), {0: [Node(0,L=0), Node(1,L=0)], 1: [Node(3,L=1), Node(4,L=1)], 2: [Node(2,L=2)]}\n",
      "\tConnections: 8, [Gene(Node(1,L=0)->Node(2,L=2),W=-0.8276,I=0,E=0), Gene(Node(1,L=0)->Node(3,L=1),W=1.0000,I=1,E=1), Gene(Node(3,L=1)->Node(2,L=2),W=-0.8276,I=2,E=1), Gene(Node(0,L=0)->Node(3,L=1),W=0.0000,I=3,E=1), Gene(Node(0,L=0)->Node(2,L=2),W=0.2210,I=4,E=1), Gene(Node(1,L=0)->Node(4,L=1),W=1.0000,I=5,E=1), Gene(Node(4,L=1)->Node(2,L=2),W=-0.8276,I=6,E=1), Gene(Node(0,L=0)->Node(4,L=1),W=0.0000,I=7,E=1)]\n",
      "\tHistory: [History(1->2,I=0,L=[]), History(1->3,I=1,L=[0]), History(3->2,I=2,L=[0, 1]), History(0->3,I=3,L=[0, 1, 2]), History(0->2,I=4,L=[0, 1, 2, 3]), History(1->4,I=5,L=[0, 1, 2, 3, 4]), History(4->2,I=6,L=[0, 1, 2, 3, 4, 5]), History(0->4,I=7,L=[0, 1, 2, 3, 4, 5, 6])]\n",
      "\n",
      "\tMutations\n",
      "\tNodes: [Node(4,L=1)]\n",
      "\tConnections: [Gene(Node(1,L=0)->Node(4,L=1),W=1.0000,I=5,E=1), Gene(Node(4,L=1)->Node(2,L=2),W=-0.8276,I=6,E=1), Gene(Node(0,L=0)->Node(4,L=1),W=0.0000,I=7,E=1)]\n",
      "\n",
      "\n"
     ]
    },
    {
     "data": {
      "image/png": "[encoded data removed]",
      "text/plain": [
       "<Figure size 432x288 with 1 Axes>"
      ]
     },
     "metadata": {
      "needs_background": "light"
     },
     "output_type": "display_data"
    }
   ],
   "source": [
    "print(\"Node mutation\")\n",
    "nodes, connections = genome1.mutate_node(history)\n",
    "genome1.print_state(history=history, nodes=nodes, connections=connections)\n",
    "genome1.draw_state()"
   ]
  },
  {
   "cell_type": "code",
   "execution_count": 8,
   "metadata": {},
   "outputs": [
    {
     "name": "stdout",
     "output_type": "stream",
     "text": [
      "Initializing genome2\n",
      "\tState\n",
      "\tNodes: 3 (2), {0: [Node(0,L=0), Node(1,L=0)], 1: [Node(2,L=1)]}\n",
      "\tConnections: 0, []\n",
      "\tHistory: [History(1->2,I=0,L=[]), History(1->3,I=1,L=[0]), History(3->2,I=2,L=[0, 1]), History(0->3,I=3,L=[0, 1, 2]), History(0->2,I=4,L=[0, 1, 2, 3]), History(1->4,I=5,L=[0, 1, 2, 3, 4]), History(4->2,I=6,L=[0, 1, 2, 3, 4, 5]), History(0->4,I=7,L=[0, 1, 2, 3, 4, 5, 6])]\n",
      "\n",
      "\n"
     ]
    },
    {
     "data": {
      "image/png": "[encoded data removed]",
      "text/plain": [
       "<Figure size 432x288 with 1 Axes>"
      ]
     },
     "metadata": {
      "needs_background": "light"
     },
     "output_type": "display_data"
    }
   ],
   "source": [
    "print(\"Initializing genome2\")\n",
    "genome2 = Genome(1, 1)\n",
    "genome2.print_state(history=history)\n",
    "genome2.draw_state()"
   ]
  },
  {
   "cell_type": "code",
   "execution_count": 9,
   "metadata": {},
   "outputs": [
    {
     "name": "stdout",
     "output_type": "stream",
     "text": [
      "General mutation\n",
      "\tState\n",
      "\tNodes: 3 (2), {0: [Node(0,L=0), Node(1,L=0)], 1: [Node(2,L=1)]}\n",
      "\tConnections: 1, [Gene(Node(1,L=0)->Node(2,L=1),W=0.2113,I=0,E=1)]\n",
      "\tHistory: [History(1->2,I=0,L=[]), History(1->3,I=1,L=[0]), History(3->2,I=2,L=[0, 1]), History(0->3,I=3,L=[0, 1, 2]), History(0->2,I=4,L=[0, 1, 2, 3]), History(1->4,I=5,L=[0, 1, 2, 3, 4]), History(4->2,I=6,L=[0, 1, 2, 3, 4, 5]), History(0->4,I=7,L=[0, 1, 2, 3, 4, 5, 6])]\n",
      "\n",
      "\tMutations\n",
      "\tConnections: [Gene(Node(1,L=0)->Node(2,L=1),W=0.2113,I=0,E=1)]\n",
      "\n",
      "\n"
     ]
    },
    {
     "data": {
      "image/png": "[encoded data removed]",
      "text/plain": [
       "<Figure size 432x288 with 1 Axes>"
      ]
     },
     "metadata": {
      "needs_background": "light"
     },
     "output_type": "display_data"
    }
   ],
   "source": [
    "print(\"General mutation\")\n",
    "nodes, connections = genome2.mutate_genome(history)\n",
    "genome2.print_state(history=history, nodes=nodes, connections=connections)\n",
    "genome2.draw_state()"
   ]
  },
  {
   "cell_type": "code",
   "execution_count": 10,
   "metadata": {},
   "outputs": [
    {
     "name": "stdout",
     "output_type": "stream",
     "text": [
      "Node mutation\n",
      "\tState\n",
      "\tNodes: 4 (3), {0: [Node(0,L=0), Node(1,L=0)], 1: [Node(3,L=1)], 2: [Node(2,L=2)]}\n",
      "\tConnections: 4, [Gene(Node(1,L=0)->Node(2,L=2),W=0.2113,I=0,E=0), Gene(Node(1,L=0)->Node(3,L=1),W=1.0000,I=1,E=1), Gene(Node(3,L=1)->Node(2,L=2),W=0.2113,I=2,E=1), Gene(Node(0,L=0)->Node(3,L=1),W=0.0000,I=3,E=1)]\n",
      "\tHistory: [History(1->2,I=0,L=[]), History(1->3,I=1,L=[0]), History(3->2,I=2,L=[0, 1]), History(0->3,I=3,L=[0, 1, 2]), History(0->2,I=4,L=[0, 1, 2, 3]), History(1->4,I=5,L=[0, 1, 2, 3, 4]), History(4->2,I=6,L=[0, 1, 2, 3, 4, 5]), History(0->4,I=7,L=[0, 1, 2, 3, 4, 5, 6])]\n",
      "\n",
      "\tMutations\n",
      "\tNodes: [Node(3,L=1)]\n",
      "\tConnections: [Gene(Node(1,L=0)->Node(3,L=1),W=1.0000,I=1,E=1), Gene(Node(3,L=1)->Node(2,L=2),W=0.2113,I=2,E=1), Gene(Node(0,L=0)->Node(3,L=1),W=0.0000,I=3,E=1)]\n",
      "\n",
      "\n"
     ]
    },
    {
     "data": {
      "image/png": "[encoded data removed]",
      "text/plain": [
       "<Figure size 432x288 with 1 Axes>"
      ]
     },
     "metadata": {
      "needs_background": "light"
     },
     "output_type": "display_data"
    }
   ],
   "source": [
    "print(\"Node mutation\")\n",
    "nodes, connections = genome2.mutate_node(history)\n",
    "genome2.print_state(history=history, nodes=nodes, connections=connections)\n",
    "genome2.draw_state()"
   ]
  },
  {
   "cell_type": "code",
   "execution_count": 11,
   "metadata": {},
   "outputs": [
    {
     "name": "stdout",
     "output_type": "stream",
     "text": [
      "Gene mutation\n",
      "\tState\n",
      "\tNodes: 4 (3), {0: [Node(0,L=0), Node(1,L=0)], 1: [Node(3,L=1)], 2: [Node(2,L=2)]}\n",
      "\tConnections: 5, [Gene(Node(1,L=0)->Node(2,L=2),W=0.2113,I=0,E=0), Gene(Node(1,L=0)->Node(3,L=1),W=1.0000,I=1,E=1), Gene(Node(3,L=1)->Node(2,L=2),W=0.2113,I=2,E=1), Gene(Node(0,L=0)->Node(3,L=1),W=0.0000,I=3,E=1), Gene(Node(0,L=0)->Node(2,L=2),W=-0.3240,I=4,E=1)]\n",
      "\tHistory: [History(1->2,I=0,L=[]), History(1->3,I=1,L=[0]), History(3->2,I=2,L=[0, 1]), History(0->3,I=3,L=[0, 1, 2]), History(0->2,I=4,L=[0, 1, 2, 3]), History(1->4,I=5,L=[0, 1, 2, 3, 4]), History(4->2,I=6,L=[0, 1, 2, 3, 4, 5]), History(0->4,I=7,L=[0, 1, 2, 3, 4, 5, 6])]\n",
      "\n",
      "\tMutations\n",
      "\tConnections: [Gene(Node(0,L=0)->Node(2,L=2),W=-0.3240,I=4,E=1)]\n",
      "\n",
      "\n"
     ]
    },
    {
     "data": {
      "image/png": "[encoded data removed]",
      "text/plain": [
       "<Figure size 432x288 with 1 Axes>"
      ]
     },
     "metadata": {
      "needs_background": "light"
     },
     "output_type": "display_data"
    }
   ],
   "source": [
    "print(\"Gene mutation\")\n",
    "connection = genome2.mutate_connection(history)\n",
    "genome2.print_state(history=history, connections=[connection])\n",
    "genome2.draw_state()"
   ]
  },
  {
   "cell_type": "code",
   "execution_count": 12,
   "metadata": {},
   "outputs": [
    {
     "name": "stdout",
     "output_type": "stream",
     "text": [
      "Node mutation\n",
      "\tState\n",
      "\tNodes: 5 (3), {0: [Node(0,L=0), Node(1,L=0)], 1: [Node(3,L=1), Node(4,L=1)], 2: [Node(2,L=2)]}\n",
      "\tConnections: 8, [Gene(Node(1,L=0)->Node(2,L=2),W=0.2113,I=0,E=0), Gene(Node(1,L=0)->Node(3,L=1),W=1.0000,I=1,E=1), Gene(Node(3,L=1)->Node(2,L=2),W=0.2113,I=2,E=1), Gene(Node(0,L=0)->Node(3,L=1),W=0.0000,I=3,E=1), Gene(Node(0,L=0)->Node(2,L=2),W=-0.3240,I=4,E=1), Gene(Node(1,L=0)->Node(4,L=1),W=1.0000,I=5,E=1), Gene(Node(4,L=1)->Node(2,L=2),W=0.2113,I=6,E=1), Gene(Node(0,L=0)->Node(4,L=1),W=0.0000,I=7,E=1)]\n",
      "\tHistory: [History(1->2,I=0,L=[]), History(1->3,I=1,L=[0]), History(3->2,I=2,L=[0, 1]), History(0->3,I=3,L=[0, 1, 2]), History(0->2,I=4,L=[0, 1, 2, 3]), History(1->4,I=5,L=[0, 1, 2, 3, 4]), History(4->2,I=6,L=[0, 1, 2, 3, 4, 5]), History(0->4,I=7,L=[0, 1, 2, 3, 4, 5, 6])]\n",
      "\n",
      "\tMutations\n",
      "\tNodes: [Node(4,L=1)]\n",
      "\tConnections: [Gene(Node(1,L=0)->Node(4,L=1),W=1.0000,I=5,E=1), Gene(Node(4,L=1)->Node(2,L=2),W=0.2113,I=6,E=1), Gene(Node(0,L=0)->Node(4,L=1),W=0.0000,I=7,E=1)]\n",
      "\n",
      "\n"
     ]
    },
    {
     "data": {
      "image/png": "[encoded data removed]",
      "text/plain": [
       "<Figure size 432x288 with 1 Axes>"
      ]
     },
     "metadata": {
      "needs_background": "light"
     },
     "output_type": "display_data"
    }
   ],
   "source": [
    "print(\"Node mutation\")\n",
    "nodes, connections = genome2.mutate_node(history)\n",
    "genome2.print_state(history=history, nodes=nodes, connections=connections)\n",
    "genome2.draw_state()"
   ]
  },
  {
   "cell_type": "code",
   "execution_count": 13,
   "metadata": {},
   "outputs": [
    {
     "name": "stdout",
     "output_type": "stream",
     "text": [
      "Gene mutation\n",
      "\tState\n",
      "\tNodes: 5 (3), {0: [Node(0,L=0), Node(1,L=0)], 1: [Node(3,L=1), Node(4,L=1)], 2: [Node(2,L=2)]}\n",
      "\tConnections: 8, [Gene(Node(1,L=0)->Node(2,L=2),W=0.2113,I=0,E=0), Gene(Node(1,L=0)->Node(3,L=1),W=1.0000,I=1,E=1), Gene(Node(3,L=1)->Node(2,L=2),W=0.2113,I=2,E=1), Gene(Node(0,L=0)->Node(3,L=1),W=0.0000,I=3,E=1), Gene(Node(0,L=0)->Node(2,L=2),W=-0.3240,I=4,E=1), Gene(Node(1,L=0)->Node(4,L=1),W=1.0000,I=5,E=1), Gene(Node(4,L=1)->Node(2,L=2),W=0.2113,I=6,E=1), Gene(Node(0,L=0)->Node(4,L=1),W=0.0000,I=7,E=1)]\n",
      "\tHistory: [History(1->2,I=0,L=[]), History(1->3,I=1,L=[0]), History(3->2,I=2,L=[0, 1]), History(0->3,I=3,L=[0, 1, 2]), History(0->2,I=4,L=[0, 1, 2, 3]), History(1->4,I=5,L=[0, 1, 2, 3, 4]), History(4->2,I=6,L=[0, 1, 2, 3, 4, 5]), History(0->4,I=7,L=[0, 1, 2, 3, 4, 5, 6])]\n",
      "\n",
      "\tMutations\n",
      "\tConnections: [None]\n",
      "\n",
      "\n"
     ]
    },
    {
     "data": {
      "image/png": "[encoded data removed]",
      "text/plain": [
       "<Figure size 432x288 with 1 Axes>"
      ]
     },
     "metadata": {
      "needs_background": "light"
     },
     "output_type": "display_data"
    }
   ],
   "source": [
    "print(\"Gene mutation\")\n",
    "connection = genome2.mutate_connection(history)\n",
    "genome2.print_state(history=history, connections=[connection])\n",
    "genome2.draw_state()"
   ]
  },
  {
   "cell_type": "code",
   "execution_count": 14,
   "metadata": {},
   "outputs": [
    {
     "name": "stdout",
     "output_type": "stream",
     "text": [
      "Node mutation\n",
      "\tState\n",
      "\tNodes: 6 (4), {0: [Node(0,L=0), Node(1,L=0)], 1: [Node(3,L=1), Node(4,L=1)], 2: [Node(5,L=2)], 3: [Node(2,L=3)]}\n",
      "\tConnections: 11, [Gene(Node(1,L=0)->Node(2,L=3),W=0.2113,I=0,E=0), Gene(Node(1,L=0)->Node(3,L=1),W=1.0000,I=1,E=1), Gene(Node(3,L=1)->Node(2,L=3),W=0.2113,I=2,E=1), Gene(Node(0,L=0)->Node(3,L=1),W=0.0000,I=3,E=1), Gene(Node(0,L=0)->Node(2,L=3),W=-0.3240,I=4,E=1), Gene(Node(1,L=0)->Node(4,L=1),W=1.0000,I=5,E=1), Gene(Node(4,L=1)->Node(2,L=3),W=0.2113,I=6,E=0), Gene(Node(0,L=0)->Node(4,L=1),W=0.0000,I=7,E=1), Gene(Node(4,L=1)->Node(5,L=2),W=1.0000,I=8,E=1), Gene(Node(5,L=2)->Node(2,L=3),W=0.2113,I=9,E=1), Gene(Node(0,L=0)->Node(5,L=2),W=0.0000,I=10,E=1)]\n",
      "\tHistory: [History(1->2,I=0,L=[]), History(1->3,I=1,L=[0]), History(3->2,I=2,L=[0, 1]), History(0->3,I=3,L=[0, 1, 2]), History(0->2,I=4,L=[0, 1, 2, 3]), History(1->4,I=5,L=[0, 1, 2, 3, 4]), History(4->2,I=6,L=[0, 1, 2, 3, 4, 5]), History(0->4,I=7,L=[0, 1, 2, 3, 4, 5, 6]), History(4->5,I=8,L=[0, 1, 2, 3, 4, 5, 6, 7]), History(5->2,I=9,L=[0, 1, 2, 3, 4, 5, 6, 7, 8]), History(0->5,I=10,L=[0, 1, 2, 3, 4, 5, 6, 7, 8, 9])]\n",
      "\n",
      "\tMutations\n",
      "\tNodes: [Node(5,L=2)]\n",
      "\tConnections: [Gene(Node(4,L=1)->Node(5,L=2),W=1.0000,I=8,E=1), Gene(Node(5,L=2)->Node(2,L=3),W=0.2113,I=9,E=1), Gene(Node(0,L=0)->Node(5,L=2),W=0.0000,I=10,E=1)]\n",
      "\n",
      "\n"
     ]
    },
    {
     "data": {
      "image/png": "[encoded data removed]",
      "text/plain": [
       "<Figure size 432x288 with 1 Axes>"
      ]
     },
     "metadata": {
      "needs_background": "light"
     },
     "output_type": "display_data"
    }
   ],
   "source": [
    "print(\"Node mutation\")\n",
    "nodes, connections = genome2.mutate_node(history)\n",
    "genome2.print_state(history=history, nodes=nodes, connections=connections)\n",
    "genome2.draw_state()"
   ]
  },
  {
   "cell_type": "code",
   "execution_count": 15,
   "metadata": {},
   "outputs": [
    {
     "name": "stdout",
     "output_type": "stream",
     "text": [
      "Gene mutation\n",
      "\tState\n",
      "\tNodes: 6 (4), {0: [Node(0,L=0), Node(1,L=0)], 1: [Node(3,L=1), Node(4,L=1)], 2: [Node(5,L=2)], 3: [Node(2,L=3)]}\n",
      "\tConnections: 12, [Gene(Node(1,L=0)->Node(2,L=3),W=0.2113,I=0,E=0), Gene(Node(1,L=0)->Node(3,L=1),W=1.0000,I=1,E=1), Gene(Node(3,L=1)->Node(2,L=3),W=0.2113,I=2,E=1), Gene(Node(0,L=0)->Node(3,L=1),W=0.0000,I=3,E=1), Gene(Node(0,L=0)->Node(2,L=3),W=-0.3240,I=4,E=1), Gene(Node(1,L=0)->Node(4,L=1),W=1.0000,I=5,E=1), Gene(Node(4,L=1)->Node(2,L=3),W=0.2113,I=6,E=0), Gene(Node(0,L=0)->Node(4,L=1),W=0.0000,I=7,E=1), Gene(Node(4,L=1)->Node(5,L=2),W=1.0000,I=8,E=1), Gene(Node(5,L=2)->Node(2,L=3),W=0.2113,I=9,E=1), Gene(Node(0,L=0)->Node(5,L=2),W=0.0000,I=10,E=1), Gene(Node(3,L=1)->Node(5,L=2),W=0.7613,I=11,E=1)]\n",
      "\tHistory: [History(1->2,I=0,L=[]), History(1->3,I=1,L=[0]), History(3->2,I=2,L=[0, 1]), History(0->3,I=3,L=[0, 1, 2]), History(0->2,I=4,L=[0, 1, 2, 3]), History(1->4,I=5,L=[0, 1, 2, 3, 4]), History(4->2,I=6,L=[0, 1, 2, 3, 4, 5]), History(0->4,I=7,L=[0, 1, 2, 3, 4, 5, 6]), History(4->5,I=8,L=[0, 1, 2, 3, 4, 5, 6, 7]), History(5->2,I=9,L=[0, 1, 2, 3, 4, 5, 6, 7, 8]), History(0->5,I=10,L=[0, 1, 2, 3, 4, 5, 6, 7, 8, 9]), History(3->5,I=11,L=[0, 1, 2, 3, 4, 5, 6, 7, 8, 9, 10])]\n",
      "\n",
      "\tMutations\n",
      "\tConnections: [Gene(Node(3,L=1)->Node(5,L=2),W=0.7613,I=11,E=1)]\n",
      "\n",
      "\n"
     ]
    },
    {
     "data": {
      "image/png": "[encoded data removed]",
      "text/plain": [
       "<Figure size 432x288 with 1 Axes>"
      ]
     },
     "metadata": {
      "needs_background": "light"
     },
     "output_type": "display_data"
    }
   ],
   "source": [
    "print(\"Gene mutation\")\n",
    "connection = genome2.mutate_connection(history)\n",
    "genome2.print_state(history=history, connections=[connection])\n",
    "genome2.draw_state()"
   ]
  },
  {
   "cell_type": "code",
   "execution_count": 16,
   "metadata": {},
   "outputs": [
    {
     "name": "stdout",
     "output_type": "stream",
     "text": [
      "Node mutation\n",
      "\tState\n",
      "\tNodes: 7 (5), {0: [Node(0,L=0), Node(1,L=0)], 1: [Node(3,L=1), Node(4,L=1)], 2: [Node(6,L=2)], 3: [Node(5,L=3)], 4: [Node(2,L=4)]}\n",
      "\tConnections: 15, [Gene(Node(1,L=0)->Node(2,L=4),W=0.2113,I=0,E=0), Gene(Node(1,L=0)->Node(3,L=1),W=1.0000,I=1,E=1), Gene(Node(3,L=1)->Node(2,L=4),W=0.2113,I=2,E=1), Gene(Node(0,L=0)->Node(3,L=1),W=0.0000,I=3,E=1), Gene(Node(0,L=0)->Node(2,L=4),W=-0.3240,I=4,E=1), Gene(Node(1,L=0)->Node(4,L=1),W=1.0000,I=5,E=1), Gene(Node(4,L=1)->Node(2,L=4),W=0.2113,I=6,E=0), Gene(Node(0,L=0)->Node(4,L=1),W=0.0000,I=7,E=1), Gene(Node(4,L=1)->Node(5,L=3),W=1.0000,I=8,E=1), Gene(Node(5,L=3)->Node(2,L=4),W=0.2113,I=9,E=1), Gene(Node(0,L=0)->Node(5,L=3),W=0.0000,I=10,E=1), Gene(Node(3,L=1)->Node(5,L=3),W=0.7613,I=11,E=0), Gene(Node(3,L=1)->Node(6,L=2),W=1.0000,I=12,E=1), Gene(Node(6,L=2)->Node(5,L=3),W=0.7613,I=13,E=1), Gene(Node(0,L=0)->Node(6,L=2),W=0.0000,I=14,E=1)]\n",
      "\tHistory: [History(1->2,I=0,L=[]), History(1->3,I=1,L=[0]), History(3->2,I=2,L=[0, 1]), History(0->3,I=3,L=[0, 1, 2]), History(0->2,I=4,L=[0, 1, 2, 3]), History(1->4,I=5,L=[0, 1, 2, 3, 4]), History(4->2,I=6,L=[0, 1, 2, 3, 4, 5]), History(0->4,I=7,L=[0, 1, 2, 3, 4, 5, 6]), History(4->5,I=8,L=[0, 1, 2, 3, 4, 5, 6, 7]), History(5->2,I=9,L=[0, 1, 2, 3, 4, 5, 6, 7, 8]), History(0->5,I=10,L=[0, 1, 2, 3, 4, 5, 6, 7, 8, 9]), History(3->5,I=11,L=[0, 1, 2, 3, 4, 5, 6, 7, 8, 9, 10]), History(3->6,I=12,L=[0, 1, 2, 3, 4, 5, 6, 7, 8, 9, 10, 11]), History(6->5,I=13,L=[0, 1, 2, 3, 4, 5, 6, 7, 8, 9, 10, 11, 12]), History(0->6,I=14,L=[0, 1, 2, 3, 4, 5, 6, 7, 8, 9, 10, 11, 12, 13])]\n",
      "\n",
      "\tMutations\n",
      "\tNodes: [Node(6,L=2)]\n",
      "\tConnections: [Gene(Node(3,L=1)->Node(6,L=2),W=1.0000,I=12,E=1), Gene(Node(6,L=2)->Node(5,L=3),W=0.7613,I=13,E=1), Gene(Node(0,L=0)->Node(6,L=2),W=0.0000,I=14,E=1)]\n",
      "\n",
      "\n"
     ]
    },
    {
     "data": {
      "image/png": "[encoded data removed]",
      "text/plain": [
       "<Figure size 432x288 with 1 Axes>"
      ]
     },
     "metadata": {
      "needs_background": "light"
     },
     "output_type": "display_data"
    }
   ],
   "source": [
    "print(\"Node mutation\")\n",
    "nodes, connections = genome2.mutate_node(history)\n",
    "genome2.print_state(history=history, nodes=nodes, connections=connections)\n",
    "genome2.draw_state()"
   ]
  },
  {
   "attachments": {},
   "cell_type": "markdown",
   "metadata": {},
   "source": [
    "## Crossover"
   ]
  },
  {
   "cell_type": "code",
   "execution_count": 17,
   "metadata": {},
   "outputs": [
    {
     "name": "stdout",
     "output_type": "stream",
     "text": [
      "genome1\n",
      "\tState\n",
      "\tNodes: 5 (3), {0: [Node(0,L=0), Node(1,L=0)], 1: [Node(3,L=1), Node(4,L=1)], 2: [Node(2,L=2)]}\n",
      "\tConnections: 8, [Gene(Node(1,L=0)->Node(2,L=2),W=-0.8276,I=0,E=0), Gene(Node(1,L=0)->Node(3,L=1),W=1.0000,I=1,E=1), Gene(Node(3,L=1)->Node(2,L=2),W=-0.8276,I=2,E=1), Gene(Node(0,L=0)->Node(3,L=1),W=0.0000,I=3,E=1), Gene(Node(0,L=0)->Node(2,L=2),W=0.2210,I=4,E=1), Gene(Node(1,L=0)->Node(4,L=1),W=1.0000,I=5,E=1), Gene(Node(4,L=1)->Node(2,L=2),W=-0.8276,I=6,E=1), Gene(Node(0,L=0)->Node(4,L=1),W=0.0000,I=7,E=1)]\n",
      "\n",
      "\n"
     ]
    },
    {
     "data": {
      "image/png": "[encoded data removed]",
      "text/plain": [
       "<Figure size 432x288 with 1 Axes>"
      ]
     },
     "metadata": {
      "needs_background": "light"
     },
     "output_type": "display_data"
    }
   ],
   "source": [
    "print(\"genome1\")\n",
    "genome1.print_state()\n",
    "genome1.draw_state()"
   ]
  },
  {
   "cell_type": "code",
   "execution_count": 18,
   "metadata": {},
   "outputs": [
    {
     "name": "stdout",
     "output_type": "stream",
     "text": [
      "genome2\n",
      "\tState\n",
      "\tNodes: 7 (5), {0: [Node(0,L=0), Node(1,L=0)], 1: [Node(3,L=1), Node(4,L=1)], 2: [Node(6,L=2)], 3: [Node(5,L=3)], 4: [Node(2,L=4)]}\n",
      "\tConnections: 15, [Gene(Node(1,L=0)->Node(2,L=4),W=0.2113,I=0,E=0), Gene(Node(1,L=0)->Node(3,L=1),W=1.0000,I=1,E=1), Gene(Node(3,L=1)->Node(2,L=4),W=0.2113,I=2,E=1), Gene(Node(0,L=0)->Node(3,L=1),W=0.0000,I=3,E=1), Gene(Node(0,L=0)->Node(2,L=4),W=-0.3240,I=4,E=1), Gene(Node(1,L=0)->Node(4,L=1),W=1.0000,I=5,E=1), Gene(Node(4,L=1)->Node(2,L=4),W=0.2113,I=6,E=0), Gene(Node(0,L=0)->Node(4,L=1),W=0.0000,I=7,E=1), Gene(Node(4,L=1)->Node(5,L=3),W=1.0000,I=8,E=1), Gene(Node(5,L=3)->Node(2,L=4),W=0.2113,I=9,E=1), Gene(Node(0,L=0)->Node(5,L=3),W=0.0000,I=10,E=1), Gene(Node(3,L=1)->Node(5,L=3),W=0.7613,I=11,E=0), Gene(Node(3,L=1)->Node(6,L=2),W=1.0000,I=12,E=1), Gene(Node(6,L=2)->Node(5,L=3),W=0.7613,I=13,E=1), Gene(Node(0,L=0)->Node(6,L=2),W=0.0000,I=14,E=1)]\n",
      "\n",
      "\n"
     ]
    },
    {
     "data": {
      "image/png": "[encoded data removed]",
      "text/plain": [
       "<Figure size 432x288 with 1 Axes>"
      ]
     },
     "metadata": {
      "needs_background": "light"
     },
     "output_type": "display_data"
    }
   ],
   "source": [
    "print(\"genome2\")\n",
    "genome2.print_state()\n",
    "genome2.draw_state()"
   ]
  },
  {
   "cell_type": "code",
   "execution_count": 19,
   "metadata": {},
   "outputs": [
    {
     "name": "stdout",
     "output_type": "stream",
     "text": [
      "Crossover genome1 with genome 2 to create genome3\n",
      "\tState\n",
      "\tNodes: 5 (3), {0: [Node(0,L=0), Node(1,L=0)], 1: [Node(3,L=1), Node(4,L=1)], 2: [Node(2,L=2)]}\n",
      "\tConnections: 8, [Gene(Node(1,L=0)->Node(2,L=2),W=-0.8276,I=0,E=0), Gene(Node(1,L=0)->Node(3,L=1),W=1.0000,I=1,E=1), Gene(Node(3,L=1)->Node(2,L=2),W=-0.8276,I=2,E=1), Gene(Node(0,L=0)->Node(3,L=1),W=0.0000,I=3,E=1), Gene(Node(0,L=0)->Node(2,L=2),W=0.2210,I=4,E=1), Gene(Node(1,L=0)->Node(4,L=1),W=1.0000,I=5,E=1), Gene(Node(4,L=1)->Node(2,L=2),W=-0.8276,I=6,E=0), Gene(Node(0,L=0)->Node(4,L=1),W=0.0000,I=7,E=1)]\n",
      "\n",
      "\n"
     ]
    },
    {
     "data": {
      "image/png": "[encoded data removed]",
      "text/plain": [
       "<Figure size 432x288 with 1 Axes>"
      ]
     },
     "metadata": {
      "needs_background": "light"
     },
     "output_type": "display_data"
    }
   ],
   "source": [
    "print(\"Crossover genome1 with genome 2 to create genome3\")\n",
    "genome3 = genome1.crossover(genome2)\n",
    "genome3.print_state()\n",
    "genome3.draw_state()"
   ]
  },
  {
   "cell_type": "code",
   "execution_count": 20,
   "metadata": {},
   "outputs": [
    {
     "name": "stdout",
     "output_type": "stream",
     "text": [
      "Crossover genome2 with genome 1 to create genome4\n",
      "\tState\n",
      "\tNodes: 7 (5), {0: [Node(0,L=0), Node(1,L=0)], 1: [Node(3,L=1), Node(4,L=1)], 2: [Node(6,L=2)], 3: [Node(5,L=3)], 4: [Node(2,L=4)]}\n",
      "\tConnections: 15, [Gene(Node(1,L=0)->Node(2,L=4),W=0.2113,I=0,E=0), Gene(Node(1,L=0)->Node(3,L=1),W=1.0000,I=1,E=1), Gene(Node(3,L=1)->Node(2,L=4),W=0.2113,I=2,E=1), Gene(Node(0,L=0)->Node(3,L=1),W=0.0000,I=3,E=1), Gene(Node(0,L=0)->Node(2,L=4),W=-0.3240,I=4,E=1), Gene(Node(1,L=0)->Node(4,L=1),W=1.0000,I=5,E=1), Gene(Node(4,L=1)->Node(2,L=4),W=0.2113,I=6,E=0), Gene(Node(0,L=0)->Node(4,L=1),W=0.0000,I=7,E=1), Gene(Node(4,L=1)->Node(5,L=3),W=1.0000,I=8,E=1), Gene(Node(5,L=3)->Node(2,L=4),W=0.2113,I=9,E=1), Gene(Node(0,L=0)->Node(5,L=3),W=0.0000,I=10,E=1), Gene(Node(3,L=1)->Node(5,L=3),W=0.7613,I=11,E=0), Gene(Node(3,L=1)->Node(6,L=2),W=1.0000,I=12,E=1), Gene(Node(6,L=2)->Node(5,L=3),W=0.7613,I=13,E=1), Gene(Node(0,L=0)->Node(6,L=2),W=0.0000,I=14,E=1)]\n",
      "\n",
      "\n"
     ]
    },
    {
     "data": {
      "image/png": "[encoded data removed]",
      "text/plain": [
       "<Figure size 432x288 with 1 Axes>"
      ]
     },
     "metadata": {
      "needs_background": "light"
     },
     "output_type": "display_data"
    }
   ],
   "source": [
    "print(\"Crossover genome2 with genome 1 to create genome4\")\n",
    "genome4 = genome2.crossover(genome1)\n",
    "genome4.print_state()\n",
    "genome4.draw_state()"
   ]
  },
  {
   "attachments": {},
   "cell_type": "markdown",
   "metadata": {},
   "source": [
    "## Cloning"
   ]
  },
  {
   "cell_type": "code",
   "execution_count": 21,
   "metadata": {},
   "outputs": [
    {
     "name": "stdout",
     "output_type": "stream",
     "text": [
      "Clone genome1 to create genome5\n",
      "\tState\n",
      "\tNodes: 5 (3), {0: [Node(0,L=0), Node(1,L=0)], 1: [Node(3,L=1), Node(4,L=1)], 2: [Node(2,L=2)]}\n",
      "\tConnections: 8, [Gene(Node(1,L=0)->Node(2,L=2),W=-0.8276,I=0,E=0), Gene(Node(1,L=0)->Node(3,L=1),W=1.0000,I=1,E=1), Gene(Node(3,L=1)->Node(2,L=2),W=-0.8276,I=2,E=1), Gene(Node(0,L=0)->Node(3,L=1),W=0.0000,I=3,E=1), Gene(Node(0,L=0)->Node(2,L=2),W=0.2210,I=4,E=1), Gene(Node(1,L=0)->Node(4,L=1),W=1.0000,I=5,E=1), Gene(Node(4,L=1)->Node(2,L=2),W=-0.8276,I=6,E=1), Gene(Node(0,L=0)->Node(4,L=1),W=0.0000,I=7,E=1)]\n",
      "\n",
      "\n"
     ]
    },
    {
     "data": {
      "image/png": "[encoded data removed]",
      "text/plain": [
       "<Figure size 432x288 with 1 Axes>"
      ]
     },
     "metadata": {
      "needs_background": "light"
     },
     "output_type": "display_data"
    }
   ],
   "source": [
    "print(\"Clone genome1 to create genome5\")\n",
    "genome5 = genome1.clone()\n",
    "genome5.print_state()\n",
    "genome5.draw_state()"
   ]
  },
  {
   "cell_type": "code",
   "execution_count": 22,
   "metadata": {},
   "outputs": [
    {
     "name": "stdout",
     "output_type": "stream",
     "text": [
      "Clone genome2 to create genome6\n",
      "\tState\n",
      "\tNodes: 7 (5), {0: [Node(0,L=0), Node(1,L=0)], 1: [Node(3,L=1), Node(4,L=1)], 2: [Node(6,L=2)], 3: [Node(5,L=3)], 4: [Node(2,L=4)]}\n",
      "\tConnections: 15, [Gene(Node(1,L=0)->Node(2,L=4),W=0.2113,I=0,E=0), Gene(Node(1,L=0)->Node(3,L=1),W=1.0000,I=1,E=1), Gene(Node(3,L=1)->Node(2,L=4),W=0.2113,I=2,E=1), Gene(Node(0,L=0)->Node(3,L=1),W=0.0000,I=3,E=1), Gene(Node(0,L=0)->Node(2,L=4),W=-0.3240,I=4,E=1), Gene(Node(1,L=0)->Node(4,L=1),W=1.0000,I=5,E=1), Gene(Node(4,L=1)->Node(2,L=4),W=0.2113,I=6,E=0), Gene(Node(0,L=0)->Node(4,L=1),W=0.0000,I=7,E=1), Gene(Node(4,L=1)->Node(5,L=3),W=1.0000,I=8,E=1), Gene(Node(5,L=3)->Node(2,L=4),W=0.2113,I=9,E=1), Gene(Node(0,L=0)->Node(5,L=3),W=0.0000,I=10,E=1), Gene(Node(3,L=1)->Node(5,L=3),W=0.7613,I=11,E=0), Gene(Node(3,L=1)->Node(6,L=2),W=1.0000,I=12,E=1), Gene(Node(6,L=2)->Node(5,L=3),W=0.7613,I=13,E=1), Gene(Node(0,L=0)->Node(6,L=2),W=0.0000,I=14,E=1)]\n",
      "\n",
      "\n"
     ]
    },
    {
     "data": {
      "image/png": "[encoded data removed]",
      "text/plain": [
       "<Figure size 432x288 with 1 Axes>"
      ]
     },
     "metadata": {
      "needs_background": "light"
     },
     "output_type": "display_data"
    }
   ],
   "source": [
    "print(\"Clone genome2 to create genome6\")\n",
    "genome6 = genome2.clone()\n",
    "genome6.print_state()\n",
    "genome6.draw_state()"
   ]
  },
  {
   "attachments": {},
   "cell_type": "markdown",
   "metadata": {},
   "source": [
    "## Propagation"
   ]
  },
  {
   "cell_type": "code",
   "execution_count": 23,
   "metadata": {},
   "outputs": [
    {
     "name": "stdout",
     "output_type": "stream",
     "text": [
      "genome1\n",
      "\tState\n",
      "\tNodes: 5 (3), {0: [Node(0,L=0), Node(1,L=0)], 1: [Node(3,L=1), Node(4,L=1)], 2: [Node(2,L=2)]}\n",
      "\tConnections: 8, [Gene(Node(1,L=0)->Node(2,L=2),W=-0.8276,I=0,E=0), Gene(Node(1,L=0)->Node(3,L=1),W=1.0000,I=1,E=1), Gene(Node(0,L=0)->Node(3,L=1),W=0.0000,I=3,E=1), Gene(Node(0,L=0)->Node(2,L=2),W=0.2210,I=4,E=1), Gene(Node(1,L=0)->Node(4,L=1),W=1.0000,I=5,E=1), Gene(Node(0,L=0)->Node(4,L=1),W=0.0000,I=7,E=1), Gene(Node(3,L=1)->Node(2,L=2),W=-0.8276,I=2,E=1), Gene(Node(4,L=1)->Node(2,L=2),W=-0.8276,I=6,E=1)]\n",
      "\n",
      "\n",
      "[0.3528361578269981]\n"
     ]
    },
    {
     "data": {
      "image/png": "[encoded data removed]",
      "text/plain": [
       "<Figure size 432x288 with 1 Axes>"
      ]
     },
     "metadata": {
      "needs_background": "light"
     },
     "output_type": "display_data"
    }
   ],
   "source": [
    "print(\"genome1\")\n",
    "out1 = genome1.forward_pass([1, 0.5])\n",
    "genome1.print_state()\n",
    "genome1.draw_state()\n",
    "print(out1)"
   ]
  },
  {
   "cell_type": "code",
   "execution_count": 24,
   "metadata": {},
   "outputs": [
    {
     "name": "stdout",
     "output_type": "stream",
     "text": [
      "genome2\n",
      "\tState\n",
      "\tNodes: 7 (5), {0: [Node(0,L=0), Node(1,L=0)], 1: [Node(3,L=1), Node(4,L=1)], 2: [Node(6,L=2)], 3: [Node(5,L=3)], 4: [Node(2,L=4)]}\n",
      "\tConnections: 15, [Gene(Node(1,L=0)->Node(2,L=4),W=0.2113,I=0,E=0), Gene(Node(1,L=0)->Node(3,L=1),W=1.0000,I=1,E=1), Gene(Node(3,L=1)->Node(2,L=4),W=0.2113,I=2,E=1), Gene(Node(0,L=0)->Node(3,L=1),W=0.0000,I=3,E=1), Gene(Node(0,L=0)->Node(2,L=4),W=-0.3240,I=4,E=1), Gene(Node(1,L=0)->Node(4,L=1),W=1.0000,I=5,E=1), Gene(Node(4,L=1)->Node(2,L=4),W=0.2113,I=6,E=0), Gene(Node(0,L=0)->Node(4,L=1),W=0.0000,I=7,E=1), Gene(Node(4,L=1)->Node(5,L=3),W=1.0000,I=8,E=1), Gene(Node(5,L=3)->Node(2,L=4),W=0.2113,I=9,E=1), Gene(Node(0,L=0)->Node(5,L=3),W=0.0000,I=10,E=1), Gene(Node(3,L=1)->Node(5,L=3),W=0.7613,I=11,E=0), Gene(Node(3,L=1)->Node(6,L=2),W=1.0000,I=12,E=1), Gene(Node(6,L=2)->Node(5,L=3),W=0.7613,I=13,E=1), Gene(Node(0,L=0)->Node(6,L=2),W=0.0000,I=14,E=1)]\n",
      "\n",
      "\n",
      "[0.49191527313874595]\n"
     ]
    },
    {
     "data": {
      "image/png": "[encoded data removed]",
      "text/plain": [
       "<Figure size 432x288 with 1 Axes>"
      ]
     },
     "metadata": {
      "needs_background": "light"
     },
     "output_type": "display_data"
    }
   ],
   "source": [
    "print(\"genome2\")\n",
    "genome2.print_state()\n",
    "genome2.draw_state()\n",
    "out2 = genome2.forward_pass([1, 0.5])\n",
    "print(out2)"
   ]
  },
  {
   "cell_type": "code",
   "execution_count": 25,
   "metadata": {},
   "outputs": [
    {
     "name": "stdout",
     "output_type": "stream",
     "text": [
      "genome3\n",
      "\tState\n",
      "\tNodes: 5 (3), {0: [Node(0,L=0), Node(1,L=0)], 1: [Node(3,L=1), Node(4,L=1)], 2: [Node(2,L=2)]}\n",
      "\tConnections: 8, [Gene(Node(1,L=0)->Node(2,L=2),W=-0.8276,I=0,E=0), Gene(Node(1,L=0)->Node(3,L=1),W=1.0000,I=1,E=1), Gene(Node(3,L=1)->Node(2,L=2),W=-0.8276,I=2,E=1), Gene(Node(0,L=0)->Node(3,L=1),W=0.0000,I=3,E=1), Gene(Node(0,L=0)->Node(2,L=2),W=0.2210,I=4,E=1), Gene(Node(1,L=0)->Node(4,L=1),W=1.0000,I=5,E=1), Gene(Node(4,L=1)->Node(2,L=2),W=-0.8276,I=6,E=0), Gene(Node(0,L=0)->Node(4,L=1),W=0.0000,I=7,E=1)]\n",
      "\n",
      "\n",
      "[0.4519510056584727]\n"
     ]
    },
    {
     "data": {
      "image/png": "[encoded data removed]",
      "text/plain": [
       "<Figure size 432x288 with 1 Axes>"
      ]
     },
     "metadata": {
      "needs_background": "light"
     },
     "output_type": "display_data"
    }
   ],
   "source": [
    "print(\"genome3\")\n",
    "genome3.print_state()\n",
    "genome3.draw_state()\n",
    "out3 = genome3.forward_pass([1, 0.5])\n",
    "print(out3)"
   ]
  },
  {
   "cell_type": "code",
   "execution_count": 26,
   "metadata": {},
   "outputs": [
    {
     "name": "stdout",
     "output_type": "stream",
     "text": [
      "genome4\n",
      "\tState\n",
      "\tNodes: 7 (5), {0: [Node(0,L=0), Node(1,L=0)], 1: [Node(3,L=1), Node(4,L=1)], 2: [Node(6,L=2)], 3: [Node(5,L=3)], 4: [Node(2,L=4)]}\n",
      "\tConnections: 15, [Gene(Node(1,L=0)->Node(2,L=4),W=0.2113,I=0,E=0), Gene(Node(1,L=0)->Node(3,L=1),W=1.0000,I=1,E=1), Gene(Node(3,L=1)->Node(2,L=4),W=0.2113,I=2,E=1), Gene(Node(0,L=0)->Node(3,L=1),W=0.0000,I=3,E=1), Gene(Node(0,L=0)->Node(2,L=4),W=-0.3240,I=4,E=1), Gene(Node(1,L=0)->Node(4,L=1),W=1.0000,I=5,E=1), Gene(Node(4,L=1)->Node(2,L=4),W=0.2113,I=6,E=0), Gene(Node(0,L=0)->Node(4,L=1),W=0.0000,I=7,E=1), Gene(Node(4,L=1)->Node(5,L=3),W=1.0000,I=8,E=1), Gene(Node(5,L=3)->Node(2,L=4),W=0.2113,I=9,E=1), Gene(Node(0,L=0)->Node(5,L=3),W=0.0000,I=10,E=1), Gene(Node(3,L=1)->Node(5,L=3),W=0.7613,I=11,E=0), Gene(Node(3,L=1)->Node(6,L=2),W=1.0000,I=12,E=1), Gene(Node(6,L=2)->Node(5,L=3),W=0.7613,I=13,E=1), Gene(Node(0,L=0)->Node(6,L=2),W=0.0000,I=14,E=1)]\n",
      "\n",
      "\n",
      "[0.49191527313874595]\n"
     ]
    },
    {
     "data": {
      "image/png": "[encoded data removed]",
      "text/plain": [
       "<Figure size 432x288 with 1 Axes>"
      ]
     },
     "metadata": {
      "needs_background": "light"
     },
     "output_type": "display_data"
    }
   ],
   "source": [
    "print(\"genome4\")\n",
    "genome4.print_state()\n",
    "genome4.draw_state()\n",
    "out4 = genome4.forward_pass([1, 0.5])\n",
    "print(out4)"
   ]
  },
  {
   "cell_type": "code",
   "execution_count": 27,
   "metadata": {},
   "outputs": [
    {
     "name": "stdout",
     "output_type": "stream",
     "text": [
      "genome5\n",
      "\tState\n",
      "\tNodes: 5 (3), {0: [Node(0,L=0), Node(1,L=0)], 1: [Node(3,L=1), Node(4,L=1)], 2: [Node(2,L=2)]}\n",
      "\tConnections: 8, [Gene(Node(1,L=0)->Node(2,L=2),W=-0.8276,I=0,E=0), Gene(Node(1,L=0)->Node(3,L=1),W=1.0000,I=1,E=1), Gene(Node(3,L=1)->Node(2,L=2),W=-0.8276,I=2,E=1), Gene(Node(0,L=0)->Node(3,L=1),W=0.0000,I=3,E=1), Gene(Node(0,L=0)->Node(2,L=2),W=0.2210,I=4,E=1), Gene(Node(1,L=0)->Node(4,L=1),W=1.0000,I=5,E=1), Gene(Node(4,L=1)->Node(2,L=2),W=-0.8276,I=6,E=1), Gene(Node(0,L=0)->Node(4,L=1),W=0.0000,I=7,E=1)]\n",
      "\n",
      "\n",
      "[0.3528361578269981]\n"
     ]
    },
    {
     "data": {
      "image/png": "[encoded data removed]",
      "text/plain": [
       "<Figure size 432x288 with 1 Axes>"
      ]
     },
     "metadata": {
      "needs_background": "light"
     },
     "output_type": "display_data"
    }
   ],
   "source": [
    "print(\"genome5\")\n",
    "genome5.print_state()\n",
    "genome5.draw_state()\n",
    "out5 = genome5.forward_pass([1, 0.5])\n",
    "print(out5)"
   ]
  },
  {
   "cell_type": "code",
   "execution_count": 28,
   "metadata": {},
   "outputs": [
    {
     "name": "stdout",
     "output_type": "stream",
     "text": [
      "genome6\n",
      "\tState\n",
      "\tNodes: 7 (5), {0: [Node(0,L=0), Node(1,L=0)], 1: [Node(3,L=1), Node(4,L=1)], 2: [Node(6,L=2)], 3: [Node(5,L=3)], 4: [Node(2,L=4)]}\n",
      "\tConnections: 15, [Gene(Node(1,L=0)->Node(2,L=4),W=0.2113,I=0,E=0), Gene(Node(1,L=0)->Node(3,L=1),W=1.0000,I=1,E=1), Gene(Node(3,L=1)->Node(2,L=4),W=0.2113,I=2,E=1), Gene(Node(0,L=0)->Node(3,L=1),W=0.0000,I=3,E=1), Gene(Node(0,L=0)->Node(2,L=4),W=-0.3240,I=4,E=1), Gene(Node(1,L=0)->Node(4,L=1),W=1.0000,I=5,E=1), Gene(Node(4,L=1)->Node(2,L=4),W=0.2113,I=6,E=0), Gene(Node(0,L=0)->Node(4,L=1),W=0.0000,I=7,E=1), Gene(Node(4,L=1)->Node(5,L=3),W=1.0000,I=8,E=1), Gene(Node(5,L=3)->Node(2,L=4),W=0.2113,I=9,E=1), Gene(Node(0,L=0)->Node(5,L=3),W=0.0000,I=10,E=1), Gene(Node(3,L=1)->Node(5,L=3),W=0.7613,I=11,E=0), Gene(Node(3,L=1)->Node(6,L=2),W=1.0000,I=12,E=1), Gene(Node(6,L=2)->Node(5,L=3),W=0.7613,I=13,E=1), Gene(Node(0,L=0)->Node(6,L=2),W=0.0000,I=14,E=1)]\n",
      "\n",
      "\n",
      "[0.49191527313874595]\n"
     ]
    },
    {
     "data": {
      "image/png": "[encoded data removed]",
      "text/plain": [
       "<Figure size 432x288 with 1 Axes>"
      ]
     },
     "metadata": {
      "needs_background": "light"
     },
     "output_type": "display_data"
    }
   ],
   "source": [
    "print(\"genome6\")\n",
    "genome6.print_state()\n",
    "genome6.draw_state()\n",
    "out6 = genome6.forward_pass([1, 0.5])\n",
    "print(out6)"
   ]
  },
  {
   "attachments": {},
   "cell_type": "markdown",
   "metadata": {},
   "source": [
    "# Player Testing"
   ]
  },
  {
   "cell_type": "code",
   "execution_count": 29,
   "metadata": {},
   "outputs": [
    {
     "name": "stdout",
     "output_type": "stream",
     "text": [
      "\tState\n",
      "\tNodes: 5 (2), {0: [Node(0,L=0), Node(1,L=0), Node(2,L=0)], 1: [Node(3,L=1), Node(4,L=1)]}\n",
      "\tConnections: 0, []\n",
      "\n",
      "\n"
     ]
    },
    {
     "data": {
      "image/png": "[encoded data removed]",
      "text/plain": [
       "<Figure size 432x288 with 1 Axes>"
      ]
     },
     "metadata": {
      "needs_background": "light"
     },
     "output_type": "display_data"
    }
   ],
   "source": [
    "history = []\n",
    "\n",
    "player = Player(2, 2)\n",
    "player.nn.print_state()\n",
    "player.nn.draw_state()"
   ]
  },
  {
   "cell_type": "code",
   "execution_count": 30,
   "metadata": {},
   "outputs": [
    {
     "name": "stdout",
     "output_type": "stream",
     "text": [
      "\tState\n",
      "\tNodes: 5 (2), {0: [Node(0,L=0), Node(1,L=0), Node(2,L=0)], 1: [Node(3,L=1), Node(4,L=1)]}\n",
      "\tConnections: 1, [Gene(Node(1,L=0)->Node(4,L=1),W=0.7114,I=0,E=1)]\n",
      "\n",
      "\n"
     ]
    },
    {
     "data": {
      "image/png": "[encoded data removed]",
      "text/plain": [
       "<Figure size 432x288 with 1 Axes>"
      ]
     },
     "metadata": {
      "needs_background": "light"
     },
     "output_type": "display_data"
    }
   ],
   "source": [
    "player.mutate(history)\n",
    "player.nn.print_state()\n",
    "player.nn.draw_state()"
   ]
  },
  {
   "cell_type": "code",
   "execution_count": 31,
   "metadata": {},
   "outputs": [
    {
     "name": "stdout",
     "output_type": "stream",
     "text": [
      "[1, 0, 0] [0.5, 0.5] 0\n"
     ]
    }
   ],
   "source": [
    "inputs = [1] + np.random.randint(2, size=2).tolist()\n",
    "decision = player.decide(inputs)\n",
    "print(inputs, player.nn.forward_pass(inputs), decision)"
   ]
  },
  {
   "attachments": {},
   "cell_type": "markdown",
   "metadata": {},
   "source": [
    "# Population Testing"
   ]
  },
  {
   "cell_type": "code",
   "execution_count": 32,
   "metadata": {},
   "outputs": [
    {
     "name": "stdout",
     "output_type": "stream",
     "text": [
      "Number of Species: 8\n",
      "Species 0 - Players: 91, Average Fitness: 6.1648\n",
      "Species 1 - Players: 80, Average Fitness: 6.3500\n",
      "Species 2 - Players: 81, Average Fitness: 6.1481\n",
      "Species 3 - Players: 87, Average Fitness: 6.4138\n",
      "Species 4 - Players: 73, Average Fitness: 6.3699\n",
      "Species 5 - Players: 89, Average Fitness: 6.2809\n",
      "Species 6 - Players: 2, Average Fitness: 5.5000\n",
      "Species 7 - Players: 3, Average Fitness: 5.0000\n"
     ]
    }
   ],
   "source": [
    "population = Population(1000, 2, 2)\n",
    "game = Game(population)\n",
    "game.play_game()\n",
    "population.update_generation()\n",
    "print(\"Number of Species: \" + str(len(population.species)))\n",
    "for i in range(len(population.species)):\n",
    "    print(\"Species %d - Players: %d, Average Fitness: %.4f\" % (i, len(population.species[i].players), population.species[i].average_fitness))"
   ]
  },
  {
   "cell_type": "code",
   "execution_count": 33,
   "metadata": {},
   "outputs": [
    {
     "name": "stdout",
     "output_type": "stream",
     "text": [
      "9\n",
      "9\n",
      "9\n",
      "9\n",
      "8\n",
      "7\n",
      "7\n",
      "7\n",
      "7\n",
      "7\n",
      "7\n",
      "7\n",
      "7\n",
      "7\n",
      "7\n",
      "7\n",
      "7\n",
      "7\n",
      "7\n",
      "7\n",
      "7\n",
      "7\n",
      "7\n",
      "7\n",
      "7\n",
      "7\n",
      "7\n",
      "7\n",
      "7\n",
      "7\n",
      "6\n",
      "6\n",
      "6\n",
      "6\n",
      "6\n",
      "6\n",
      "6\n",
      "6\n",
      "6\n",
      "6\n",
      "6\n",
      "6\n",
      "6\n",
      "6\n",
      "6\n",
      "6\n",
      "6\n",
      "6\n",
      "6\n",
      "6\n",
      "6\n",
      "6\n",
      "6\n",
      "6\n",
      "6\n",
      "6\n",
      "6\n",
      "6\n",
      "6\n",
      "6\n",
      "6\n",
      "6\n",
      "6\n",
      "6\n",
      "6\n",
      "6\n",
      "6\n",
      "5\n",
      "5\n",
      "5\n",
      "5\n",
      "5\n",
      "5\n",
      "5\n",
      "5\n",
      "5\n",
      "5\n",
      "5\n",
      "5\n",
      "5\n",
      "5\n",
      "5\n",
      "5\n",
      "5\n",
      "5\n",
      "5\n",
      "5\n",
      "5\n",
      "5\n",
      "5\n",
      "5\n"
     ]
    }
   ],
   "source": [
    "species = population.species[0]\n",
    "for i in range(10):\n",
    "    player = species.players[i]\n",
    "    player.nn.print_state()\n",
    "    player.nn.draw_state()"
   ]
  },
  {
   "cell_type": "code",
   "execution_count": 34,
   "metadata": {},
   "outputs": [
    {
     "name": "stdout",
     "output_type": "stream",
     "text": [
      "\tState\n",
      "\tNodes: 5 (2), {0: [Node(0,L=0), Node(1,L=0), Node(2,L=0)], 1: [Node(3,L=1), Node(4,L=1)]}\n",
      "\tConnections: 1, [Gene(Node(1,L=0)->Node(3,L=1),W=0.3182,I=0,E=1)]\n",
      "\n",
      "\n"
     ]
    },
    {
     "data": {
      "image/png": "[encoded data removed]",
      "text/plain": [
       "<Figure size 432x288 with 1 Axes>"
      ]
     },
     "metadata": {
      "needs_background": "light"
     },
     "output_type": "display_data"
    }
   ],
   "source": [
    "player = species.players[0]\n",
    "player.nn.print_state()\n",
    "player.nn.draw_state()"
   ]
  },
  {
   "cell_type": "code",
   "execution_count": 35,
   "metadata": {},
   "outputs": [
    {
     "name": "stdout",
     "output_type": "stream",
     "text": [
      "[1, 0, 0] [0.5, 0.5] 0 1\n",
      "[1, 0, 0] [0.5, 0.5] 0 2\n",
      "[1, 0, 1] [0.5, 0.5] 0 2\n",
      "[1, 0, 1] [0.5, 0.5] 0 2\n",
      "[1, 0, 1] [0.5, 0.5] 0 2\n",
      "[1, 1, 1] [0.5788845409748673, 0.5] 0 3\n",
      "[1, 0, 1] [0.5, 0.5] 0 3\n",
      "[1, 0, 1] [0.5, 0.5] 0 3\n",
      "[1, 1, 0] [0.5788845409748673, 0.5] 0 3\n",
      "[1, 1, 0] [0.5788845409748673, 0.5] 0 3\n"
     ]
    }
   ],
   "source": [
    "won = 0\n",
    "for _ in range(10):\n",
    "    inputs = [1] + np.random.randint(2, size=2).tolist()\n",
    "    decision = player.decide(inputs)\n",
    "    if inputs[1] == inputs[2] and decision == 0:\n",
    "        won += 1\n",
    "    elif inputs[1] != inputs[2] and decision == 1:\n",
    "        won += 1\n",
    "    print(inputs, player.nn.forward_pass(inputs), decision, won)"
   ]
  }
 ],
 "metadata": {
  "kernelspec": {
   "display_name": "Python 3",
   "language": "python",
   "name": "python3"
  },
  "language_info": {
   "codemirror_mode": {
    "name": "ipython",
    "version": 3
   },
   "file_extension": ".py",
   "mimetype": "text/x-python",
   "name": "python",
   "nbconvert_exporter": "python",
   "pygments_lexer": "ipython3",
   "version": "3.10.2"
  },
  "orig_nbformat": 4
 },
 "nbformat": 4,
 "nbformat_minor": 2
}
