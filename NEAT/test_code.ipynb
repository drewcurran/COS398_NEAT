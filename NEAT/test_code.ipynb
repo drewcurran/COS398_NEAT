{
 "cells": [
  {
   "attachments": {},
   "cell_type": "markdown",
   "metadata": {},
   "source": [
    "# Imports"
   ]
  },
  {
   "cell_type": "code",
   "execution_count": 1,
   "metadata": {},
   "outputs": [],
   "source": [
    "import numpy as np\n",
    "import os\n",
    "\n",
    "os.chdir('..')\n",
    "from NEAT.organism import Organism\n",
    "from NEAT.population import Population"
   ]
  },
  {
   "attachments": {},
   "cell_type": "markdown",
   "metadata": {},
   "source": [
    "# Population Testing"
   ]
  },
  {
   "cell_type": "code",
   "execution_count": 2,
   "metadata": {},
   "outputs": [
    {
     "name": "stdout",
     "output_type": "stream",
     "text": [
      "[[Node(0,L=0), Node(1,L=0), Node(2,L=0)], [Node(3,L=1), Node(4,L=1)]]\n",
      "State\n",
      "Neurons: 5 (2), {0: [Node(0,L=0), Node(1,L=0), Node(2,L=0)], 1: [Node(3,L=1), Node(4,L=1)]}\n",
      "Connections: 0, []\n",
      "\n"
     ]
    },
    {
     "data": {
      "image/png": "[encoded data removed]",
      "text/plain": [
       "<Figure size 432x288 with 1 Axes>"
      ]
     },
     "metadata": {
      "needs_background": "light"
     },
     "output_type": "display_data"
    }
   ],
   "source": [
    "population = Population(1000, 2, 2)\n",
    "population.initialize_population()\n",
    "player = population.players[0]\n",
    "print(list(player.neurons.values()))\n",
    "player.print_state()\n",
    "player.draw_state()"
   ]
  },
  {
   "cell_type": "code",
   "execution_count": 3,
   "metadata": {},
   "outputs": [
    {
     "name": "stdout",
     "output_type": "stream",
     "text": [
      "State\n",
      "Neurons: 5 (2), {0: [Node(0,L=0), Node(1,L=0), Node(2,L=0)], 1: [Node(3,L=1), Node(4,L=1)]}\n",
      "Connections: 0, []\n",
      "\n"
     ]
    },
    {
     "data": {
      "image/png": "[encoded data removed]",
      "text/plain": [
       "<Figure size 432x288 with 1 Axes>"
      ]
     },
     "metadata": {
      "needs_background": "light"
     },
     "output_type": "display_data"
    }
   ],
   "source": [
    "population.mutate()\n",
    "player = population.players[0]\n",
    "player.print_state()\n",
    "player.draw_state()"
   ]
  },
  {
   "cell_type": "code",
   "execution_count": 4,
   "metadata": {},
   "outputs": [
    {
     "data": {
      "text/plain": [
       "2"
      ]
     },
     "execution_count": 4,
     "metadata": {},
     "output_type": "execute_result"
    }
   ],
   "source": [
    "population.speciate()\n",
    "len(population.species)"
   ]
  },
  {
   "cell_type": "code",
   "execution_count": 7,
   "metadata": {},
   "outputs": [
    {
     "name": "stdout",
     "output_type": "stream",
     "text": [
      "1000\n",
      "Innovations: 6\n",
      "Species: 2\n"
     ]
    },
    {
     "ename": "AttributeError",
     "evalue": "'Organism' object has no attribute 'innovations'",
     "output_type": "error",
     "traceback": [
      "\u001b[1;31m---------------------------------------------------------------------------\u001b[0m",
      "\u001b[1;31mAttributeError\u001b[0m                            Traceback (most recent call last)",
      "\u001b[1;32mc:\\Users\\denis\\Documents\\GitHub\\COS398_CatanAI\\NEAT\\test_code.ipynb Cell 7\u001b[0m in \u001b[0;36m<module>\u001b[1;34m\u001b[0m\n\u001b[0;32m     <a href='vscode-notebook-cell:/c%3A/Users/denis/Documents/GitHub/COS398_CatanAI/NEAT/test_code.ipynb#Y105sZmlsZQ%3D%3D?line=9'>10</a>\u001b[0m \u001b[39mprint\u001b[39m(\u001b[39m\"\u001b[39m\u001b[39mSpecies: \u001b[39m\u001b[39m%d\u001b[39;00m\u001b[39m\"\u001b[39m \u001b[39m%\u001b[39m \u001b[39mlen\u001b[39m(population\u001b[39m.\u001b[39mspecies))\n\u001b[0;32m     <a href='vscode-notebook-cell:/c%3A/Users/denis/Documents/GitHub/COS398_CatanAI/NEAT/test_code.ipynb#Y105sZmlsZQ%3D%3D?line=10'>11</a>\u001b[0m \u001b[39mfor\u001b[39;00m i \u001b[39min\u001b[39;00m \u001b[39mrange\u001b[39m(\u001b[39mlen\u001b[39m(population\u001b[39m.\u001b[39mspecies)):\n\u001b[1;32m---> <a href='vscode-notebook-cell:/c%3A/Users/denis/Documents/GitHub/COS398_CatanAI/NEAT/test_code.ipynb#Y105sZmlsZQ%3D%3D?line=11'>12</a>\u001b[0m     \u001b[39mprint\u001b[39m(\u001b[39m\"\u001b[39m\u001b[39mSpecies \u001b[39m\u001b[39m%d\u001b[39;00m\u001b[39m - Players: \u001b[39m\u001b[39m%d\u001b[39;00m\u001b[39m, Average Fitness: \u001b[39m\u001b[39m%.4f\u001b[39;00m\u001b[39m, Max Fitness: \u001b[39m\u001b[39m%.4f\u001b[39;00m\u001b[39m\"\u001b[39m \u001b[39m%\u001b[39m (i, \u001b[39mlen\u001b[39m(population\u001b[39m.\u001b[39mspecies[i]\u001b[39m.\u001b[39mplayers), population\u001b[39m.\u001b[39mspecies[i]\u001b[39m.\u001b[39maverage_fitness(), population\u001b[39m.\u001b[39mspecies[i]\u001b[39m.\u001b[39mfittest_player\u001b[39m.\u001b[39mfitness, \u001b[39mlen\u001b[39m(population\u001b[39m.\u001b[39;49mspecies[i]\u001b[39m.\u001b[39;49mfittest_player\u001b[39m.\u001b[39;49minnovations)))\n",
      "\u001b[1;31mAttributeError\u001b[0m: 'Organism' object has no attribute 'innovations'"
     ]
    }
   ],
   "source": [
    "population = Population(1000, 2, 2)\n",
    "\n",
    "for _ in range(100):\n",
    "    population.new_generation()\n",
    "    print(len(population.players))\n",
    "    for player in population.players:\n",
    "        player.fitness = np.random.randint(0,10)\n",
    "    population.update_generation()\n",
    "    print(\"Innovations: %s\" % len(population.innovation_history.innovations))\n",
    "    print(\"Species: %d\" % len(population.species))\n",
    "    for i in range(len(population.species)):\n",
    "        print(\"Species %d - Players: %d, Average Fitness: %.4f, Max Fitness: %.4f, Fittest Innovations: %d\" % (i, len(population.species[i].players), population.species[i].average_fitness(), population.species[i].fittest_player.fitness, len(population.species[i].fittest_player.innovation_labels)))"
   ]
  },
  {
   "attachments": {},
   "cell_type": "markdown",
   "metadata": {},
   "source": [
    "# Iteration Test"
   ]
  },
  {
   "cell_type": "code",
   "execution_count": 6,
   "metadata": {},
   "outputs": [
    {
     "ename": "NameError",
     "evalue": "name 'play_game' is not defined",
     "output_type": "error",
     "traceback": [
      "\u001b[1;31m---------------------------------------------------------------------------\u001b[0m",
      "\u001b[1;31mNameError\u001b[0m                                 Traceback (most recent call last)",
      "\u001b[1;32mc:\\Users\\denis\\Documents\\GitHub\\COS398_CatanAI\\NEAT\\test_code.ipynb Cell 9\u001b[0m in \u001b[0;36m<module>\u001b[1;34m\u001b[0m\n\u001b[0;32m      <a href='vscode-notebook-cell:/c%3A/Users/denis/Documents/GitHub/COS398_CatanAI/NEAT/test_code.ipynb#X64sZmlsZQ%3D%3D?line=0'>1</a>\u001b[0m population \u001b[39m=\u001b[39m Population(\u001b[39m1000\u001b[39m, \u001b[39m2\u001b[39m, \u001b[39m2\u001b[39m)\n\u001b[0;32m      <a href='vscode-notebook-cell:/c%3A/Users/denis/Documents/GitHub/COS398_CatanAI/NEAT/test_code.ipynb#X64sZmlsZQ%3D%3D?line=1'>2</a>\u001b[0m players \u001b[39m=\u001b[39m population\u001b[39m.\u001b[39mnew_generation()\n\u001b[1;32m----> <a href='vscode-notebook-cell:/c%3A/Users/denis/Documents/GitHub/COS398_CatanAI/NEAT/test_code.ipynb#X64sZmlsZQ%3D%3D?line=2'>3</a>\u001b[0m won \u001b[39m=\u001b[39m play_game(players)\n\u001b[0;32m      <a href='vscode-notebook-cell:/c%3A/Users/denis/Documents/GitHub/COS398_CatanAI/NEAT/test_code.ipynb#X64sZmlsZQ%3D%3D?line=3'>4</a>\u001b[0m \u001b[39mfor\u001b[39;00m i \u001b[39min\u001b[39;00m \u001b[39mrange\u001b[39m(\u001b[39mlen\u001b[39m(players)):\n\u001b[0;32m      <a href='vscode-notebook-cell:/c%3A/Users/denis/Documents/GitHub/COS398_CatanAI/NEAT/test_code.ipynb#X64sZmlsZQ%3D%3D?line=4'>5</a>\u001b[0m     players[i]\u001b[39m.\u001b[39mfitness \u001b[39m=\u001b[39m won[i]\n",
      "\u001b[1;31mNameError\u001b[0m: name 'play_game' is not defined"
     ]
    }
   ],
   "source": [
    "population = Population(1000, 2, 2)\n",
    "players = population.new_generation()\n",
    "won = play_game(players)\n",
    "for i in range(len(players)):\n",
    "    players[i].fitness = won[i]\n",
    "population.update_generation()\n",
    "\n",
    "print(\"Innovations: %s\" % len(population.innovation_history))\n",
    "print(\"Species: %d\" % len(population.species))\n",
    "for i in range(len(population.species)):\n",
    "    print(\"Species %d - Players: %d, Average Fitness: %.4f, Max Fitness: %.4f\" % (i, len(population.species[i].players), population.species[i].average_fitness, population.species[i].max_fitness))"
   ]
  },
  {
   "cell_type": "code",
   "execution_count": null,
   "metadata": {},
   "outputs": [
    {
     "name": "stdout",
     "output_type": "stream",
     "text": [
      "Innovations: 52\n",
      "Species: 10\n",
      "Species 0 - Players: 51, Average Fitness: 55.1176, Max Fitness: 78.0000\n",
      "Species 1 - Players: 52, Average Fitness: 53.1731, Max Fitness: 74.0000\n",
      "Species 2 - Players: 46, Average Fitness: 54.7174, Max Fitness: 73.0000\n",
      "Species 3 - Players: 51, Average Fitness: 55.0000, Max Fitness: 71.0000\n",
      "Species 4 - Players: 52, Average Fitness: 53.8269, Max Fitness: 70.0000\n",
      "Species 5 - Players: 51, Average Fitness: 53.9608, Max Fitness: 64.0000\n",
      "Species 6 - Players: 46, Average Fitness: 54.5435, Max Fitness: 64.0000\n",
      "Species 7 - Players: 51, Average Fitness: 53.9216, Max Fitness: 63.0000\n",
      "Species 8 - Players: 53, Average Fitness: 53.4340, Max Fitness: 62.0000\n",
      "Species 9 - Players: 55, Average Fitness: 53.2909, Max Fitness: 61.0000\n"
     ]
    }
   ],
   "source": [
    "players = population.new_generation()\n",
    "won = play_game(players)\n",
    "for i in range(len(players)):\n",
    "    players[i].fitness = won[i]\n",
    "population.update_generation()\n",
    "\n",
    "print(\"Innovations: %s\" % len(population.innovation_history))\n",
    "print(\"Species: %d\" % len(population.species))\n",
    "for i in range(len(population.species)):\n",
    "    print(\"Species %d - Players: %d, Average Fitness: %.4f, Max Fitness: %.4f\" % (i, len(population.species[i].players), population.species[i].average_fitness, population.species[i].max_fitness))"
   ]
  },
  {
   "attachments": {},
   "cell_type": "markdown",
   "metadata": {},
   "source": [
    "# Training Test"
   ]
  },
  {
   "cell_type": "code",
   "execution_count": null,
   "metadata": {},
   "outputs": [
    {
     "name": "stdout",
     "output_type": "stream",
     "text": [
      "Iteration: 0, Innovations: 15, Species: 9, Average Fitness: 52.5827, Max Fitness: 66.0000\n",
      "Iteration: 5, Innovations: 126, Species: 18, Average Fitness: 64.5774, Max Fitness: 86.0000\n",
      "Iteration: 10, Innovations: 201, Species: 26, Average Fitness: 70.5221, Max Fitness: 90.0000\n",
      "Iteration: 15, Innovations: 285, Species: 34, Average Fitness: 73.7020, Max Fitness: 88.0000\n",
      "Iteration: 20, Innovations: 364, Species: 39, Average Fitness: 72.9723, Max Fitness: 87.0000\n",
      "Iteration: 24, Innovations: 414, Species: 45, Average Fitness: 75.0981, Max Fitness: 100.0000\n",
      "Iteration: 25, Innovations: 427, Species: 48, Average Fitness: 73.9813, Max Fitness: 100.0000\n",
      "Iteration: 26, Innovations: 438, Species: 49, Average Fitness: 73.6720, Max Fitness: 100.0000\n",
      "Iteration: 27, Innovations: 455, Species: 52, Average Fitness: 73.2727, Max Fitness: 100.0000\n",
      "Iteration: 28, Innovations: 463, Species: 51, Average Fitness: 73.9474, Max Fitness: 100.0000\n",
      "Iteration: 29, Innovations: 470, Species: 54, Average Fitness: 74.7210, Max Fitness: 100.0000\n"
     ]
    }
   ],
   "source": [
    "num_iters = 100\n",
    "print_step = 5\n",
    "population_size = 1000\n",
    "num_inputs = 2\n",
    "num_outputs = 2\n",
    "max_hits_threshold = 5\n",
    "\n",
    "max_hits = 0\n",
    "\n",
    "population = Population(population_size, num_inputs, num_outputs)\n",
    "\n",
    "for iteration in range(num_iters):\n",
    "    players = population.new_generation()\n",
    "    won = play_game(players)\n",
    "    for i in range(len(players)):\n",
    "        players[i].fitness = won[i]\n",
    "    population.update_generation()\n",
    "    if iteration % print_step == 0:\n",
    "        print(\"Iteration: %d, Innovations: %s, Species: %d, Average Fitness: %.4f, Max Fitness: %.4f\" % (iteration, len(population.innovation_history), len(population.species), population.sum_average_fitness / len(population.species), population.max_fitness))\n",
    "    elif population.max_fitness == 100:\n",
    "        print(\"Iteration: %d, Innovations: %s, Species: %d, Average Fitness: %.4f, Max Fitness: %.4f\" % (iteration, len(population.innovation_history), len(population.species), population.sum_average_fitness / len(population.species), population.max_fitness))\n",
    "        max_hits += 1\n",
    "    else:\n",
    "        max_hits = 0\n",
    "    if max_hits == max_hits_threshold:\n",
    "        max_player = population.species[0].players[0]\n",
    "        break"
   ]
  },
  {
   "cell_type": "code",
   "execution_count": null,
   "metadata": {},
   "outputs": [
    {
     "name": "stdout",
     "output_type": "stream",
     "text": [
      "[1, 0, 0] [0.5918880387806611, 0.5772491376470447] 0\n",
      "[1, 0, 1] [0.5914726080190821, 0.6348668045780392] 1\n",
      "[1, 1, 0] [0.587421524507379, 0.6265880711287929] 1\n",
      "[1, 1, 1] [0.6338225668561569, 0.630986946400547] 0\n",
      "\tState\n",
      "\tNodes: 6 (3), {0: [Node(0,L=0), Node(1,L=0), Node(2,L=0)], 1: [Node(5,L=1)], 2: [Node(3,L=2), Node(4,L=2)]}\n",
      "\tConnections: 10, [Gene(Node(1,L=0)->Node(3,L=2),W=-0.0916,I=1,E=1), Gene(Node(1,L=0)->Node(5,L=1),W=-0.9720,I=12,E=1), Gene(Node(0,L=0)->Node(5,L=1),W=0.2631,I=14,E=1), Gene(Node(0,L=0)->Node(4,L=2),W=0.2288,I=41,E=1), Gene(Node(2,L=0)->Node(5,L=1),W=0.7689,I=87,E=1), Gene(Node(0,L=0)->Node(3,L=2),W=0.4449,I=119,E=1), Gene(Node(1,L=0)->Node(4,L=2),W=0.2888,I=210,E=1), Gene(Node(2,L=0)->Node(3,L=2),W=0.2120,I=396,E=1), Gene(Node(5,L=1)->Node(3,L=2),W=-0.2780,I=13,E=1), Gene(Node(5,L=1)->Node(4,L=2),W=0.3143,I=181,E=1)]\n",
      "\n",
      "\n"
     ]
    },
    {
     "data": {
      "image/png": "[encoded data removed]",
      "text/plain": [
       "<Figure size 640x480 with 1 Axes>"
      ]
     },
     "metadata": {},
     "output_type": "display_data"
    }
   ],
   "source": [
    "for i in range(4):\n",
    "    inputs = [1, 0 if i < 2 else 1, 0 if i % 2 == 0 else 1]\n",
    "    decision = max_player.decide(inputs)\n",
    "    print(inputs, max_player.nn.forward_pass(inputs), decision)\n",
    "max_player.nn.print_state()\n",
    "max_player.nn.draw_state()"
   ]
  },
  {
   "cell_type": "code",
   "execution_count": null,
   "metadata": {},
   "outputs": [
    {
     "name": "stdout",
     "output_type": "stream",
     "text": [
      "[1, 0, 0] [0.5, 0.5] 0\n",
      "[1, 0, 1] [0.35989515198666705, 0.5] 1\n",
      "[1, 1, 0] [0.4526932296015555, 0.5] 1\n",
      "[1, 1, 1] [0.3174286460478809, 0.5] 1\n",
      "\tState\n",
      "\tNodes: 7 (3), {0: [Node(0,L=0), Node(1,L=0), Node(2,L=0)], 1: [Node(5,L=1), Node(6,L=1)], 2: [Node(3,L=2), Node(4,L=2)]}\n",
      "\tConnections: 9, [Gene(Node(2,L=0)->Node(3,L=2),W=-0.5758,I=3,E=1), Gene(Node(2,L=0)->Node(5,L=1),W=-0.3210,I=6,E=1), Gene(Node(0,L=0)->Node(5,L=1),W=-0.2055,I=8,E=1), Gene(Node(1,L=0)->Node(3,L=2),W=-0.1898,I=37,E=1), Gene(Node(1,L=0)->Node(6,L=1),W=0.0349,I=63,E=1), Gene(Node(0,L=0)->Node(6,L=1),W=-0.9842,I=65,E=1), Gene(Node(5,L=1)->Node(3,L=2),W=0.1090,I=7,E=1), Gene(Node(6,L=1)->Node(3,L=2),W=-0.4705,I=64,E=1), Gene(Node(5,L=1)->Node(4,L=2),W=-0.7291,I=152,E=1)]\n",
      "\n",
      "\n"
     ]
    },
    {
     "data": {
      "image/png": "[encoded data removed]",
      "text/plain": [
       "<Figure size 640x480 with 1 Axes>"
      ]
     },
     "metadata": {},
     "output_type": "display_data"
    }
   ],
   "source": [
    "player = population.species[np.random.randint(len(population.species))].players[0]\n",
    "while player.nn.num_nodes < 7:\n",
    "    player = population.species[np.random.randint(len(population.species))].players[0]\n",
    "for i in range(4):\n",
    "    inputs = [1, 0 if i < 2 else 1, 0 if i % 2 == 0 else 1]\n",
    "    decision = player.decide(inputs)\n",
    "    print(inputs, player.nn.forward_pass(inputs), decision)\n",
    "player.nn.print_state()\n",
    "player.nn.draw_state()"
   ]
  }
 ],
 "metadata": {
  "kernelspec": {
   "display_name": "Python 3",
   "language": "python",
   "name": "python3"
  },
  "language_info": {
   "codemirror_mode": {
    "name": "ipython",
    "version": 3
   },
   "file_extension": ".py",
   "mimetype": "text/x-python",
   "name": "python",
   "nbconvert_exporter": "python",
   "pygments_lexer": "ipython3",
   "version": "3.10.2"
  },
  "orig_nbformat": 4
 },
 "nbformat": 4,
 "nbformat_minor": 2
}
