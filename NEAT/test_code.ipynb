{
 "cells": [
  {
   "attachments": {},
   "cell_type": "markdown",
   "metadata": {},
   "source": [
    "# Imports"
   ]
  },
  {
   "cell_type": "code",
   "execution_count": null,
   "metadata": {},
   "outputs": [],
   "source": [
    "import os\n",
    "\n",
    "os.chdir('..')"
   ]
  },
  {
   "attachments": {},
   "cell_type": "markdown",
   "metadata": {},
   "source": [
    "# Generation"
   ]
  },
  {
   "attachments": {},
   "cell_type": "markdown",
   "metadata": {},
   "source": [
    "## Mutation"
   ]
  },
  {
   "cell_type": "code",
   "execution_count": null,
   "metadata": {},
   "outputs": [],
   "source": [
    "from population import Population\n",
    "from organism import Organism\n",
    "from history import InnovationHistory"
   ]
  },
  {
   "cell_type": "code",
   "execution_count": null,
   "metadata": {},
   "outputs": [
    {
     "name": "stdout",
     "output_type": "stream",
     "text": [
      "State\n",
      "Neurons: 3 (2), {0: [N(0), N(1)], 1: [N(2)]}\n",
      "Connections: 0, []\n",
      "\n"
     ]
    },
    {
     "data": {
      "image/png": "[encoded data removed]",
      "text/plain": [
       "<Figure size 432x288 with 1 Axes>"
      ]
     },
     "metadata": {
      "needs_background": "light"
     },
     "output_type": "display_data"
    }
   ],
   "source": [
    "population = Population(1000, 1, 1)\n",
    "population.innovation_history = InnovationHistory(population.num_inputs + population.num_outputs + 2) \n",
    "player1 = Organism(1, 1)\n",
    "player1.print_state()\n",
    "player1.draw_state()"
   ]
  },
  {
   "cell_type": "code",
   "execution_count": null,
   "metadata": {},
   "outputs": [
    {
     "name": "stdout",
     "output_type": "stream",
     "text": [
      "State\n",
      "Neurons: 3 (2), {0: [N(0), N(1)], 1: [N(2)]}\n",
      "Connections: 1, [C(N(1)->N(2),W=0.2142,I=1,E=1)]\n",
      "\n",
      "[(1, 2)]\n"
     ]
    },
    {
     "data": {
      "image/png": "[encoded data removed]",
      "text/plain": [
       "<Figure size 432x288 with 1 Axes>"
      ]
     },
     "metadata": {
      "needs_background": "light"
     },
     "output_type": "display_data"
    }
   ],
   "source": [
    "population.mutate_genome(player1)\n",
    "player1.print_state()\n",
    "player1.draw_state()\n",
    "print(population.innovation_history.innovations)"
   ]
  },
  {
   "cell_type": "code",
   "execution_count": null,
   "metadata": {},
   "outputs": [
    {
     "name": "stdout",
     "output_type": "stream",
     "text": [
      "State\n",
      "Neurons: 4 (3), {0: [N(0), N(1)], 1: [N(4)], 2: [N(2)]}\n",
      "Connections: 4, [C(N(1)->N(2),W=0.2142,I=1,E=0), C(N(1)->N(4),W=1.0000,I=2,E=1), C(N(4)->N(2),W=0.2142,I=3,E=1), C(N(0)->N(4),W=0.0000,I=4,E=1)]\n",
      "\n",
      "[(1, 2), (1, 4), (4, 2), (0, 4)]\n"
     ]
    },
    {
     "data": {
      "image/png": "[encoded data removed]",
      "text/plain": [
       "<Figure size 432x288 with 1 Axes>"
      ]
     },
     "metadata": {
      "needs_background": "light"
     },
     "output_type": "display_data"
    }
   ],
   "source": [
    "population.mutate_neuron(player1)\n",
    "player1.print_state()\n",
    "player1.draw_state()\n",
    "print(population.innovation_history.innovations)"
   ]
  },
  {
   "cell_type": "code",
   "execution_count": null,
   "metadata": {},
   "outputs": [
    {
     "name": "stdout",
     "output_type": "stream",
     "text": [
      "State\n",
      "Neurons: 4 (3), {0: [N(0), N(1)], 1: [N(4)], 2: [N(2)]}\n",
      "Connections: 5, [C(N(1)->N(2),W=0.2142,I=1,E=0), C(N(1)->N(4),W=1.0000,I=2,E=1), C(N(4)->N(2),W=0.2142,I=3,E=1), C(N(0)->N(4),W=0.0000,I=4,E=1), C(N(0)->N(2),W=-0.1470,I=5,E=1)]\n",
      "\n",
      "[(1, 2), (1, 4), (4, 2), (0, 4), (0, 2)]\n"
     ]
    },
    {
     "data": {
      "image/png": "[encoded data removed]",
      "text/plain": [
       "<Figure size 432x288 with 1 Axes>"
      ]
     },
     "metadata": {
      "needs_background": "light"
     },
     "output_type": "display_data"
    }
   ],
   "source": [
    "population.mutate_gene(player1)\n",
    "player1.print_state()\n",
    "player1.draw_state()\n",
    "print(population.innovation_history.innovations)"
   ]
  },
  {
   "cell_type": "code",
   "execution_count": null,
   "metadata": {},
   "outputs": [
    {
     "name": "stdout",
     "output_type": "stream",
     "text": [
      "State\n",
      "Neurons: 5 (4), {0: [N(0), N(1)], 1: [N(5)], 2: [N(4)], 3: [N(2)]}\n",
      "Connections: 8, [C(N(1)->N(2),W=0.2142,I=1,E=0), C(N(1)->N(4),W=1.0000,I=2,E=0), C(N(4)->N(2),W=0.2142,I=3,E=1), C(N(0)->N(4),W=0.0000,I=4,E=1), C(N(0)->N(2),W=-0.1470,I=5,E=1), C(N(1)->N(5),W=1.0000,I=6,E=1), C(N(5)->N(4),W=1.0000,I=7,E=1), C(N(0)->N(5),W=0.0000,I=8,E=1)]\n",
      "\n",
      "[(1, 2), (1, 4), (4, 2), (0, 4), (0, 2), (1, 5), (5, 4), (0, 5)]\n"
     ]
    },
    {
     "data": {
      "image/png": "[encoded data removed]",
      "text/plain": [
       "<Figure size 432x288 with 1 Axes>"
      ]
     },
     "metadata": {
      "needs_background": "light"
     },
     "output_type": "display_data"
    }
   ],
   "source": [
    "population.mutate_neuron(player1)\n",
    "player1.print_state()\n",
    "player1.draw_state()\n",
    "print(population.innovation_history.innovations)"
   ]
  },
  {
   "cell_type": "code",
   "execution_count": null,
   "metadata": {},
   "outputs": [
    {
     "name": "stdout",
     "output_type": "stream",
     "text": [
      "State\n",
      "Neurons: 5 (4), {0: [N(0), N(1)], 1: [N(5)], 2: [N(4)], 3: [N(2)]}\n",
      "Connections: 8, [C(N(1)->N(2),W=0.2215,I=1,E=0), C(N(1)->N(4),W=1.0000,I=2,E=0), C(N(4)->N(2),W=0.2110,I=3,E=1), C(N(0)->N(4),W=-0.0424,I=4,E=1), C(N(0)->N(2),W=-0.1525,I=5,E=1), C(N(1)->N(5),W=1.0000,I=6,E=1), C(N(5)->N(4),W=1.0000,I=7,E=1), C(N(0)->N(5),W=-0.0004,I=8,E=1)]\n",
      "\n",
      "[(1, 2), (1, 4), (4, 2), (0, 4), (0, 2), (1, 5), (5, 4), (0, 5)]\n"
     ]
    },
    {
     "data": {
      "image/png": "[encoded data removed]",
      "text/plain": [
       "<Figure size 432x288 with 1 Axes>"
      ]
     },
     "metadata": {
      "needs_background": "light"
     },
     "output_type": "display_data"
    }
   ],
   "source": [
    "population.mutate_genome(player1)\n",
    "player1.print_state()\n",
    "player1.draw_state()\n",
    "print(population.innovation_history.innovations)"
   ]
  },
  {
   "attachments": {},
   "cell_type": "markdown",
   "metadata": {},
   "source": [
    "## Cloning"
   ]
  },
  {
   "cell_type": "code",
   "execution_count": null,
   "metadata": {},
   "outputs": [
    {
     "name": "stdout",
     "output_type": "stream",
     "text": [
      "State\n",
      "Neurons: 5 (4), {0: [N(0), N(1)], 3: [N(2)], 2: [N(4)], 1: [N(5)]}\n",
      "Connections: 8, [C(N(1)->N(2),W=0.2215,I=1,E=0), C(N(1)->N(4),W=1.0000,I=2,E=0), C(N(4)->N(2),W=0.2110,I=3,E=1), C(N(0)->N(4),W=-0.0424,I=4,E=1), C(N(0)->N(2),W=-0.1525,I=5,E=1), C(N(1)->N(5),W=1.0000,I=6,E=1), C(N(5)->N(4),W=1.0000,I=7,E=1), C(N(0)->N(5),W=-0.0004,I=8,E=1)]\n",
      "\n",
      "[(1, 2), (1, 4), (4, 2), (0, 4), (0, 2), (1, 5), (5, 4), (0, 5)]\n"
     ]
    },
    {
     "data": {
      "image/png": "[encoded data removed]",
      "text/plain": [
       "<Figure size 432x288 with 1 Axes>"
      ]
     },
     "metadata": {
      "needs_background": "light"
     },
     "output_type": "display_data"
    }
   ],
   "source": [
    "player2 = population.clone(player1)\n",
    "player2.print_state()\n",
    "player2.draw_state()\n",
    "print(population.innovation_history.innovations)"
   ]
  },
  {
   "cell_type": "code",
   "execution_count": null,
   "metadata": {},
   "outputs": [
    {
     "name": "stdout",
     "output_type": "stream",
     "text": [
      "State\n",
      "Neurons: 6 (5), {0: [N(0), N(1)], 1: [N(6)], 2: [N(5)], 3: [N(4)], 4: [N(2)]}\n",
      "Connections: 11, [C(N(1)->N(2),W=0.2215,I=1,E=0), C(N(1)->N(4),W=1.0000,I=2,E=0), C(N(4)->N(2),W=0.2110,I=3,E=1), C(N(0)->N(4),W=-0.0424,I=4,E=1), C(N(0)->N(2),W=-0.1525,I=5,E=1), C(N(1)->N(5),W=1.0000,I=6,E=0), C(N(5)->N(4),W=1.0000,I=7,E=1), C(N(0)->N(5),W=-0.0004,I=8,E=1), C(N(1)->N(6),W=1.0000,I=9,E=1), C(N(6)->N(5),W=1.0000,I=10,E=1), C(N(0)->N(6),W=0.0000,I=11,E=1)]\n",
      "\n",
      "[(1, 2), (1, 4), (4, 2), (0, 4), (0, 2), (1, 5), (5, 4), (0, 5), (1, 6), (6, 5), (0, 6)]\n"
     ]
    },
    {
     "data": {
      "image/png": "[encoded data removed]",
      "text/plain": [
       "<Figure size 432x288 with 1 Axes>"
      ]
     },
     "metadata": {
      "needs_background": "light"
     },
     "output_type": "display_data"
    }
   ],
   "source": [
    "population.mutate_neuron(player2)\n",
    "player2.print_state()\n",
    "player2.draw_state()\n",
    "print(population.innovation_history.innovations)"
   ]
  },
  {
   "cell_type": "code",
   "execution_count": null,
   "metadata": {},
   "outputs": [
    {
     "name": "stdout",
     "output_type": "stream",
     "text": [
      "State\n",
      "Neurons: 6 (5), {0: [N(0), N(1)], 1: [N(6)], 2: [N(5)], 3: [N(4)], 4: [N(2)]}\n",
      "Connections: 12, [C(N(1)->N(2),W=0.2215,I=1,E=0), C(N(1)->N(4),W=1.0000,I=2,E=0), C(N(4)->N(2),W=0.2110,I=3,E=1), C(N(0)->N(4),W=-0.0424,I=4,E=1), C(N(0)->N(2),W=-0.1525,I=5,E=1), C(N(1)->N(5),W=1.0000,I=6,E=0), C(N(5)->N(4),W=1.0000,I=7,E=1), C(N(0)->N(5),W=-0.0004,I=8,E=1), C(N(1)->N(6),W=1.0000,I=9,E=1), C(N(6)->N(5),W=1.0000,I=10,E=1), C(N(0)->N(6),W=0.0000,I=11,E=1), C(N(6)->N(4),W=-0.7177,I=12,E=1)]\n",
      "\n",
      "[(1, 2), (1, 4), (4, 2), (0, 4), (0, 2), (1, 5), (5, 4), (0, 5), (1, 6), (6, 5), (0, 6), (6, 4)]\n"
     ]
    },
    {
     "data": {
      "image/png": "[encoded data removed]",
      "text/plain": [
       "<Figure size 432x288 with 1 Axes>"
      ]
     },
     "metadata": {
      "needs_background": "light"
     },
     "output_type": "display_data"
    }
   ],
   "source": [
    "population.mutate_gene(player2)\n",
    "player2.print_state()\n",
    "player2.draw_state()\n",
    "print(population.innovation_history.innovations)"
   ]
  },
  {
   "cell_type": "code",
   "execution_count": null,
   "metadata": {},
   "outputs": [
    {
     "name": "stdout",
     "output_type": "stream",
     "text": [
      "State\n",
      "Neurons: 6 (5), {0: [N(0), N(1)], 1: [N(6)], 2: [N(5)], 3: [N(4)], 4: [N(2)]}\n",
      "Connections: 12, [C(N(1)->N(2),W=0.2035,I=1,E=0), C(N(1)->N(4),W=0.9741,I=2,E=0), C(N(4)->N(2),W=0.1994,I=3,E=1), C(N(0)->N(4),W=0.2472,I=4,E=1), C(N(0)->N(2),W=0.8212,I=5,E=1), C(N(1)->N(5),W=1.0000,I=6,E=0), C(N(5)->N(4),W=0.9867,I=7,E=1), C(N(0)->N(5),W=-0.0298,I=8,E=1), C(N(1)->N(6),W=1.0000,I=9,E=1), C(N(6)->N(5),W=1.0000,I=10,E=1), C(N(0)->N(6),W=0.8588,I=11,E=1), C(N(6)->N(4),W=-0.7227,I=12,E=1)]\n",
      "\n",
      "[(1, 2), (1, 4), (4, 2), (0, 4), (0, 2), (1, 5), (5, 4), (0, 5), (1, 6), (6, 5), (0, 6), (6, 4)]\n"
     ]
    },
    {
     "data": {
      "image/png": "[encoded data removed]",
      "text/plain": [
       "<Figure size 432x288 with 1 Axes>"
      ]
     },
     "metadata": {
      "needs_background": "light"
     },
     "output_type": "display_data"
    }
   ],
   "source": [
    "population.mutate_weights(player2)\n",
    "player2.print_state()\n",
    "player2.draw_state()\n",
    "print(population.innovation_history.innovations)"
   ]
  },
  {
   "cell_type": "code",
   "execution_count": null,
   "metadata": {},
   "outputs": [
    {
     "name": "stdout",
     "output_type": "stream",
     "text": [
      "State\n",
      "Neurons: 6 (5), {0: [N(0), N(1)], 1: [N(6)], 2: [N(5)], 3: [N(4)], 4: [N(2)]}\n",
      "Connections: 12, [C(N(1)->N(2),W=0.1918,I=1,E=0), C(N(1)->N(4),W=0.9997,I=2,E=0), C(N(4)->N(2),W=0.2185,I=3,E=1), C(N(0)->N(4),W=-0.4630,I=4,E=1), C(N(0)->N(2),W=0.8062,I=5,E=1), C(N(1)->N(5),W=0.9894,I=6,E=0), C(N(5)->N(4),W=0.9588,I=7,E=1), C(N(0)->N(5),W=-0.0211,I=8,E=1), C(N(1)->N(6),W=-0.5722,I=9,E=1), C(N(6)->N(5),W=0.9890,I=10,E=1), C(N(0)->N(6),W=0.9085,I=11,E=1), C(N(6)->N(4),W=-0.7357,I=12,E=1)]\n",
      "\n",
      "[(1, 2), (1, 4), (4, 2), (0, 4), (0, 2), (1, 5), (5, 4), (0, 5), (1, 6), (6, 5), (0, 6), (6, 4)]\n"
     ]
    },
    {
     "data": {
      "image/png": "[encoded data removed]",
      "text/plain": [
       "<Figure size 432x288 with 1 Axes>"
      ]
     },
     "metadata": {
      "needs_background": "light"
     },
     "output_type": "display_data"
    }
   ],
   "source": [
    "population.mutate_genome(player2)\n",
    "player2.print_state()\n",
    "player2.draw_state()\n",
    "print(population.innovation_history.innovations)"
   ]
  },
  {
   "attachments": {},
   "cell_type": "markdown",
   "metadata": {},
   "source": [
    "## Crossover"
   ]
  },
  {
   "cell_type": "code",
   "execution_count": null,
   "metadata": {},
   "outputs": [
    {
     "name": "stdout",
     "output_type": "stream",
     "text": [
      "State\n",
      "Neurons: 5 (4), {0: [N(0), N(1)], 3: [N(2)], 2: [N(4)], 1: [N(5)]}\n",
      "Connections: 8, [C(N(1)->N(2),W=0.2215,I=1,E=0), C(N(1)->N(4),W=1.0000,I=2,E=1), C(N(4)->N(2),W=0.2185,I=3,E=1), C(N(0)->N(4),W=-0.4630,I=4,E=1), C(N(0)->N(2),W=0.8062,I=5,E=1), C(N(1)->N(5),W=1.0000,I=6,E=0), C(N(5)->N(4),W=1.0000,I=7,E=1), C(N(0)->N(5),W=-0.0004,I=8,E=1)]\n",
      "\n",
      "[(1, 2), (1, 4), (4, 2), (0, 4), (0, 2), (1, 5), (5, 4), (0, 5), (1, 6), (6, 5), (0, 6), (6, 4)]\n"
     ]
    },
    {
     "data": {
      "image/png": "[encoded data removed]",
      "text/plain": [
       "<Figure size 432x288 with 1 Axes>"
      ]
     },
     "metadata": {
      "needs_background": "light"
     },
     "output_type": "display_data"
    }
   ],
   "source": [
    "player1.fitness = 1\n",
    "player2.fitness = 0\n",
    "player3 = population.crossover(player1, player2)\n",
    "player3.print_state()\n",
    "player3.draw_state()\n",
    "print(population.innovation_history.innovations)"
   ]
  },
  {
   "cell_type": "code",
   "execution_count": null,
   "metadata": {},
   "outputs": [
    {
     "name": "stdout",
     "output_type": "stream",
     "text": [
      "State\n",
      "Neurons: 6 (5), {0: [N(0), N(1)], 4: [N(2)], 3: [N(4)], 2: [N(5)], 1: [N(6)]}\n",
      "Connections: 12, [C(N(1)->N(2),W=0.1918,I=1,E=0), C(N(1)->N(4),W=0.9997,I=2,E=1), C(N(4)->N(2),W=0.2110,I=3,E=1), C(N(0)->N(4),W=-0.0424,I=4,E=1), C(N(0)->N(2),W=0.8062,I=5,E=1), C(N(1)->N(5),W=1.0000,I=6,E=1), C(N(5)->N(4),W=1.0000,I=7,E=1), C(N(0)->N(5),W=-0.0211,I=8,E=1), C(N(1)->N(6),W=-0.5722,I=9,E=1), C(N(6)->N(5),W=0.9890,I=10,E=1), C(N(0)->N(6),W=0.9085,I=11,E=1), C(N(6)->N(4),W=-0.7357,I=12,E=1)]\n",
      "\n",
      "[(1, 2), (1, 4), (4, 2), (0, 4), (0, 2), (1, 5), (5, 4), (0, 5), (1, 6), (6, 5), (0, 6), (6, 4)]\n"
     ]
    },
    {
     "data": {
      "image/png": "[encoded data removed]",
      "text/plain": [
       "<Figure size 432x288 with 1 Axes>"
      ]
     },
     "metadata": {
      "needs_background": "light"
     },
     "output_type": "display_data"
    }
   ],
   "source": [
    "player1.fitness = 0\n",
    "player2.fitness = 1\n",
    "player4 = population.crossover(player1, player2)\n",
    "player4.print_state()\n",
    "player4.draw_state()\n",
    "print(population.innovation_history.innovations)"
   ]
  },
  {
   "attachments": {},
   "cell_type": "markdown",
   "metadata": {},
   "source": [
    "## Species"
   ]
  },
  {
   "cell_type": "code",
   "execution_count": null,
   "metadata": {},
   "outputs": [
    {
     "name": "stdout",
     "output_type": "stream",
     "text": [
      "State\n",
      "Neurons: 3 (2), {0: [N(0), N(1)], 1: [N(2)]}\n",
      "Connections: 2, [C(N(1)->N(2),W=-0.3775,I=0,E=1), C(N(0)->N(2),W=-0.4717,I=4,E=1)]\n",
      "\n"
     ]
    },
    {
     "data": {
      "image/png": "[encoded data removed]",
      "text/plain": [
       "<Figure size 432x288 with 1 Axes>"
      ]
     },
     "metadata": {
      "needs_background": "light"
     },
     "output_type": "display_data"
    }
   ],
   "source": [
    "player5 = Organism(1, 1)\n",
    "for _ in range(25):\n",
    "    population.mutate_genome(player5)\n",
    "player5.print_state()\n",
    "player5.draw_state()"
   ]
  },
  {
   "attachments": {},
   "cell_type": "markdown",
   "metadata": {},
   "source": [
    "# Evaluation"
   ]
  },
  {
   "attachments": {},
   "cell_type": "markdown",
   "metadata": {},
   "source": [
    "# Training"
   ]
  },
  {
   "cell_type": "code",
   "execution_count": null,
   "metadata": {},
   "outputs": [],
   "source": [
    "def population_info(population):\n",
    "    return \"Players: %d\\n\" % len(population.players) + \\\n",
    "    \"Species: %d\\n\" % len(population.species) + \\\n",
    "    \"Innovations: %d\\n\" % len(population.innovation_history.innovations) + \\\n",
    "    \"Species Threshold: %.4f\" % population.species_threshold\n",
    "\n",
    "def species_info(i):\n",
    "    fitness = 0\n",
    "    for player in population.species[i].players:\n",
    "        fitness += player.fitness\n",
    "    average_fitness = fitness / len(population.species[i].players)\n",
    "    return \"Species %d - \" % i + \\\n",
    "    \"Players: %d, \" % len(population.species[i].players) + \\\n",
    "    \"Average Fitness: %.4f, \" % average_fitness + \\\n",
    "    \"Max Fitness: %.4f, \" % population.species[i].fittest_player.fitness + \\\n",
    "    \"Max Fitness Ever: %.4f, \" % population.species[i].max_fitness + \\\n",
    "    \"Fittest Innovations: %d, \" % len(population.species[i].fittest_player.innovation_labels) + \\\n",
    "    \"Staleness: %d\" % population.species[i].staleness"
   ]
  },
  {
   "cell_type": "code",
   "execution_count": null,
   "metadata": {},
   "outputs": [
    {
     "name": "stdout",
     "output_type": "stream",
     "text": [
      "Players: 25\n",
      "Species: 1\n",
      "Innovations: 6\n",
      "Species Threshold: 2.7000\n",
      "Species 0 - Players: 1000, Average Fitness: 62.0000, Max Fitness: 65.0000, Max Fitness Ever: 65.0000, Fittest Innovations: 1, Staleness: 0\n",
      "Players: 51\n",
      "Species: 9\n",
      "Innovations: 12\n",
      "Species Threshold: 2.4300\n",
      "Species 0 - Players: 145, Average Fitness: 62.3725, Max Fitness: 79.0000, Max Fitness Ever: 79.0000, Fittest Innovations: 2, Staleness: 0\n",
      "Species 1 - Players: 288, Average Fitness: 62.3725, Max Fitness: 77.0000, Max Fitness Ever: 77.0000, Fittest Innovations: 2, Staleness: 0\n",
      "Species 2 - Players: 135, Average Fitness: 62.3725, Max Fitness: 72.0000, Max Fitness Ever: 72.0000, Fittest Innovations: 2, Staleness: 0\n",
      "Species 3 - Players: 144, Average Fitness: 62.3725, Max Fitness: 63.0000, Max Fitness Ever: 63.0000, Fittest Innovations: 1, Staleness: 0\n",
      "Species 4 - Players: 117, Average Fitness: 62.3725, Max Fitness: 62.0000, Max Fitness Ever: 62.0000, Fittest Innovations: 1, Staleness: 0\n",
      "Species 5 - Players: 144, Average Fitness: 62.3725, Max Fitness: 62.0000, Max Fitness Ever: 62.0000, Fittest Innovations: 2, Staleness: 0\n",
      "Species 6 - Players: 26, Average Fitness: 62.3725, Max Fitness: 58.0000, Max Fitness Ever: 58.0000, Fittest Innovations: 1, Staleness: 0\n",
      "Species 7 - Players: 1, Average Fitness: 62.3725, Max Fitness: 55.0000, Max Fitness Ever: 55.0000, Fittest Innovations: 4, Staleness: 0\n",
      "Species 8 - Players: 1, Average Fitness: 62.3725, Max Fitness: 51.0000, Max Fitness Ever: 51.0000, Fittest Innovations: 4, Staleness: 0\n",
      "Players: 51\n",
      "Species: 17\n",
      "Innovations: 39\n",
      "Species Threshold: 2.7000\n",
      "Species 0 - Players: 68, Average Fitness: 76.6275, Max Fitness: 83.0000, Max Fitness Ever: 83.0000, Fittest Innovations: 3, Staleness: 0\n",
      "Species 1 - Players: 114, Average Fitness: 76.6275, Max Fitness: 83.0000, Max Fitness Ever: 83.0000, Fittest Innovations: 2, Staleness: 0\n",
      "Species 2 - Players: 175, Average Fitness: 76.6275, Max Fitness: 81.0000, Max Fitness Ever: 81.0000, Fittest Innovations: 2, Staleness: 0\n",
      "Species 3 - Players: 91, Average Fitness: 76.6275, Max Fitness: 80.0000, Max Fitness Ever: 80.0000, Fittest Innovations: 2, Staleness: 0\n",
      "Species 4 - Players: 99, Average Fitness: 76.6275, Max Fitness: 78.0000, Max Fitness Ever: 78.0000, Fittest Innovations: 3, Staleness: 0\n",
      "Species 5 - Players: 67, Average Fitness: 76.6275, Max Fitness: 78.0000, Max Fitness Ever: 78.0000, Fittest Innovations: 5, Staleness: 0\n",
      "Species 6 - Players: 199, Average Fitness: 76.6275, Max Fitness: 77.0000, Max Fitness Ever: 77.0000, Fittest Innovations: 3, Staleness: 0\n",
      "Species 7 - Players: 70, Average Fitness: 76.6275, Max Fitness: 77.0000, Max Fitness Ever: 77.0000, Fittest Innovations: 5, Staleness: 0\n",
      "Species 8 - Players: 118, Average Fitness: 76.6275, Max Fitness: 65.0000, Max Fitness Ever: 65.0000, Fittest Innovations: 1, Staleness: 0\n",
      "Species 9 - Players: 1, Average Fitness: 76.6275, Max Fitness: 58.0000, Max Fitness Ever: 58.0000, Fittest Innovations: 4, Staleness: 0\n",
      "Species 10 - Players: 1, Average Fitness: 76.6275, Max Fitness: 57.0000, Max Fitness Ever: 57.0000, Fittest Innovations: 4, Staleness: 0\n",
      "Species 11 - Players: 1, Average Fitness: 76.6275, Max Fitness: 53.0000, Max Fitness Ever: 53.0000, Fittest Innovations: 4, Staleness: 0\n",
      "Species 12 - Players: 1, Average Fitness: 76.6275, Max Fitness: 53.0000, Max Fitness Ever: 53.0000, Fittest Innovations: 5, Staleness: 0\n",
      "Species 13 - Players: 1, Average Fitness: 76.6275, Max Fitness: 52.0000, Max Fitness Ever: 52.0000, Fittest Innovations: 4, Staleness: 0\n",
      "Species 14 - Players: 1, Average Fitness: 76.6275, Max Fitness: 52.0000, Max Fitness Ever: 52.0000, Fittest Innovations: 4, Staleness: 0\n",
      "Species 15 - Players: 1, Average Fitness: 76.6275, Max Fitness: 48.0000, Max Fitness Ever: 48.0000, Fittest Innovations: 5, Staleness: 0\n",
      "Species 16 - Players: 1, Average Fitness: 76.6275, Max Fitness: 46.0000, Max Fitness Ever: 46.0000, Fittest Innovations: 4, Staleness: 0\n",
      "Players: 51\n",
      "Species: 26\n",
      "Innovations: 69\n",
      "Species Threshold: 3.0000\n",
      "Species 0 - Players: 78, Average Fitness: 81.1569, Max Fitness: 91.0000, Max Fitness Ever: 91.0000, Fittest Innovations: 2, Staleness: 0\n",
      "Species 1 - Players: 139, Average Fitness: 81.1569, Max Fitness: 84.0000, Max Fitness Ever: 84.0000, Fittest Innovations: 2, Staleness: 0\n",
      "Species 2 - Players: 78, Average Fitness: 81.1569, Max Fitness: 84.0000, Max Fitness Ever: 84.0000, Fittest Innovations: 2, Staleness: 0\n",
      "Species 3 - Players: 47, Average Fitness: 81.1569, Max Fitness: 84.0000, Max Fitness Ever: 84.0000, Fittest Innovations: 5, Staleness: 0\n",
      "Species 4 - Players: 84, Average Fitness: 81.1569, Max Fitness: 83.0000, Max Fitness Ever: 83.0000, Fittest Innovations: 2, Staleness: 0\n",
      "Species 5 - Players: 79, Average Fitness: 81.1569, Max Fitness: 83.0000, Max Fitness Ever: 83.0000, Fittest Innovations: 3, Staleness: 0\n",
      "Species 6 - Players: 13, Average Fitness: 81.1569, Max Fitness: 81.0000, Max Fitness Ever: 81.0000, Fittest Innovations: 2, Staleness: 0\n",
      "Species 7 - Players: 53, Average Fitness: 81.1569, Max Fitness: 80.0000, Max Fitness Ever: 80.0000, Fittest Innovations: 5, Staleness: 0\n",
      "Species 8 - Players: 17, Average Fitness: 81.1569, Max Fitness: 79.0000, Max Fitness Ever: 79.0000, Fittest Innovations: 2, Staleness: 0\n",
      "Species 9 - Players: 33, Average Fitness: 81.1569, Max Fitness: 78.0000, Max Fitness Ever: 83.0000, Fittest Innovations: 2, Staleness: 1\n",
      "Species 10 - Players: 54, Average Fitness: 81.1569, Max Fitness: 76.0000, Max Fitness Ever: 78.0000, Fittest Innovations: 5, Staleness: 1\n",
      "Species 11 - Players: 44, Average Fitness: 81.1569, Max Fitness: 75.0000, Max Fitness Ever: 75.0000, Fittest Innovations: 5, Staleness: 0\n",
      "Species 12 - Players: 48, Average Fitness: 81.1569, Max Fitness: 73.0000, Max Fitness Ever: 73.0000, Fittest Innovations: 5, Staleness: 0\n",
      "Species 13 - Players: 37, Average Fitness: 81.1569, Max Fitness: 73.0000, Max Fitness Ever: 73.0000, Fittest Innovations: 6, Staleness: 0\n",
      "Species 14 - Players: 1, Average Fitness: 81.1569, Max Fitness: 73.0000, Max Fitness Ever: 73.0000, Fittest Innovations: 6, Staleness: 0\n",
      "Species 15 - Players: 49, Average Fitness: 81.1569, Max Fitness: 65.0000, Max Fitness Ever: 65.0000, Fittest Innovations: 1, Staleness: 1\n",
      "Species 16 - Players: 45, Average Fitness: 81.1569, Max Fitness: 62.0000, Max Fitness Ever: 62.0000, Fittest Innovations: 4, Staleness: 0\n",
      "Species 17 - Players: 45, Average Fitness: 81.1569, Max Fitness: 61.0000, Max Fitness Ever: 61.0000, Fittest Innovations: 4, Staleness: 0\n",
      "Species 18 - Players: 36, Average Fitness: 81.1569, Max Fitness: 60.0000, Max Fitness Ever: 60.0000, Fittest Innovations: 4, Staleness: 0\n",
      "Species 19 - Players: 31, Average Fitness: 81.1569, Max Fitness: 58.0000, Max Fitness Ever: 58.0000, Fittest Innovations: 4, Staleness: 1\n",
      "Species 20 - Players: 1, Average Fitness: 81.1569, Max Fitness: 55.0000, Max Fitness Ever: 55.0000, Fittest Innovations: 8, Staleness: 0\n",
      "Species 21 - Players: 1, Average Fitness: 81.1569, Max Fitness: 50.0000, Max Fitness Ever: 50.0000, Fittest Innovations: 7, Staleness: 0\n",
      "Species 22 - Players: 1, Average Fitness: 81.1569, Max Fitness: 49.0000, Max Fitness Ever: 49.0000, Fittest Innovations: 7, Staleness: 0\n",
      "Species 23 - Players: 1, Average Fitness: 81.1569, Max Fitness: 47.0000, Max Fitness Ever: 47.0000, Fittest Innovations: 8, Staleness: 0\n",
      "Species 24 - Players: 1, Average Fitness: 81.1569, Max Fitness: 43.0000, Max Fitness Ever: 43.0000, Fittest Innovations: 4, Staleness: 0\n",
      "Species 25 - Players: 1, Average Fitness: 81.1569, Max Fitness: 24.0000, Max Fitness Ever: 24.0000, Fittest Innovations: 8, Staleness: 0\n",
      "Players: 51\n",
      "Species: 39\n",
      "Innovations: 111\n",
      "Species Threshold: 3.3333\n",
      "Species 0 - Players: 93, Average Fitness: 82.2549, Max Fitness: 86.0000, Max Fitness Ever: 86.0000, Fittest Innovations: 2, Staleness: 0\n",
      "Species 1 - Players: 57, Average Fitness: 82.2549, Max Fitness: 86.0000, Max Fitness Ever: 86.0000, Fittest Innovations: 2, Staleness: 0\n",
      "Species 2 - Players: 31, Average Fitness: 82.2549, Max Fitness: 84.0000, Max Fitness Ever: 91.0000, Fittest Innovations: 2, Staleness: 1\n",
      "Species 3 - Players: 58, Average Fitness: 82.2549, Max Fitness: 84.0000, Max Fitness Ever: 84.0000, Fittest Innovations: 2, Staleness: 1\n",
      "Species 4 - Players: 49, Average Fitness: 82.2549, Max Fitness: 84.0000, Max Fitness Ever: 84.0000, Fittest Innovations: 3, Staleness: 0\n",
      "Species 5 - Players: 49, Average Fitness: 82.2549, Max Fitness: 84.0000, Max Fitness Ever: 84.0000, Fittest Innovations: 2, Staleness: 0\n",
      "Species 6 - Players: 94, Average Fitness: 82.2549, Max Fitness: 84.0000, Max Fitness Ever: 84.0000, Fittest Innovations: 2, Staleness: 0\n",
      "Species 7 - Players: 40, Average Fitness: 82.2549, Max Fitness: 84.0000, Max Fitness Ever: 84.0000, Fittest Innovations: 6, Staleness: 0\n",
      "Species 8 - Players: 31, Average Fitness: 82.2549, Max Fitness: 83.0000, Max Fitness Ever: 83.0000, Fittest Innovations: 6, Staleness: 0\n",
      "Species 9 - Players: 34, Average Fitness: 82.2549, Max Fitness: 83.0000, Max Fitness Ever: 83.0000, Fittest Innovations: 6, Staleness: 0\n",
      "Species 10 - Players: 54, Average Fitness: 82.2549, Max Fitness: 82.0000, Max Fitness Ever: 84.0000, Fittest Innovations: 6, Staleness: 1\n",
      "Species 11 - Players: 20, Average Fitness: 82.2549, Max Fitness: 81.0000, Max Fitness Ever: 81.0000, Fittest Innovations: 2, Staleness: 0\n",
      "Species 12 - Players: 1, Average Fitness: 82.2549, Max Fitness: 81.0000, Max Fitness Ever: 81.0000, Fittest Innovations: 5, Staleness: 0\n",
      "Species 13 - Players: 25, Average Fitness: 82.2549, Max Fitness: 80.0000, Max Fitness Ever: 80.0000, Fittest Innovations: 5, Staleness: 0\n",
      "Species 14 - Players: 32, Average Fitness: 82.2549, Max Fitness: 79.0000, Max Fitness Ever: 79.0000, Fittest Innovations: 6, Staleness: 0\n",
      "Species 15 - Players: 31, Average Fitness: 82.2549, Max Fitness: 78.0000, Max Fitness Ever: 78.0000, Fittest Innovations: 5, Staleness: 2\n",
      "Species 16 - Players: 1, Average Fitness: 82.2549, Max Fitness: 77.0000, Max Fitness Ever: 77.0000, Fittest Innovations: 5, Staleness: 0\n",
      "Species 17 - Players: 21, Average Fitness: 82.2549, Max Fitness: 75.0000, Max Fitness Ever: 75.0000, Fittest Innovations: 5, Staleness: 1\n",
      "Species 18 - Players: 26, Average Fitness: 82.2549, Max Fitness: 75.0000, Max Fitness Ever: 75.0000, Fittest Innovations: 5, Staleness: 0\n",
      "Species 19 - Players: 38, Average Fitness: 82.2549, Max Fitness: 74.0000, Max Fitness Ever: 74.0000, Fittest Innovations: 8, Staleness: 0\n",
      "Species 20 - Players: 1, Average Fitness: 82.2549, Max Fitness: 67.0000, Max Fitness Ever: 67.0000, Fittest Innovations: 9, Staleness: 0\n",
      "Species 21 - Players: 28, Average Fitness: 82.2549, Max Fitness: 63.0000, Max Fitness Ever: 63.0000, Fittest Innovations: 7, Staleness: 0\n",
      "Species 22 - Players: 34, Average Fitness: 82.2549, Max Fitness: 63.0000, Max Fitness Ever: 63.0000, Fittest Innovations: 8, Staleness: 0\n",
      "Species 23 - Players: 24, Average Fitness: 82.2549, Max Fitness: 61.0000, Max Fitness Ever: 61.0000, Fittest Innovations: 7, Staleness: 0\n",
      "Species 24 - Players: 32, Average Fitness: 82.2549, Max Fitness: 59.0000, Max Fitness Ever: 65.0000, Fittest Innovations: 1, Staleness: 2\n",
      "Species 25 - Players: 26, Average Fitness: 82.2549, Max Fitness: 59.0000, Max Fitness Ever: 59.0000, Fittest Innovations: 6, Staleness: 0\n",
      "Species 26 - Players: 27, Average Fitness: 82.2549, Max Fitness: 58.0000, Max Fitness Ever: 58.0000, Fittest Innovations: 9, Staleness: 0\n",
      "Species 27 - Players: 26, Average Fitness: 82.2549, Max Fitness: 57.0000, Max Fitness Ever: 61.0000, Fittest Innovations: 4, Staleness: 1\n",
      "Species 28 - Players: 24, Average Fitness: 82.2549, Max Fitness: 57.0000, Max Fitness Ever: 60.0000, Fittest Innovations: 4, Staleness: 1\n",
      "Species 29 - Players: 1, Average Fitness: 82.2549, Max Fitness: 56.0000, Max Fitness Ever: 56.0000, Fittest Innovations: 6, Staleness: 0\n",
      "Species 30 - Players: 5, Average Fitness: 82.2549, Max Fitness: 55.0000, Max Fitness Ever: 55.0000, Fittest Innovations: 4, Staleness: 0\n",
      "Species 31 - Players: 1, Average Fitness: 82.2549, Max Fitness: 55.0000, Max Fitness Ever: 55.0000, Fittest Innovations: 8, Staleness: 0\n",
      "Species 32 - Players: 6, Average Fitness: 82.2549, Max Fitness: 53.0000, Max Fitness Ever: 53.0000, Fittest Innovations: 5, Staleness: 0\n",
      "Species 33 - Players: 1, Average Fitness: 82.2549, Max Fitness: 53.0000, Max Fitness Ever: 53.0000, Fittest Innovations: 5, Staleness: 0\n",
      "Species 34 - Players: 1, Average Fitness: 82.2549, Max Fitness: 53.0000, Max Fitness Ever: 53.0000, Fittest Innovations: 11, Staleness: 0\n",
      "Species 35 - Players: 1, Average Fitness: 82.2549, Max Fitness: 53.0000, Max Fitness Ever: 53.0000, Fittest Innovations: 10, Staleness: 0\n",
      "Species 36 - Players: 1, Average Fitness: 82.2549, Max Fitness: 52.0000, Max Fitness Ever: 52.0000, Fittest Innovations: 10, Staleness: 0\n",
      "Species 37 - Players: 1, Average Fitness: 82.2549, Max Fitness: 50.0000, Max Fitness Ever: 50.0000, Fittest Innovations: 8, Staleness: 0\n",
      "Species 38 - Players: 1, Average Fitness: 82.2549, Max Fitness: 48.0000, Max Fitness Ever: 48.0000, Fittest Innovations: 9, Staleness: 0\n",
      "Players: 51\n",
      "Species: 43\n",
      "Innovations: 160\n",
      "Species Threshold: 3.7037\n",
      "Species 0 - Players: 46, Average Fitness: 81.2745, Max Fitness: 88.0000, Max Fitness Ever: 88.0000, Fittest Innovations: 2, Staleness: 0\n",
      "Species 1 - Players: 31, Average Fitness: 81.2745, Max Fitness: 86.0000, Max Fitness Ever: 86.0000, Fittest Innovations: 6, Staleness: 0\n",
      "Species 2 - Players: 69, Average Fitness: 81.2745, Max Fitness: 85.0000, Max Fitness Ever: 85.0000, Fittest Innovations: 3, Staleness: 0\n",
      "Species 3 - Players: 68, Average Fitness: 81.2745, Max Fitness: 83.0000, Max Fitness Ever: 84.0000, Fittest Innovations: 5, Staleness: 1\n",
      "Species 4 - Players: 23, Average Fitness: 81.2745, Max Fitness: 83.0000, Max Fitness Ever: 83.0000, Fittest Innovations: 5, Staleness: 0\n",
      "Species 5 - Players: 39, Average Fitness: 81.2745, Max Fitness: 82.0000, Max Fitness Ever: 91.0000, Fittest Innovations: 3, Staleness: 2\n",
      "Species 6 - Players: 65, Average Fitness: 81.2745, Max Fitness: 82.0000, Max Fitness Ever: 84.0000, Fittest Innovations: 2, Staleness: 1\n",
      "Species 7 - Players: 19, Average Fitness: 81.2745, Max Fitness: 82.0000, Max Fitness Ever: 84.0000, Fittest Innovations: 6, Staleness: 1\n",
      "Species 8 - Players: 17, Average Fitness: 81.2745, Max Fitness: 82.0000, Max Fitness Ever: 82.0000, Fittest Innovations: 6, Staleness: 0\n",
      "Species 9 - Players: 13, Average Fitness: 81.2745, Max Fitness: 82.0000, Max Fitness Ever: 82.0000, Fittest Innovations: 9, Staleness: 0\n",
      "Species 10 - Players: 33, Average Fitness: 81.2745, Max Fitness: 81.0000, Max Fitness Ever: 84.0000, Fittest Innovations: 2, Staleness: 2\n",
      "Species 11 - Players: 43, Average Fitness: 81.2745, Max Fitness: 80.0000, Max Fitness Ever: 83.0000, Fittest Innovations: 6, Staleness: 1\n",
      "Species 12 - Players: 25, Average Fitness: 81.2745, Max Fitness: 80.0000, Max Fitness Ever: 84.0000, Fittest Innovations: 5, Staleness: 2\n",
      "Species 13 - Players: 20, Average Fitness: 81.2745, Max Fitness: 80.0000, Max Fitness Ever: 80.0000, Fittest Innovations: 10, Staleness: 0\n",
      "Species 14 - Players: 22, Average Fitness: 81.2745, Max Fitness: 80.0000, Max Fitness Ever: 80.0000, Fittest Innovations: 2, Staleness: 0\n",
      "Species 15 - Players: 28, Average Fitness: 81.2745, Max Fitness: 79.0000, Max Fitness Ever: 84.0000, Fittest Innovations: 3, Staleness: 1\n",
      "Species 16 - Players: 15, Average Fitness: 81.2745, Max Fitness: 79.0000, Max Fitness Ever: 80.0000, Fittest Innovations: 6, Staleness: 1\n",
      "Species 17 - Players: 11, Average Fitness: 81.2745, Max Fitness: 78.0000, Max Fitness Ever: 86.0000, Fittest Innovations: 2, Staleness: 1\n",
      "Species 18 - Players: 23, Average Fitness: 81.2745, Max Fitness: 78.0000, Max Fitness Ever: 78.0000, Fittest Innovations: 8, Staleness: 0\n",
      "Species 19 - Players: 21, Average Fitness: 81.2745, Max Fitness: 78.0000, Max Fitness Ever: 78.0000, Fittest Innovations: 6, Staleness: 0\n",
      "Species 20 - Players: 19, Average Fitness: 81.2745, Max Fitness: 78.0000, Max Fitness Ever: 78.0000, Fittest Innovations: 6, Staleness: 0\n",
      "Species 21 - Players: 26, Average Fitness: 81.2745, Max Fitness: 78.0000, Max Fitness Ever: 78.0000, Fittest Innovations: 5, Staleness: 0\n",
      "Species 22 - Players: 23, Average Fitness: 81.2745, Max Fitness: 77.0000, Max Fitness Ever: 81.0000, Fittest Innovations: 5, Staleness: 1\n",
      "Species 23 - Players: 26, Average Fitness: 81.2745, Max Fitness: 77.0000, Max Fitness Ever: 77.0000, Fittest Innovations: 5, Staleness: 0\n",
      "Species 24 - Players: 21, Average Fitness: 81.2745, Max Fitness: 77.0000, Max Fitness Ever: 77.0000, Fittest Innovations: 8, Staleness: 0\n",
      "Species 25 - Players: 4, Average Fitness: 81.2745, Max Fitness: 76.0000, Max Fitness Ever: 76.0000, Fittest Innovations: 6, Staleness: 0\n",
      "Species 26 - Players: 18, Average Fitness: 81.2745, Max Fitness: 76.0000, Max Fitness Ever: 76.0000, Fittest Innovations: 9, Staleness: 0\n",
      "Species 27 - Players: 25, Average Fitness: 81.2745, Max Fitness: 76.0000, Max Fitness Ever: 76.0000, Fittest Innovations: 11, Staleness: 0\n",
      "Species 28 - Players: 29, Average Fitness: 81.2745, Max Fitness: 75.0000, Max Fitness Ever: 75.0000, Fittest Innovations: 9, Staleness: 0\n",
      "Species 29 - Players: 20, Average Fitness: 81.2745, Max Fitness: 74.0000, Max Fitness Ever: 75.0000, Fittest Innovations: 5, Staleness: 1\n",
      "Species 30 - Players: 1, Average Fitness: 81.2745, Max Fitness: 73.0000, Max Fitness Ever: 73.0000, Fittest Innovations: 6, Staleness: 0\n",
      "Species 31 - Players: 19, Average Fitness: 81.2745, Max Fitness: 72.0000, Max Fitness Ever: 78.0000, Fittest Innovations: 5, Staleness: 3\n",
      "Species 32 - Players: 25, Average Fitness: 81.2745, Max Fitness: 70.0000, Max Fitness Ever: 70.0000, Fittest Innovations: 9, Staleness: 0\n",
      "Species 33 - Players: 19, Average Fitness: 81.2745, Max Fitness: 61.0000, Max Fitness Ever: 61.0000, Fittest Innovations: 10, Staleness: 0\n",
      "Species 34 - Players: 33, Average Fitness: 81.2745, Max Fitness: 59.0000, Max Fitness Ever: 59.0000, Fittest Innovations: 4, Staleness: 0\n",
      "Species 35 - Players: 19, Average Fitness: 81.2745, Max Fitness: 59.0000, Max Fitness Ever: 59.0000, Fittest Innovations: 10, Staleness: 0\n",
      "Species 36 - Players: 33, Average Fitness: 81.2745, Max Fitness: 57.0000, Max Fitness Ever: 63.0000, Fittest Innovations: 7, Staleness: 1\n",
      "Species 37 - Players: 15, Average Fitness: 81.2745, Max Fitness: 57.0000, Max Fitness Ever: 61.0000, Fittest Innovations: 4, Staleness: 2\n",
      "Species 38 - Players: 13, Average Fitness: 81.2745, Max Fitness: 56.0000, Max Fitness Ever: 61.0000, Fittest Innovations: 7, Staleness: 1\n",
      "Species 39 - Players: 17, Average Fitness: 81.2745, Max Fitness: 55.0000, Max Fitness Ever: 60.0000, Fittest Innovations: 4, Staleness: 2\n",
      "Species 40 - Players: 1, Average Fitness: 81.2745, Max Fitness: 51.0000, Max Fitness Ever: 51.0000, Fittest Innovations: 10, Staleness: 0\n",
      "Species 41 - Players: 1, Average Fitness: 81.2745, Max Fitness: 48.0000, Max Fitness Ever: 48.0000, Fittest Innovations: 6, Staleness: 0\n",
      "Species 42 - Players: 1, Average Fitness: 81.2745, Max Fitness: 43.0000, Max Fitness Ever: 43.0000, Fittest Innovations: 8, Staleness: 0\n",
      "Players: 51\n",
      "Species: 53\n",
      "Innovations: 211\n",
      "Species Threshold: 4.1152\n",
      "Species 0 - Players: 79, Average Fitness: 81.8431, Max Fitness: 86.0000, Max Fitness Ever: 86.0000, Fittest Innovations: 2, Staleness: 0\n",
      "Species 1 - Players: 38, Average Fitness: 81.8431, Max Fitness: 85.0000, Max Fitness Ever: 85.0000, Fittest Innovations: 4, Staleness: 0\n",
      "Species 2 - Players: 54, Average Fitness: 81.8431, Max Fitness: 85.0000, Max Fitness Ever: 86.0000, Fittest Innovations: 2, Staleness: 2\n",
      "Species 3 - Players: 55, Average Fitness: 81.8431, Max Fitness: 84.0000, Max Fitness Ever: 85.0000, Fittest Innovations: 2, Staleness: 1\n",
      "Species 4 - Players: 30, Average Fitness: 81.8431, Max Fitness: 84.0000, Max Fitness Ever: 84.0000, Fittest Innovations: 5, Staleness: 0\n",
      "Species 5 - Players: 38, Average Fitness: 81.8431, Max Fitness: 84.0000, Max Fitness Ever: 84.0000, Fittest Innovations: 3, Staleness: 2\n",
      "Species 6 - Players: 22, Average Fitness: 81.8431, Max Fitness: 84.0000, Max Fitness Ever: 84.0000, Fittest Innovations: 10, Staleness: 0\n",
      "Species 7 - Players: 31, Average Fitness: 81.8431, Max Fitness: 83.0000, Max Fitness Ever: 88.0000, Fittest Innovations: 2, Staleness: 1\n",
      "Species 8 - Players: 41, Average Fitness: 81.8431, Max Fitness: 82.0000, Max Fitness Ever: 83.0000, Fittest Innovations: 6, Staleness: 2\n",
      "Species 9 - Players: 24, Average Fitness: 81.8431, Max Fitness: 82.0000, Max Fitness Ever: 82.0000, Fittest Innovations: 2, Staleness: 0\n",
      "Species 10 - Players: 20, Average Fitness: 81.8431, Max Fitness: 82.0000, Max Fitness Ever: 82.0000, Fittest Innovations: 6, Staleness: 0\n",
      "Species 11 - Players: 1, Average Fitness: 81.8431, Max Fitness: 82.0000, Max Fitness Ever: 82.0000, Fittest Innovations: 8, Staleness: 0\n",
      "Species 12 - Players: 28, Average Fitness: 81.8431, Max Fitness: 81.0000, Max Fitness Ever: 84.0000, Fittest Innovations: 6, Staleness: 2\n",
      "Species 13 - Players: 23, Average Fitness: 81.8431, Max Fitness: 81.0000, Max Fitness Ever: 82.0000, Fittest Innovations: 6, Staleness: 1\n",
      "Species 14 - Players: 29, Average Fitness: 81.8431, Max Fitness: 81.0000, Max Fitness Ever: 82.0000, Fittest Innovations: 10, Staleness: 1\n",
      "Species 15 - Players: 11, Average Fitness: 81.8431, Max Fitness: 81.0000, Max Fitness Ever: 81.0000, Fittest Innovations: 6, Staleness: 0\n",
      "Species 16 - Players: 20, Average Fitness: 81.8431, Max Fitness: 81.0000, Max Fitness Ever: 81.0000, Fittest Innovations: 8, Staleness: 0\n",
      "Species 17 - Players: 14, Average Fitness: 81.8431, Max Fitness: 81.0000, Max Fitness Ever: 81.0000, Fittest Innovations: 7, Staleness: 0\n",
      "Species 18 - Players: 27, Average Fitness: 81.8431, Max Fitness: 80.0000, Max Fitness Ever: 86.0000, Fittest Innovations: 5, Staleness: 1\n",
      "Species 19 - Players: 39, Average Fitness: 81.8431, Max Fitness: 80.0000, Max Fitness Ever: 91.0000, Fittest Innovations: 3, Staleness: 3\n",
      "Species 20 - Players: 21, Average Fitness: 81.8431, Max Fitness: 80.0000, Max Fitness Ever: 84.0000, Fittest Innovations: 6, Staleness: 3\n",
      "Species 21 - Players: 22, Average Fitness: 81.8431, Max Fitness: 80.0000, Max Fitness Ever: 80.0000, Fittest Innovations: 5, Staleness: 0\n",
      "Species 22 - Players: 12, Average Fitness: 81.8431, Max Fitness: 80.0000, Max Fitness Ever: 80.0000, Fittest Innovations: 6, Staleness: 0\n",
      "Species 23 - Players: 14, Average Fitness: 81.8431, Max Fitness: 79.0000, Max Fitness Ever: 79.0000, Fittest Innovations: 11, Staleness: 0\n",
      "Species 24 - Players: 28, Average Fitness: 81.8431, Max Fitness: 79.0000, Max Fitness Ever: 79.0000, Fittest Innovations: 6, Staleness: 0\n",
      "Species 25 - Players: 14, Average Fitness: 81.8431, Max Fitness: 78.0000, Max Fitness Ever: 78.0000, Fittest Innovations: 8, Staleness: 1\n",
      "Species 26 - Players: 7, Average Fitness: 81.8431, Max Fitness: 77.0000, Max Fitness Ever: 84.0000, Fittest Innovations: 5, Staleness: 2\n",
      "Species 27 - Players: 19, Average Fitness: 81.8431, Max Fitness: 77.0000, Max Fitness Ever: 81.0000, Fittest Innovations: 5, Staleness: 2\n",
      "Species 28 - Players: 15, Average Fitness: 81.8431, Max Fitness: 77.0000, Max Fitness Ever: 77.0000, Fittest Innovations: 8, Staleness: 0\n",
      "Species 29 - Players: 13, Average Fitness: 81.8431, Max Fitness: 77.0000, Max Fitness Ever: 77.0000, Fittest Innovations: 6, Staleness: 0\n",
      "Species 30 - Players: 12, Average Fitness: 81.8431, Max Fitness: 77.0000, Max Fitness Ever: 77.0000, Fittest Innovations: 8, Staleness: 0\n",
      "Species 31 - Players: 21, Average Fitness: 81.8431, Max Fitness: 76.0000, Max Fitness Ever: 77.0000, Fittest Innovations: 5, Staleness: 1\n",
      "Species 32 - Players: 37, Average Fitness: 81.8431, Max Fitness: 76.0000, Max Fitness Ever: 78.0000, Fittest Innovations: 7, Staleness: 4\n",
      "Species 33 - Players: 15, Average Fitness: 81.8431, Max Fitness: 76.0000, Max Fitness Ever: 76.0000, Fittest Innovations: 11, Staleness: 0\n",
      "Species 34 - Players: 1, Average Fitness: 81.8431, Max Fitness: 75.0000, Max Fitness Ever: 75.0000, Fittest Innovations: 6, Staleness: 0\n",
      "Species 35 - Players: 1, Average Fitness: 81.8431, Max Fitness: 72.0000, Max Fitness Ever: 72.0000, Fittest Innovations: 7, Staleness: 0\n",
      "Species 36 - Players: 20, Average Fitness: 81.8431, Max Fitness: 71.0000, Max Fitness Ever: 71.0000, Fittest Innovations: 9, Staleness: 0\n",
      "Species 37 - Players: 19, Average Fitness: 81.8431, Max Fitness: 63.0000, Max Fitness Ever: 63.0000, Fittest Innovations: 4, Staleness: 0\n",
      "Species 38 - Players: 18, Average Fitness: 81.8431, Max Fitness: 62.0000, Max Fitness Ever: 62.0000, Fittest Innovations: 4, Staleness: 0\n",
      "Species 39 - Players: 7, Average Fitness: 81.8431, Max Fitness: 60.0000, Max Fitness Ever: 61.0000, Fittest Innovations: 7, Staleness: 2\n",
      "Species 40 - Players: 17, Average Fitness: 81.8431, Max Fitness: 59.0000, Max Fitness Ever: 61.0000, Fittest Innovations: 10, Staleness: 1\n",
      "Species 41 - Players: 16, Average Fitness: 81.8431, Max Fitness: 57.0000, Max Fitness Ever: 63.0000, Fittest Innovations: 7, Staleness: 2\n",
      "Species 42 - Players: 20, Average Fitness: 81.8431, Max Fitness: 56.0000, Max Fitness Ever: 75.0000, Fittest Innovations: 8, Staleness: 1\n",
      "Species 43 - Players: 20, Average Fitness: 81.8431, Max Fitness: 56.0000, Max Fitness Ever: 60.0000, Fittest Innovations: 4, Staleness: 3\n",
      "Species 44 - Players: 17, Average Fitness: 81.8431, Max Fitness: 56.0000, Max Fitness Ever: 56.0000, Fittest Innovations: 10, Staleness: 0\n",
      "Species 45 - Players: 1, Average Fitness: 81.8431, Max Fitness: 54.0000, Max Fitness Ever: 54.0000, Fittest Innovations: 7, Staleness: 0\n",
      "Species 46 - Players: 1, Average Fitness: 81.8431, Max Fitness: 53.0000, Max Fitness Ever: 53.0000, Fittest Innovations: 8, Staleness: 0\n",
      "Species 47 - Players: 6, Average Fitness: 81.8431, Max Fitness: 52.0000, Max Fitness Ever: 78.0000, Fittest Innovations: 6, Staleness: 1\n",
      "Species 48 - Players: 1, Average Fitness: 81.8431, Max Fitness: 52.0000, Max Fitness Ever: 52.0000, Fittest Innovations: 6, Staleness: 0\n",
      "Species 49 - Players: 1, Average Fitness: 81.8431, Max Fitness: 49.0000, Max Fitness Ever: 49.0000, Fittest Innovations: 7, Staleness: 0\n",
      "Species 50 - Players: 1, Average Fitness: 81.8431, Max Fitness: 47.0000, Max Fitness Ever: 47.0000, Fittest Innovations: 9, Staleness: 0\n",
      "Species 51 - Players: 1, Average Fitness: 81.8431, Max Fitness: 47.0000, Max Fitness Ever: 47.0000, Fittest Innovations: 11, Staleness: 0\n",
      "Species 52 - Players: 1, Average Fitness: 81.8431, Max Fitness: 47.0000, Max Fitness Ever: 47.0000, Fittest Innovations: 13, Staleness: 0\n",
      "Players: 51\n",
      "Species: 58\n",
      "Innovations: 241\n",
      "Species Threshold: 4.5725\n",
      "Species 0 - Players: 14, Average Fitness: 82.0392, Max Fitness: 87.0000, Max Fitness Ever: 87.0000, Fittest Innovations: 6, Staleness: 0\n",
      "Species 1 - Players: 42, Average Fitness: 82.0392, Max Fitness: 86.0000, Max Fitness Ever: 86.0000, Fittest Innovations: 2, Staleness: 3\n",
      "Species 2 - Players: 53, Average Fitness: 82.0392, Max Fitness: 86.0000, Max Fitness Ever: 86.0000, Fittest Innovations: 3, Staleness: 0\n",
      "Species 3 - Players: 24, Average Fitness: 82.0392, Max Fitness: 85.0000, Max Fitness Ever: 85.0000, Fittest Innovations: 8, Staleness: 0\n",
      "Species 4 - Players: 34, Average Fitness: 82.0392, Max Fitness: 85.0000, Max Fitness Ever: 91.0000, Fittest Innovations: 3, Staleness: 4\n",
      "Species 5 - Players: 16, Average Fitness: 82.0392, Max Fitness: 85.0000, Max Fitness Ever: 85.0000, Fittest Innovations: 6, Staleness: 0\n",
      "Species 6 - Players: 19, Average Fitness: 82.0392, Max Fitness: 84.0000, Max Fitness Ever: 84.0000, Fittest Innovations: 6, Staleness: 0\n",
      "Species 7 - Players: 21, Average Fitness: 82.0392, Max Fitness: 84.0000, Max Fitness Ever: 84.0000, Fittest Innovations: 9, Staleness: 0\n",
      "Species 8 - Players: 30, Average Fitness: 82.0392, Max Fitness: 83.0000, Max Fitness Ever: 85.0000, Fittest Innovations: 2, Staleness: 1\n",
      "Species 9 - Players: 27, Average Fitness: 82.0392, Max Fitness: 83.0000, Max Fitness Ever: 83.0000, Fittest Innovations: 6, Staleness: 0\n",
      "Species 10 - Players: 21, Average Fitness: 82.0392, Max Fitness: 83.0000, Max Fitness Ever: 83.0000, Fittest Innovations: 6, Staleness: 0\n",
      "Species 11 - Players: 34, Average Fitness: 82.0392, Max Fitness: 82.0000, Max Fitness Ever: 86.0000, Fittest Innovations: 3, Staleness: 1\n",
      "Species 12 - Players: 38, Average Fitness: 82.0392, Max Fitness: 82.0000, Max Fitness Ever: 84.0000, Fittest Innovations: 5, Staleness: 1\n",
      "Species 13 - Players: 32, Average Fitness: 82.0392, Max Fitness: 82.0000, Max Fitness Ever: 82.0000, Fittest Innovations: 2, Staleness: 1\n",
      "Species 14 - Players: 16, Average Fitness: 82.0392, Max Fitness: 82.0000, Max Fitness Ever: 82.0000, Fittest Innovations: 6, Staleness: 1\n",
      "Species 15 - Players: 21, Average Fitness: 82.0392, Max Fitness: 82.0000, Max Fitness Ever: 86.0000, Fittest Innovations: 5, Staleness: 2\n",
      "Species 16 - Players: 13, Average Fitness: 82.0392, Max Fitness: 82.0000, Max Fitness Ever: 82.0000, Fittest Innovations: 11, Staleness: 0\n",
      "Species 17 - Players: 22, Average Fitness: 82.0392, Max Fitness: 81.0000, Max Fitness Ever: 84.0000, Fittest Innovations: 10, Staleness: 1\n",
      "Species 18 - Players: 13, Average Fitness: 82.0392, Max Fitness: 81.0000, Max Fitness Ever: 88.0000, Fittest Innovations: 2, Staleness: 2\n",
      "Species 19 - Players: 46, Average Fitness: 82.0392, Max Fitness: 81.0000, Max Fitness Ever: 83.0000, Fittest Innovations: 6, Staleness: 3\n",
      "Species 20 - Players: 25, Average Fitness: 82.0392, Max Fitness: 81.0000, Max Fitness Ever: 84.0000, Fittest Innovations: 6, Staleness: 3\n",
      "Species 21 - Players: 14, Average Fitness: 82.0392, Max Fitness: 81.0000, Max Fitness Ever: 81.0000, Fittest Innovations: 7, Staleness: 0\n",
      "Species 22 - Players: 13, Average Fitness: 82.0392, Max Fitness: 81.0000, Max Fitness Ever: 81.0000, Fittest Innovations: 6, Staleness: 0\n",
      "Species 23 - Players: 11, Average Fitness: 82.0392, Max Fitness: 80.0000, Max Fitness Ever: 84.0000, Fittest Innovations: 3, Staleness: 3\n",
      "Species 24 - Players: 15, Average Fitness: 82.0392, Max Fitness: 80.0000, Max Fitness Ever: 80.0000, Fittest Innovations: 8, Staleness: 0\n",
      "Species 25 - Players: 20, Average Fitness: 82.0392, Max Fitness: 80.0000, Max Fitness Ever: 80.0000, Fittest Innovations: 5, Staleness: 0\n",
      "Species 26 - Players: 17, Average Fitness: 82.0392, Max Fitness: 79.0000, Max Fitness Ever: 81.0000, Fittest Innovations: 7, Staleness: 1\n",
      "Species 27 - Players: 16, Average Fitness: 82.0392, Max Fitness: 79.0000, Max Fitness Ever: 80.0000, Fittest Innovations: 6, Staleness: 1\n",
      "Species 28 - Players: 17, Average Fitness: 82.0392, Max Fitness: 79.0000, Max Fitness Ever: 79.0000, Fittest Innovations: 6, Staleness: 1\n",
      "Species 29 - Players: 11, Average Fitness: 82.0392, Max Fitness: 79.0000, Max Fitness Ever: 79.0000, Fittest Innovations: 6, Staleness: 0\n",
      "Species 30 - Players: 20, Average Fitness: 82.0392, Max Fitness: 77.0000, Max Fitness Ever: 82.0000, Fittest Innovations: 10, Staleness: 2\n",
      "Species 31 - Players: 16, Average Fitness: 82.0392, Max Fitness: 77.0000, Max Fitness Ever: 81.0000, Fittest Innovations: 5, Staleness: 3\n",
      "Species 32 - Players: 10, Average Fitness: 82.0392, Max Fitness: 77.0000, Max Fitness Ever: 77.0000, Fittest Innovations: 11, Staleness: 0\n",
      "Species 33 - Players: 17, Average Fitness: 82.0392, Max Fitness: 76.0000, Max Fitness Ever: 76.0000, Fittest Innovations: 11, Staleness: 1\n",
      "Species 34 - Players: 2, Average Fitness: 82.0392, Max Fitness: 76.0000, Max Fitness Ever: 76.0000, Fittest Innovations: 5, Staleness: 0\n",
      "Species 35 - Players: 16, Average Fitness: 82.0392, Max Fitness: 75.0000, Max Fitness Ever: 84.0000, Fittest Innovations: 5, Staleness: 3\n",
      "Species 36 - Players: 18, Average Fitness: 82.0392, Max Fitness: 75.0000, Max Fitness Ever: 77.0000, Fittest Innovations: 8, Staleness: 1\n",
      "Species 37 - Players: 9, Average Fitness: 82.0392, Max Fitness: 75.0000, Max Fitness Ever: 78.0000, Fittest Innovations: 7, Staleness: 5\n",
      "Species 38 - Players: 9, Average Fitness: 82.0392, Max Fitness: 73.0000, Max Fitness Ever: 80.0000, Fittest Innovations: 5, Staleness: 1\n",
      "Species 39 - Players: 1, Average Fitness: 82.0392, Max Fitness: 73.0000, Max Fitness Ever: 73.0000, Fittest Innovations: 6, Staleness: 0\n",
      "Species 40 - Players: 16, Average Fitness: 82.0392, Max Fitness: 72.0000, Max Fitness Ever: 72.0000, Fittest Innovations: 9, Staleness: 0\n",
      "Species 41 - Players: 19, Average Fitness: 82.0392, Max Fitness: 63.0000, Max Fitness Ever: 63.0000, Fittest Innovations: 7, Staleness: 3\n",
      "Species 42 - Players: 14, Average Fitness: 82.0392, Max Fitness: 62.0000, Max Fitness Ever: 62.0000, Fittest Innovations: 10, Staleness: 0\n",
      "Species 43 - Players: 15, Average Fitness: 82.0392, Max Fitness: 62.0000, Max Fitness Ever: 75.0000, Fittest Innovations: 10, Staleness: 2\n",
      "Species 44 - Players: 17, Average Fitness: 82.0392, Max Fitness: 61.0000, Max Fitness Ever: 61.0000, Fittest Innovations: 7, Staleness: 3\n",
      "Species 45 - Players: 14, Average Fitness: 82.0392, Max Fitness: 60.0000, Max Fitness Ever: 62.0000, Fittest Innovations: 4, Staleness: 1\n",
      "Species 46 - Players: 18, Average Fitness: 82.0392, Max Fitness: 59.0000, Max Fitness Ever: 78.0000, Fittest Innovations: 8, Staleness: 2\n",
      "Species 47 - Players: 9, Average Fitness: 82.0392, Max Fitness: 59.0000, Max Fitness Ever: 77.0000, Fittest Innovations: 5, Staleness: 2\n",
      "Species 48 - Players: 10, Average Fitness: 82.0392, Max Fitness: 59.0000, Max Fitness Ever: 59.0000, Fittest Innovations: 10, Staleness: 0\n",
      "Species 49 - Players: 23, Average Fitness: 82.0392, Max Fitness: 59.0000, Max Fitness Ever: 59.0000, Fittest Innovations: 8, Staleness: 0\n",
      "Species 50 - Players: 15, Average Fitness: 82.0392, Max Fitness: 59.0000, Max Fitness Ever: 59.0000, Fittest Innovations: 13, Staleness: 0\n",
      "Species 51 - Players: 13, Average Fitness: 82.0392, Max Fitness: 58.0000, Max Fitness Ever: 58.0000, Fittest Innovations: 9, Staleness: 0\n",
      "Species 52 - Players: 3, Average Fitness: 82.0392, Max Fitness: 58.0000, Max Fitness Ever: 58.0000, Fittest Innovations: 8, Staleness: 0\n",
      "Species 53 - Players: 23, Average Fitness: 82.0392, Max Fitness: 57.0000, Max Fitness Ever: 63.0000, Fittest Innovations: 4, Staleness: 1\n",
      "Species 54 - Players: 18, Average Fitness: 82.0392, Max Fitness: 57.0000, Max Fitness Ever: 57.0000, Fittest Innovations: 7, Staleness: 0\n",
      "Species 55 - Players: 11, Average Fitness: 82.0392, Max Fitness: 57.0000, Max Fitness Ever: 57.0000, Fittest Innovations: 7, Staleness: 0\n",
      "Species 56 - Players: 1, Average Fitness: 82.0392, Max Fitness: 54.0000, Max Fitness Ever: 54.0000, Fittest Innovations: 7, Staleness: 0\n",
      "Species 57 - Players: 1, Average Fitness: 82.0392, Max Fitness: 43.0000, Max Fitness Ever: 43.0000, Fittest Innovations: 6, Staleness: 0\n",
      "Players: 51\n",
      "Species: 60\n",
      "Innovations: 278\n",
      "Species Threshold: 5.0805\n",
      "Species 0 - Players: 39, Average Fitness: 82.5098, Max Fitness: 88.0000, Max Fitness Ever: 88.0000, Fittest Innovations: 6, Staleness: 0\n",
      "Species 1 - Players: 18, Average Fitness: 82.5098, Max Fitness: 88.0000, Max Fitness Ever: 88.0000, Fittest Innovations: 5, Staleness: 0\n",
      "Species 2 - Players: 17, Average Fitness: 82.5098, Max Fitness: 87.0000, Max Fitness Ever: 91.0000, Fittest Innovations: 4, Staleness: 5\n",
      "Species 3 - Players: 28, Average Fitness: 82.5098, Max Fitness: 86.0000, Max Fitness Ever: 86.0000, Fittest Innovations: 2, Staleness: 1\n",
      "Species 4 - Players: 22, Average Fitness: 82.5098, Max Fitness: 86.0000, Max Fitness Ever: 86.0000, Fittest Innovations: 6, Staleness: 0\n",
      "Species 5 - Players: 30, Average Fitness: 82.5098, Max Fitness: 85.0000, Max Fitness Ever: 85.0000, Fittest Innovations: 3, Staleness: 2\n",
      "Species 6 - Players: 16, Average Fitness: 82.5098, Max Fitness: 85.0000, Max Fitness Ever: 85.0000, Fittest Innovations: 8, Staleness: 0\n",
      "Species 7 - Players: 53, Average Fitness: 82.5098, Max Fitness: 84.0000, Max Fitness Ever: 86.0000, Fittest Innovations: 3, Staleness: 2\n",
      "Species 8 - Players: 30, Average Fitness: 82.5098, Max Fitness: 84.0000, Max Fitness Ever: 84.0000, Fittest Innovations: 5, Staleness: 2\n",
      "Species 9 - Players: 15, Average Fitness: 82.5098, Max Fitness: 84.0000, Max Fitness Ever: 84.0000, Fittest Innovations: 6, Staleness: 0\n",
      "Species 10 - Players: 31, Average Fitness: 82.5098, Max Fitness: 83.0000, Max Fitness Ever: 86.0000, Fittest Innovations: 2, Staleness: 4\n",
      "Species 11 - Players: 17, Average Fitness: 82.5098, Max Fitness: 83.0000, Max Fitness Ever: 83.0000, Fittest Innovations: 11, Staleness: 0\n",
      "Species 12 - Players: 9, Average Fitness: 82.5098, Max Fitness: 83.0000, Max Fitness Ever: 83.0000, Fittest Innovations: 5, Staleness: 0\n",
      "Species 13 - Players: 22, Average Fitness: 82.5098, Max Fitness: 82.0000, Max Fitness Ever: 84.0000, Fittest Innovations: 8, Staleness: 1\n",
      "Species 14 - Players: 30, Average Fitness: 82.5098, Max Fitness: 82.0000, Max Fitness Ever: 83.0000, Fittest Innovations: 6, Staleness: 1\n",
      "Species 15 - Players: 19, Average Fitness: 82.5098, Max Fitness: 82.0000, Max Fitness Ever: 84.0000, Fittest Innovations: 2, Staleness: 4\n",
      "Species 16 - Players: 39, Average Fitness: 82.5098, Max Fitness: 81.0000, Max Fitness Ever: 84.0000, Fittest Innovations: 6, Staleness: 1\n",
      "Species 17 - Players: 28, Average Fitness: 82.5098, Max Fitness: 81.0000, Max Fitness Ever: 82.0000, Fittest Innovations: 2, Staleness: 2\n",
      "Species 18 - Players: 20, Average Fitness: 82.5098, Max Fitness: 80.0000, Max Fitness Ever: 87.0000, Fittest Innovations: 6, Staleness: 1\n",
      "Species 19 - Players: 19, Average Fitness: 82.5098, Max Fitness: 80.0000, Max Fitness Ever: 83.0000, Fittest Innovations: 6, Staleness: 1\n",
      "Species 20 - Players: 21, Average Fitness: 82.5098, Max Fitness: 80.0000, Max Fitness Ever: 86.0000, Fittest Innovations: 5, Staleness: 3\n",
      "Species 21 - Players: 19, Average Fitness: 82.5098, Max Fitness: 80.0000, Max Fitness Ever: 84.0000, Fittest Innovations: 10, Staleness: 2\n",
      "Species 22 - Players: 16, Average Fitness: 82.5098, Max Fitness: 80.0000, Max Fitness Ever: 80.0000, Fittest Innovations: 6, Staleness: 0\n",
      "Species 23 - Players: 22, Average Fitness: 82.5098, Max Fitness: 79.0000, Max Fitness Ever: 85.0000, Fittest Innovations: 6, Staleness: 1\n",
      "Species 24 - Players: 18, Average Fitness: 82.5098, Max Fitness: 79.0000, Max Fitness Ever: 82.0000, Fittest Innovations: 6, Staleness: 2\n",
      "Species 25 - Players: 22, Average Fitness: 82.5098, Max Fitness: 79.0000, Max Fitness Ever: 81.0000, Fittest Innovations: 6, Staleness: 1\n",
      "Species 26 - Players: 14, Average Fitness: 82.5098, Max Fitness: 79.0000, Max Fitness Ever: 80.0000, Fittest Innovations: 6, Staleness: 2\n",
      "Species 27 - Players: 16, Average Fitness: 82.5098, Max Fitness: 79.0000, Max Fitness Ever: 79.0000, Fittest Innovations: 6, Staleness: 0\n",
      "Species 28 - Players: 11, Average Fitness: 82.5098, Max Fitness: 78.0000, Max Fitness Ever: 85.0000, Fittest Innovations: 8, Staleness: 1\n",
      "Species 29 - Players: 21, Average Fitness: 82.5098, Max Fitness: 78.0000, Max Fitness Ever: 88.0000, Fittest Innovations: 2, Staleness: 3\n",
      "Species 30 - Players: 19, Average Fitness: 82.5098, Max Fitness: 78.0000, Max Fitness Ever: 81.0000, Fittest Innovations: 6, Staleness: 2\n",
      "Species 31 - Players: 11, Average Fitness: 82.5098, Max Fitness: 77.0000, Max Fitness Ever: 79.0000, Fittest Innovations: 6, Staleness: 2\n",
      "Species 32 - Players: 9, Average Fitness: 82.5098, Max Fitness: 77.0000, Max Fitness Ever: 77.0000, Fittest Innovations: 11, Staleness: 1\n",
      "Species 33 - Players: 14, Average Fitness: 82.5098, Max Fitness: 77.0000, Max Fitness Ever: 77.0000, Fittest Innovations: 11, Staleness: 0\n",
      "Species 34 - Players: 11, Average Fitness: 82.5098, Max Fitness: 77.0000, Max Fitness Ever: 84.0000, Fittest Innovations: 5, Staleness: 4\n",
      "Species 35 - Players: 10, Average Fitness: 82.5098, Max Fitness: 77.0000, Max Fitness Ever: 77.0000, Fittest Innovations: 9, Staleness: 2\n",
      "Species 36 - Players: 13, Average Fitness: 82.5098, Max Fitness: 77.0000, Max Fitness Ever: 78.0000, Fittest Innovations: 7, Staleness: 6\n",
      "Species 37 - Players: 11, Average Fitness: 82.5098, Max Fitness: 77.0000, Max Fitness Ever: 78.0000, Fittest Innovations: 9, Staleness: 3\n",
      "Species 38 - Players: 14, Average Fitness: 82.5098, Max Fitness: 76.0000, Max Fitness Ever: 79.0000, Fittest Innovations: 6, Staleness: 1\n",
      "Species 39 - Players: 12, Average Fitness: 82.5098, Max Fitness: 76.0000, Max Fitness Ever: 82.0000, Fittest Innovations: 10, Staleness: 3\n",
      "Species 40 - Players: 12, Average Fitness: 82.5098, Max Fitness: 76.0000, Max Fitness Ever: 76.0000, Fittest Innovations: 9, Staleness: 0\n",
      "Species 41 - Players: 13, Average Fitness: 82.5098, Max Fitness: 75.0000, Max Fitness Ever: 77.0000, Fittest Innovations: 5, Staleness: 3\n",
      "Species 42 - Players: 19, Average Fitness: 82.5098, Max Fitness: 74.0000, Max Fitness Ever: 80.0000, Fittest Innovations: 5, Staleness: 1\n",
      "Species 43 - Players: 9, Average Fitness: 82.5098, Max Fitness: 72.0000, Max Fitness Ever: 80.0000, Fittest Innovations: 8, Staleness: 1\n",
      "Species 44 - Players: 19, Average Fitness: 82.5098, Max Fitness: 62.0000, Max Fitness Ever: 62.0000, Fittest Innovations: 7, Staleness: 0\n",
      "Species 45 - Players: 11, Average Fitness: 82.5098, Max Fitness: 61.0000, Max Fitness Ever: 61.0000, Fittest Innovations: 8, Staleness: 0\n",
      "Species 46 - Players: 11, Average Fitness: 82.5098, Max Fitness: 60.0000, Max Fitness Ever: 63.0000, Fittest Innovations: 8, Staleness: 4\n",
      "Species 47 - Players: 16, Average Fitness: 82.5098, Max Fitness: 60.0000, Max Fitness Ever: 62.0000, Fittest Innovations: 4, Staleness: 2\n",
      "Species 48 - Players: 11, Average Fitness: 82.5098, Max Fitness: 59.0000, Max Fitness Ever: 61.0000, Fittest Innovations: 7, Staleness: 4\n",
      "Species 49 - Players: 13, Average Fitness: 82.5098, Max Fitness: 59.0000, Max Fitness Ever: 63.0000, Fittest Innovations: 5, Staleness: 2\n",
      "Species 50 - Players: 5, Average Fitness: 82.5098, Max Fitness: 59.0000, Max Fitness Ever: 59.0000, Fittest Innovations: 5, Staleness: 0\n",
      "Species 51 - Players: 17, Average Fitness: 82.5098, Max Fitness: 58.0000, Max Fitness Ever: 62.0000, Fittest Innovations: 10, Staleness: 1\n",
      "Species 52 - Players: 14, Average Fitness: 82.5098, Max Fitness: 58.0000, Max Fitness Ever: 59.0000, Fittest Innovations: 13, Staleness: 1\n",
      "Species 53 - Players: 14, Average Fitness: 82.5098, Max Fitness: 58.0000, Max Fitness Ever: 58.0000, Fittest Innovations: 7, Staleness: 0\n",
      "Species 54 - Players: 11, Average Fitness: 82.5098, Max Fitness: 57.0000, Max Fitness Ever: 75.0000, Fittest Innovations: 8, Staleness: 3\n",
      "Species 55 - Players: 13, Average Fitness: 82.5098, Max Fitness: 57.0000, Max Fitness Ever: 57.0000, Fittest Innovations: 8, Staleness: 1\n",
      "Species 56 - Players: 13, Average Fitness: 82.5098, Max Fitness: 56.0000, Max Fitness Ever: 59.0000, Fittest Innovations: 10, Staleness: 1\n",
      "Species 57 - Players: 14, Average Fitness: 82.5098, Max Fitness: 55.0000, Max Fitness Ever: 59.0000, Fittest Innovations: 8, Staleness: 1\n",
      "Species 58 - Players: 16, Average Fitness: 82.5098, Max Fitness: 53.0000, Max Fitness Ever: 58.0000, Fittest Innovations: 10, Staleness: 1\n",
      "Species 59 - Players: 1, Average Fitness: 82.5098, Max Fitness: 45.0000, Max Fitness Ever: 45.0000, Fittest Innovations: 13, Staleness: 0\n",
      "Players: 51\n",
      "Species: 60\n",
      "Innovations: 321\n",
      "Species Threshold: 5.6450\n",
      "Species 0 - Players: 26, Average Fitness: 82.1569, Max Fitness: 86.0000, Max Fitness Ever: 86.0000, Fittest Innovations: 3, Staleness: 5\n",
      "Species 1 - Players: 14, Average Fitness: 82.1569, Max Fitness: 86.0000, Max Fitness Ever: 86.0000, Fittest Innovations: 6, Staleness: 0\n",
      "Species 2 - Players: 24, Average Fitness: 82.1569, Max Fitness: 85.0000, Max Fitness Ever: 91.0000, Fittest Innovations: 4, Staleness: 6\n",
      "Species 3 - Players: 28, Average Fitness: 82.1569, Max Fitness: 85.0000, Max Fitness Ever: 86.0000, Fittest Innovations: 3, Staleness: 3\n",
      "Species 4 - Players: 21, Average Fitness: 82.1569, Max Fitness: 85.0000, Max Fitness Ever: 85.0000, Fittest Innovations: 5, Staleness: 0\n",
      "Species 5 - Players: 28, Average Fitness: 82.1569, Max Fitness: 84.0000, Max Fitness Ever: 84.0000, Fittest Innovations: 9, Staleness: 2\n",
      "Species 6 - Players: 22, Average Fitness: 82.1569, Max Fitness: 84.0000, Max Fitness Ever: 84.0000, Fittest Innovations: 6, Staleness: 2\n",
      "Species 7 - Players: 13, Average Fitness: 82.1569, Max Fitness: 84.0000, Max Fitness Ever: 85.0000, Fittest Innovations: 6, Staleness: 2\n",
      "Species 8 - Players: 40, Average Fitness: 82.1569, Max Fitness: 83.0000, Max Fitness Ever: 86.0000, Fittest Innovations: 6, Staleness: 1\n",
      "Species 9 - Players: 43, Average Fitness: 82.1569, Max Fitness: 83.0000, Max Fitness Ever: 84.0000, Fittest Innovations: 6, Staleness: 3\n",
      "Species 10 - Players: 13, Average Fitness: 82.1569, Max Fitness: 83.0000, Max Fitness Ever: 83.0000, Fittest Innovations: 11, Staleness: 1\n",
      "Species 11 - Players: 20, Average Fitness: 82.1569, Max Fitness: 83.0000, Max Fitness Ever: 83.0000, Fittest Innovations: 6, Staleness: 2\n",
      "Species 12 - Players: 12, Average Fitness: 82.1569, Max Fitness: 83.0000, Max Fitness Ever: 83.0000, Fittest Innovations: 5, Staleness: 0\n",
      "Species 13 - Players: 24, Average Fitness: 82.1569, Max Fitness: 82.0000, Max Fitness Ever: 85.0000, Fittest Innovations: 2, Staleness: 3\n",
      "Species 14 - Players: 17, Average Fitness: 82.1569, Max Fitness: 82.0000, Max Fitness Ever: 85.0000, Fittest Innovations: 8, Staleness: 1\n",
      "Species 15 - Players: 13, Average Fitness: 82.1569, Max Fitness: 82.0000, Max Fitness Ever: 83.0000, Fittest Innovations: 5, Staleness: 1\n",
      "Species 16 - Players: 23, Average Fitness: 82.1569, Max Fitness: 82.0000, Max Fitness Ever: 87.0000, Fittest Innovations: 7, Staleness: 2\n",
      "Species 17 - Players: 47, Average Fitness: 82.1569, Max Fitness: 81.0000, Max Fitness Ever: 88.0000, Fittest Innovations: 6, Staleness: 1\n",
      "Species 18 - Players: 26, Average Fitness: 82.1569, Max Fitness: 81.0000, Max Fitness Ever: 84.0000, Fittest Innovations: 3, Staleness: 5\n",
      "Species 19 - Players: 18, Average Fitness: 82.1569, Max Fitness: 81.0000, Max Fitness Ever: 82.0000, Fittest Innovations: 2, Staleness: 3\n",
      "Species 20 - Players: 17, Average Fitness: 82.1569, Max Fitness: 81.0000, Max Fitness Ever: 81.0000, Fittest Innovations: 7, Staleness: 0\n",
      "Species 21 - Players: 39, Average Fitness: 82.1569, Max Fitness: 80.0000, Max Fitness Ever: 86.0000, Fittest Innovations: 2, Staleness: 2\n",
      "Species 22 - Players: 27, Average Fitness: 82.1569, Max Fitness: 80.0000, Max Fitness Ever: 88.0000, Fittest Innovations: 2, Staleness: 4\n",
      "Species 23 - Players: 16, Average Fitness: 82.1569, Max Fitness: 80.0000, Max Fitness Ever: 80.0000, Fittest Innovations: 5, Staleness: 2\n",
      "Species 24 - Players: 12, Average Fitness: 82.1569, Max Fitness: 80.0000, Max Fitness Ever: 80.0000, Fittest Innovations: 9, Staleness: 2\n",
      "Species 25 - Players: 14, Average Fitness: 82.1569, Max Fitness: 79.0000, Max Fitness Ever: 86.0000, Fittest Innovations: 5, Staleness: 4\n",
      "Species 26 - Players: 12, Average Fitness: 82.1569, Max Fitness: 79.0000, Max Fitness Ever: 84.0000, Fittest Innovations: 10, Staleness: 3\n",
      "Species 27 - Players: 14, Average Fitness: 82.1569, Max Fitness: 79.0000, Max Fitness Ever: 79.0000, Fittest Innovations: 11, Staleness: 0\n",
      "Species 28 - Players: 20, Average Fitness: 82.1569, Max Fitness: 79.0000, Max Fitness Ever: 79.0000, Fittest Innovations: 6, Staleness: 0\n",
      "Species 29 - Players: 28, Average Fitness: 82.1569, Max Fitness: 78.0000, Max Fitness Ever: 88.0000, Fittest Innovations: 5, Staleness: 1\n",
      "Species 30 - Players: 14, Average Fitness: 82.1569, Max Fitness: 78.0000, Max Fitness Ever: 84.0000, Fittest Innovations: 5, Staleness: 1\n",
      "Species 31 - Players: 15, Average Fitness: 82.1569, Max Fitness: 78.0000, Max Fitness Ever: 80.0000, Fittest Innovations: 6, Staleness: 1\n",
      "Species 32 - Players: 11, Average Fitness: 82.1569, Max Fitness: 78.0000, Max Fitness Ever: 82.0000, Fittest Innovations: 6, Staleness: 3\n",
      "Species 33 - Players: 12, Average Fitness: 82.1569, Max Fitness: 78.0000, Max Fitness Ever: 85.0000, Fittest Innovations: 8, Staleness: 2\n",
      "Species 34 - Players: 19, Average Fitness: 82.1569, Max Fitness: 78.0000, Max Fitness Ever: 79.0000, Fittest Innovations: 6, Staleness: 3\n",
      "Species 35 - Players: 12, Average Fitness: 82.1569, Max Fitness: 78.0000, Max Fitness Ever: 78.0000, Fittest Innovations: 9, Staleness: 0\n",
      "Species 36 - Players: 22, Average Fitness: 82.1569, Max Fitness: 77.0000, Max Fitness Ever: 83.0000, Fittest Innovations: 6, Staleness: 2\n",
      "Species 37 - Players: 10, Average Fitness: 82.1569, Max Fitness: 77.0000, Max Fitness Ever: 80.0000, Fittest Innovations: 6, Staleness: 3\n",
      "Species 38 - Players: 16, Average Fitness: 82.1569, Max Fitness: 75.0000, Max Fitness Ever: 82.0000, Fittest Innovations: 10, Staleness: 4\n",
      "Species 39 - Players: 15, Average Fitness: 82.1569, Max Fitness: 71.0000, Max Fitness Ever: 75.0000, Fittest Innovations: 11, Staleness: 4\n",
      "Species 40 - Players: 15, Average Fitness: 82.1569, Max Fitness: 68.0000, Max Fitness Ever: 76.0000, Fittest Innovations: 9, Staleness: 1\n",
      "Species 41 - Players: 7, Average Fitness: 82.1569, Max Fitness: 67.0000, Max Fitness Ever: 81.0000, Fittest Innovations: 6, Staleness: 2\n",
      "Species 42 - Players: 16, Average Fitness: 82.1569, Max Fitness: 67.0000, Max Fitness Ever: 67.0000, Fittest Innovations: 13, Staleness: 0\n",
      "Species 43 - Players: 14, Average Fitness: 82.1569, Max Fitness: 61.0000, Max Fitness Ever: 63.0000, Fittest Innovations: 4, Staleness: 3\n",
      "Species 44 - Players: 13, Average Fitness: 82.1569, Max Fitness: 60.0000, Max Fitness Ever: 60.0000, Fittest Innovations: 7, Staleness: 0\n",
      "Species 45 - Players: 13, Average Fitness: 82.1569, Max Fitness: 60.0000, Max Fitness Ever: 60.0000, Fittest Innovations: 10, Staleness: 0\n",
      "Species 46 - Players: 10, Average Fitness: 82.1569, Max Fitness: 59.0000, Max Fitness Ever: 61.0000, Fittest Innovations: 8, Staleness: 1\n",
      "Species 47 - Players: 13, Average Fitness: 82.1569, Max Fitness: 59.0000, Max Fitness Ever: 61.0000, Fittest Innovations: 7, Staleness: 5\n",
      "Species 48 - Players: 13, Average Fitness: 82.1569, Max Fitness: 58.0000, Max Fitness Ever: 62.0000, Fittest Innovations: 5, Staleness: 3\n",
      "Species 49 - Players: 8, Average Fitness: 82.1569, Max Fitness: 57.0000, Max Fitness Ever: 62.0000, Fittest Innovations: 11, Staleness: 2\n",
      "Species 50 - Players: 12, Average Fitness: 82.1569, Max Fitness: 57.0000, Max Fitness Ever: 59.0000, Fittest Innovations: 14, Staleness: 2\n",
      "Species 51 - Players: 14, Average Fitness: 82.1569, Max Fitness: 57.0000, Max Fitness Ever: 57.0000, Fittest Innovations: 7, Staleness: 2\n",
      "Species 52 - Players: 11, Average Fitness: 82.1569, Max Fitness: 56.0000, Max Fitness Ever: 79.0000, Fittest Innovations: 6, Staleness: 1\n",
      "Species 53 - Players: 10, Average Fitness: 82.1569, Max Fitness: 56.0000, Max Fitness Ever: 79.0000, Fittest Innovations: 6, Staleness: 2\n",
      "Species 54 - Players: 15, Average Fitness: 82.1569, Max Fitness: 56.0000, Max Fitness Ever: 63.0000, Fittest Innovations: 8, Staleness: 5\n",
      "Species 55 - Players: 18, Average Fitness: 82.1569, Max Fitness: 56.0000, Max Fitness Ever: 59.0000, Fittest Innovations: 8, Staleness: 2\n",
      "Species 56 - Players: 12, Average Fitness: 82.1569, Max Fitness: 55.0000, Max Fitness Ever: 58.0000, Fittest Innovations: 10, Staleness: 2\n",
      "Species 57 - Players: 17, Average Fitness: 82.1569, Max Fitness: 53.0000, Max Fitness Ever: 62.0000, Fittest Innovations: 7, Staleness: 1\n",
      "Species 58 - Players: 8, Average Fitness: 82.1569, Max Fitness: 51.0000, Max Fitness Ever: 78.0000, Fittest Innovations: 9, Staleness: 4\n",
      "Species 59 - Players: 4, Average Fitness: 82.1569, Max Fitness: 48.0000, Max Fitness Ever: 77.0000, Fittest Innovations: 11, Staleness: 1\n"
     ]
    }
   ],
   "source": [
    "from Circuit_Design.circuit_games import XORGame\n",
    "\n",
    "population = Population(1000, 2, 2)\n",
    "\n",
    "for _ in range(10):\n",
    "    population.new_generation()\n",
    "    won = XORGame(100).play_game(population.players)\n",
    "    for i in range(len(population.players)):\n",
    "        population.players[i].set_fitness(won[i])\n",
    "    population.update_generation()\n",
    "    print(population_info(population))\n",
    "    for i in range(len(population.species)):\n",
    "        print(species_info(i))"
   ]
  },
  {
   "cell_type": "code",
   "execution_count": null,
   "metadata": {},
   "outputs": [
    {
     "name": "stdout",
     "output_type": "stream",
     "text": [
      "Players: 25\n",
      "Species: 1\n",
      "Innovations: 6\n",
      "Species Threshold: 2.7000\n",
      "Players: 51\n",
      "Species: 12\n",
      "Innovations: 21\n",
      "Species Threshold: 3.0000\n",
      "Players: 51\n",
      "Species: 23\n",
      "Innovations: 53\n",
      "Species Threshold: 3.3333\n",
      "Players: 51\n",
      "Species: 27\n",
      "Innovations: 91\n",
      "Species Threshold: 3.7037\n",
      "Players: 51\n",
      "Species: 30\n",
      "Innovations: 126\n",
      "Species Threshold: 4.1152\n",
      "Players: 51\n",
      "Species: 32\n",
      "Innovations: 163\n",
      "Species Threshold: 4.5725\n",
      "Players: 51\n",
      "Species: 34\n",
      "Innovations: 201\n",
      "Species Threshold: 5.0805\n",
      "Players: 51\n",
      "Species: 38\n",
      "Innovations: 241\n",
      "Species Threshold: 5.6450\n",
      "Players: 51\n",
      "Species: 40\n",
      "Innovations: 285\n",
      "Species Threshold: 6.2723\n",
      "Players: 51\n",
      "Species: 41\n",
      "Innovations: 317\n",
      "Species Threshold: 6.9692\n",
      "Players: 51\n",
      "Species: 43\n",
      "Innovations: 351\n",
      "Species Threshold: 7.7435\n",
      "Players: 51\n",
      "Species: 43\n",
      "Innovations: 390\n",
      "Species Threshold: 8.6039\n",
      "Players: 51\n",
      "Species: 43\n",
      "Innovations: 425\n",
      "Species Threshold: 9.5599\n",
      "Players: 51\n",
      "Species: 43\n",
      "Innovations: 457\n",
      "Species Threshold: 10.6221\n",
      "Players: 51\n",
      "Species: 43\n",
      "Innovations: 489\n",
      "Species Threshold: 11.8024\n",
      "Players: 51\n",
      "Species: 43\n",
      "Innovations: 517\n",
      "Species Threshold: 13.1137\n",
      "Players: 51\n",
      "Species: 43\n",
      "Innovations: 569\n",
      "Species Threshold: 14.5708\n",
      "Players: 51\n",
      "Species: 43\n",
      "Innovations: 603\n",
      "Species Threshold: 16.1898\n",
      "Players: 50\n",
      "Species: 43\n",
      "Innovations: 645\n",
      "Species Threshold: 17.9887\n",
      "Players: 50\n",
      "Species: 43\n",
      "Innovations: 670\n",
      "Species Threshold: 19.9874\n",
      "Players: 51\n",
      "Species: 43\n",
      "Innovations: 714\n",
      "Species Threshold: 22.2082\n",
      "Players: 47\n",
      "Species: 43\n",
      "Innovations: 742\n",
      "Species Threshold: 24.6758\n",
      "Players: 30\n",
      "Species: 43\n",
      "Innovations: 772\n",
      "Species Threshold: 27.4175\n",
      "Players: 25\n",
      "Species: 43\n",
      "Innovations: 802\n",
      "Species Threshold: 30.4639\n",
      "Players: 25\n",
      "Species: 43\n",
      "Innovations: 844\n",
      "Species Threshold: 33.8488\n",
      "Players: 24\n",
      "Species: 43\n",
      "Innovations: 882\n",
      "Species Threshold: 37.6098\n"
     ]
    }
   ],
   "source": [
    "population = Population(1000, 2, 2)\n",
    "\n",
    "for _ in range(100):\n",
    "    population.new_generation()\n",
    "    won = XORGame(100).play_game(population.players)\n",
    "    for i in range(len(population.players)):\n",
    "        population.players[i].set_fitness(won[i])\n",
    "    population.update_generation()\n",
    "    print(population_info(population))"
   ]
  }
 ],
 "metadata": {
  "kernelspec": {
   "display_name": "Python 3",
   "language": "python",
   "name": "python3"
  },
  "language_info": {
   "codemirror_mode": {
    "name": "ipython",
    "version": 3
   },
   "file_extension": ".py",
   "mimetype": "text/x-python",
   "name": "python",
   "nbconvert_exporter": "python",
   "pygments_lexer": "ipython3",
   "version": "3.10.2"
  },
  "orig_nbformat": 4
 },
 "nbformat": 4,
 "nbformat_minor": 2
}
