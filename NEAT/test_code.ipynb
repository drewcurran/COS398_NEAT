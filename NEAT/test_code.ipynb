{
 "cells": [
  {
   "attachments": {},
   "cell_type": "markdown",
   "metadata": {},
   "source": [
    "# Imports"
   ]
  },
  {
   "cell_type": "code",
   "execution_count": 29,
   "metadata": {},
   "outputs": [],
   "source": [
    "from genome import Genome"
   ]
  },
  {
   "attachments": {},
   "cell_type": "markdown",
   "metadata": {},
   "source": [
    "# Setup"
   ]
  },
  {
   "cell_type": "code",
   "execution_count": 30,
   "metadata": {},
   "outputs": [],
   "source": [
    "history = []"
   ]
  },
  {
   "attachments": {},
   "cell_type": "markdown",
   "metadata": {},
   "source": [
    "# Genome 1"
   ]
  },
  {
   "cell_type": "code",
   "execution_count": 31,
   "metadata": {},
   "outputs": [
    {
     "name": "stdout",
     "output_type": "stream",
     "text": [
      "Initializing genome1\n",
      "\tState\n",
      "\tNodes: 3 (2), {0: [Node(0,L=0), Node(1,L=0)], 1: [Node(2,L=1)]}\n",
      "\tConnections: 0, []\n",
      "\n",
      "\n"
     ]
    },
    {
     "data": {
      "image/png": "[encoded data removed]",
      "text/plain": [
       "<Figure size 432x288 with 1 Axes>"
      ]
     },
     "metadata": {
      "needs_background": "light"
     },
     "output_type": "display_data"
    }
   ],
   "source": [
    "print(\"Initializing genome1\")\n",
    "genome1 = Genome(1, 1)\n",
    "genome1.print_state()\n",
    "genome1.draw_state()"
   ]
  },
  {
   "cell_type": "code",
   "execution_count": 32,
   "metadata": {},
   "outputs": [
    {
     "name": "stdout",
     "output_type": "stream",
     "text": [
      "General mutation\n",
      "\tState\n",
      "\tNodes: 3 (2), {0: [Node(0,L=0), Node(1,L=0)], 1: [Node(2,L=1)]}\n",
      "\tConnections: 1, [Gene(Node(1,L=0)->Node(2,L=1),W=-0.8445,I=0,E=1)]\n",
      "\tHistory: [History(1->2,I=0,L=[])]\n",
      "\n",
      "\tMutations\n",
      "\tConnections: [Gene(Node(1,L=0)->Node(2,L=1),W=-0.8445,I=0,E=1)]\n",
      "\n",
      "\n"
     ]
    },
    {
     "data": {
      "image/png": "[encoded data removed]",
      "text/plain": [
       "<Figure size 432x288 with 1 Axes>"
      ]
     },
     "metadata": {
      "needs_background": "light"
     },
     "output_type": "display_data"
    }
   ],
   "source": [
    "print(\"General mutation\")\n",
    "nodes, connections = genome1.mutate_genome(history)\n",
    "genome1.print_state(history=history, nodes=nodes, connections=connections)\n",
    "genome1.draw_state()"
   ]
  },
  {
   "cell_type": "code",
   "execution_count": 33,
   "metadata": {},
   "outputs": [
    {
     "name": "stdout",
     "output_type": "stream",
     "text": [
      "Node mutation\n",
      "\tState\n",
      "\tNodes: 4 (3), {0: [Node(0,L=0), Node(1,L=0)], 1: [Node(3,L=1)], 2: [Node(2,L=2)]}\n",
      "\tConnections: 4, [Gene(Node(1,L=0)->Node(2,L=2),W=-0.8445,I=0,E=0), Gene(Node(1,L=0)->Node(3,L=1),W=1.0000,I=1,E=1), Gene(Node(3,L=1)->Node(2,L=2),W=-0.8445,I=2,E=1), Gene(Node(0,L=0)->Node(3,L=1),W=0.0000,I=3,E=1)]\n",
      "\tHistory: [History(1->2,I=0,L=[]), History(1->3,I=1,L=[0]), History(3->2,I=2,L=[0, 1]), History(0->3,I=3,L=[0, 1, 2])]\n",
      "\n",
      "\tMutations\n",
      "\tNodes: [Node(3,L=1)]\n",
      "\tConnections: [Gene(Node(1,L=0)->Node(3,L=1),W=1.0000,I=1,E=1), Gene(Node(3,L=1)->Node(2,L=2),W=-0.8445,I=2,E=1), Gene(Node(0,L=0)->Node(3,L=1),W=0.0000,I=3,E=1)]\n",
      "\n",
      "\n"
     ]
    },
    {
     "data": {
      "image/png": "[encoded data removed]",
      "text/plain": [
       "<Figure size 432x288 with 1 Axes>"
      ]
     },
     "metadata": {
      "needs_background": "light"
     },
     "output_type": "display_data"
    }
   ],
   "source": [
    "print(\"Node mutation\")\n",
    "nodes, connections = genome1.mutate_node(history)\n",
    "genome1.print_state(history=history, nodes=nodes, connections=connections)\n",
    "genome1.draw_state()"
   ]
  },
  {
   "cell_type": "code",
   "execution_count": 34,
   "metadata": {},
   "outputs": [
    {
     "name": "stdout",
     "output_type": "stream",
     "text": [
      "Gene mutation\n",
      "\tState\n",
      "\tNodes: 4 (3), {0: [Node(0,L=0), Node(1,L=0)], 1: [Node(3,L=1)], 2: [Node(2,L=2)]}\n",
      "\tConnections: 5, [Gene(Node(1,L=0)->Node(2,L=2),W=-0.8445,I=0,E=0), Gene(Node(1,L=0)->Node(3,L=1),W=1.0000,I=1,E=1), Gene(Node(3,L=1)->Node(2,L=2),W=-0.8445,I=2,E=1), Gene(Node(0,L=0)->Node(3,L=1),W=0.0000,I=3,E=1), Gene(Node(0,L=0)->Node(2,L=2),W=0.5017,I=4,E=1)]\n",
      "\tHistory: [History(1->2,I=0,L=[]), History(1->3,I=1,L=[0]), History(3->2,I=2,L=[0, 1]), History(0->3,I=3,L=[0, 1, 2]), History(0->2,I=4,L=[0, 1, 2, 3])]\n",
      "\n",
      "\tMutations\n",
      "\tConnections: [Gene(Node(0,L=0)->Node(2,L=2),W=0.5017,I=4,E=1)]\n",
      "\n",
      "\n"
     ]
    },
    {
     "data": {
      "image/png": "[encoded data removed]",
      "text/plain": [
       "<Figure size 432x288 with 1 Axes>"
      ]
     },
     "metadata": {
      "needs_background": "light"
     },
     "output_type": "display_data"
    }
   ],
   "source": [
    "print(\"Gene mutation\")\n",
    "connection = genome1.mutate_connection(history)\n",
    "genome1.print_state(history=history, connections=[connection])\n",
    "genome1.draw_state()"
   ]
  },
  {
   "cell_type": "code",
   "execution_count": 35,
   "metadata": {},
   "outputs": [
    {
     "name": "stdout",
     "output_type": "stream",
     "text": [
      "Node mutation\n",
      "\tState\n",
      "\tNodes: 5 (3), {0: [Node(0,L=0), Node(1,L=0)], 1: [Node(3,L=1), Node(4,L=1)], 2: [Node(2,L=2)]}\n",
      "\tConnections: 8, [Gene(Node(1,L=0)->Node(2,L=2),W=-0.8445,I=0,E=0), Gene(Node(1,L=0)->Node(3,L=1),W=1.0000,I=1,E=1), Gene(Node(3,L=1)->Node(2,L=2),W=-0.8445,I=2,E=1), Gene(Node(0,L=0)->Node(3,L=1),W=0.0000,I=3,E=1), Gene(Node(0,L=0)->Node(2,L=2),W=0.5017,I=4,E=1), Gene(Node(1,L=0)->Node(4,L=1),W=1.0000,I=5,E=1), Gene(Node(4,L=1)->Node(2,L=2),W=-0.8445,I=6,E=1), Gene(Node(0,L=0)->Node(4,L=1),W=0.0000,I=7,E=1)]\n",
      "\tHistory: [History(1->2,I=0,L=[]), History(1->3,I=1,L=[0]), History(3->2,I=2,L=[0, 1]), History(0->3,I=3,L=[0, 1, 2]), History(0->2,I=4,L=[0, 1, 2, 3]), History(1->4,I=5,L=[0, 1, 2, 3, 4]), History(4->2,I=6,L=[0, 1, 2, 3, 4, 5]), History(0->4,I=7,L=[0, 1, 2, 3, 4, 5, 6])]\n",
      "\n",
      "\tMutations\n",
      "\tNodes: [Node(4,L=1)]\n",
      "\tConnections: [Gene(Node(1,L=0)->Node(4,L=1),W=1.0000,I=5,E=1), Gene(Node(4,L=1)->Node(2,L=2),W=-0.8445,I=6,E=1), Gene(Node(0,L=0)->Node(4,L=1),W=0.0000,I=7,E=1)]\n",
      "\n",
      "\n"
     ]
    },
    {
     "data": {
      "image/png": "[encoded data removed]",
      "text/plain": [
       "<Figure size 432x288 with 1 Axes>"
      ]
     },
     "metadata": {
      "needs_background": "light"
     },
     "output_type": "display_data"
    }
   ],
   "source": [
    "print(\"Node mutation\")\n",
    "nodes, connections = genome1.mutate_node(history)\n",
    "genome1.print_state(history=history, nodes=nodes, connections=connections)\n",
    "genome1.draw_state()"
   ]
  },
  {
   "attachments": {},
   "cell_type": "markdown",
   "metadata": {},
   "source": [
    "# Genome 2"
   ]
  },
  {
   "cell_type": "code",
   "execution_count": 36,
   "metadata": {},
   "outputs": [
    {
     "name": "stdout",
     "output_type": "stream",
     "text": [
      "Initializing genome2\n",
      "\tState\n",
      "\tNodes: 3 (2), {0: [Node(0,L=0), Node(1,L=0)], 1: [Node(2,L=1)]}\n",
      "\tConnections: 0, []\n",
      "\tHistory: [History(1->2,I=0,L=[]), History(1->3,I=1,L=[0]), History(3->2,I=2,L=[0, 1]), History(0->3,I=3,L=[0, 1, 2]), History(0->2,I=4,L=[0, 1, 2, 3]), History(1->4,I=5,L=[0, 1, 2, 3, 4]), History(4->2,I=6,L=[0, 1, 2, 3, 4, 5]), History(0->4,I=7,L=[0, 1, 2, 3, 4, 5, 6])]\n",
      "\n",
      "\n"
     ]
    },
    {
     "data": {
      "image/png": "[encoded data removed]",
      "text/plain": [
       "<Figure size 432x288 with 1 Axes>"
      ]
     },
     "metadata": {
      "needs_background": "light"
     },
     "output_type": "display_data"
    }
   ],
   "source": [
    "print(\"Initializing genome2\")\n",
    "genome2 = Genome(1, 1)\n",
    "genome2.print_state(history=history)\n",
    "genome2.draw_state()"
   ]
  },
  {
   "cell_type": "code",
   "execution_count": 37,
   "metadata": {},
   "outputs": [
    {
     "name": "stdout",
     "output_type": "stream",
     "text": [
      "General mutation\n",
      "\tState\n",
      "\tNodes: 3 (2), {0: [Node(0,L=0), Node(1,L=0)], 1: [Node(2,L=1)]}\n",
      "\tConnections: 1, [Gene(Node(1,L=0)->Node(2,L=1),W=-0.9048,I=0,E=1)]\n",
      "\tHistory: [History(1->2,I=0,L=[]), History(1->3,I=1,L=[0]), History(3->2,I=2,L=[0, 1]), History(0->3,I=3,L=[0, 1, 2]), History(0->2,I=4,L=[0, 1, 2, 3]), History(1->4,I=5,L=[0, 1, 2, 3, 4]), History(4->2,I=6,L=[0, 1, 2, 3, 4, 5]), History(0->4,I=7,L=[0, 1, 2, 3, 4, 5, 6])]\n",
      "\n",
      "\tMutations\n",
      "\tConnections: [Gene(Node(1,L=0)->Node(2,L=1),W=-0.9048,I=0,E=1)]\n",
      "\n",
      "\n"
     ]
    },
    {
     "data": {
      "image/png": "[encoded data removed]",
      "text/plain": [
       "<Figure size 432x288 with 1 Axes>"
      ]
     },
     "metadata": {
      "needs_background": "light"
     },
     "output_type": "display_data"
    }
   ],
   "source": [
    "print(\"General mutation\")\n",
    "nodes, connections = genome2.mutate_genome(history)\n",
    "genome2.print_state(history=history, nodes=nodes, connections=connections)\n",
    "genome2.draw_state()"
   ]
  },
  {
   "cell_type": "code",
   "execution_count": 38,
   "metadata": {},
   "outputs": [
    {
     "name": "stdout",
     "output_type": "stream",
     "text": [
      "Node mutation\n",
      "\tState\n",
      "\tNodes: 4 (3), {0: [Node(0,L=0), Node(1,L=0)], 1: [Node(3,L=1)], 2: [Node(2,L=2)]}\n",
      "\tConnections: 4, [Gene(Node(1,L=0)->Node(2,L=2),W=-0.9048,I=0,E=0), Gene(Node(1,L=0)->Node(3,L=1),W=1.0000,I=1,E=1), Gene(Node(3,L=1)->Node(2,L=2),W=-0.9048,I=2,E=1), Gene(Node(0,L=0)->Node(3,L=1),W=0.0000,I=3,E=1)]\n",
      "\tHistory: [History(1->2,I=0,L=[]), History(1->3,I=1,L=[0]), History(3->2,I=2,L=[0, 1]), History(0->3,I=3,L=[0, 1, 2]), History(0->2,I=4,L=[0, 1, 2, 3]), History(1->4,I=5,L=[0, 1, 2, 3, 4]), History(4->2,I=6,L=[0, 1, 2, 3, 4, 5]), History(0->4,I=7,L=[0, 1, 2, 3, 4, 5, 6])]\n",
      "\n",
      "\tMutations\n",
      "\tNodes: [Node(3,L=1)]\n",
      "\tConnections: [Gene(Node(1,L=0)->Node(3,L=1),W=1.0000,I=1,E=1), Gene(Node(3,L=1)->Node(2,L=2),W=-0.9048,I=2,E=1), Gene(Node(0,L=0)->Node(3,L=1),W=0.0000,I=3,E=1)]\n",
      "\n",
      "\n"
     ]
    },
    {
     "data": {
      "image/png": "[encoded data removed]",
      "text/plain": [
       "<Figure size 432x288 with 1 Axes>"
      ]
     },
     "metadata": {
      "needs_background": "light"
     },
     "output_type": "display_data"
    }
   ],
   "source": [
    "print(\"Node mutation\")\n",
    "nodes, connections = genome2.mutate_node(history)\n",
    "genome2.print_state(history=history, nodes=nodes, connections=connections)\n",
    "genome2.draw_state()"
   ]
  },
  {
   "cell_type": "code",
   "execution_count": 39,
   "metadata": {},
   "outputs": [
    {
     "name": "stdout",
     "output_type": "stream",
     "text": [
      "Gene mutation\n",
      "\tState\n",
      "\tNodes: 4 (3), {0: [Node(0,L=0), Node(1,L=0)], 1: [Node(3,L=1)], 2: [Node(2,L=2)]}\n",
      "\tConnections: 5, [Gene(Node(1,L=0)->Node(2,L=2),W=-0.9048,I=0,E=0), Gene(Node(1,L=0)->Node(3,L=1),W=1.0000,I=1,E=1), Gene(Node(3,L=1)->Node(2,L=2),W=-0.9048,I=2,E=1), Gene(Node(0,L=0)->Node(3,L=1),W=0.0000,I=3,E=1), Gene(Node(0,L=0)->Node(2,L=2),W=0.1067,I=4,E=1)]\n",
      "\tHistory: [History(1->2,I=0,L=[]), History(1->3,I=1,L=[0]), History(3->2,I=2,L=[0, 1]), History(0->3,I=3,L=[0, 1, 2]), History(0->2,I=4,L=[0, 1, 2, 3]), History(1->4,I=5,L=[0, 1, 2, 3, 4]), History(4->2,I=6,L=[0, 1, 2, 3, 4, 5]), History(0->4,I=7,L=[0, 1, 2, 3, 4, 5, 6])]\n",
      "\n",
      "\tMutations\n",
      "\tConnections: [Gene(Node(0,L=0)->Node(2,L=2),W=0.1067,I=4,E=1)]\n",
      "\n",
      "\n"
     ]
    },
    {
     "data": {
      "image/png": "[encoded data removed]",
      "text/plain": [
       "<Figure size 432x288 with 1 Axes>"
      ]
     },
     "metadata": {
      "needs_background": "light"
     },
     "output_type": "display_data"
    }
   ],
   "source": [
    "print(\"Gene mutation\")\n",
    "connection = genome2.mutate_connection(history)\n",
    "genome2.print_state(history=history, connections=[connection])\n",
    "genome2.draw_state()"
   ]
  },
  {
   "cell_type": "code",
   "execution_count": 40,
   "metadata": {},
   "outputs": [
    {
     "name": "stdout",
     "output_type": "stream",
     "text": [
      "Node mutation\n",
      "\tState\n",
      "\tNodes: 5 (4), {0: [Node(0,L=0), Node(1,L=0)], 1: [Node(3,L=1)], 2: [Node(4,L=2)], 3: [Node(2,L=3)]}\n",
      "\tConnections: 8, [Gene(Node(1,L=0)->Node(2,L=3),W=-0.9048,I=0,E=0), Gene(Node(1,L=0)->Node(3,L=1),W=1.0000,I=1,E=1), Gene(Node(3,L=1)->Node(2,L=3),W=-0.9048,I=2,E=0), Gene(Node(0,L=0)->Node(3,L=1),W=0.0000,I=3,E=1), Gene(Node(0,L=0)->Node(2,L=3),W=0.1067,I=4,E=1), Gene(Node(3,L=1)->Node(4,L=2),W=1.0000,I=8,E=1), Gene(Node(4,L=2)->Node(2,L=3),W=-0.9048,I=9,E=1), Gene(Node(0,L=0)->Node(4,L=2),W=0.0000,I=10,E=1)]\n",
      "\tHistory: [History(1->2,I=0,L=[]), History(1->3,I=1,L=[0]), History(3->2,I=2,L=[0, 1]), History(0->3,I=3,L=[0, 1, 2]), History(0->2,I=4,L=[0, 1, 2, 3]), History(1->4,I=5,L=[0, 1, 2, 3, 4]), History(4->2,I=6,L=[0, 1, 2, 3, 4, 5]), History(0->4,I=7,L=[0, 1, 2, 3, 4, 5, 6]), History(3->4,I=8,L=[0, 1, 2, 3, 4]), History(4->2,I=9,L=[0, 1, 2, 3, 4, 8]), History(0->4,I=10,L=[0, 1, 2, 3, 4, 8, 9])]\n",
      "\n",
      "\tMutations\n",
      "\tNodes: [Node(4,L=2)]\n",
      "\tConnections: [Gene(Node(3,L=1)->Node(4,L=2),W=1.0000,I=8,E=1), Gene(Node(4,L=2)->Node(2,L=3),W=-0.9048,I=9,E=1), Gene(Node(0,L=0)->Node(4,L=2),W=0.0000,I=10,E=1)]\n",
      "\n",
      "\n"
     ]
    },
    {
     "data": {
      "image/png": "[encoded data removed]",
      "text/plain": [
       "<Figure size 432x288 with 1 Axes>"
      ]
     },
     "metadata": {
      "needs_background": "light"
     },
     "output_type": "display_data"
    }
   ],
   "source": [
    "print(\"Node mutation\")\n",
    "nodes, connections = genome2.mutate_node(history)\n",
    "genome2.print_state(history=history, nodes=nodes, connections=connections)\n",
    "genome2.draw_state()"
   ]
  },
  {
   "cell_type": "code",
   "execution_count": 41,
   "metadata": {},
   "outputs": [
    {
     "name": "stdout",
     "output_type": "stream",
     "text": [
      "Gene mutation\n",
      "\tState\n",
      "\tNodes: 5 (4), {0: [Node(0,L=0), Node(1,L=0)], 1: [Node(3,L=1)], 2: [Node(4,L=2)], 3: [Node(2,L=3)]}\n",
      "\tConnections: 9, [Gene(Node(1,L=0)->Node(2,L=3),W=-0.9048,I=0,E=0), Gene(Node(1,L=0)->Node(3,L=1),W=1.0000,I=1,E=1), Gene(Node(3,L=1)->Node(2,L=3),W=-0.9048,I=2,E=0), Gene(Node(0,L=0)->Node(3,L=1),W=0.0000,I=3,E=1), Gene(Node(0,L=0)->Node(2,L=3),W=0.1067,I=4,E=1), Gene(Node(3,L=1)->Node(4,L=2),W=1.0000,I=8,E=1), Gene(Node(4,L=2)->Node(2,L=3),W=-0.9048,I=9,E=1), Gene(Node(0,L=0)->Node(4,L=2),W=0.0000,I=10,E=1), Gene(Node(1,L=0)->Node(4,L=2),W=0.9175,I=11,E=1)]\n",
      "\tHistory: [History(1->2,I=0,L=[]), History(1->3,I=1,L=[0]), History(3->2,I=2,L=[0, 1]), History(0->3,I=3,L=[0, 1, 2]), History(0->2,I=4,L=[0, 1, 2, 3]), History(1->4,I=5,L=[0, 1, 2, 3, 4]), History(4->2,I=6,L=[0, 1, 2, 3, 4, 5]), History(0->4,I=7,L=[0, 1, 2, 3, 4, 5, 6]), History(3->4,I=8,L=[0, 1, 2, 3, 4]), History(4->2,I=9,L=[0, 1, 2, 3, 4, 8]), History(0->4,I=10,L=[0, 1, 2, 3, 4, 8, 9]), History(1->4,I=11,L=[0, 1, 2, 3, 4, 8, 9, 10])]\n",
      "\n",
      "\tMutations\n",
      "\tConnections: [Gene(Node(1,L=0)->Node(4,L=2),W=0.9175,I=11,E=1)]\n",
      "\n",
      "\n"
     ]
    },
    {
     "data": {
      "image/png": "[encoded data removed]",
      "text/plain": [
       "<Figure size 432x288 with 1 Axes>"
      ]
     },
     "metadata": {
      "needs_background": "light"
     },
     "output_type": "display_data"
    }
   ],
   "source": [
    "print(\"Gene mutation\")\n",
    "connection = genome2.mutate_connection(history)\n",
    "genome2.print_state(history=history, connections=[connection])\n",
    "genome2.draw_state()"
   ]
  },
  {
   "cell_type": "code",
   "execution_count": 42,
   "metadata": {},
   "outputs": [
    {
     "name": "stdout",
     "output_type": "stream",
     "text": [
      "Node mutation\n",
      "\tState\n",
      "\tNodes: 6 (5), {0: [Node(0,L=0), Node(1,L=0)], 1: [Node(5,L=1)], 2: [Node(3,L=2)], 3: [Node(4,L=3)], 4: [Node(2,L=4)]}\n",
      "\tConnections: 12, [Gene(Node(1,L=0)->Node(2,L=4),W=-0.9048,I=0,E=0), Gene(Node(1,L=0)->Node(3,L=2),W=1.0000,I=1,E=0), Gene(Node(3,L=2)->Node(2,L=4),W=-0.9048,I=2,E=0), Gene(Node(0,L=0)->Node(3,L=2),W=0.0000,I=3,E=1), Gene(Node(0,L=0)->Node(2,L=4),W=0.1067,I=4,E=1), Gene(Node(3,L=2)->Node(4,L=3),W=1.0000,I=8,E=1), Gene(Node(4,L=3)->Node(2,L=4),W=-0.9048,I=9,E=1), Gene(Node(0,L=0)->Node(4,L=3),W=0.0000,I=10,E=1), Gene(Node(1,L=0)->Node(4,L=3),W=0.9175,I=11,E=1), Gene(Node(1,L=0)->Node(5,L=1),W=1.0000,I=12,E=1), Gene(Node(5,L=1)->Node(3,L=2),W=1.0000,I=13,E=1), Gene(Node(0,L=0)->Node(5,L=1),W=0.0000,I=14,E=1)]\n",
      "\tHistory: [History(1->2,I=0,L=[]), History(1->3,I=1,L=[0]), History(3->2,I=2,L=[0, 1]), History(0->3,I=3,L=[0, 1, 2]), History(0->2,I=4,L=[0, 1, 2, 3]), History(1->4,I=5,L=[0, 1, 2, 3, 4]), History(4->2,I=6,L=[0, 1, 2, 3, 4, 5]), History(0->4,I=7,L=[0, 1, 2, 3, 4, 5, 6]), History(3->4,I=8,L=[0, 1, 2, 3, 4]), History(4->2,I=9,L=[0, 1, 2, 3, 4, 8]), History(0->4,I=10,L=[0, 1, 2, 3, 4, 8, 9]), History(1->4,I=11,L=[0, 1, 2, 3, 4, 8, 9, 10]), History(1->5,I=12,L=[0, 1, 2, 3, 4, 8, 9, 10, 11]), History(5->3,I=13,L=[0, 1, 2, 3, 4, 8, 9, 10, 11, 12]), History(0->5,I=14,L=[0, 1, 2, 3, 4, 8, 9, 10, 11, 12, 13])]\n",
      "\n",
      "\tMutations\n",
      "\tNodes: [Node(5,L=1)]\n",
      "\tConnections: [Gene(Node(1,L=0)->Node(5,L=1),W=1.0000,I=12,E=1), Gene(Node(5,L=1)->Node(3,L=2),W=1.0000,I=13,E=1), Gene(Node(0,L=0)->Node(5,L=1),W=0.0000,I=14,E=1)]\n",
      "\n",
      "\n"
     ]
    },
    {
     "data": {
      "image/png": "[encoded data removed]",
      "text/plain": [
       "<Figure size 432x288 with 1 Axes>"
      ]
     },
     "metadata": {
      "needs_background": "light"
     },
     "output_type": "display_data"
    }
   ],
   "source": [
    "print(\"Node mutation\")\n",
    "nodes, connections = genome2.mutate_node(history)\n",
    "genome2.print_state(history=history, nodes=nodes, connections=connections)\n",
    "genome2.draw_state()"
   ]
  },
  {
   "cell_type": "code",
   "execution_count": 43,
   "metadata": {},
   "outputs": [
    {
     "name": "stdout",
     "output_type": "stream",
     "text": [
      "Gene mutation\n",
      "\tState\n",
      "\tNodes: 6 (5), {0: [Node(0,L=0), Node(1,L=0)], 1: [Node(5,L=1)], 2: [Node(3,L=2)], 3: [Node(4,L=3)], 4: [Node(2,L=4)]}\n",
      "\tConnections: 13, [Gene(Node(1,L=0)->Node(2,L=4),W=-0.9048,I=0,E=0), Gene(Node(1,L=0)->Node(3,L=2),W=1.0000,I=1,E=0), Gene(Node(3,L=2)->Node(2,L=4),W=-0.9048,I=2,E=0), Gene(Node(0,L=0)->Node(3,L=2),W=0.0000,I=3,E=1), Gene(Node(0,L=0)->Node(2,L=4),W=0.1067,I=4,E=1), Gene(Node(3,L=2)->Node(4,L=3),W=1.0000,I=8,E=1), Gene(Node(4,L=3)->Node(2,L=4),W=-0.9048,I=9,E=1), Gene(Node(0,L=0)->Node(4,L=3),W=0.0000,I=10,E=1), Gene(Node(1,L=0)->Node(4,L=3),W=0.9175,I=11,E=1), Gene(Node(1,L=0)->Node(5,L=1),W=1.0000,I=12,E=1), Gene(Node(5,L=1)->Node(3,L=2),W=1.0000,I=13,E=1), Gene(Node(0,L=0)->Node(5,L=1),W=0.0000,I=14,E=1), Gene(Node(5,L=1)->Node(2,L=4),W=-0.2055,I=15,E=1)]\n",
      "\tHistory: [History(1->2,I=0,L=[]), History(1->3,I=1,L=[0]), History(3->2,I=2,L=[0, 1]), History(0->3,I=3,L=[0, 1, 2]), History(0->2,I=4,L=[0, 1, 2, 3]), History(1->4,I=5,L=[0, 1, 2, 3, 4]), History(4->2,I=6,L=[0, 1, 2, 3, 4, 5]), History(0->4,I=7,L=[0, 1, 2, 3, 4, 5, 6]), History(3->4,I=8,L=[0, 1, 2, 3, 4]), History(4->2,I=9,L=[0, 1, 2, 3, 4, 8]), History(0->4,I=10,L=[0, 1, 2, 3, 4, 8, 9]), History(1->4,I=11,L=[0, 1, 2, 3, 4, 8, 9, 10]), History(1->5,I=12,L=[0, 1, 2, 3, 4, 8, 9, 10, 11]), History(5->3,I=13,L=[0, 1, 2, 3, 4, 8, 9, 10, 11, 12]), History(0->5,I=14,L=[0, 1, 2, 3, 4, 8, 9, 10, 11, 12, 13]), History(5->2,I=15,L=[0, 1, 2, 3, 4, 8, 9, 10, 11, 12, 13, 14])]\n",
      "\n",
      "\tMutations\n",
      "\tConnections: [Gene(Node(5,L=1)->Node(2,L=4),W=-0.2055,I=15,E=1)]\n",
      "\n",
      "\n"
     ]
    },
    {
     "data": {
      "image/png": "[encoded data removed]",
      "text/plain": [
       "<Figure size 432x288 with 1 Axes>"
      ]
     },
     "metadata": {
      "needs_background": "light"
     },
     "output_type": "display_data"
    }
   ],
   "source": [
    "print(\"Gene mutation\")\n",
    "connection = genome2.mutate_connection(history)\n",
    "genome2.print_state(history=history, connections=[connection])\n",
    "genome2.draw_state()"
   ]
  },
  {
   "cell_type": "code",
   "execution_count": 44,
   "metadata": {},
   "outputs": [
    {
     "name": "stdout",
     "output_type": "stream",
     "text": [
      "Node mutation\n",
      "\tState\n",
      "\tNodes: 7 (5), {0: [Node(0,L=0), Node(1,L=0)], 1: [Node(5,L=1), Node(6,L=1)], 2: [Node(3,L=2)], 3: [Node(4,L=3)], 4: [Node(2,L=4)]}\n",
      "\tConnections: 16, [Gene(Node(1,L=0)->Node(2,L=4),W=-0.9048,I=0,E=0), Gene(Node(1,L=0)->Node(3,L=2),W=1.0000,I=1,E=0), Gene(Node(3,L=2)->Node(2,L=4),W=-0.9048,I=2,E=0), Gene(Node(0,L=0)->Node(3,L=2),W=0.0000,I=3,E=1), Gene(Node(0,L=0)->Node(2,L=4),W=0.1067,I=4,E=1), Gene(Node(3,L=2)->Node(4,L=3),W=1.0000,I=8,E=1), Gene(Node(4,L=3)->Node(2,L=4),W=-0.9048,I=9,E=1), Gene(Node(0,L=0)->Node(4,L=3),W=0.0000,I=10,E=1), Gene(Node(1,L=0)->Node(4,L=3),W=0.9175,I=11,E=0), Gene(Node(1,L=0)->Node(5,L=1),W=1.0000,I=12,E=1), Gene(Node(5,L=1)->Node(3,L=2),W=1.0000,I=13,E=1), Gene(Node(0,L=0)->Node(5,L=1),W=0.0000,I=14,E=1), Gene(Node(5,L=1)->Node(2,L=4),W=-0.2055,I=15,E=1), Gene(Node(1,L=0)->Node(6,L=1),W=1.0000,I=16,E=1), Gene(Node(6,L=1)->Node(4,L=3),W=0.9175,I=17,E=1), Gene(Node(0,L=0)->Node(6,L=1),W=0.0000,I=18,E=1)]\n",
      "\tHistory: [History(1->2,I=0,L=[]), History(1->3,I=1,L=[0]), History(3->2,I=2,L=[0, 1]), History(0->3,I=3,L=[0, 1, 2]), History(0->2,I=4,L=[0, 1, 2, 3]), History(1->4,I=5,L=[0, 1, 2, 3, 4]), History(4->2,I=6,L=[0, 1, 2, 3, 4, 5]), History(0->4,I=7,L=[0, 1, 2, 3, 4, 5, 6]), History(3->4,I=8,L=[0, 1, 2, 3, 4]), History(4->2,I=9,L=[0, 1, 2, 3, 4, 8]), History(0->4,I=10,L=[0, 1, 2, 3, 4, 8, 9]), History(1->4,I=11,L=[0, 1, 2, 3, 4, 8, 9, 10]), History(1->5,I=12,L=[0, 1, 2, 3, 4, 8, 9, 10, 11]), History(5->3,I=13,L=[0, 1, 2, 3, 4, 8, 9, 10, 11, 12]), History(0->5,I=14,L=[0, 1, 2, 3, 4, 8, 9, 10, 11, 12, 13]), History(5->2,I=15,L=[0, 1, 2, 3, 4, 8, 9, 10, 11, 12, 13, 14]), History(1->6,I=16,L=[0, 1, 2, 3, 4, 8, 9, 10, 11, 12, 13, 14, 15]), History(6->4,I=17,L=[0, 1, 2, 3, 4, 8, 9, 10, 11, 12, 13, 14, 15, 16]), History(0->6,I=18,L=[0, 1, 2, 3, 4, 8, 9, 10, 11, 12, 13, 14, 15, 16, 17])]\n",
      "\n",
      "\tMutations\n",
      "\tNodes: [Node(6,L=1)]\n",
      "\tConnections: [Gene(Node(1,L=0)->Node(6,L=1),W=1.0000,I=16,E=1), Gene(Node(6,L=1)->Node(4,L=3),W=0.9175,I=17,E=1), Gene(Node(0,L=0)->Node(6,L=1),W=0.0000,I=18,E=1)]\n",
      "\n",
      "\n"
     ]
    },
    {
     "data": {
      "image/png": "[encoded data removed]",
      "text/plain": [
       "<Figure size 432x288 with 1 Axes>"
      ]
     },
     "metadata": {
      "needs_background": "light"
     },
     "output_type": "display_data"
    }
   ],
   "source": [
    "print(\"Node mutation\")\n",
    "nodes, connections = genome2.mutate_node(history)\n",
    "genome2.print_state(history=history, nodes=nodes, connections=connections)\n",
    "genome2.draw_state()"
   ]
  },
  {
   "attachments": {},
   "cell_type": "markdown",
   "metadata": {},
   "source": [
    "# Crossover"
   ]
  },
  {
   "cell_type": "code",
   "execution_count": 45,
   "metadata": {},
   "outputs": [
    {
     "name": "stdout",
     "output_type": "stream",
     "text": [
      "genome1\n",
      "\tState\n",
      "\tNodes: 5 (3), {0: [Node(0,L=0), Node(1,L=0)], 1: [Node(3,L=1), Node(4,L=1)], 2: [Node(2,L=2)]}\n",
      "\tConnections: 8, [Gene(Node(1,L=0)->Node(2,L=2),W=-0.8445,I=0,E=0), Gene(Node(1,L=0)->Node(3,L=1),W=1.0000,I=1,E=1), Gene(Node(3,L=1)->Node(2,L=2),W=-0.8445,I=2,E=1), Gene(Node(0,L=0)->Node(3,L=1),W=0.0000,I=3,E=1), Gene(Node(0,L=0)->Node(2,L=2),W=0.5017,I=4,E=1), Gene(Node(1,L=0)->Node(4,L=1),W=1.0000,I=5,E=1), Gene(Node(4,L=1)->Node(2,L=2),W=-0.8445,I=6,E=1), Gene(Node(0,L=0)->Node(4,L=1),W=0.0000,I=7,E=1)]\n",
      "\n",
      "\n"
     ]
    },
    {
     "data": {
      "image/png": "[encoded data removed]",
      "text/plain": [
       "<Figure size 432x288 with 1 Axes>"
      ]
     },
     "metadata": {
      "needs_background": "light"
     },
     "output_type": "display_data"
    }
   ],
   "source": [
    "print(\"genome1\")\n",
    "genome1.print_state()\n",
    "genome1.draw_state()"
   ]
  },
  {
   "cell_type": "code",
   "execution_count": 46,
   "metadata": {},
   "outputs": [
    {
     "name": "stdout",
     "output_type": "stream",
     "text": [
      "genome2\n",
      "\tState\n",
      "\tNodes: 7 (5), {0: [Node(0,L=0), Node(1,L=0)], 1: [Node(5,L=1), Node(6,L=1)], 2: [Node(3,L=2)], 3: [Node(4,L=3)], 4: [Node(2,L=4)]}\n",
      "\tConnections: 16, [Gene(Node(1,L=0)->Node(2,L=4),W=-0.9048,I=0,E=0), Gene(Node(1,L=0)->Node(3,L=2),W=1.0000,I=1,E=0), Gene(Node(3,L=2)->Node(2,L=4),W=-0.9048,I=2,E=0), Gene(Node(0,L=0)->Node(3,L=2),W=0.0000,I=3,E=1), Gene(Node(0,L=0)->Node(2,L=4),W=0.1067,I=4,E=1), Gene(Node(3,L=2)->Node(4,L=3),W=1.0000,I=8,E=1), Gene(Node(4,L=3)->Node(2,L=4),W=-0.9048,I=9,E=1), Gene(Node(0,L=0)->Node(4,L=3),W=0.0000,I=10,E=1), Gene(Node(1,L=0)->Node(4,L=3),W=0.9175,I=11,E=0), Gene(Node(1,L=0)->Node(5,L=1),W=1.0000,I=12,E=1), Gene(Node(5,L=1)->Node(3,L=2),W=1.0000,I=13,E=1), Gene(Node(0,L=0)->Node(5,L=1),W=0.0000,I=14,E=1), Gene(Node(5,L=1)->Node(2,L=4),W=-0.2055,I=15,E=1), Gene(Node(1,L=0)->Node(6,L=1),W=1.0000,I=16,E=1), Gene(Node(6,L=1)->Node(4,L=3),W=0.9175,I=17,E=1), Gene(Node(0,L=0)->Node(6,L=1),W=0.0000,I=18,E=1)]\n",
      "\n",
      "\n"
     ]
    },
    {
     "data": {
      "image/png": "[encoded data removed]",
      "text/plain": [
       "<Figure size 432x288 with 1 Axes>"
      ]
     },
     "metadata": {
      "needs_background": "light"
     },
     "output_type": "display_data"
    }
   ],
   "source": [
    "print(\"genome2\")\n",
    "genome2.print_state()\n",
    "genome2.draw_state()"
   ]
  },
  {
   "cell_type": "code",
   "execution_count": 47,
   "metadata": {},
   "outputs": [
    {
     "name": "stdout",
     "output_type": "stream",
     "text": [
      "Crossover genome1 with genome 2 to create genome3\n",
      "\tState\n",
      "\tNodes: 5 (3), {0: [Node(0,L=0), Node(1,L=0)], 1: [Node(3,L=1), Node(4,L=1)], 2: [Node(2,L=2)]}\n",
      "\tConnections: 8, [Gene(Node(1,L=0)->Node(2,L=2),W=-0.8445,I=0,E=0), Gene(Node(1,L=0)->Node(3,L=1),W=1.0000,I=1,E=0), Gene(Node(3,L=1)->Node(2,L=2),W=-0.8445,I=2,E=1), Gene(Node(0,L=0)->Node(3,L=1),W=0.0000,I=3,E=1), Gene(Node(0,L=0)->Node(2,L=2),W=0.5017,I=4,E=1), Gene(Node(1,L=0)->Node(4,L=1),W=1.0000,I=5,E=1), Gene(Node(4,L=1)->Node(2,L=2),W=-0.8445,I=6,E=1), Gene(Node(0,L=0)->Node(4,L=1),W=0.0000,I=7,E=1)]\n",
      "\n",
      "\n"
     ]
    },
    {
     "data": {
      "image/png": "[encoded data removed]",
      "text/plain": [
       "<Figure size 432x288 with 1 Axes>"
      ]
     },
     "metadata": {
      "needs_background": "light"
     },
     "output_type": "display_data"
    }
   ],
   "source": [
    "print(\"Crossover genome1 with genome 2 to create genome3\")\n",
    "genome3 = genome1.crossover(genome2)\n",
    "genome3.print_state()\n",
    "genome3.draw_state()"
   ]
  },
  {
   "cell_type": "code",
   "execution_count": 48,
   "metadata": {},
   "outputs": [
    {
     "name": "stdout",
     "output_type": "stream",
     "text": [
      "Crossover genome2 with genome 1 to create genome4\n",
      "\tState\n",
      "\tNodes: 7 (5), {0: [Node(0,L=0), Node(1,L=0)], 1: [Node(5,L=1), Node(6,L=1)], 2: [Node(3,L=2)], 3: [Node(4,L=3)], 4: [Node(2,L=4)]}\n",
      "\tConnections: 16, [Gene(Node(1,L=0)->Node(2,L=4),W=-0.9048,I=0,E=0), Gene(Node(1,L=0)->Node(3,L=2),W=1.0000,I=1,E=1), Gene(Node(3,L=2)->Node(2,L=4),W=-0.9048,I=2,E=0), Gene(Node(0,L=0)->Node(3,L=2),W=0.0000,I=3,E=1), Gene(Node(0,L=0)->Node(2,L=4),W=0.1067,I=4,E=1), Gene(Node(3,L=2)->Node(4,L=3),W=1.0000,I=8,E=1), Gene(Node(4,L=3)->Node(2,L=4),W=-0.9048,I=9,E=1), Gene(Node(0,L=0)->Node(4,L=3),W=0.0000,I=10,E=1), Gene(Node(1,L=0)->Node(4,L=3),W=0.9175,I=11,E=0), Gene(Node(1,L=0)->Node(5,L=1),W=1.0000,I=12,E=1), Gene(Node(5,L=1)->Node(3,L=2),W=1.0000,I=13,E=1), Gene(Node(0,L=0)->Node(5,L=1),W=0.0000,I=14,E=1), Gene(Node(5,L=1)->Node(2,L=4),W=-0.2055,I=15,E=1), Gene(Node(1,L=0)->Node(6,L=1),W=1.0000,I=16,E=1), Gene(Node(6,L=1)->Node(4,L=3),W=0.9175,I=17,E=1), Gene(Node(0,L=0)->Node(6,L=1),W=0.0000,I=18,E=1)]\n",
      "\n",
      "\n"
     ]
    },
    {
     "data": {
      "image/png": "[encoded data removed]",
      "text/plain": [
       "<Figure size 432x288 with 1 Axes>"
      ]
     },
     "metadata": {
      "needs_background": "light"
     },
     "output_type": "display_data"
    }
   ],
   "source": [
    "print(\"Crossover genome2 with genome 1 to create genome4\")\n",
    "genome4 = genome2.crossover(genome1)\n",
    "genome4.print_state()\n",
    "genome4.draw_state()"
   ]
  },
  {
   "cell_type": "code",
   "execution_count": 49,
   "metadata": {},
   "outputs": [
    {
     "name": "stdout",
     "output_type": "stream",
     "text": [
      "Clone genome1 to create genome5\n",
      "\tState\n",
      "\tNodes: 5 (3), {0: [Node(0,L=0), Node(1,L=0)], 1: [Node(3,L=1), Node(4,L=1)], 2: [Node(2,L=2)]}\n",
      "\tConnections: 8, [Gene(Node(1,L=0)->Node(2,L=2),W=-0.8445,I=0,E=0), Gene(Node(1,L=0)->Node(3,L=1),W=1.0000,I=1,E=1), Gene(Node(3,L=1)->Node(2,L=2),W=-0.8445,I=2,E=1), Gene(Node(0,L=0)->Node(3,L=1),W=0.0000,I=3,E=1), Gene(Node(0,L=0)->Node(2,L=2),W=0.5017,I=4,E=1), Gene(Node(1,L=0)->Node(4,L=1),W=1.0000,I=5,E=1), Gene(Node(4,L=1)->Node(2,L=2),W=-0.8445,I=6,E=1), Gene(Node(0,L=0)->Node(4,L=1),W=0.0000,I=7,E=1)]\n",
      "\n",
      "\n"
     ]
    },
    {
     "data": {
      "image/png": "[encoded data removed]",
      "text/plain": [
       "<Figure size 432x288 with 1 Axes>"
      ]
     },
     "metadata": {
      "needs_background": "light"
     },
     "output_type": "display_data"
    }
   ],
   "source": [
    "print(\"Clone genome1 to create genome5\")\n",
    "genome5 = genome1.clone()\n",
    "genome5.print_state()\n",
    "genome5.draw_state()"
   ]
  },
  {
   "cell_type": "code",
   "execution_count": 50,
   "metadata": {},
   "outputs": [
    {
     "name": "stdout",
     "output_type": "stream",
     "text": [
      "Clone genome2 to create genome6\n",
      "\tState\n",
      "\tNodes: 7 (5), {0: [Node(0,L=0), Node(1,L=0)], 1: [Node(5,L=1), Node(6,L=1)], 2: [Node(3,L=2)], 3: [Node(4,L=3)], 4: [Node(2,L=4)]}\n",
      "\tConnections: 16, [Gene(Node(1,L=0)->Node(2,L=4),W=-0.9048,I=0,E=0), Gene(Node(1,L=0)->Node(3,L=2),W=1.0000,I=1,E=0), Gene(Node(3,L=2)->Node(2,L=4),W=-0.9048,I=2,E=0), Gene(Node(0,L=0)->Node(3,L=2),W=0.0000,I=3,E=1), Gene(Node(0,L=0)->Node(2,L=4),W=0.1067,I=4,E=1), Gene(Node(3,L=2)->Node(4,L=3),W=1.0000,I=8,E=1), Gene(Node(4,L=3)->Node(2,L=4),W=-0.9048,I=9,E=1), Gene(Node(0,L=0)->Node(4,L=3),W=0.0000,I=10,E=1), Gene(Node(1,L=0)->Node(4,L=3),W=0.9175,I=11,E=0), Gene(Node(1,L=0)->Node(5,L=1),W=1.0000,I=12,E=1), Gene(Node(5,L=1)->Node(3,L=2),W=1.0000,I=13,E=1), Gene(Node(0,L=0)->Node(5,L=1),W=0.0000,I=14,E=1), Gene(Node(5,L=1)->Node(2,L=4),W=-0.2055,I=15,E=1), Gene(Node(1,L=0)->Node(6,L=1),W=1.0000,I=16,E=1), Gene(Node(6,L=1)->Node(4,L=3),W=0.9175,I=17,E=1), Gene(Node(0,L=0)->Node(6,L=1),W=0.0000,I=18,E=1)]\n",
      "\n",
      "\n"
     ]
    },
    {
     "data": {
      "image/png": "[encoded data removed]",
      "text/plain": [
       "<Figure size 432x288 with 1 Axes>"
      ]
     },
     "metadata": {
      "needs_background": "light"
     },
     "output_type": "display_data"
    }
   ],
   "source": [
    "print(\"Clone genome2 to create genome6\")\n",
    "genome6 = genome2.clone()\n",
    "genome6.print_state()\n",
    "genome6.draw_state()"
   ]
  },
  {
   "attachments": {},
   "cell_type": "markdown",
   "metadata": {},
   "source": [
    "# Propagation"
   ]
  },
  {
   "cell_type": "code",
   "execution_count": 51,
   "metadata": {},
   "outputs": [
    {
     "name": "stdout",
     "output_type": "stream",
     "text": [
      "genome1\n",
      "2 0\n",
      "3 0.5\n",
      "3 0.5\n",
      "2 0.5016837291182188\n",
      "4 0.5\n",
      "4 0.5\n",
      "2 0.07942965908556471\n",
      "2 -0.3428244109470894\n",
      "\tState\n",
      "\tNodes: 5 (3), {0: [Node(0,L=0), Node(1,L=0)], 1: [Node(3,L=1), Node(4,L=1)], 2: [Node(2,L=2)]}\n",
      "\tConnections: 8, [Gene(Node(1,L=0)->Node(2,L=2),W=-0.8445,I=0,E=0), Gene(Node(1,L=0)->Node(3,L=1),W=1.0000,I=1,E=1), Gene(Node(0,L=0)->Node(3,L=1),W=0.0000,I=3,E=1), Gene(Node(0,L=0)->Node(2,L=2),W=0.5017,I=4,E=1), Gene(Node(1,L=0)->Node(4,L=1),W=1.0000,I=5,E=1), Gene(Node(0,L=0)->Node(4,L=1),W=0.0000,I=7,E=1), Gene(Node(3,L=1)->Node(2,L=2),W=-0.8445,I=2,E=1), Gene(Node(4,L=1)->Node(2,L=2),W=-0.8445,I=6,E=1)]\n",
      "\n",
      "\n",
      "[0.4151235574371907]\n"
     ]
    },
    {
     "data": {
      "image/png": "[encoded data removed]",
      "text/plain": [
       "<Figure size 432x288 with 1 Axes>"
      ]
     },
     "metadata": {
      "needs_background": "light"
     },
     "output_type": "display_data"
    }
   ],
   "source": [
    "print(\"genome1\")\n",
    "out1 = genome1.forward_pass([1, 0.5])\n",
    "genome1.print_state()\n",
    "genome1.draw_state()\n",
    "print(out1)"
   ]
  },
  {
   "cell_type": "code",
   "execution_count": 52,
   "metadata": {},
   "outputs": [
    {
     "name": "stdout",
     "output_type": "stream",
     "text": [
      "genome2\n",
      "\tState\n",
      "\tNodes: 7 (5), {0: [Node(0,L=0), Node(1,L=0)], 1: [Node(5,L=1), Node(6,L=1)], 2: [Node(3,L=2)], 3: [Node(4,L=3)], 4: [Node(2,L=4)]}\n",
      "\tConnections: 16, [Gene(Node(1,L=0)->Node(2,L=4),W=-0.9048,I=0,E=0), Gene(Node(1,L=0)->Node(3,L=2),W=1.0000,I=1,E=0), Gene(Node(3,L=2)->Node(2,L=4),W=-0.9048,I=2,E=0), Gene(Node(0,L=0)->Node(3,L=2),W=0.0000,I=3,E=1), Gene(Node(0,L=0)->Node(2,L=4),W=0.1067,I=4,E=1), Gene(Node(3,L=2)->Node(4,L=3),W=1.0000,I=8,E=1), Gene(Node(4,L=3)->Node(2,L=4),W=-0.9048,I=9,E=1), Gene(Node(0,L=0)->Node(4,L=3),W=0.0000,I=10,E=1), Gene(Node(1,L=0)->Node(4,L=3),W=0.9175,I=11,E=0), Gene(Node(1,L=0)->Node(5,L=1),W=1.0000,I=12,E=1), Gene(Node(5,L=1)->Node(3,L=2),W=1.0000,I=13,E=1), Gene(Node(0,L=0)->Node(5,L=1),W=0.0000,I=14,E=1), Gene(Node(5,L=1)->Node(2,L=4),W=-0.2055,I=15,E=1), Gene(Node(1,L=0)->Node(6,L=1),W=1.0000,I=16,E=1), Gene(Node(6,L=1)->Node(4,L=3),W=0.9175,I=17,E=1), Gene(Node(0,L=0)->Node(6,L=1),W=0.0000,I=18,E=1)]\n",
      "\n",
      "\n",
      "2 0\n",
      "3 0\n",
      "3 0\n",
      "2 0.10668067007670379\n",
      "4 0\n",
      "4 0\n",
      "5 0.5\n",
      "5 0.5\n",
      "6 0.5\n",
      "6 0.5\n",
      "3 0.5\n",
      "2 0.003951247694363169\n",
      "4 0.45876528385336357\n",
      "2 0.003951247694363169\n",
      "4 0.9587652838533636\n",
      "2 -0.8635775565615007\n",
      "[0.29659243388977224]\n"
     ]
    },
    {
     "data": {
      "image/png": "[encoded data removed]",
      "text/plain": [
       "<Figure size 432x288 with 1 Axes>"
      ]
     },
     "metadata": {
      "needs_background": "light"
     },
     "output_type": "display_data"
    }
   ],
   "source": [
    "print(\"genome2\")\n",
    "genome2.print_state()\n",
    "genome2.draw_state()\n",
    "out2 = genome2.forward_pass([1, 0.5])\n",
    "print(out2)"
   ]
  },
  {
   "cell_type": "code",
   "execution_count": 53,
   "metadata": {},
   "outputs": [
    {
     "name": "stdout",
     "output_type": "stream",
     "text": [
      "genome3\n",
      "\tState\n",
      "\tNodes: 5 (3), {0: [Node(0,L=0), Node(1,L=0)], 1: [Node(3,L=1), Node(4,L=1)], 2: [Node(2,L=2)]}\n",
      "\tConnections: 8, [Gene(Node(1,L=0)->Node(2,L=2),W=-0.8445,I=0,E=0), Gene(Node(1,L=0)->Node(3,L=1),W=1.0000,I=1,E=0), Gene(Node(3,L=1)->Node(2,L=2),W=-0.8445,I=2,E=1), Gene(Node(0,L=0)->Node(3,L=1),W=0.0000,I=3,E=1), Gene(Node(0,L=0)->Node(2,L=2),W=0.5017,I=4,E=1), Gene(Node(1,L=0)->Node(4,L=1),W=1.0000,I=5,E=1), Gene(Node(4,L=1)->Node(2,L=2),W=-0.8445,I=6,E=1), Gene(Node(0,L=0)->Node(4,L=1),W=0.0000,I=7,E=1)]\n",
      "\n",
      "\n",
      "2 0\n",
      "3 0\n",
      "3 0\n",
      "2 0.5016837291182188\n",
      "4 0.5\n",
      "4 0.5\n",
      "2 0.5016837291182188\n",
      "2 0.07942965908556471\n",
      "[0.5198469812010754]\n"
     ]
    },
    {
     "data": {
      "image/png": "[encoded data removed]",
      "text/plain": [
       "<Figure size 432x288 with 1 Axes>"
      ]
     },
     "metadata": {
      "needs_background": "light"
     },
     "output_type": "display_data"
    }
   ],
   "source": [
    "print(\"genome3\")\n",
    "genome3.print_state()\n",
    "genome3.draw_state()\n",
    "out3 = genome3.forward_pass([1, 0.5])\n",
    "print(out3)"
   ]
  },
  {
   "cell_type": "code",
   "execution_count": 54,
   "metadata": {},
   "outputs": [
    {
     "name": "stdout",
     "output_type": "stream",
     "text": [
      "genome4\n",
      "\tState\n",
      "\tNodes: 7 (5), {0: [Node(0,L=0), Node(1,L=0)], 1: [Node(5,L=1), Node(6,L=1)], 2: [Node(3,L=2)], 3: [Node(4,L=3)], 4: [Node(2,L=4)]}\n",
      "\tConnections: 16, [Gene(Node(1,L=0)->Node(2,L=4),W=-0.9048,I=0,E=0), Gene(Node(1,L=0)->Node(3,L=2),W=1.0000,I=1,E=1), Gene(Node(3,L=2)->Node(2,L=4),W=-0.9048,I=2,E=0), Gene(Node(0,L=0)->Node(3,L=2),W=0.0000,I=3,E=1), Gene(Node(0,L=0)->Node(2,L=4),W=0.1067,I=4,E=1), Gene(Node(3,L=2)->Node(4,L=3),W=1.0000,I=8,E=1), Gene(Node(4,L=3)->Node(2,L=4),W=-0.9048,I=9,E=1), Gene(Node(0,L=0)->Node(4,L=3),W=0.0000,I=10,E=1), Gene(Node(1,L=0)->Node(4,L=3),W=0.9175,I=11,E=0), Gene(Node(1,L=0)->Node(5,L=1),W=1.0000,I=12,E=1), Gene(Node(5,L=1)->Node(3,L=2),W=1.0000,I=13,E=1), Gene(Node(0,L=0)->Node(5,L=1),W=0.0000,I=14,E=1), Gene(Node(5,L=1)->Node(2,L=4),W=-0.2055,I=15,E=1), Gene(Node(1,L=0)->Node(6,L=1),W=1.0000,I=16,E=1), Gene(Node(6,L=1)->Node(4,L=3),W=0.9175,I=17,E=1), Gene(Node(0,L=0)->Node(6,L=1),W=0.0000,I=18,E=1)]\n",
      "\n",
      "\n",
      "2 0\n",
      "3 0.5\n",
      "3 0.5\n",
      "2 0.10668067007670379\n",
      "4 0\n",
      "4 0\n",
      "5 0.5\n",
      "5 0.5\n",
      "6 0.5\n",
      "6 0.5\n",
      "3 1.0\n",
      "2 0.003951247694363169\n",
      "4 0.45876528385336357\n",
      "2 0.003951247694363169\n",
      "4 1.4587652838533636\n",
      "2 -1.3159973609004667\n",
      "[0.21148499913260568]\n"
     ]
    },
    {
     "data": {
      "image/png": "[encoded data removed]",
      "text/plain": [
       "<Figure size 432x288 with 1 Axes>"
      ]
     },
     "metadata": {
      "needs_background": "light"
     },
     "output_type": "display_data"
    }
   ],
   "source": [
    "print(\"genome4\")\n",
    "genome4.print_state()\n",
    "genome4.draw_state()\n",
    "out4 = genome4.forward_pass([1, 0.5])\n",
    "print(out4)"
   ]
  },
  {
   "cell_type": "code",
   "execution_count": 57,
   "metadata": {},
   "outputs": [
    {
     "name": "stdout",
     "output_type": "stream",
     "text": [
      "genome5\n",
      "\tState\n",
      "\tNodes: 5 (3), {0: [Node(0,L=0), Node(1,L=0)], 1: [Node(3,L=1), Node(4,L=1)], 2: [Node(2,L=2)]}\n",
      "\tConnections: 8, [Gene(Node(1,L=0)->Node(2,L=2),W=-0.8445,I=0,E=0), Gene(Node(1,L=0)->Node(3,L=1),W=1.0000,I=1,E=1), Gene(Node(3,L=1)->Node(2,L=2),W=-0.8445,I=2,E=1), Gene(Node(0,L=0)->Node(3,L=1),W=0.0000,I=3,E=1), Gene(Node(0,L=0)->Node(2,L=2),W=0.5017,I=4,E=1), Gene(Node(1,L=0)->Node(4,L=1),W=1.0000,I=5,E=1), Gene(Node(4,L=1)->Node(2,L=2),W=-0.8445,I=6,E=1), Gene(Node(0,L=0)->Node(4,L=1),W=0.0000,I=7,E=1)]\n",
      "\n",
      "\n",
      "2 0\n",
      "3 0.5\n",
      "3 0.5\n",
      "2 0.5016837291182188\n",
      "4 0.5\n",
      "4 0.5\n",
      "2 0.07942965908556471\n",
      "2 -0.3428244109470894\n",
      "[0.4151235574371907]\n"
     ]
    },
    {
     "data": {
      "image/png": "[encoded data removed]",
      "text/plain": [
       "<Figure size 432x288 with 1 Axes>"
      ]
     },
     "metadata": {
      "needs_background": "light"
     },
     "output_type": "display_data"
    }
   ],
   "source": [
    "print(\"genome5\")\n",
    "genome5.print_state()\n",
    "genome5.draw_state()\n",
    "out5 = genome5.forward_pass([1, 0.5])\n",
    "print(out5)"
   ]
  },
  {
   "cell_type": "code",
   "execution_count": 58,
   "metadata": {},
   "outputs": [
    {
     "name": "stdout",
     "output_type": "stream",
     "text": [
      "genome6\n",
      "\tState\n",
      "\tNodes: 7 (5), {0: [Node(0,L=0), Node(1,L=0)], 1: [Node(5,L=1), Node(6,L=1)], 2: [Node(3,L=2)], 3: [Node(4,L=3)], 4: [Node(2,L=4)]}\n",
      "\tConnections: 16, [Gene(Node(1,L=0)->Node(2,L=4),W=-0.9048,I=0,E=0), Gene(Node(1,L=0)->Node(3,L=2),W=1.0000,I=1,E=0), Gene(Node(0,L=0)->Node(3,L=2),W=0.0000,I=3,E=1), Gene(Node(0,L=0)->Node(2,L=4),W=0.1067,I=4,E=1), Gene(Node(0,L=0)->Node(4,L=3),W=0.0000,I=10,E=1), Gene(Node(1,L=0)->Node(4,L=3),W=0.9175,I=11,E=0), Gene(Node(1,L=0)->Node(5,L=1),W=1.0000,I=12,E=1), Gene(Node(0,L=0)->Node(5,L=1),W=0.0000,I=14,E=1), Gene(Node(1,L=0)->Node(6,L=1),W=1.0000,I=16,E=1), Gene(Node(0,L=0)->Node(6,L=1),W=0.0000,I=18,E=1), Gene(Node(5,L=1)->Node(3,L=2),W=1.0000,I=13,E=1), Gene(Node(5,L=1)->Node(2,L=4),W=-0.2055,I=15,E=1), Gene(Node(6,L=1)->Node(4,L=3),W=0.9175,I=17,E=1), Gene(Node(3,L=2)->Node(2,L=4),W=-0.9048,I=2,E=0), Gene(Node(3,L=2)->Node(4,L=3),W=1.0000,I=8,E=1), Gene(Node(4,L=3)->Node(2,L=4),W=-0.9048,I=9,E=1)]\n",
      "\n",
      "\n",
      "2 0\n",
      "3 0\n",
      "3 0\n",
      "2 0.10668067007670379\n",
      "4 0\n",
      "4 0\n",
      "5 0.5\n",
      "5 0.5\n",
      "6 0.5\n",
      "6 0.5\n",
      "3 0.5\n",
      "2 0.003951247694363169\n",
      "4 0.45876528385336357\n",
      "2 0.003951247694363169\n",
      "4 0.9587652838533636\n",
      "2 -0.8635775565615007\n",
      "[0.29659243388977224]\n"
     ]
    },
    {
     "data": {
      "image/png": "[encoded data removed]",
      "text/plain": [
       "<Figure size 432x288 with 1 Axes>"
      ]
     },
     "metadata": {
      "needs_background": "light"
     },
     "output_type": "display_data"
    }
   ],
   "source": [
    "print(\"genome6\")\n",
    "genome6.print_state()\n",
    "genome6.draw_state()\n",
    "out6 = genome6.forward_pass([1, 0.5])\n",
    "print(out6)"
   ]
  }
 ],
 "metadata": {
  "kernelspec": {
   "display_name": "Python 3",
   "language": "python",
   "name": "python3"
  },
  "language_info": {
   "codemirror_mode": {
    "name": "ipython",
    "version": 3
   },
   "file_extension": ".py",
   "mimetype": "text/x-python",
   "name": "python",
   "nbconvert_exporter": "python",
   "pygments_lexer": "ipython3",
   "version": "3.10.2"
  },
  "orig_nbformat": 4
 },
 "nbformat": 4,
 "nbformat_minor": 2
}
