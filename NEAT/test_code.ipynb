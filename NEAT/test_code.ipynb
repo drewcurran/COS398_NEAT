{
 "cells": [
  {
   "attachments": {},
   "cell_type": "markdown",
   "metadata": {},
   "source": [
    "# Imports"
   ]
  },
  {
   "cell_type": "code",
   "execution_count": 1,
   "metadata": {},
   "outputs": [],
   "source": [
    "import os\n",
    "\n",
    "os.chdir('..')"
   ]
  },
  {
   "attachments": {},
   "cell_type": "markdown",
   "metadata": {},
   "source": [
    "# Generation"
   ]
  },
  {
   "attachments": {},
   "cell_type": "markdown",
   "metadata": {},
   "source": [
    "## Mutation"
   ]
  },
  {
   "cell_type": "code",
   "execution_count": 2,
   "metadata": {},
   "outputs": [],
   "source": [
    "from population import Population\n",
    "from organism import Organism\n",
    "from history import InnovationHistory"
   ]
  },
  {
   "cell_type": "code",
   "execution_count": 3,
   "metadata": {},
   "outputs": [
    {
     "name": "stdout",
     "output_type": "stream",
     "text": [
      "State\n",
      "Neurons: 3 (2), {0: [Node(0,L=0), Node(1,L=0)], 1: [Node(2,L=1)]}\n",
      "Connections: 0, []\n",
      "\n"
     ]
    },
    {
     "data": {
      "image/png": "[encoded data removed]",
      "text/plain": [
       "<Figure size 432x288 with 1 Axes>"
      ]
     },
     "metadata": {
      "needs_background": "light"
     },
     "output_type": "display_data"
    }
   ],
   "source": [
    "population = Population(1000, 1, 1)\n",
    "population.innovation_history = InnovationHistory(population.num_inputs + population.num_outputs + 2) \n",
    "player1 = Organism(1, 1)\n",
    "player1.print_state()\n",
    "player1.draw_state()"
   ]
  },
  {
   "cell_type": "code",
   "execution_count": 4,
   "metadata": {},
   "outputs": [
    {
     "name": "stdout",
     "output_type": "stream",
     "text": [
      "State\n",
      "Neurons: 3 (2), {0: [Node(0,L=0), Node(1,L=0)], 1: [Node(2,L=1)]}\n",
      "Connections: 1, [C(Node(1,L=0)->Node(2,L=1),W=-0.6914,I=1,E=1)]\n",
      "\n",
      "[(1, 2)]\n"
     ]
    },
    {
     "data": {
      "image/png": "[encoded data removed]",
      "text/plain": [
       "<Figure size 432x288 with 1 Axes>"
      ]
     },
     "metadata": {
      "needs_background": "light"
     },
     "output_type": "display_data"
    }
   ],
   "source": [
    "population.mutate_genome(player1)\n",
    "player1.print_state()\n",
    "player1.draw_state()\n",
    "print(population.innovation_history.innovations)"
   ]
  },
  {
   "cell_type": "code",
   "execution_count": 5,
   "metadata": {},
   "outputs": [
    {
     "name": "stdout",
     "output_type": "stream",
     "text": [
      "State\n",
      "Neurons: 4 (3), {0: [Node(0,L=0), Node(1,L=0)], 1: [Node(4,L=1)], 2: [Node(2,L=2)]}\n",
      "Connections: 4, [C(Node(1,L=0)->Node(2,L=2),W=-0.6914,I=1,E=0), C(Node(1,L=0)->Node(4,L=1),W=1.0000,I=2,E=1), C(Node(4,L=1)->Node(2,L=2),W=-0.6914,I=3,E=1), C(Node(0,L=0)->Node(4,L=1),W=0.0000,I=4,E=1)]\n",
      "\n",
      "[(1, 2), (1, 4), (4, 2), (0, 4)]\n"
     ]
    },
    {
     "data": {
      "image/png": "[encoded data removed]",
      "text/plain": [
       "<Figure size 432x288 with 1 Axes>"
      ]
     },
     "metadata": {
      "needs_background": "light"
     },
     "output_type": "display_data"
    }
   ],
   "source": [
    "population.mutate_neuron(player1)\n",
    "player1.print_state()\n",
    "player1.draw_state()\n",
    "print(population.innovation_history.innovations)"
   ]
  },
  {
   "cell_type": "code",
   "execution_count": 6,
   "metadata": {},
   "outputs": [
    {
     "name": "stdout",
     "output_type": "stream",
     "text": [
      "State\n",
      "Neurons: 4 (3), {0: [Node(0,L=0), Node(1,L=0)], 1: [Node(4,L=1)], 2: [Node(2,L=2)]}\n",
      "Connections: 5, [C(Node(1,L=0)->Node(2,L=2),W=-0.6914,I=1,E=0), C(Node(1,L=0)->Node(4,L=1),W=1.0000,I=2,E=1), C(Node(4,L=1)->Node(2,L=2),W=-0.6914,I=3,E=1), C(Node(0,L=0)->Node(4,L=1),W=0.0000,I=4,E=1), C(Node(0,L=0)->Node(2,L=2),W=0.6387,I=5,E=1)]\n",
      "\n",
      "[(1, 2), (1, 4), (4, 2), (0, 4), (0, 2)]\n"
     ]
    },
    {
     "data": {
      "image/png": "[encoded data removed]",
      "text/plain": [
       "<Figure size 432x288 with 1 Axes>"
      ]
     },
     "metadata": {
      "needs_background": "light"
     },
     "output_type": "display_data"
    }
   ],
   "source": [
    "population.mutate_gene(player1)\n",
    "player1.print_state()\n",
    "player1.draw_state()\n",
    "print(population.innovation_history.innovations)"
   ]
  },
  {
   "cell_type": "code",
   "execution_count": 7,
   "metadata": {},
   "outputs": [
    {
     "name": "stdout",
     "output_type": "stream",
     "text": [
      "State\n",
      "Neurons: 5 (4), {0: [Node(0,L=0), Node(1,L=0)], 1: [Node(4,L=1)], 2: [Node(5,L=2)], 3: [Node(2,L=3)]}\n",
      "Connections: 8, [C(Node(1,L=0)->Node(2,L=3),W=-0.6914,I=1,E=0), C(Node(1,L=0)->Node(4,L=1),W=1.0000,I=2,E=1), C(Node(4,L=1)->Node(2,L=3),W=-0.6914,I=3,E=0), C(Node(0,L=0)->Node(4,L=1),W=0.0000,I=4,E=1), C(Node(0,L=0)->Node(2,L=3),W=0.6387,I=5,E=1), C(Node(4,L=1)->Node(5,L=2),W=1.0000,I=6,E=1), C(Node(5,L=2)->Node(2,L=3),W=-0.6914,I=7,E=1), C(Node(0,L=0)->Node(5,L=2),W=0.0000,I=8,E=1)]\n",
      "\n",
      "[(1, 2), (1, 4), (4, 2), (0, 4), (0, 2), (4, 5), (5, 2), (0, 5)]\n"
     ]
    },
    {
     "data": {
      "image/png": "[encoded data removed]",
      "text/plain": [
       "<Figure size 432x288 with 1 Axes>"
      ]
     },
     "metadata": {
      "needs_background": "light"
     },
     "output_type": "display_data"
    }
   ],
   "source": [
    "population.mutate_neuron(player1)\n",
    "player1.print_state()\n",
    "player1.draw_state()\n",
    "print(population.innovation_history.innovations)"
   ]
  },
  {
   "cell_type": "code",
   "execution_count": 8,
   "metadata": {},
   "outputs": [
    {
     "name": "stdout",
     "output_type": "stream",
     "text": [
      "State\n",
      "Neurons: 5 (4), {0: [Node(0,L=0), Node(1,L=0)], 1: [Node(4,L=1)], 2: [Node(5,L=2)], 3: [Node(2,L=3)]}\n",
      "Connections: 8, [C(Node(1,L=0)->Node(2,L=3),W=-0.6873,I=1,E=0), C(Node(1,L=0)->Node(4,L=1),W=1.0000,I=2,E=1), C(Node(4,L=1)->Node(2,L=3),W=-0.7011,I=3,E=0), C(Node(0,L=0)->Node(4,L=1),W=0.0263,I=4,E=1), C(Node(0,L=0)->Node(2,L=3),W=0.6074,I=5,E=1), C(Node(4,L=1)->Node(5,L=2),W=-0.9103,I=6,E=1), C(Node(5,L=2)->Node(2,L=3),W=0.1341,I=7,E=1), C(Node(0,L=0)->Node(5,L=2),W=0.6061,I=8,E=1)]\n",
      "\n",
      "[(1, 2), (1, 4), (4, 2), (0, 4), (0, 2), (4, 5), (5, 2), (0, 5)]\n"
     ]
    },
    {
     "data": {
      "image/png": "[encoded data removed]",
      "text/plain": [
       "<Figure size 432x288 with 1 Axes>"
      ]
     },
     "metadata": {
      "needs_background": "light"
     },
     "output_type": "display_data"
    }
   ],
   "source": [
    "population.mutate_genome(player1)\n",
    "player1.print_state()\n",
    "player1.draw_state()\n",
    "print(population.innovation_history.innovations)"
   ]
  },
  {
   "cell_type": "code",
   "execution_count": 11,
   "metadata": {},
   "outputs": [
    {
     "name": "stdout",
     "output_type": "stream",
     "text": [
      "State\n",
      "Neurons: 5 (4), {0: [Node(0,L=0), Node(1,L=0)], 1: [Node(4,L=1)], 2: [Node(5,L=2)], 3: [Node(2,L=3)]}\n",
      "Connections: 8, [C(Node(1,L=0)->Node(2,L=3),W=-0.6873,I=1,E=0), C(Node(1,L=0)->Node(4,L=1),W=1.0000,I=2,E=1), C(Node(4,L=1)->Node(2,L=3),W=-0.7011,I=3,E=0), C(Node(0,L=0)->Node(4,L=1),W=0.0263,I=4,E=1), C(Node(0,L=0)->Node(2,L=3),W=0.6074,I=5,E=1), C(Node(4,L=1)->Node(5,L=2),W=-0.9103,I=6,E=1), C(Node(5,L=2)->Node(2,L=3),W=0.1341,I=7,E=1), C(Node(0,L=0)->Node(5,L=2),W=0.6061,I=8,E=1)]\n",
      "\n",
      "[(0, 4), (1, 4), (2, 3), (0, 3), (2, 4), (1, 3), (2, 6), (6, 3), (0, 6)]\n"
     ]
    },
    {
     "data": {
      "image/png": "[encoded data removed]",
      "text/plain": [
       "<Figure size 432x288 with 1 Axes>"
      ]
     },
     "metadata": {
      "needs_background": "light"
     },
     "output_type": "display_data"
    }
   ],
   "source": [
    "player2 = population.clone(player1)\n",
    "player1.print_state()\n",
    "player1.draw_state()\n",
    "print(population.innovation_history.innovations)"
   ]
  },
  {
   "cell_type": "code",
   "execution_count": null,
   "metadata": {},
   "outputs": [],
   "source": [
    "population.mutate_genome(player2)\n",
    "player2.print_state()\n",
    "player2.draw_state()\n",
    "print(population.innovation_history.innovations)"
   ]
  },
  {
   "attachments": {},
   "cell_type": "markdown",
   "metadata": {},
   "source": [
    "# Training"
   ]
  },
  {
   "cell_type": "code",
   "execution_count": 9,
   "metadata": {},
   "outputs": [],
   "source": [
    "def population_info(population):\n",
    "    return \"Players: %d\\n\" % len(population.players) + \\\n",
    "    \"Species: %d\\n\" % len(population.species) + \\\n",
    "    \"Innovations: %d\\n\" % len(population.innovation_history.innovations) + \\\n",
    "    \"Species Threshold: %.4f\" % population.species_threshold\n",
    "\n",
    "def species_info(i):\n",
    "    fitness = 0\n",
    "    for player in population.species[i].players:\n",
    "        fitness += player.fitness\n",
    "    average_fitness = fitness / len(population.species[i].players)\n",
    "    return \"Species %d - \" % i + \\\n",
    "    \"Players: %d, \" % len(population.species[i].players) + \\\n",
    "    \"Average Fitness: %.4f, \" % average_fitness + \\\n",
    "    \"Max Fitness: %.4f, \" % population.species[i].fittest_player.fitness + \\\n",
    "    \"Max Fitness Ever: %.4f, \" % population.species[i].max_fitness + \\\n",
    "    \"Fittest Innovations: %d, \" % len(population.species[i].fittest_player.innovation_labels) + \\\n",
    "    \"Staleness: %d\" % population.species[i].staleness"
   ]
  },
  {
   "cell_type": "code",
   "execution_count": 10,
   "metadata": {},
   "outputs": [
    {
     "name": "stdout",
     "output_type": "stream",
     "text": [
      "Players: 1000\n",
      "Species: 1\n",
      "Innovations: 6\n",
      "Species Threshold: 2.7000\n",
      "Species 0 - Players: 501, Average Fitness: 53.8842, Max Fitness: 65.0000, Max Fitness Ever: 65.0000, Fittest Innovations: 1, Staleness: 0\n"
     ]
    },
    {
     "ename": "AttributeError",
     "evalue": "'NoneType' object has no attribute 'layer'",
     "output_type": "error",
     "traceback": [
      "\u001b[1;31m---------------------------------------------------------------------------\u001b[0m",
      "\u001b[1;31mAttributeError\u001b[0m                            Traceback (most recent call last)",
      "\u001b[1;32mc:\\Users\\denis\\Documents\\GitHub\\COS398_CatanAI\\NEAT\\test_code.ipynb Cell 14\u001b[0m in \u001b[0;36m<module>\u001b[1;34m\u001b[0m\n\u001b[0;32m      <a href='vscode-notebook-cell:/c%3A/Users/denis/Documents/GitHub/COS398_CatanAI/NEAT/test_code.ipynb#X13sZmlsZQ%3D%3D?line=2'>3</a>\u001b[0m population \u001b[39m=\u001b[39m Population(\u001b[39m1000\u001b[39m, \u001b[39m2\u001b[39m, \u001b[39m2\u001b[39m)\n\u001b[0;32m      <a href='vscode-notebook-cell:/c%3A/Users/denis/Documents/GitHub/COS398_CatanAI/NEAT/test_code.ipynb#X13sZmlsZQ%3D%3D?line=4'>5</a>\u001b[0m \u001b[39mfor\u001b[39;00m _ \u001b[39min\u001b[39;00m \u001b[39mrange\u001b[39m(\u001b[39m10\u001b[39m):\n\u001b[1;32m----> <a href='vscode-notebook-cell:/c%3A/Users/denis/Documents/GitHub/COS398_CatanAI/NEAT/test_code.ipynb#X13sZmlsZQ%3D%3D?line=5'>6</a>\u001b[0m     population\u001b[39m.\u001b[39;49mnew_generation()\n\u001b[0;32m      <a href='vscode-notebook-cell:/c%3A/Users/denis/Documents/GitHub/COS398_CatanAI/NEAT/test_code.ipynb#X13sZmlsZQ%3D%3D?line=6'>7</a>\u001b[0m     won \u001b[39m=\u001b[39m XORGame(\u001b[39m100\u001b[39m)\u001b[39m.\u001b[39mplay_game(population\u001b[39m.\u001b[39mplayers)\n\u001b[0;32m      <a href='vscode-notebook-cell:/c%3A/Users/denis/Documents/GitHub/COS398_CatanAI/NEAT/test_code.ipynb#X13sZmlsZQ%3D%3D?line=7'>8</a>\u001b[0m     \u001b[39mfor\u001b[39;00m i \u001b[39min\u001b[39;00m \u001b[39mrange\u001b[39m(\u001b[39mlen\u001b[39m(population\u001b[39m.\u001b[39mplayers)):\n",
      "File \u001b[1;32mc:\\Users\\denis\\Documents\\GitHub\\COS398_CatanAI\\NEAT\\population.py:34\u001b[0m, in \u001b[0;36mPopulation.new_generation\u001b[1;34m(self)\u001b[0m\n\u001b[0;32m     32\u001b[0m \u001b[39melse\u001b[39;00m:\n\u001b[0;32m     33\u001b[0m     \u001b[39mself\u001b[39m\u001b[39m.\u001b[39mreproduce()\n\u001b[1;32m---> 34\u001b[0m \u001b[39mself\u001b[39;49m\u001b[39m.\u001b[39;49mmutate()\n\u001b[0;32m     35\u001b[0m \u001b[39mself\u001b[39m\u001b[39m.\u001b[39mspeciate()\n\u001b[0;32m     36\u001b[0m \u001b[39mself\u001b[39m\u001b[39m.\u001b[39mgeneration \u001b[39m+\u001b[39m\u001b[39m=\u001b[39m \u001b[39m1\u001b[39m\n",
      "File \u001b[1;32mc:\\Users\\denis\\Documents\\GitHub\\COS398_CatanAI\\NEAT\\population.py:87\u001b[0m, in \u001b[0;36mPopulation.mutate\u001b[1;34m(self)\u001b[0m\n\u001b[0;32m     85\u001b[0m \u001b[39mdef\u001b[39;00m \u001b[39mmutate\u001b[39m(\u001b[39mself\u001b[39m):\n\u001b[0;32m     86\u001b[0m     \u001b[39mfor\u001b[39;00m player \u001b[39min\u001b[39;00m \u001b[39mself\u001b[39m\u001b[39m.\u001b[39mplayers:\n\u001b[1;32m---> 87\u001b[0m         \u001b[39mself\u001b[39;49m\u001b[39m.\u001b[39;49mmutate_genome(player)\n",
      "File \u001b[1;32mc:\\Users\\denis\\Documents\\GitHub\\COS398_CatanAI\\NEAT\\population.py:146\u001b[0m, in \u001b[0;36mPopulation.mutate_genome\u001b[1;34m(self, player)\u001b[0m\n\u001b[0;32m    144\u001b[0m \u001b[39m# Mutate gene\u001b[39;00m\n\u001b[0;32m    145\u001b[0m \u001b[39mif\u001b[39;00m np\u001b[39m.\u001b[39mrandom\u001b[39m.\u001b[39muniform() \u001b[39m<\u001b[39m PR_MUTATE_GENE \u001b[39mor\u001b[39;00m \u001b[39mlen\u001b[39m(player\u001b[39m.\u001b[39mgenes) \u001b[39m==\u001b[39m \u001b[39m0\u001b[39m:\n\u001b[1;32m--> 146\u001b[0m     \u001b[39mself\u001b[39;49m\u001b[39m.\u001b[39;49mmutate_gene(player)\n\u001b[0;32m    148\u001b[0m \u001b[39m# Mutate weights\u001b[39;00m\n\u001b[0;32m    149\u001b[0m \u001b[39mif\u001b[39;00m np\u001b[39m.\u001b[39mrandom\u001b[39m.\u001b[39muniform() \u001b[39m<\u001b[39m PR_MUTATE_WEIGHTS:\n",
      "File \u001b[1;32mc:\\Users\\denis\\Documents\\GitHub\\COS398_CatanAI\\NEAT\\population.py:184\u001b[0m, in \u001b[0;36mPopulation.mutate_gene\u001b[1;34m(self, player)\u001b[0m\n\u001b[0;32m    182\u001b[0m \u001b[39mdef\u001b[39;00m \u001b[39mmutate_gene\u001b[39m(\u001b[39mself\u001b[39m, player:Organism):\n\u001b[0;32m    183\u001b[0m     \u001b[39m# Find a gene to mutate\u001b[39;00m\n\u001b[1;32m--> 184\u001b[0m     gene \u001b[39m=\u001b[39m player\u001b[39m.\u001b[39;49mfind_mutate_gene()\n\u001b[0;32m    185\u001b[0m     \u001b[39mif\u001b[39;00m gene \u001b[39mis\u001b[39;00m \u001b[39mNone\u001b[39;00m:\n\u001b[0;32m    186\u001b[0m         \u001b[39mreturn\u001b[39;00m\n",
      "File \u001b[1;32mc:\\Users\\denis\\Documents\\GitHub\\COS398_CatanAI\\NEAT\\organism.py:123\u001b[0m, in \u001b[0;36mOrganism.find_mutate_gene\u001b[1;34m(self)\u001b[0m\n\u001b[0;32m    121\u001b[0m neuron1 \u001b[39m=\u001b[39m \u001b[39mself\u001b[39m\u001b[39m.\u001b[39mget_neuron(np\u001b[39m.\u001b[39mrandom\u001b[39m.\u001b[39mrandint(\u001b[39mself\u001b[39m\u001b[39m.\u001b[39mnum_neurons))\n\u001b[0;32m    122\u001b[0m neuron2 \u001b[39m=\u001b[39m \u001b[39mself\u001b[39m\u001b[39m.\u001b[39mget_neuron(np\u001b[39m.\u001b[39mrandom\u001b[39m.\u001b[39mrandint(\u001b[39mself\u001b[39m\u001b[39m.\u001b[39mnum_neurons))\n\u001b[1;32m--> 123\u001b[0m \u001b[39mwhile\u001b[39;00m neuron1\u001b[39m.\u001b[39mlayer \u001b[39m==\u001b[39m neuron2\u001b[39m.\u001b[39;49mlayer \u001b[39mor\u001b[39;00m \u001b[39mself\u001b[39m\u001b[39m.\u001b[39mis_gene(neuron1, neuron2):\n\u001b[0;32m    124\u001b[0m     neuron1 \u001b[39m=\u001b[39m \u001b[39mself\u001b[39m\u001b[39m.\u001b[39mget_neuron(np\u001b[39m.\u001b[39mrandom\u001b[39m.\u001b[39mrandint(\u001b[39mself\u001b[39m\u001b[39m.\u001b[39mnum_neurons))\n\u001b[0;32m    125\u001b[0m     neuron2 \u001b[39m=\u001b[39m \u001b[39mself\u001b[39m\u001b[39m.\u001b[39mget_neuron(np\u001b[39m.\u001b[39mrandom\u001b[39m.\u001b[39mrandint(\u001b[39mself\u001b[39m\u001b[39m.\u001b[39mnum_neurons))\n",
      "\u001b[1;31mAttributeError\u001b[0m: 'NoneType' object has no attribute 'layer'"
     ]
    }
   ],
   "source": [
    "from Circuit_Design.circuit_games import XORGame\n",
    "\n",
    "population = Population(1000, 2, 2)\n",
    "\n",
    "for _ in range(10):\n",
    "    population.new_generation()\n",
    "    won = XORGame(100).play_game(population.players)\n",
    "    for i in range(len(population.players)):\n",
    "        population.players[i].set_fitness(won[i])\n",
    "    population.update_generation()\n",
    "    print(population_info(population))\n",
    "    for i in range(len(population.species)):\n",
    "        print(species_info(i))"
   ]
  }
 ],
 "metadata": {
  "kernelspec": {
   "display_name": "Python 3",
   "language": "python",
   "name": "python3"
  },
  "language_info": {
   "codemirror_mode": {
    "name": "ipython",
    "version": 3
   },
   "file_extension": ".py",
   "mimetype": "text/x-python",
   "name": "python",
   "nbconvert_exporter": "python",
   "pygments_lexer": "ipython3",
   "version": "3.10.2"
  },
  "orig_nbformat": 4
 },
 "nbformat": 4,
 "nbformat_minor": 2
}
