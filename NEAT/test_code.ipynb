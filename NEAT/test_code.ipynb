{
 "cells": [
  {
   "attachments": {},
   "cell_type": "markdown",
   "metadata": {},
   "source": [
    "# Imports"
   ]
  },
  {
   "cell_type": "code",
   "execution_count": 1,
   "metadata": {},
   "outputs": [],
   "source": [
    "import numpy as np\n",
    "\n",
    "from genome import Genome\n",
    "from player import Player\n",
    "from population import Population\n",
    "from game import Game"
   ]
  },
  {
   "attachments": {},
   "cell_type": "markdown",
   "metadata": {},
   "source": [
    "# Setup"
   ]
  },
  {
   "cell_type": "code",
   "execution_count": 2,
   "metadata": {},
   "outputs": [],
   "source": [
    "history = []"
   ]
  },
  {
   "attachments": {},
   "cell_type": "markdown",
   "metadata": {},
   "source": [
    "# Genome Testing"
   ]
  },
  {
   "attachments": {},
   "cell_type": "markdown",
   "metadata": {},
   "source": [
    "## Genomes"
   ]
  },
  {
   "cell_type": "code",
   "execution_count": 3,
   "metadata": {},
   "outputs": [
    {
     "name": "stdout",
     "output_type": "stream",
     "text": [
      "Initializing genome1\n",
      "\tState\n",
      "\tNodes: 3 (2), {0: [Node(0,L=0), Node(1,L=0)], 1: [Node(2,L=1)]}\n",
      "\tConnections: 0, []\n",
      "\n",
      "\n"
     ]
    },
    {
     "data": {
      "image/png": "[encoded data removed]",
      "text/plain": [
       "<Figure size 432x288 with 1 Axes>"
      ]
     },
     "metadata": {
      "needs_background": "light"
     },
     "output_type": "display_data"
    }
   ],
   "source": [
    "print(\"Initializing genome1\")\n",
    "genome1 = Genome(1, 1)\n",
    "genome1.print_state()\n",
    "genome1.draw_state()"
   ]
  },
  {
   "cell_type": "code",
   "execution_count": 4,
   "metadata": {},
   "outputs": [
    {
     "name": "stdout",
     "output_type": "stream",
     "text": [
      "General mutation\n",
      "\tState\n",
      "\tNodes: 3 (2), {0: [Node(0,L=0), Node(1,L=0)], 1: [Node(2,L=1)]}\n",
      "\tConnections: 1, [Gene(Node(0,L=0)->Node(2,L=1),W=0.2841,I=0,E=1)]\n",
      "\tHistory: [History(0->2,I=0,L=[])]\n",
      "\n",
      "\tMutations\n",
      "\tConnections: [Gene(Node(0,L=0)->Node(2,L=1),W=0.2841,I=0,E=1)]\n",
      "\n",
      "\n"
     ]
    },
    {
     "data": {
      "image/png": "[encoded data removed]",
      "text/plain": [
       "<Figure size 432x288 with 1 Axes>"
      ]
     },
     "metadata": {
      "needs_background": "light"
     },
     "output_type": "display_data"
    }
   ],
   "source": [
    "print(\"General mutation\")\n",
    "nodes, connections = genome1.mutate_genome(history)\n",
    "genome1.print_state(history=history, nodes=nodes, connections=connections)\n",
    "genome1.draw_state()"
   ]
  },
  {
   "cell_type": "code",
   "execution_count": 5,
   "metadata": {},
   "outputs": [
    {
     "name": "stdout",
     "output_type": "stream",
     "text": [
      "Node mutation\n",
      "\tState\n",
      "\tNodes: 3 (2), {0: [Node(0,L=0), Node(1,L=0)], 1: [Node(2,L=1)]}\n",
      "\tConnections: 1, [Gene(Node(0,L=0)->Node(2,L=1),W=0.2841,I=0,E=1)]\n",
      "\tHistory: [History(0->2,I=0,L=[])]\n",
      "\n",
      "\n"
     ]
    },
    {
     "data": {
      "image/png": "[encoded data removed]",
      "text/plain": [
       "<Figure size 432x288 with 1 Axes>"
      ]
     },
     "metadata": {
      "needs_background": "light"
     },
     "output_type": "display_data"
    }
   ],
   "source": [
    "print(\"Node mutation\")\n",
    "nodes, connections = genome1.mutate_node(history)\n",
    "genome1.print_state(history=history, nodes=nodes, connections=connections)\n",
    "genome1.draw_state()"
   ]
  },
  {
   "cell_type": "code",
   "execution_count": 6,
   "metadata": {},
   "outputs": [
    {
     "name": "stdout",
     "output_type": "stream",
     "text": [
      "Gene mutation\n",
      "\tState\n",
      "\tNodes: 3 (2), {0: [Node(0,L=0), Node(1,L=0)], 1: [Node(2,L=1)]}\n",
      "\tConnections: 2, [Gene(Node(0,L=0)->Node(2,L=1),W=0.2841,I=0,E=1), Gene(Node(1,L=0)->Node(2,L=1),W=0.1570,I=1,E=1)]\n",
      "\tHistory: [History(0->2,I=0,L=[]), History(1->2,I=1,L=[0])]\n",
      "\n",
      "\tMutations\n",
      "\tConnections: [Gene(Node(1,L=0)->Node(2,L=1),W=0.1570,I=1,E=1)]\n",
      "\n",
      "\n"
     ]
    },
    {
     "data": {
      "image/png": "[encoded data removed]",
      "text/plain": [
       "<Figure size 432x288 with 1 Axes>"
      ]
     },
     "metadata": {
      "needs_background": "light"
     },
     "output_type": "display_data"
    }
   ],
   "source": [
    "print(\"Gene mutation\")\n",
    "connection = genome1.mutate_connection(history)\n",
    "genome1.print_state(history=history, connections=[connection])\n",
    "genome1.draw_state()"
   ]
  },
  {
   "cell_type": "code",
   "execution_count": 7,
   "metadata": {},
   "outputs": [
    {
     "name": "stdout",
     "output_type": "stream",
     "text": [
      "Node mutation\n",
      "\tState\n",
      "\tNodes: 4 (3), {0: [Node(0,L=0), Node(1,L=0)], 1: [Node(3,L=1)], 2: [Node(2,L=2)]}\n",
      "\tConnections: 5, [Gene(Node(0,L=0)->Node(2,L=2),W=0.2841,I=0,E=1), Gene(Node(1,L=0)->Node(2,L=2),W=0.1570,I=1,E=0), Gene(Node(1,L=0)->Node(3,L=1),W=1.0000,I=2,E=1), Gene(Node(3,L=1)->Node(2,L=2),W=0.1570,I=3,E=1), Gene(Node(0,L=0)->Node(3,L=1),W=0.0000,I=4,E=1)]\n",
      "\tHistory: [History(0->2,I=0,L=[]), History(1->2,I=1,L=[0]), History(1->3,I=2,L=[0, 1]), History(3->2,I=3,L=[0, 1, 2]), History(0->3,I=4,L=[0, 1, 2, 3])]\n",
      "\n",
      "\tMutations\n",
      "\tNodes: [Node(3,L=1)]\n",
      "\tConnections: [Gene(Node(1,L=0)->Node(3,L=1),W=1.0000,I=2,E=1), Gene(Node(3,L=1)->Node(2,L=2),W=0.1570,I=3,E=1), Gene(Node(0,L=0)->Node(3,L=1),W=0.0000,I=4,E=1)]\n",
      "\n",
      "\n"
     ]
    },
    {
     "data": {
      "image/png": "[encoded data removed]",
      "text/plain": [
       "<Figure size 432x288 with 1 Axes>"
      ]
     },
     "metadata": {
      "needs_background": "light"
     },
     "output_type": "display_data"
    }
   ],
   "source": [
    "print(\"Node mutation\")\n",
    "nodes, connections = genome1.mutate_node(history)\n",
    "genome1.print_state(history=history, nodes=nodes, connections=connections)\n",
    "genome1.draw_state()"
   ]
  },
  {
   "cell_type": "code",
   "execution_count": 8,
   "metadata": {},
   "outputs": [
    {
     "name": "stdout",
     "output_type": "stream",
     "text": [
      "Initializing genome2\n",
      "\tState\n",
      "\tNodes: 3 (2), {0: [Node(0,L=0), Node(1,L=0)], 1: [Node(2,L=1)]}\n",
      "\tConnections: 0, []\n",
      "\tHistory: [History(0->2,I=0,L=[]), History(1->2,I=1,L=[0]), History(1->3,I=2,L=[0, 1]), History(3->2,I=3,L=[0, 1, 2]), History(0->3,I=4,L=[0, 1, 2, 3])]\n",
      "\n",
      "\n"
     ]
    },
    {
     "data": {
      "image/png": "[encoded data removed]",
      "text/plain": [
       "<Figure size 432x288 with 1 Axes>"
      ]
     },
     "metadata": {
      "needs_background": "light"
     },
     "output_type": "display_data"
    }
   ],
   "source": [
    "print(\"Initializing genome2\")\n",
    "genome2 = Genome(1, 1)\n",
    "genome2.print_state(history=history)\n",
    "genome2.draw_state()"
   ]
  },
  {
   "cell_type": "code",
   "execution_count": 9,
   "metadata": {},
   "outputs": [
    {
     "name": "stdout",
     "output_type": "stream",
     "text": [
      "General mutation\n",
      "\tState\n",
      "\tNodes: 3 (2), {0: [Node(0,L=0), Node(1,L=0)], 1: [Node(2,L=1)]}\n",
      "\tConnections: 1, [Gene(Node(1,L=0)->Node(2,L=1),W=0.3777,I=5,E=1)]\n",
      "\tHistory: [History(0->2,I=0,L=[]), History(1->2,I=1,L=[0]), History(1->3,I=2,L=[0, 1]), History(3->2,I=3,L=[0, 1, 2]), History(0->3,I=4,L=[0, 1, 2, 3]), History(1->2,I=5,L=[])]\n",
      "\n",
      "\tMutations\n",
      "\tConnections: [Gene(Node(1,L=0)->Node(2,L=1),W=0.3777,I=5,E=1)]\n",
      "\n",
      "\n"
     ]
    },
    {
     "data": {
      "image/png": "[encoded data removed]",
      "text/plain": [
       "<Figure size 432x288 with 1 Axes>"
      ]
     },
     "metadata": {
      "needs_background": "light"
     },
     "output_type": "display_data"
    }
   ],
   "source": [
    "print(\"General mutation\")\n",
    "nodes, connections = genome2.mutate_genome(history)\n",
    "genome2.print_state(history=history, nodes=nodes, connections=connections)\n",
    "genome2.draw_state()"
   ]
  },
  {
   "cell_type": "code",
   "execution_count": 10,
   "metadata": {},
   "outputs": [
    {
     "name": "stdout",
     "output_type": "stream",
     "text": [
      "Node mutation\n",
      "\tState\n",
      "\tNodes: 4 (3), {0: [Node(0,L=0), Node(1,L=0)], 1: [Node(3,L=1)], 2: [Node(2,L=2)]}\n",
      "\tConnections: 4, [Gene(Node(1,L=0)->Node(2,L=2),W=0.3777,I=5,E=0), Gene(Node(1,L=0)->Node(3,L=1),W=1.0000,I=6,E=1), Gene(Node(3,L=1)->Node(2,L=2),W=0.3777,I=7,E=1), Gene(Node(0,L=0)->Node(3,L=1),W=0.0000,I=8,E=1)]\n",
      "\tHistory: [History(0->2,I=0,L=[]), History(1->2,I=1,L=[0]), History(1->3,I=2,L=[0, 1]), History(3->2,I=3,L=[0, 1, 2]), History(0->3,I=4,L=[0, 1, 2, 3]), History(1->2,I=5,L=[]), History(1->3,I=6,L=[5]), History(3->2,I=7,L=[5, 6]), History(0->3,I=8,L=[5, 6, 7])]\n",
      "\n",
      "\tMutations\n",
      "\tNodes: [Node(3,L=1)]\n",
      "\tConnections: [Gene(Node(1,L=0)->Node(3,L=1),W=1.0000,I=6,E=1), Gene(Node(3,L=1)->Node(2,L=2),W=0.3777,I=7,E=1), Gene(Node(0,L=0)->Node(3,L=1),W=0.0000,I=8,E=1)]\n",
      "\n",
      "\n"
     ]
    },
    {
     "data": {
      "image/png": "[encoded data removed]",
      "text/plain": [
       "<Figure size 432x288 with 1 Axes>"
      ]
     },
     "metadata": {
      "needs_background": "light"
     },
     "output_type": "display_data"
    }
   ],
   "source": [
    "print(\"Node mutation\")\n",
    "nodes, connections = genome2.mutate_node(history)\n",
    "genome2.print_state(history=history, nodes=nodes, connections=connections)\n",
    "genome2.draw_state()"
   ]
  },
  {
   "cell_type": "code",
   "execution_count": 11,
   "metadata": {},
   "outputs": [
    {
     "name": "stdout",
     "output_type": "stream",
     "text": [
      "Gene mutation\n",
      "\tState\n",
      "\tNodes: 4 (3), {0: [Node(0,L=0), Node(1,L=0)], 1: [Node(3,L=1)], 2: [Node(2,L=2)]}\n",
      "\tConnections: 5, [Gene(Node(1,L=0)->Node(2,L=2),W=0.3777,I=5,E=0), Gene(Node(1,L=0)->Node(3,L=1),W=1.0000,I=6,E=1), Gene(Node(3,L=1)->Node(2,L=2),W=0.3777,I=7,E=1), Gene(Node(0,L=0)->Node(3,L=1),W=0.0000,I=8,E=1), Gene(Node(0,L=0)->Node(2,L=2),W=-0.9086,I=9,E=1)]\n",
      "\tHistory: [History(0->2,I=0,L=[]), History(1->2,I=1,L=[0]), History(1->3,I=2,L=[0, 1]), History(3->2,I=3,L=[0, 1, 2]), History(0->3,I=4,L=[0, 1, 2, 3]), History(1->2,I=5,L=[]), History(1->3,I=6,L=[5]), History(3->2,I=7,L=[5, 6]), History(0->3,I=8,L=[5, 6, 7]), History(0->2,I=9,L=[5, 6, 7, 8])]\n",
      "\n",
      "\tMutations\n",
      "\tConnections: [Gene(Node(0,L=0)->Node(2,L=2),W=-0.9086,I=9,E=1)]\n",
      "\n",
      "\n"
     ]
    },
    {
     "data": {
      "image/png": "[encoded data removed]",
      "text/plain": [
       "<Figure size 432x288 with 1 Axes>"
      ]
     },
     "metadata": {
      "needs_background": "light"
     },
     "output_type": "display_data"
    }
   ],
   "source": [
    "print(\"Gene mutation\")\n",
    "connection = genome2.mutate_connection(history)\n",
    "genome2.print_state(history=history, connections=[connection])\n",
    "genome2.draw_state()"
   ]
  },
  {
   "cell_type": "code",
   "execution_count": 12,
   "metadata": {},
   "outputs": [
    {
     "name": "stdout",
     "output_type": "stream",
     "text": [
      "Node mutation\n",
      "\tState\n",
      "\tNodes: 5 (4), {0: [Node(0,L=0), Node(1,L=0)], 1: [Node(4,L=1)], 2: [Node(3,L=2)], 3: [Node(2,L=3)]}\n",
      "\tConnections: 8, [Gene(Node(1,L=0)->Node(2,L=3),W=0.3777,I=5,E=0), Gene(Node(1,L=0)->Node(3,L=2),W=1.0000,I=6,E=0), Gene(Node(3,L=2)->Node(2,L=3),W=0.3777,I=7,E=1), Gene(Node(0,L=0)->Node(3,L=2),W=0.0000,I=8,E=1), Gene(Node(0,L=0)->Node(2,L=3),W=-0.9086,I=9,E=1), Gene(Node(1,L=0)->Node(4,L=1),W=1.0000,I=10,E=1), Gene(Node(4,L=1)->Node(3,L=2),W=1.0000,I=11,E=1), Gene(Node(0,L=0)->Node(4,L=1),W=0.0000,I=12,E=1)]\n",
      "\tHistory: [History(0->2,I=0,L=[]), History(1->2,I=1,L=[0]), History(1->3,I=2,L=[0, 1]), History(3->2,I=3,L=[0, 1, 2]), History(0->3,I=4,L=[0, 1, 2, 3]), History(1->2,I=5,L=[]), History(1->3,I=6,L=[5]), History(3->2,I=7,L=[5, 6]), History(0->3,I=8,L=[5, 6, 7]), History(0->2,I=9,L=[5, 6, 7, 8]), History(1->4,I=10,L=[5, 6, 7, 8, 9]), History(4->3,I=11,L=[5, 6, 7, 8, 9, 10]), History(0->4,I=12,L=[5, 6, 7, 8, 9, 10, 11])]\n",
      "\n",
      "\tMutations\n",
      "\tNodes: [Node(4,L=1)]\n",
      "\tConnections: [Gene(Node(1,L=0)->Node(4,L=1),W=1.0000,I=10,E=1), Gene(Node(4,L=1)->Node(3,L=2),W=1.0000,I=11,E=1), Gene(Node(0,L=0)->Node(4,L=1),W=0.0000,I=12,E=1)]\n",
      "\n",
      "\n"
     ]
    },
    {
     "data": {
      "image/png": "[encoded data removed]",
      "text/plain": [
       "<Figure size 432x288 with 1 Axes>"
      ]
     },
     "metadata": {
      "needs_background": "light"
     },
     "output_type": "display_data"
    }
   ],
   "source": [
    "print(\"Node mutation\")\n",
    "nodes, connections = genome2.mutate_node(history)\n",
    "genome2.print_state(history=history, nodes=nodes, connections=connections)\n",
    "genome2.draw_state()"
   ]
  },
  {
   "cell_type": "code",
   "execution_count": 13,
   "metadata": {},
   "outputs": [
    {
     "name": "stdout",
     "output_type": "stream",
     "text": [
      "Gene mutation\n",
      "\tState\n",
      "\tNodes: 5 (4), {0: [Node(0,L=0), Node(1,L=0)], 1: [Node(4,L=1)], 2: [Node(3,L=2)], 3: [Node(2,L=3)]}\n",
      "\tConnections: 9, [Gene(Node(1,L=0)->Node(2,L=3),W=0.3777,I=5,E=0), Gene(Node(1,L=0)->Node(3,L=2),W=1.0000,I=6,E=0), Gene(Node(3,L=2)->Node(2,L=3),W=0.3777,I=7,E=1), Gene(Node(0,L=0)->Node(3,L=2),W=0.0000,I=8,E=1), Gene(Node(0,L=0)->Node(2,L=3),W=-0.9086,I=9,E=1), Gene(Node(1,L=0)->Node(4,L=1),W=1.0000,I=10,E=1), Gene(Node(4,L=1)->Node(3,L=2),W=1.0000,I=11,E=1), Gene(Node(0,L=0)->Node(4,L=1),W=0.0000,I=12,E=1), Gene(Node(4,L=1)->Node(2,L=3),W=0.3903,I=13,E=1)]\n",
      "\tHistory: [History(0->2,I=0,L=[]), History(1->2,I=1,L=[0]), History(1->3,I=2,L=[0, 1]), History(3->2,I=3,L=[0, 1, 2]), History(0->3,I=4,L=[0, 1, 2, 3]), History(1->2,I=5,L=[]), History(1->3,I=6,L=[5]), History(3->2,I=7,L=[5, 6]), History(0->3,I=8,L=[5, 6, 7]), History(0->2,I=9,L=[5, 6, 7, 8]), History(1->4,I=10,L=[5, 6, 7, 8, 9]), History(4->3,I=11,L=[5, 6, 7, 8, 9, 10]), History(0->4,I=12,L=[5, 6, 7, 8, 9, 10, 11]), History(4->2,I=13,L=[5, 6, 7, 8, 9, 10, 11, 12])]\n",
      "\n",
      "\tMutations\n",
      "\tConnections: [Gene(Node(4,L=1)->Node(2,L=3),W=0.3903,I=13,E=1)]\n",
      "\n",
      "\n"
     ]
    },
    {
     "data": {
      "image/png": "[encoded data removed]",
      "text/plain": [
       "<Figure size 432x288 with 1 Axes>"
      ]
     },
     "metadata": {
      "needs_background": "light"
     },
     "output_type": "display_data"
    }
   ],
   "source": [
    "print(\"Gene mutation\")\n",
    "connection = genome2.mutate_connection(history)\n",
    "genome2.print_state(history=history, connections=[connection])\n",
    "genome2.draw_state()"
   ]
  },
  {
   "cell_type": "code",
   "execution_count": 14,
   "metadata": {},
   "outputs": [
    {
     "name": "stdout",
     "output_type": "stream",
     "text": [
      "Node mutation\n",
      "\tState\n",
      "\tNodes: 6 (4), {0: [Node(0,L=0), Node(1,L=0)], 1: [Node(4,L=1), Node(5,L=1)], 2: [Node(3,L=2)], 3: [Node(2,L=3)]}\n",
      "\tConnections: 12, [Gene(Node(1,L=0)->Node(2,L=3),W=0.3777,I=5,E=0), Gene(Node(1,L=0)->Node(3,L=2),W=1.0000,I=6,E=0), Gene(Node(3,L=2)->Node(2,L=3),W=0.3777,I=7,E=1), Gene(Node(0,L=0)->Node(3,L=2),W=0.0000,I=8,E=1), Gene(Node(0,L=0)->Node(2,L=3),W=-0.9086,I=9,E=1), Gene(Node(1,L=0)->Node(4,L=1),W=1.0000,I=10,E=1), Gene(Node(4,L=1)->Node(3,L=2),W=1.0000,I=11,E=1), Gene(Node(0,L=0)->Node(4,L=1),W=0.0000,I=12,E=1), Gene(Node(4,L=1)->Node(2,L=3),W=0.3903,I=13,E=1), Gene(Node(1,L=0)->Node(5,L=1),W=1.0000,I=14,E=1), Gene(Node(5,L=1)->Node(3,L=2),W=1.0000,I=15,E=1), Gene(Node(0,L=0)->Node(5,L=1),W=0.0000,I=16,E=1)]\n",
      "\tHistory: [History(0->2,I=0,L=[]), History(1->2,I=1,L=[0]), History(1->3,I=2,L=[0, 1]), History(3->2,I=3,L=[0, 1, 2]), History(0->3,I=4,L=[0, 1, 2, 3]), History(1->2,I=5,L=[]), History(1->3,I=6,L=[5]), History(3->2,I=7,L=[5, 6]), History(0->3,I=8,L=[5, 6, 7]), History(0->2,I=9,L=[5, 6, 7, 8]), History(1->4,I=10,L=[5, 6, 7, 8, 9]), History(4->3,I=11,L=[5, 6, 7, 8, 9, 10]), History(0->4,I=12,L=[5, 6, 7, 8, 9, 10, 11]), History(4->2,I=13,L=[5, 6, 7, 8, 9, 10, 11, 12]), History(1->5,I=14,L=[5, 6, 7, 8, 9, 10, 11, 12, 13]), History(5->3,I=15,L=[5, 6, 7, 8, 9, 10, 11, 12, 13, 14]), History(0->5,I=16,L=[5, 6, 7, 8, 9, 10, 11, 12, 13, 14, 15])]\n",
      "\n",
      "\tMutations\n",
      "\tNodes: [Node(5,L=1)]\n",
      "\tConnections: [Gene(Node(1,L=0)->Node(5,L=1),W=1.0000,I=14,E=1), Gene(Node(5,L=1)->Node(3,L=2),W=1.0000,I=15,E=1), Gene(Node(0,L=0)->Node(5,L=1),W=0.0000,I=16,E=1)]\n",
      "\n",
      "\n"
     ]
    },
    {
     "data": {
      "image/png": "[encoded data removed]",
      "text/plain": [
       "<Figure size 432x288 with 1 Axes>"
      ]
     },
     "metadata": {
      "needs_background": "light"
     },
     "output_type": "display_data"
    }
   ],
   "source": [
    "print(\"Node mutation\")\n",
    "nodes, connections = genome2.mutate_node(history)\n",
    "genome2.print_state(history=history, nodes=nodes, connections=connections)\n",
    "genome2.draw_state()"
   ]
  },
  {
   "cell_type": "code",
   "execution_count": 15,
   "metadata": {},
   "outputs": [
    {
     "name": "stdout",
     "output_type": "stream",
     "text": [
      "Gene mutation\n",
      "\tState\n",
      "\tNodes: 6 (4), {0: [Node(0,L=0), Node(1,L=0)], 1: [Node(4,L=1), Node(5,L=1)], 2: [Node(3,L=2)], 3: [Node(2,L=3)]}\n",
      "\tConnections: 13, [Gene(Node(1,L=0)->Node(2,L=3),W=0.3777,I=5,E=0), Gene(Node(1,L=0)->Node(3,L=2),W=1.0000,I=6,E=0), Gene(Node(3,L=2)->Node(2,L=3),W=0.3777,I=7,E=1), Gene(Node(0,L=0)->Node(3,L=2),W=0.0000,I=8,E=1), Gene(Node(0,L=0)->Node(2,L=3),W=-0.9086,I=9,E=1), Gene(Node(1,L=0)->Node(4,L=1),W=1.0000,I=10,E=1), Gene(Node(4,L=1)->Node(3,L=2),W=1.0000,I=11,E=1), Gene(Node(0,L=0)->Node(4,L=1),W=0.0000,I=12,E=1), Gene(Node(4,L=1)->Node(2,L=3),W=0.3903,I=13,E=1), Gene(Node(1,L=0)->Node(5,L=1),W=1.0000,I=14,E=1), Gene(Node(5,L=1)->Node(3,L=2),W=1.0000,I=15,E=1), Gene(Node(0,L=0)->Node(5,L=1),W=0.0000,I=16,E=1), Gene(Node(5,L=1)->Node(2,L=3),W=-0.8285,I=17,E=1)]\n",
      "\tHistory: [History(0->2,I=0,L=[]), History(1->2,I=1,L=[0]), History(1->3,I=2,L=[0, 1]), History(3->2,I=3,L=[0, 1, 2]), History(0->3,I=4,L=[0, 1, 2, 3]), History(1->2,I=5,L=[]), History(1->3,I=6,L=[5]), History(3->2,I=7,L=[5, 6]), History(0->3,I=8,L=[5, 6, 7]), History(0->2,I=9,L=[5, 6, 7, 8]), History(1->4,I=10,L=[5, 6, 7, 8, 9]), History(4->3,I=11,L=[5, 6, 7, 8, 9, 10]), History(0->4,I=12,L=[5, 6, 7, 8, 9, 10, 11]), History(4->2,I=13,L=[5, 6, 7, 8, 9, 10, 11, 12]), History(1->5,I=14,L=[5, 6, 7, 8, 9, 10, 11, 12, 13]), History(5->3,I=15,L=[5, 6, 7, 8, 9, 10, 11, 12, 13, 14]), History(0->5,I=16,L=[5, 6, 7, 8, 9, 10, 11, 12, 13, 14, 15]), History(5->2,I=17,L=[5, 6, 7, 8, 9, 10, 11, 12, 13, 14, 15, 16])]\n",
      "\n",
      "\tMutations\n",
      "\tConnections: [Gene(Node(5,L=1)->Node(2,L=3),W=-0.8285,I=17,E=1)]\n",
      "\n",
      "\n"
     ]
    },
    {
     "data": {
      "image/png": "[encoded data removed]",
      "text/plain": [
       "<Figure size 432x288 with 1 Axes>"
      ]
     },
     "metadata": {
      "needs_background": "light"
     },
     "output_type": "display_data"
    }
   ],
   "source": [
    "print(\"Gene mutation\")\n",
    "connection = genome2.mutate_connection(history)\n",
    "genome2.print_state(history=history, connections=[connection])\n",
    "genome2.draw_state()"
   ]
  },
  {
   "cell_type": "code",
   "execution_count": 16,
   "metadata": {},
   "outputs": [
    {
     "name": "stdout",
     "output_type": "stream",
     "text": [
      "Node mutation\n",
      "\tState\n",
      "\tNodes: 7 (4), {0: [Node(0,L=0), Node(1,L=0)], 1: [Node(4,L=1), Node(5,L=1)], 2: [Node(3,L=2), Node(6,L=2)], 3: [Node(2,L=3)]}\n",
      "\tConnections: 16, [Gene(Node(1,L=0)->Node(2,L=3),W=0.3777,I=5,E=0), Gene(Node(1,L=0)->Node(3,L=2),W=1.0000,I=6,E=0), Gene(Node(3,L=2)->Node(2,L=3),W=0.3777,I=7,E=1), Gene(Node(0,L=0)->Node(3,L=2),W=0.0000,I=8,E=1), Gene(Node(0,L=0)->Node(2,L=3),W=-0.9086,I=9,E=1), Gene(Node(1,L=0)->Node(4,L=1),W=1.0000,I=10,E=1), Gene(Node(4,L=1)->Node(3,L=2),W=1.0000,I=11,E=1), Gene(Node(0,L=0)->Node(4,L=1),W=0.0000,I=12,E=1), Gene(Node(4,L=1)->Node(2,L=3),W=0.3903,I=13,E=1), Gene(Node(1,L=0)->Node(5,L=1),W=1.0000,I=14,E=1), Gene(Node(5,L=1)->Node(3,L=2),W=1.0000,I=15,E=1), Gene(Node(0,L=0)->Node(5,L=1),W=0.0000,I=16,E=1), Gene(Node(5,L=1)->Node(2,L=3),W=-0.8285,I=17,E=0), Gene(Node(5,L=1)->Node(6,L=2),W=1.0000,I=18,E=1), Gene(Node(6,L=2)->Node(2,L=3),W=-0.8285,I=19,E=1), Gene(Node(0,L=0)->Node(6,L=2),W=0.0000,I=20,E=1)]\n",
      "\tHistory: [History(0->2,I=0,L=[]), History(1->2,I=1,L=[0]), History(1->3,I=2,L=[0, 1]), History(3->2,I=3,L=[0, 1, 2]), History(0->3,I=4,L=[0, 1, 2, 3]), History(1->2,I=5,L=[]), History(1->3,I=6,L=[5]), History(3->2,I=7,L=[5, 6]), History(0->3,I=8,L=[5, 6, 7]), History(0->2,I=9,L=[5, 6, 7, 8]), History(1->4,I=10,L=[5, 6, 7, 8, 9]), History(4->3,I=11,L=[5, 6, 7, 8, 9, 10]), History(0->4,I=12,L=[5, 6, 7, 8, 9, 10, 11]), History(4->2,I=13,L=[5, 6, 7, 8, 9, 10, 11, 12]), History(1->5,I=14,L=[5, 6, 7, 8, 9, 10, 11, 12, 13]), History(5->3,I=15,L=[5, 6, 7, 8, 9, 10, 11, 12, 13, 14]), History(0->5,I=16,L=[5, 6, 7, 8, 9, 10, 11, 12, 13, 14, 15]), History(5->2,I=17,L=[5, 6, 7, 8, 9, 10, 11, 12, 13, 14, 15, 16]), History(5->6,I=18,L=[5, 6, 7, 8, 9, 10, 11, 12, 13, 14, 15, 16, 17]), History(6->2,I=19,L=[5, 6, 7, 8, 9, 10, 11, 12, 13, 14, 15, 16, 17, 18]), History(0->6,I=20,L=[5, 6, 7, 8, 9, 10, 11, 12, 13, 14, 15, 16, 17, 18, 19])]\n",
      "\n",
      "\tMutations\n",
      "\tNodes: [Node(6,L=2)]\n",
      "\tConnections: [Gene(Node(5,L=1)->Node(6,L=2),W=1.0000,I=18,E=1), Gene(Node(6,L=2)->Node(2,L=3),W=-0.8285,I=19,E=1), Gene(Node(0,L=0)->Node(6,L=2),W=0.0000,I=20,E=1)]\n",
      "\n",
      "\n"
     ]
    },
    {
     "data": {
      "image/png": "[encoded data removed]",
      "text/plain": [
       "<Figure size 432x288 with 1 Axes>"
      ]
     },
     "metadata": {
      "needs_background": "light"
     },
     "output_type": "display_data"
    }
   ],
   "source": [
    "print(\"Node mutation\")\n",
    "nodes, connections = genome2.mutate_node(history)\n",
    "genome2.print_state(history=history, nodes=nodes, connections=connections)\n",
    "genome2.draw_state()"
   ]
  },
  {
   "attachments": {},
   "cell_type": "markdown",
   "metadata": {},
   "source": [
    "## Crossover"
   ]
  },
  {
   "cell_type": "code",
   "execution_count": 17,
   "metadata": {},
   "outputs": [
    {
     "name": "stdout",
     "output_type": "stream",
     "text": [
      "genome1\n",
      "\tState\n",
      "\tNodes: 4 (3), {0: [Node(0,L=0), Node(1,L=0)], 1: [Node(3,L=1)], 2: [Node(2,L=2)]}\n",
      "\tConnections: 5, [Gene(Node(0,L=0)->Node(2,L=2),W=0.2841,I=0,E=1), Gene(Node(1,L=0)->Node(2,L=2),W=0.1570,I=1,E=0), Gene(Node(1,L=0)->Node(3,L=1),W=1.0000,I=2,E=1), Gene(Node(3,L=1)->Node(2,L=2),W=0.1570,I=3,E=1), Gene(Node(0,L=0)->Node(3,L=1),W=0.0000,I=4,E=1)]\n",
      "\n",
      "\n"
     ]
    },
    {
     "data": {
      "image/png": "[encoded data removed]",
      "text/plain": [
       "<Figure size 432x288 with 1 Axes>"
      ]
     },
     "metadata": {
      "needs_background": "light"
     },
     "output_type": "display_data"
    }
   ],
   "source": [
    "print(\"genome1\")\n",
    "genome1.print_state()\n",
    "genome1.draw_state()"
   ]
  },
  {
   "cell_type": "code",
   "execution_count": 18,
   "metadata": {},
   "outputs": [
    {
     "name": "stdout",
     "output_type": "stream",
     "text": [
      "genome2\n",
      "\tState\n",
      "\tNodes: 7 (4), {0: [Node(0,L=0), Node(1,L=0)], 1: [Node(4,L=1), Node(5,L=1)], 2: [Node(3,L=2), Node(6,L=2)], 3: [Node(2,L=3)]}\n",
      "\tConnections: 16, [Gene(Node(1,L=0)->Node(2,L=3),W=0.3777,I=5,E=0), Gene(Node(1,L=0)->Node(3,L=2),W=1.0000,I=6,E=0), Gene(Node(3,L=2)->Node(2,L=3),W=0.3777,I=7,E=1), Gene(Node(0,L=0)->Node(3,L=2),W=0.0000,I=8,E=1), Gene(Node(0,L=0)->Node(2,L=3),W=-0.9086,I=9,E=1), Gene(Node(1,L=0)->Node(4,L=1),W=1.0000,I=10,E=1), Gene(Node(4,L=1)->Node(3,L=2),W=1.0000,I=11,E=1), Gene(Node(0,L=0)->Node(4,L=1),W=0.0000,I=12,E=1), Gene(Node(4,L=1)->Node(2,L=3),W=0.3903,I=13,E=1), Gene(Node(1,L=0)->Node(5,L=1),W=1.0000,I=14,E=1), Gene(Node(5,L=1)->Node(3,L=2),W=1.0000,I=15,E=1), Gene(Node(0,L=0)->Node(5,L=1),W=0.0000,I=16,E=1), Gene(Node(5,L=1)->Node(2,L=3),W=-0.8285,I=17,E=0), Gene(Node(5,L=1)->Node(6,L=2),W=1.0000,I=18,E=1), Gene(Node(6,L=2)->Node(2,L=3),W=-0.8285,I=19,E=1), Gene(Node(0,L=0)->Node(6,L=2),W=0.0000,I=20,E=1)]\n",
      "\n",
      "\n"
     ]
    },
    {
     "data": {
      "image/png": "[encoded data removed]",
      "text/plain": [
       "<Figure size 432x288 with 1 Axes>"
      ]
     },
     "metadata": {
      "needs_background": "light"
     },
     "output_type": "display_data"
    }
   ],
   "source": [
    "print(\"genome2\")\n",
    "genome2.print_state()\n",
    "genome2.draw_state()"
   ]
  },
  {
   "cell_type": "code",
   "execution_count": 19,
   "metadata": {},
   "outputs": [
    {
     "name": "stdout",
     "output_type": "stream",
     "text": [
      "Crossover genome1 with genome 2 to create genome3\n",
      "\tState\n",
      "\tNodes: 4 (3), {0: [Node(0,L=0), Node(1,L=0)], 1: [Node(3,L=1)], 2: [Node(2,L=2)]}\n",
      "\tConnections: 5, [Gene(Node(0,L=0)->Node(2,L=2),W=0.2841,I=0,E=1), Gene(Node(1,L=0)->Node(2,L=2),W=0.1570,I=1,E=0), Gene(Node(1,L=0)->Node(3,L=1),W=1.0000,I=2,E=1), Gene(Node(3,L=1)->Node(2,L=2),W=0.1570,I=3,E=1), Gene(Node(0,L=0)->Node(3,L=1),W=0.0000,I=4,E=1)]\n",
      "\n",
      "\n"
     ]
    },
    {
     "data": {
      "image/png": "[encoded data removed]",
      "text/plain": [
       "<Figure size 432x288 with 1 Axes>"
      ]
     },
     "metadata": {
      "needs_background": "light"
     },
     "output_type": "display_data"
    }
   ],
   "source": [
    "print(\"Crossover genome1 with genome 2 to create genome3\")\n",
    "genome3 = genome1.crossover(genome2)\n",
    "genome3.print_state()\n",
    "genome3.draw_state()"
   ]
  },
  {
   "cell_type": "code",
   "execution_count": 20,
   "metadata": {},
   "outputs": [
    {
     "name": "stdout",
     "output_type": "stream",
     "text": [
      "Crossover genome2 with genome 1 to create genome4\n",
      "\tState\n",
      "\tNodes: 7 (4), {0: [Node(0,L=0), Node(1,L=0)], 1: [Node(4,L=1), Node(5,L=1)], 2: [Node(3,L=2), Node(6,L=2)], 3: [Node(2,L=3)]}\n",
      "\tConnections: 16, [Gene(Node(1,L=0)->Node(2,L=3),W=0.3777,I=5,E=0), Gene(Node(1,L=0)->Node(3,L=2),W=1.0000,I=6,E=0), Gene(Node(3,L=2)->Node(2,L=3),W=0.3777,I=7,E=1), Gene(Node(0,L=0)->Node(3,L=2),W=0.0000,I=8,E=1), Gene(Node(0,L=0)->Node(2,L=3),W=-0.9086,I=9,E=1), Gene(Node(1,L=0)->Node(4,L=1),W=1.0000,I=10,E=1), Gene(Node(4,L=1)->Node(3,L=2),W=1.0000,I=11,E=1), Gene(Node(0,L=0)->Node(4,L=1),W=0.0000,I=12,E=1), Gene(Node(4,L=1)->Node(2,L=3),W=0.3903,I=13,E=1), Gene(Node(1,L=0)->Node(5,L=1),W=1.0000,I=14,E=1), Gene(Node(5,L=1)->Node(3,L=2),W=1.0000,I=15,E=1), Gene(Node(0,L=0)->Node(5,L=1),W=0.0000,I=16,E=1), Gene(Node(5,L=1)->Node(2,L=3),W=-0.8285,I=17,E=0), Gene(Node(5,L=1)->Node(6,L=2),W=1.0000,I=18,E=1), Gene(Node(6,L=2)->Node(2,L=3),W=-0.8285,I=19,E=1), Gene(Node(0,L=0)->Node(6,L=2),W=0.0000,I=20,E=1)]\n",
      "\n",
      "\n"
     ]
    },
    {
     "data": {
      "image/png": "[encoded data removed]",
      "text/plain": [
       "<Figure size 432x288 with 1 Axes>"
      ]
     },
     "metadata": {
      "needs_background": "light"
     },
     "output_type": "display_data"
    }
   ],
   "source": [
    "print(\"Crossover genome2 with genome 1 to create genome4\")\n",
    "genome4 = genome2.crossover(genome1)\n",
    "genome4.print_state()\n",
    "genome4.draw_state()"
   ]
  },
  {
   "attachments": {},
   "cell_type": "markdown",
   "metadata": {},
   "source": [
    "## Cloning"
   ]
  },
  {
   "cell_type": "code",
   "execution_count": 21,
   "metadata": {},
   "outputs": [
    {
     "name": "stdout",
     "output_type": "stream",
     "text": [
      "Clone genome1 to create genome5\n",
      "\tState\n",
      "\tNodes: 4 (3), {0: [Node(0,L=0), Node(1,L=0)], 1: [Node(3,L=1)], 2: [Node(2,L=2)]}\n",
      "\tConnections: 5, [Gene(Node(0,L=0)->Node(2,L=2),W=0.2841,I=0,E=1), Gene(Node(1,L=0)->Node(2,L=2),W=0.1570,I=1,E=0), Gene(Node(1,L=0)->Node(3,L=1),W=1.0000,I=2,E=1), Gene(Node(3,L=1)->Node(2,L=2),W=0.1570,I=3,E=1), Gene(Node(0,L=0)->Node(3,L=1),W=0.0000,I=4,E=1)]\n",
      "\n",
      "\n"
     ]
    },
    {
     "data": {
      "image/png": "[encoded data removed]",
      "text/plain": [
       "<Figure size 432x288 with 1 Axes>"
      ]
     },
     "metadata": {
      "needs_background": "light"
     },
     "output_type": "display_data"
    }
   ],
   "source": [
    "print(\"Clone genome1 to create genome5\")\n",
    "genome5 = genome1.clone()\n",
    "genome5.print_state()\n",
    "genome5.draw_state()"
   ]
  },
  {
   "cell_type": "code",
   "execution_count": 22,
   "metadata": {},
   "outputs": [
    {
     "name": "stdout",
     "output_type": "stream",
     "text": [
      "Clone genome2 to create genome6\n",
      "\tState\n",
      "\tNodes: 7 (4), {0: [Node(0,L=0), Node(1,L=0)], 1: [Node(4,L=1), Node(5,L=1)], 2: [Node(3,L=2), Node(6,L=2)], 3: [Node(2,L=3)]}\n",
      "\tConnections: 16, [Gene(Node(1,L=0)->Node(2,L=3),W=0.3777,I=5,E=0), Gene(Node(1,L=0)->Node(3,L=2),W=1.0000,I=6,E=0), Gene(Node(3,L=2)->Node(2,L=3),W=0.3777,I=7,E=1), Gene(Node(0,L=0)->Node(3,L=2),W=0.0000,I=8,E=1), Gene(Node(0,L=0)->Node(2,L=3),W=-0.9086,I=9,E=1), Gene(Node(1,L=0)->Node(4,L=1),W=1.0000,I=10,E=1), Gene(Node(4,L=1)->Node(3,L=2),W=1.0000,I=11,E=1), Gene(Node(0,L=0)->Node(4,L=1),W=0.0000,I=12,E=1), Gene(Node(4,L=1)->Node(2,L=3),W=0.3903,I=13,E=1), Gene(Node(1,L=0)->Node(5,L=1),W=1.0000,I=14,E=1), Gene(Node(5,L=1)->Node(3,L=2),W=1.0000,I=15,E=1), Gene(Node(0,L=0)->Node(5,L=1),W=0.0000,I=16,E=1), Gene(Node(5,L=1)->Node(2,L=3),W=-0.8285,I=17,E=0), Gene(Node(5,L=1)->Node(6,L=2),W=1.0000,I=18,E=1), Gene(Node(6,L=2)->Node(2,L=3),W=-0.8285,I=19,E=1), Gene(Node(0,L=0)->Node(6,L=2),W=0.0000,I=20,E=1)]\n",
      "\n",
      "\n"
     ]
    },
    {
     "data": {
      "image/png": "[encoded data removed]",
      "text/plain": [
       "<Figure size 432x288 with 1 Axes>"
      ]
     },
     "metadata": {
      "needs_background": "light"
     },
     "output_type": "display_data"
    }
   ],
   "source": [
    "print(\"Clone genome2 to create genome6\")\n",
    "genome6 = genome2.clone()\n",
    "genome6.print_state()\n",
    "genome6.draw_state()"
   ]
  },
  {
   "attachments": {},
   "cell_type": "markdown",
   "metadata": {},
   "source": [
    "## Propagation"
   ]
  },
  {
   "cell_type": "code",
   "execution_count": 23,
   "metadata": {},
   "outputs": [
    {
     "name": "stdout",
     "output_type": "stream",
     "text": [
      "genome1\n",
      "\tState\n",
      "\tNodes: 4 (3), {0: [Node(0,L=0), Node(1,L=0)], 1: [Node(3,L=1)], 2: [Node(2,L=2)]}\n",
      "\tConnections: 5, [Gene(Node(0,L=0)->Node(2,L=2),W=0.2841,I=0,E=1), Gene(Node(1,L=0)->Node(2,L=2),W=0.1570,I=1,E=0), Gene(Node(1,L=0)->Node(3,L=1),W=1.0000,I=2,E=1), Gene(Node(0,L=0)->Node(3,L=1),W=0.0000,I=4,E=1), Gene(Node(3,L=1)->Node(2,L=2),W=0.1570,I=3,E=1)]\n",
      "\n",
      "\n",
      "[0.5896747221475198]\n"
     ]
    },
    {
     "data": {
      "image/png": "[encoded data removed]",
      "text/plain": [
       "<Figure size 432x288 with 1 Axes>"
      ]
     },
     "metadata": {
      "needs_background": "light"
     },
     "output_type": "display_data"
    }
   ],
   "source": [
    "print(\"genome1\")\n",
    "out1 = genome1.forward_pass([1, 0.5])\n",
    "genome1.print_state()\n",
    "genome1.draw_state()\n",
    "print(out1)"
   ]
  },
  {
   "cell_type": "code",
   "execution_count": 24,
   "metadata": {},
   "outputs": [
    {
     "name": "stdout",
     "output_type": "stream",
     "text": [
      "genome2\n",
      "\tState\n",
      "\tNodes: 7 (4), {0: [Node(0,L=0), Node(1,L=0)], 1: [Node(4,L=1), Node(5,L=1)], 2: [Node(3,L=2), Node(6,L=2)], 3: [Node(2,L=3)]}\n",
      "\tConnections: 16, [Gene(Node(1,L=0)->Node(2,L=3),W=0.3777,I=5,E=0), Gene(Node(1,L=0)->Node(3,L=2),W=1.0000,I=6,E=0), Gene(Node(3,L=2)->Node(2,L=3),W=0.3777,I=7,E=1), Gene(Node(0,L=0)->Node(3,L=2),W=0.0000,I=8,E=1), Gene(Node(0,L=0)->Node(2,L=3),W=-0.9086,I=9,E=1), Gene(Node(1,L=0)->Node(4,L=1),W=1.0000,I=10,E=1), Gene(Node(4,L=1)->Node(3,L=2),W=1.0000,I=11,E=1), Gene(Node(0,L=0)->Node(4,L=1),W=0.0000,I=12,E=1), Gene(Node(4,L=1)->Node(2,L=3),W=0.3903,I=13,E=1), Gene(Node(1,L=0)->Node(5,L=1),W=1.0000,I=14,E=1), Gene(Node(5,L=1)->Node(3,L=2),W=1.0000,I=15,E=1), Gene(Node(0,L=0)->Node(5,L=1),W=0.0000,I=16,E=1), Gene(Node(5,L=1)->Node(2,L=3),W=-0.8285,I=17,E=0), Gene(Node(5,L=1)->Node(6,L=2),W=1.0000,I=18,E=1), Gene(Node(6,L=2)->Node(2,L=3),W=-0.8285,I=19,E=1), Gene(Node(0,L=0)->Node(6,L=2),W=0.0000,I=20,E=1)]\n",
      "\n",
      "\n",
      "[0.32082672658429257]\n"
     ]
    },
    {
     "data": {
      "image/png": "[encoded data removed]",
      "text/plain": [
       "<Figure size 432x288 with 1 Axes>"
      ]
     },
     "metadata": {
      "needs_background": "light"
     },
     "output_type": "display_data"
    }
   ],
   "source": [
    "print(\"genome2\")\n",
    "genome2.print_state()\n",
    "genome2.draw_state()\n",
    "out2 = genome2.forward_pass([1, 0.5])\n",
    "print(out2)"
   ]
  },
  {
   "cell_type": "code",
   "execution_count": 25,
   "metadata": {},
   "outputs": [
    {
     "name": "stdout",
     "output_type": "stream",
     "text": [
      "genome3\n",
      "\tState\n",
      "\tNodes: 4 (3), {0: [Node(0,L=0), Node(1,L=0)], 1: [Node(3,L=1)], 2: [Node(2,L=2)]}\n",
      "\tConnections: 5, [Gene(Node(0,L=0)->Node(2,L=2),W=0.2841,I=0,E=1), Gene(Node(1,L=0)->Node(2,L=2),W=0.1570,I=1,E=0), Gene(Node(1,L=0)->Node(3,L=1),W=1.0000,I=2,E=1), Gene(Node(3,L=1)->Node(2,L=2),W=0.1570,I=3,E=1), Gene(Node(0,L=0)->Node(3,L=1),W=0.0000,I=4,E=1)]\n",
      "\n",
      "\n",
      "[0.5896747221475198]\n"
     ]
    },
    {
     "data": {
      "image/png": "[encoded data removed]",
      "text/plain": [
       "<Figure size 432x288 with 1 Axes>"
      ]
     },
     "metadata": {
      "needs_background": "light"
     },
     "output_type": "display_data"
    }
   ],
   "source": [
    "print(\"genome3\")\n",
    "genome3.print_state()\n",
    "genome3.draw_state()\n",
    "out3 = genome3.forward_pass([1, 0.5])\n",
    "print(out3)"
   ]
  },
  {
   "cell_type": "code",
   "execution_count": 26,
   "metadata": {},
   "outputs": [
    {
     "name": "stdout",
     "output_type": "stream",
     "text": [
      "genome4\n",
      "\tState\n",
      "\tNodes: 7 (4), {0: [Node(0,L=0), Node(1,L=0)], 1: [Node(4,L=1), Node(5,L=1)], 2: [Node(3,L=2), Node(6,L=2)], 3: [Node(2,L=3)]}\n",
      "\tConnections: 16, [Gene(Node(1,L=0)->Node(2,L=3),W=0.3777,I=5,E=0), Gene(Node(1,L=0)->Node(3,L=2),W=1.0000,I=6,E=0), Gene(Node(3,L=2)->Node(2,L=3),W=0.3777,I=7,E=1), Gene(Node(0,L=0)->Node(3,L=2),W=0.0000,I=8,E=1), Gene(Node(0,L=0)->Node(2,L=3),W=-0.9086,I=9,E=1), Gene(Node(1,L=0)->Node(4,L=1),W=1.0000,I=10,E=1), Gene(Node(4,L=1)->Node(3,L=2),W=1.0000,I=11,E=1), Gene(Node(0,L=0)->Node(4,L=1),W=0.0000,I=12,E=1), Gene(Node(4,L=1)->Node(2,L=3),W=0.3903,I=13,E=1), Gene(Node(1,L=0)->Node(5,L=1),W=1.0000,I=14,E=1), Gene(Node(5,L=1)->Node(3,L=2),W=1.0000,I=15,E=1), Gene(Node(0,L=0)->Node(5,L=1),W=0.0000,I=16,E=1), Gene(Node(5,L=1)->Node(2,L=3),W=-0.8285,I=17,E=0), Gene(Node(5,L=1)->Node(6,L=2),W=1.0000,I=18,E=1), Gene(Node(6,L=2)->Node(2,L=3),W=-0.8285,I=19,E=1), Gene(Node(0,L=0)->Node(6,L=2),W=0.0000,I=20,E=1)]\n",
      "\n",
      "\n",
      "[0.32082672658429257]\n"
     ]
    },
    {
     "data": {
      "image/png": "[encoded data removed]",
      "text/plain": [
       "<Figure size 432x288 with 1 Axes>"
      ]
     },
     "metadata": {
      "needs_background": "light"
     },
     "output_type": "display_data"
    }
   ],
   "source": [
    "print(\"genome4\")\n",
    "genome4.print_state()\n",
    "genome4.draw_state()\n",
    "out4 = genome4.forward_pass([1, 0.5])\n",
    "print(out4)"
   ]
  },
  {
   "cell_type": "code",
   "execution_count": 27,
   "metadata": {},
   "outputs": [
    {
     "name": "stdout",
     "output_type": "stream",
     "text": [
      "genome5\n",
      "\tState\n",
      "\tNodes: 4 (3), {0: [Node(0,L=0), Node(1,L=0)], 1: [Node(3,L=1)], 2: [Node(2,L=2)]}\n",
      "\tConnections: 5, [Gene(Node(0,L=0)->Node(2,L=2),W=0.2841,I=0,E=1), Gene(Node(1,L=0)->Node(2,L=2),W=0.1570,I=1,E=0), Gene(Node(1,L=0)->Node(3,L=1),W=1.0000,I=2,E=1), Gene(Node(3,L=1)->Node(2,L=2),W=0.1570,I=3,E=1), Gene(Node(0,L=0)->Node(3,L=1),W=0.0000,I=4,E=1)]\n",
      "\n",
      "\n",
      "[0.5896747221475198]\n"
     ]
    },
    {
     "data": {
      "image/png": "[encoded data removed]",
      "text/plain": [
       "<Figure size 432x288 with 1 Axes>"
      ]
     },
     "metadata": {
      "needs_background": "light"
     },
     "output_type": "display_data"
    }
   ],
   "source": [
    "print(\"genome5\")\n",
    "genome5.print_state()\n",
    "genome5.draw_state()\n",
    "out5 = genome5.forward_pass([1, 0.5])\n",
    "print(out5)"
   ]
  },
  {
   "cell_type": "code",
   "execution_count": 28,
   "metadata": {},
   "outputs": [
    {
     "name": "stdout",
     "output_type": "stream",
     "text": [
      "genome6\n",
      "\tState\n",
      "\tNodes: 7 (4), {0: [Node(0,L=0), Node(1,L=0)], 1: [Node(4,L=1), Node(5,L=1)], 2: [Node(3,L=2), Node(6,L=2)], 3: [Node(2,L=3)]}\n",
      "\tConnections: 16, [Gene(Node(1,L=0)->Node(2,L=3),W=0.3777,I=5,E=0), Gene(Node(1,L=0)->Node(3,L=2),W=1.0000,I=6,E=0), Gene(Node(3,L=2)->Node(2,L=3),W=0.3777,I=7,E=1), Gene(Node(0,L=0)->Node(3,L=2),W=0.0000,I=8,E=1), Gene(Node(0,L=0)->Node(2,L=3),W=-0.9086,I=9,E=1), Gene(Node(1,L=0)->Node(4,L=1),W=1.0000,I=10,E=1), Gene(Node(4,L=1)->Node(3,L=2),W=1.0000,I=11,E=1), Gene(Node(0,L=0)->Node(4,L=1),W=0.0000,I=12,E=1), Gene(Node(4,L=1)->Node(2,L=3),W=0.3903,I=13,E=1), Gene(Node(1,L=0)->Node(5,L=1),W=1.0000,I=14,E=1), Gene(Node(5,L=1)->Node(3,L=2),W=1.0000,I=15,E=1), Gene(Node(0,L=0)->Node(5,L=1),W=0.0000,I=16,E=1), Gene(Node(5,L=1)->Node(2,L=3),W=-0.8285,I=17,E=0), Gene(Node(5,L=1)->Node(6,L=2),W=1.0000,I=18,E=1), Gene(Node(6,L=2)->Node(2,L=3),W=-0.8285,I=19,E=1), Gene(Node(0,L=0)->Node(6,L=2),W=0.0000,I=20,E=1)]\n",
      "\n",
      "\n",
      "[0.32082672658429257]\n"
     ]
    },
    {
     "data": {
      "image/png": "[encoded data removed]",
      "text/plain": [
       "<Figure size 432x288 with 1 Axes>"
      ]
     },
     "metadata": {
      "needs_background": "light"
     },
     "output_type": "display_data"
    }
   ],
   "source": [
    "print(\"genome6\")\n",
    "genome6.print_state()\n",
    "genome6.draw_state()\n",
    "out6 = genome6.forward_pass([1, 0.5])\n",
    "print(out6)"
   ]
  },
  {
   "attachments": {},
   "cell_type": "markdown",
   "metadata": {},
   "source": [
    "# Player Testing"
   ]
  },
  {
   "cell_type": "code",
   "execution_count": 29,
   "metadata": {},
   "outputs": [
    {
     "name": "stdout",
     "output_type": "stream",
     "text": [
      "\tState\n",
      "\tNodes: 5 (2), {0: [Node(0,L=0), Node(1,L=0), Node(2,L=0)], 1: [Node(3,L=1), Node(4,L=1)]}\n",
      "\tConnections: 0, []\n",
      "\n",
      "\n"
     ]
    },
    {
     "data": {
      "image/png": "[encoded data removed]",
      "text/plain": [
       "<Figure size 432x288 with 1 Axes>"
      ]
     },
     "metadata": {
      "needs_background": "light"
     },
     "output_type": "display_data"
    }
   ],
   "source": [
    "history = []\n",
    "\n",
    "player = Player(2, 2)\n",
    "player.nn.print_state()\n",
    "player.nn.draw_state()"
   ]
  },
  {
   "cell_type": "code",
   "execution_count": 30,
   "metadata": {},
   "outputs": [
    {
     "name": "stdout",
     "output_type": "stream",
     "text": [
      "\tState\n",
      "\tNodes: 5 (2), {0: [Node(0,L=0), Node(1,L=0), Node(2,L=0)], 1: [Node(3,L=1), Node(4,L=1)]}\n",
      "\tConnections: 1, [Gene(Node(0,L=0)->Node(3,L=1),W=-0.4408,I=0,E=1)]\n",
      "\n",
      "\n"
     ]
    },
    {
     "data": {
      "image/png": "[encoded data removed]",
      "text/plain": [
       "<Figure size 432x288 with 1 Axes>"
      ]
     },
     "metadata": {
      "needs_background": "light"
     },
     "output_type": "display_data"
    }
   ],
   "source": [
    "player.mutate(history)\n",
    "player.nn.print_state()\n",
    "player.nn.draw_state()"
   ]
  },
  {
   "cell_type": "code",
   "execution_count": 31,
   "metadata": {},
   "outputs": [
    {
     "name": "stdout",
     "output_type": "stream",
     "text": [
      "[1, 1, 1] [0.3915598931520012, 0.5] 1\n"
     ]
    }
   ],
   "source": [
    "inputs = [1] + np.random.randint(2, size=2).tolist()\n",
    "decision = player.decide(inputs)\n",
    "print(inputs, player.nn.forward_pass(inputs), decision)"
   ]
  },
  {
   "attachments": {},
   "cell_type": "markdown",
   "metadata": {},
   "source": [
    "# Population Testing"
   ]
  },
  {
   "cell_type": "code",
   "execution_count": 32,
   "metadata": {},
   "outputs": [
    {
     "name": "stdout",
     "output_type": "stream",
     "text": [
      "Innovation History: [History(1->3,I=0,L=[]), History(0->3,I=1,L=[]), History(1->4,I=2,L=[]), History(2->4,I=3,L=[]), History(0->4,I=4,L=[]), History(2->3,I=5,L=[]), History(2->5,I=6,L=[5]), History(5->3,I=7,L=[5, 6]), History(0->5,I=8,L=[5, 6, 7]), History(1->5,I=9,L=[0]), History(5->3,I=10,L=[0, 9]), History(0->5,I=11,L=[0, 9, 10]), History(2->5,I=12,L=[3]), History(5->4,I=13,L=[3, 12]), History(0->5,I=14,L=[3, 12, 13]), History(1->5,I=15,L=[2]), History(5->4,I=16,L=[2, 15]), History(0->5,I=17,L=[2, 15, 16])]\n",
      "Number of Species: 10\n",
      "Species 0 - Players: 98, Average Fitness: 6.2551\n",
      "Species 1 - Players: 89, Average Fitness: 6.3596\n",
      "Species 2 - Players: 77, Average Fitness: 5.9610\n",
      "Species 3 - Players: 79, Average Fitness: 6.2025\n",
      "Species 4 - Players: 79, Average Fitness: 6.3038\n",
      "Species 5 - Players: 80, Average Fitness: 6.2625\n",
      "Species 6 - Players: 2, Average Fitness: 7.5000\n",
      "Species 7 - Players: 2, Average Fitness: 4.0000\n",
      "Species 8 - Players: 1, Average Fitness: 5.0000\n",
      "Species 9 - Players: 1, Average Fitness: 6.0000\n"
     ]
    }
   ],
   "source": [
    "population = Population(1000, 2, 2)\n",
    "players = population.new_generation()\n",
    "game = Game(players)\n",
    "game.play_game()\n",
    "population.update_generation()\n",
    "print(\"Innovation History: %s\" % population.innovation_history)\n",
    "print(\"Number of Species: %d\" % len(population.species))\n",
    "for i in range(len(population.species)):\n",
    "    print(\"Species %d - Players: %d, Average Fitness: %.4f\" % (i, len(population.species[i].players), population.species[i].average_fitness))"
   ]
  },
  {
   "cell_type": "code",
   "execution_count": 33,
   "metadata": {},
   "outputs": [
    {
     "name": "stdout",
     "output_type": "stream",
     "text": [
      "\tState\n",
      "\tNodes: 5 (2), {0: [Node(0,L=0), Node(1,L=0), Node(2,L=0)], 1: [Node(3,L=1), Node(4,L=1)]}\n",
      "\tConnections: 1, [Gene(Node(1,L=0)->Node(3,L=1),W=0.0964,I=0,E=1)]\n",
      "\n",
      "\n",
      "\tState\n",
      "\tNodes: 5 (2), {0: [Node(0,L=0), Node(1,L=0), Node(2,L=0)], 1: [Node(3,L=1), Node(4,L=1)]}\n",
      "\tConnections: 1, [Gene(Node(1,L=0)->Node(3,L=1),W=0.2322,I=0,E=1)]\n",
      "\n",
      "\n",
      "\tState\n",
      "\tNodes: 5 (2), {0: [Node(0,L=0), Node(1,L=0), Node(2,L=0)], 1: [Node(3,L=1), Node(4,L=1)]}\n",
      "\tConnections: 1, [Gene(Node(1,L=0)->Node(3,L=1),W=0.3914,I=0,E=1)]\n",
      "\n",
      "\n",
      "\tState\n",
      "\tNodes: 5 (2), {0: [Node(0,L=0), Node(1,L=0), Node(2,L=0)], 1: [Node(3,L=1), Node(4,L=1)]}\n",
      "\tConnections: 1, [Gene(Node(1,L=0)->Node(3,L=1),W=0.7582,I=0,E=1)]\n",
      "\n",
      "\n",
      "\tState\n",
      "\tNodes: 5 (2), {0: [Node(0,L=0), Node(1,L=0), Node(2,L=0)], 1: [Node(3,L=1), Node(4,L=1)]}\n",
      "\tConnections: 1, [Gene(Node(1,L=0)->Node(3,L=1),W=-0.2267,I=0,E=1)]\n",
      "\n",
      "\n"
     ]
    },
    {
     "data": {
      "image/png": "[encoded data removed]",
      "text/plain": [
       "<Figure size 432x288 with 1 Axes>"
      ]
     },
     "metadata": {
      "needs_background": "light"
     },
     "output_type": "display_data"
    },
    {
     "data": {
      "image/png": "[encoded data removed]",
      "text/plain": [
       "<Figure size 432x288 with 1 Axes>"
      ]
     },
     "metadata": {
      "needs_background": "light"
     },
     "output_type": "display_data"
    },
    {
     "data": {
      "image/png": "[encoded data removed]",
      "text/plain": [
       "<Figure size 432x288 with 1 Axes>"
      ]
     },
     "metadata": {
      "needs_background": "light"
     },
     "output_type": "display_data"
    },
    {
     "data": {
      "image/png": "[encoded data removed]",
      "text/plain": [
       "<Figure size 432x288 with 1 Axes>"
      ]
     },
     "metadata": {
      "needs_background": "light"
     },
     "output_type": "display_data"
    },
    {
     "data": {
      "image/png": "[encoded data removed]",
      "text/plain": [
       "<Figure size 432x288 with 1 Axes>"
      ]
     },
     "metadata": {
      "needs_background": "light"
     },
     "output_type": "display_data"
    }
   ],
   "source": [
    "species = population.species[0]\n",
    "for i in range(5):\n",
    "    player = species.players[i]\n",
    "    player.nn.print_state()\n",
    "    player.nn.draw_state()"
   ]
  },
  {
   "cell_type": "code",
   "execution_count": 34,
   "metadata": {},
   "outputs": [
    {
     "name": "stdout",
     "output_type": "stream",
     "text": [
      "\tState\n",
      "\tNodes: 5 (2), {0: [Node(0,L=0), Node(1,L=0), Node(2,L=0)], 1: [Node(3,L=1), Node(4,L=1)]}\n",
      "\tConnections: 1, [Gene(Node(1,L=0)->Node(3,L=1),W=0.0964,I=0,E=1)]\n",
      "\n",
      "\n",
      "[1, 0, 1] [0.5, 0.5] 0 0\n",
      "[1, 1, 1] [0.5240864957087253, 0.5] 0 1\n",
      "[1, 1, 0] [0.5240864957087253, 0.5] 0 1\n",
      "[1, 0, 1] [0.5, 0.5] 0 1\n",
      "[1, 1, 1] [0.5240864957087253, 0.5] 0 2\n",
      "[1, 1, 1] [0.5240864957087253, 0.5] 0 3\n",
      "[1, 0, 0] [0.5, 0.5] 0 4\n",
      "[1, 0, 1] [0.5, 0.5] 0 4\n",
      "[1, 0, 0] [0.5, 0.5] 0 5\n",
      "[1, 1, 0] [0.5240864957087253, 0.5] 0 5\n"
     ]
    },
    {
     "data": {
      "image/png": "[encoded data removed]",
      "text/plain": [
       "<Figure size 432x288 with 1 Axes>"
      ]
     },
     "metadata": {
      "needs_background": "light"
     },
     "output_type": "display_data"
    }
   ],
   "source": [
    "player = species.players[0]\n",
    "player.nn.print_state()\n",
    "player.nn.draw_state()\n",
    "\n",
    "won = 0\n",
    "for _ in range(10):\n",
    "    inputs = [1] + np.random.randint(2, size=2).tolist()\n",
    "    decision = player.decide(inputs)\n",
    "    if inputs[1] == inputs[2] and decision == 0:\n",
    "        won += 1\n",
    "    elif inputs[1] != inputs[2] and decision == 1:\n",
    "        won += 1\n",
    "    print(inputs, player.nn.forward_pass(inputs), decision, won)"
   ]
  },
  {
   "cell_type": "code",
   "execution_count": 35,
   "metadata": {},
   "outputs": [
    {
     "name": "stdout",
     "output_type": "stream",
     "text": [
      "\tState\n",
      "\tNodes: 6 (3), {0: [Node(0,L=0), Node(1,L=0), Node(2,L=0)], 1: [Node(5,L=1)], 2: [Node(3,L=2), Node(4,L=2)]}\n",
      "\tConnections: 4, [Gene(Node(2,L=0)->Node(4,L=2),W=-0.0128,I=3,E=0), Gene(Node(2,L=0)->Node(5,L=1),W=1.0000,I=12,E=1), Gene(Node(0,L=0)->Node(5,L=1),W=0.0000,I=14,E=1), Gene(Node(5,L=1)->Node(4,L=2),W=-0.0128,I=13,E=1)]\n",
      "\n",
      "\n"
     ]
    },
    {
     "data": {
      "image/png": "[encoded data removed]",
      "text/plain": [
       "<Figure size 432x288 with 1 Axes>"
      ]
     },
     "metadata": {
      "needs_background": "light"
     },
     "output_type": "display_data"
    }
   ],
   "source": [
    "species = population.species[np.argmin([len(s.players) for s in population.species])]\n",
    "for i in range(min(5, len(species.players))):\n",
    "    player = species.players[i]\n",
    "    player.nn.print_state()\n",
    "    player.nn.draw_state()"
   ]
  },
  {
   "cell_type": "code",
   "execution_count": 36,
   "metadata": {},
   "outputs": [
    {
     "name": "stdout",
     "output_type": "stream",
     "text": [
      "\tState\n",
      "\tNodes: 6 (3), {0: [Node(0,L=0), Node(1,L=0), Node(2,L=0)], 1: [Node(5,L=1)], 2: [Node(3,L=2), Node(4,L=2)]}\n",
      "\tConnections: 4, [Gene(Node(2,L=0)->Node(4,L=2),W=-0.0128,I=3,E=0), Gene(Node(2,L=0)->Node(5,L=1),W=1.0000,I=12,E=1), Gene(Node(0,L=0)->Node(5,L=1),W=0.0000,I=14,E=1), Gene(Node(5,L=1)->Node(4,L=2),W=-0.0128,I=13,E=1)]\n",
      "\n",
      "\n",
      "[1, 0, 1] [0.5, 0.49680372373431386] 0 0\n",
      "[1, 0, 1] [0.5, 0.49680372373431386] 0 0\n",
      "[1, 0, 0] [0.5, 0.5] 0 1\n",
      "[1, 0, 0] [0.5, 0.5] 0 2\n",
      "[1, 1, 0] [0.5, 0.5] 0 2\n",
      "[1, 0, 1] [0.5, 0.49680372373431386] 0 2\n",
      "[1, 0, 1] [0.5, 0.49680372373431386] 0 2\n",
      "[1, 0, 1] [0.5, 0.49680372373431386] 0 2\n",
      "[1, 0, 1] [0.5, 0.49680372373431386] 0 2\n",
      "[1, 0, 0] [0.5, 0.5] 0 3\n"
     ]
    },
    {
     "data": {
      "image/png": "[encoded data removed]",
      "text/plain": [
       "<Figure size 432x288 with 1 Axes>"
      ]
     },
     "metadata": {
      "needs_background": "light"
     },
     "output_type": "display_data"
    }
   ],
   "source": [
    "player = species.players[0]\n",
    "player.nn.print_state()\n",
    "player.nn.draw_state()\n",
    "\n",
    "won = 0\n",
    "for _ in range(10):\n",
    "    inputs = [1] + np.random.randint(2, size=2).tolist()\n",
    "    decision = player.decide(inputs)\n",
    "    if inputs[1] == inputs[2] and decision == 0:\n",
    "        won += 1\n",
    "    elif inputs[1] != inputs[2] and decision == 1:\n",
    "        won += 1\n",
    "    print(inputs, player.nn.forward_pass(inputs), decision, won)"
   ]
  },
  {
   "cell_type": "code",
   "execution_count": 37,
   "metadata": {},
   "outputs": [
    {
     "data": {
      "text/plain": [
       "[<player.Player at 0x21dee61c400>,\n",
       " <player.Player at 0x21dee61c490>,\n",
       " <player.Player at 0x21dee61c850>,\n",
       " <player.Player at 0x21dee75b340>,\n",
       " <player.Player at 0x21dee759540>,\n",
       " <player.Player at 0x21dee61c970>,\n",
       " <player.Player at 0x21dee70f1f0>,\n",
       " <player.Player at 0x21dee70d570>,\n",
       " <player.Player at 0x21dee70d600>,\n",
       " <player.Player at 0x21dee70ec80>]"
      ]
     },
     "execution_count": 37,
     "metadata": {},
     "output_type": "execute_result"
    }
   ],
   "source": [
    "population.new_generation()"
   ]
  },
  {
   "attachments": {},
   "cell_type": "markdown",
   "metadata": {},
   "source": [
    "# Training Test"
   ]
  },
  {
   "cell_type": "code",
   "execution_count": null,
   "metadata": {},
   "outputs": [],
   "source": []
  }
 ],
 "metadata": {
  "kernelspec": {
   "display_name": "Python 3",
   "language": "python",
   "name": "python3"
  },
  "language_info": {
   "codemirror_mode": {
    "name": "ipython",
    "version": 3
   },
   "file_extension": ".py",
   "mimetype": "text/x-python",
   "name": "python",
   "nbconvert_exporter": "python",
   "pygments_lexer": "ipython3",
   "version": "3.10.2"
  },
  "orig_nbformat": 4
 },
 "nbformat": 4,
 "nbformat_minor": 2
}
