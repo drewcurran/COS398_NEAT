{
 "cells": [
  {
   "attachments": {},
   "cell_type": "markdown",
   "metadata": {},
   "source": [
    "# Imports"
   ]
  },
  {
   "cell_type": "code",
   "execution_count": 1,
   "metadata": {},
   "outputs": [],
   "source": [
    "from genome import Genome"
   ]
  },
  {
   "attachments": {},
   "cell_type": "markdown",
   "metadata": {},
   "source": [
    "# Setup"
   ]
  },
  {
   "cell_type": "code",
   "execution_count": 2,
   "metadata": {},
   "outputs": [],
   "source": [
    "history = []"
   ]
  },
  {
   "attachments": {},
   "cell_type": "markdown",
   "metadata": {},
   "source": [
    "# Genome 1"
   ]
  },
  {
   "cell_type": "code",
   "execution_count": 3,
   "metadata": {},
   "outputs": [
    {
     "name": "stdout",
     "output_type": "stream",
     "text": [
      "Initializing genome1\n",
      "\tState\n",
      "\tNodes: 3 (2), {0: [Node(0,L=0), Node(1,L=0)], 1: [Node(2,L=1)]}\n",
      "\tConnections: 0, []\n",
      "\n",
      "\n"
     ]
    },
    {
     "data": {
      "image/png": "[encoded data removed]",
      "text/plain": [
       "<Figure size 432x288 with 1 Axes>"
      ]
     },
     "metadata": {
      "needs_background": "light"
     },
     "output_type": "display_data"
    }
   ],
   "source": [
    "print(\"Initializing genome1\")\n",
    "genome1 = Genome(1, 1)\n",
    "genome1.print_state()\n",
    "genome1.draw_state()"
   ]
  },
  {
   "cell_type": "code",
   "execution_count": 4,
   "metadata": {},
   "outputs": [
    {
     "name": "stdout",
     "output_type": "stream",
     "text": [
      "General mutation\n",
      "\tState\n",
      "\tNodes: 3 (2), {0: [Node(0,L=0), Node(1,L=0)], 1: [Node(2,L=1)]}\n",
      "\tConnections: 1, [Gene(Node(0,L=0)->Node(2,L=1),W=-0.3997,I=0,E=1)]\n",
      "\tHistory: [History(0->2,I=0,L=[])]\n",
      "\n",
      "\tMutations\n",
      "\tConnections: [Gene(Node(0,L=0)->Node(2,L=1),W=-0.3997,I=0,E=1)]\n",
      "\n",
      "\n"
     ]
    },
    {
     "data": {
      "image/png": "[encoded data removed]",
      "text/plain": [
       "<Figure size 432x288 with 1 Axes>"
      ]
     },
     "metadata": {
      "needs_background": "light"
     },
     "output_type": "display_data"
    }
   ],
   "source": [
    "print(\"General mutation\")\n",
    "nodes, connections = genome1.mutate_genome(history)\n",
    "genome1.print_state(history=history, nodes=nodes, connections=connections)\n",
    "genome1.draw_state()"
   ]
  },
  {
   "cell_type": "code",
   "execution_count": 5,
   "metadata": {},
   "outputs": [
    {
     "name": "stdout",
     "output_type": "stream",
     "text": [
      "Node mutation\n",
      "\tState\n",
      "\tNodes: 3 (2), {0: [Node(0,L=0), Node(1,L=0)], 1: [Node(2,L=1)]}\n",
      "\tConnections: 1, [Gene(Node(0,L=0)->Node(2,L=1),W=-0.3997,I=0,E=1)]\n",
      "\tHistory: [History(0->2,I=0,L=[])]\n",
      "\n",
      "\n"
     ]
    },
    {
     "data": {
      "image/png": "[encoded data removed]",
      "text/plain": [
       "<Figure size 432x288 with 1 Axes>"
      ]
     },
     "metadata": {
      "needs_background": "light"
     },
     "output_type": "display_data"
    }
   ],
   "source": [
    "print(\"Node mutation\")\n",
    "nodes, connections = genome1.mutate_node(history)\n",
    "genome1.print_state(history=history, nodes=nodes, connections=connections)\n",
    "genome1.draw_state()"
   ]
  },
  {
   "cell_type": "code",
   "execution_count": 6,
   "metadata": {},
   "outputs": [
    {
     "name": "stdout",
     "output_type": "stream",
     "text": [
      "Gene mutation\n",
      "\tState\n",
      "\tNodes: 3 (2), {0: [Node(0,L=0), Node(1,L=0)], 1: [Node(2,L=1)]}\n",
      "\tConnections: 2, [Gene(Node(0,L=0)->Node(2,L=1),W=-0.3997,I=0,E=1), Gene(Node(1,L=0)->Node(2,L=1),W=0.4348,I=1,E=1)]\n",
      "\tHistory: [History(0->2,I=0,L=[]), History(1->2,I=1,L=[0])]\n",
      "\n",
      "\tMutations\n",
      "\tConnections: [Gene(Node(1,L=0)->Node(2,L=1),W=0.4348,I=1,E=1)]\n",
      "\n",
      "\n"
     ]
    },
    {
     "data": {
      "image/png": "[encoded data removed]",
      "text/plain": [
       "<Figure size 432x288 with 1 Axes>"
      ]
     },
     "metadata": {
      "needs_background": "light"
     },
     "output_type": "display_data"
    }
   ],
   "source": [
    "print(\"Gene mutation\")\n",
    "connection = genome1.mutate_connection(history)\n",
    "genome1.print_state(history=history, connections=[connection])\n",
    "genome1.draw_state()"
   ]
  },
  {
   "cell_type": "code",
   "execution_count": 7,
   "metadata": {},
   "outputs": [
    {
     "name": "stdout",
     "output_type": "stream",
     "text": [
      "Node mutation\n",
      "\tState\n",
      "\tNodes: 4 (3), {0: [Node(0,L=0), Node(1,L=0)], 1: [Node(3,L=1)], 2: [Node(2,L=2)]}\n",
      "\tConnections: 5, [Gene(Node(0,L=0)->Node(2,L=2),W=-0.3997,I=0,E=1), Gene(Node(1,L=0)->Node(2,L=2),W=0.4348,I=1,E=0), Gene(Node(1,L=0)->Node(3,L=1),W=1.0000,I=2,E=1), Gene(Node(3,L=1)->Node(2,L=2),W=0.4348,I=3,E=1), Gene(Node(0,L=0)->Node(3,L=1),W=0.0000,I=4,E=1)]\n",
      "\tHistory: [History(0->2,I=0,L=[]), History(1->2,I=1,L=[0]), History(1->3,I=2,L=[0, 1]), History(3->2,I=3,L=[0, 1, 2]), History(0->3,I=4,L=[0, 1, 2, 3])]\n",
      "\n",
      "\tMutations\n",
      "\tNodes: [Node(3,L=1)]\n",
      "\tConnections: [Gene(Node(1,L=0)->Node(3,L=1),W=1.0000,I=2,E=1), Gene(Node(3,L=1)->Node(2,L=2),W=0.4348,I=3,E=1), Gene(Node(0,L=0)->Node(3,L=1),W=0.0000,I=4,E=1)]\n",
      "\n",
      "\n"
     ]
    },
    {
     "data": {
      "image/png": "[encoded data removed]",
      "text/plain": [
       "<Figure size 432x288 with 1 Axes>"
      ]
     },
     "metadata": {
      "needs_background": "light"
     },
     "output_type": "display_data"
    }
   ],
   "source": [
    "print(\"Node mutation\")\n",
    "nodes, connections = genome1.mutate_node(history)\n",
    "genome1.print_state(history=history, nodes=nodes, connections=connections)\n",
    "genome1.draw_state()"
   ]
  },
  {
   "attachments": {},
   "cell_type": "markdown",
   "metadata": {},
   "source": [
    "# Genome 2"
   ]
  },
  {
   "cell_type": "code",
   "execution_count": 8,
   "metadata": {},
   "outputs": [
    {
     "name": "stdout",
     "output_type": "stream",
     "text": [
      "Initializing genome2\n",
      "\tState\n",
      "\tNodes: 3 (2), {0: [Node(0,L=0), Node(1,L=0)], 1: [Node(2,L=1)]}\n",
      "\tConnections: 0, []\n",
      "\tHistory: [History(0->2,I=0,L=[]), History(1->2,I=1,L=[0]), History(1->3,I=2,L=[0, 1]), History(3->2,I=3,L=[0, 1, 2]), History(0->3,I=4,L=[0, 1, 2, 3])]\n",
      "\n",
      "\n"
     ]
    },
    {
     "data": {
      "image/png": "[encoded data removed]",
      "text/plain": [
       "<Figure size 432x288 with 1 Axes>"
      ]
     },
     "metadata": {
      "needs_background": "light"
     },
     "output_type": "display_data"
    }
   ],
   "source": [
    "print(\"Initializing genome2\")\n",
    "genome2 = Genome(1, 1)\n",
    "genome2.print_state(history=history)\n",
    "genome2.draw_state()"
   ]
  },
  {
   "cell_type": "code",
   "execution_count": 9,
   "metadata": {},
   "outputs": [
    {
     "name": "stdout",
     "output_type": "stream",
     "text": [
      "General mutation\n",
      "\tState\n",
      "\tNodes: 3 (2), {0: [Node(0,L=0), Node(1,L=0)], 1: [Node(2,L=1)]}\n",
      "\tConnections: 1, [Gene(Node(0,L=0)->Node(2,L=1),W=-0.1614,I=0,E=1)]\n",
      "\tHistory: [History(0->2,I=0,L=[]), History(1->2,I=1,L=[0]), History(1->3,I=2,L=[0, 1]), History(3->2,I=3,L=[0, 1, 2]), History(0->3,I=4,L=[0, 1, 2, 3])]\n",
      "\n",
      "\tMutations\n",
      "\tConnections: [Gene(Node(0,L=0)->Node(2,L=1),W=-0.1614,I=0,E=1)]\n",
      "\n",
      "\n"
     ]
    },
    {
     "data": {
      "image/png": "[encoded data removed]",
      "text/plain": [
       "<Figure size 432x288 with 1 Axes>"
      ]
     },
     "metadata": {
      "needs_background": "light"
     },
     "output_type": "display_data"
    }
   ],
   "source": [
    "print(\"General mutation\")\n",
    "nodes, connections = genome2.mutate_genome(history)\n",
    "genome2.print_state(history=history, nodes=nodes, connections=connections)\n",
    "genome2.draw_state()"
   ]
  },
  {
   "cell_type": "code",
   "execution_count": 10,
   "metadata": {},
   "outputs": [
    {
     "name": "stdout",
     "output_type": "stream",
     "text": [
      "Node mutation\n",
      "\tState\n",
      "\tNodes: 3 (2), {0: [Node(0,L=0), Node(1,L=0)], 1: [Node(2,L=1)]}\n",
      "\tConnections: 1, [Gene(Node(0,L=0)->Node(2,L=1),W=-0.1614,I=0,E=1)]\n",
      "\tHistory: [History(0->2,I=0,L=[]), History(1->2,I=1,L=[0]), History(1->3,I=2,L=[0, 1]), History(3->2,I=3,L=[0, 1, 2]), History(0->3,I=4,L=[0, 1, 2, 3])]\n",
      "\n",
      "\n"
     ]
    },
    {
     "data": {
      "image/png": "[encoded data removed]",
      "text/plain": [
       "<Figure size 432x288 with 1 Axes>"
      ]
     },
     "metadata": {
      "needs_background": "light"
     },
     "output_type": "display_data"
    }
   ],
   "source": [
    "print(\"Node mutation\")\n",
    "nodes, connections = genome2.mutate_node(history)\n",
    "genome2.print_state(history=history, nodes=nodes, connections=connections)\n",
    "genome2.draw_state()"
   ]
  },
  {
   "cell_type": "code",
   "execution_count": 11,
   "metadata": {},
   "outputs": [
    {
     "name": "stdout",
     "output_type": "stream",
     "text": [
      "Gene mutation\n",
      "\tState\n",
      "\tNodes: 3 (2), {0: [Node(0,L=0), Node(1,L=0)], 1: [Node(2,L=1)]}\n",
      "\tConnections: 2, [Gene(Node(0,L=0)->Node(2,L=1),W=-0.1614,I=0,E=1), Gene(Node(1,L=0)->Node(2,L=1),W=-0.8549,I=1,E=1)]\n",
      "\tHistory: [History(0->2,I=0,L=[]), History(1->2,I=1,L=[0]), History(1->3,I=2,L=[0, 1]), History(3->2,I=3,L=[0, 1, 2]), History(0->3,I=4,L=[0, 1, 2, 3])]\n",
      "\n",
      "\tMutations\n",
      "\tConnections: [Gene(Node(1,L=0)->Node(2,L=1),W=-0.8549,I=1,E=1)]\n",
      "\n",
      "\n"
     ]
    },
    {
     "data": {
      "image/png": "[encoded data removed]",
      "text/plain": [
       "<Figure size 432x288 with 1 Axes>"
      ]
     },
     "metadata": {
      "needs_background": "light"
     },
     "output_type": "display_data"
    }
   ],
   "source": [
    "print(\"Gene mutation\")\n",
    "connection = genome2.mutate_connection(history)\n",
    "genome2.print_state(history=history, connections=[connection])\n",
    "genome2.draw_state()"
   ]
  },
  {
   "cell_type": "code",
   "execution_count": 12,
   "metadata": {},
   "outputs": [
    {
     "name": "stdout",
     "output_type": "stream",
     "text": [
      "Node mutation\n",
      "\tState\n",
      "\tNodes: 4 (3), {0: [Node(0,L=0), Node(1,L=0)], 1: [Node(3,L=1)], 2: [Node(2,L=2)]}\n",
      "\tConnections: 5, [Gene(Node(0,L=0)->Node(2,L=2),W=-0.1614,I=0,E=1), Gene(Node(1,L=0)->Node(2,L=2),W=-0.8549,I=1,E=0), Gene(Node(1,L=0)->Node(3,L=1),W=1.0000,I=2,E=1), Gene(Node(3,L=1)->Node(2,L=2),W=-0.8549,I=3,E=1), Gene(Node(0,L=0)->Node(3,L=1),W=0.0000,I=4,E=1)]\n",
      "\tHistory: [History(0->2,I=0,L=[]), History(1->2,I=1,L=[0]), History(1->3,I=2,L=[0, 1]), History(3->2,I=3,L=[0, 1, 2]), History(0->3,I=4,L=[0, 1, 2, 3])]\n",
      "\n",
      "\tMutations\n",
      "\tNodes: [Node(3,L=1)]\n",
      "\tConnections: [Gene(Node(1,L=0)->Node(3,L=1),W=1.0000,I=2,E=1), Gene(Node(3,L=1)->Node(2,L=2),W=-0.8549,I=3,E=1), Gene(Node(0,L=0)->Node(3,L=1),W=0.0000,I=4,E=1)]\n",
      "\n",
      "\n"
     ]
    },
    {
     "data": {
      "image/png": "[encoded data removed]",
      "text/plain": [
       "<Figure size 432x288 with 1 Axes>"
      ]
     },
     "metadata": {
      "needs_background": "light"
     },
     "output_type": "display_data"
    }
   ],
   "source": [
    "print(\"Node mutation\")\n",
    "nodes, connections = genome2.mutate_node(history)\n",
    "genome2.print_state(history=history, nodes=nodes, connections=connections)\n",
    "genome2.draw_state()"
   ]
  },
  {
   "cell_type": "code",
   "execution_count": 13,
   "metadata": {},
   "outputs": [
    {
     "name": "stdout",
     "output_type": "stream",
     "text": [
      "Gene mutation\n",
      "\tState\n",
      "\tNodes: 4 (3), {0: [Node(0,L=0), Node(1,L=0)], 1: [Node(3,L=1)], 2: [Node(2,L=2)]}\n",
      "\tConnections: 5, [Gene(Node(0,L=0)->Node(2,L=2),W=-0.1614,I=0,E=1), Gene(Node(1,L=0)->Node(2,L=2),W=-0.8549,I=1,E=0), Gene(Node(1,L=0)->Node(3,L=1),W=1.0000,I=2,E=1), Gene(Node(3,L=1)->Node(2,L=2),W=-0.8549,I=3,E=1), Gene(Node(0,L=0)->Node(3,L=1),W=0.0000,I=4,E=1)]\n",
      "\tHistory: [History(0->2,I=0,L=[]), History(1->2,I=1,L=[0]), History(1->3,I=2,L=[0, 1]), History(3->2,I=3,L=[0, 1, 2]), History(0->3,I=4,L=[0, 1, 2, 3])]\n",
      "\n",
      "\tMutations\n",
      "\tConnections: [None]\n",
      "\n",
      "\n"
     ]
    },
    {
     "data": {
      "image/png": "[encoded data removed]",
      "text/plain": [
       "<Figure size 432x288 with 1 Axes>"
      ]
     },
     "metadata": {
      "needs_background": "light"
     },
     "output_type": "display_data"
    }
   ],
   "source": [
    "print(\"Gene mutation\")\n",
    "connection = genome2.mutate_connection(history)\n",
    "genome2.print_state(history=history, connections=[connection])\n",
    "genome2.draw_state()"
   ]
  },
  {
   "cell_type": "code",
   "execution_count": 14,
   "metadata": {},
   "outputs": [
    {
     "name": "stdout",
     "output_type": "stream",
     "text": [
      "Node mutation\n",
      "\tState\n",
      "\tNodes: 5 (3), {0: [Node(0,L=0), Node(1,L=0)], 1: [Node(3,L=1), Node(4,L=1)], 2: [Node(2,L=2)]}\n",
      "\tConnections: 8, [Gene(Node(0,L=0)->Node(2,L=2),W=-0.1614,I=0,E=1), Gene(Node(1,L=0)->Node(2,L=2),W=-0.8549,I=1,E=0), Gene(Node(1,L=0)->Node(3,L=1),W=1.0000,I=2,E=1), Gene(Node(3,L=1)->Node(2,L=2),W=-0.8549,I=3,E=1), Gene(Node(0,L=0)->Node(3,L=1),W=0.0000,I=4,E=1), Gene(Node(1,L=0)->Node(4,L=1),W=1.0000,I=5,E=1), Gene(Node(4,L=1)->Node(2,L=2),W=-0.8549,I=6,E=1), Gene(Node(0,L=0)->Node(4,L=1),W=0.0000,I=7,E=1)]\n",
      "\tHistory: [History(0->2,I=0,L=[]), History(1->2,I=1,L=[0]), History(1->3,I=2,L=[0, 1]), History(3->2,I=3,L=[0, 1, 2]), History(0->3,I=4,L=[0, 1, 2, 3]), History(1->4,I=5,L=[0, 1, 2, 3, 4]), History(4->2,I=6,L=[0, 1, 2, 3, 4, 5]), History(0->4,I=7,L=[0, 1, 2, 3, 4, 5, 6])]\n",
      "\n",
      "\tMutations\n",
      "\tNodes: [Node(4,L=1)]\n",
      "\tConnections: [Gene(Node(1,L=0)->Node(4,L=1),W=1.0000,I=5,E=1), Gene(Node(4,L=1)->Node(2,L=2),W=-0.8549,I=6,E=1), Gene(Node(0,L=0)->Node(4,L=1),W=0.0000,I=7,E=1)]\n",
      "\n",
      "\n"
     ]
    },
    {
     "data": {
      "image/png": "[encoded data removed]",
      "text/plain": [
       "<Figure size 432x288 with 1 Axes>"
      ]
     },
     "metadata": {
      "needs_background": "light"
     },
     "output_type": "display_data"
    }
   ],
   "source": [
    "print(\"Node mutation\")\n",
    "nodes, connections = genome2.mutate_node(history)\n",
    "genome2.print_state(history=history, nodes=nodes, connections=connections)\n",
    "genome2.draw_state()"
   ]
  },
  {
   "cell_type": "code",
   "execution_count": 15,
   "metadata": {},
   "outputs": [
    {
     "name": "stdout",
     "output_type": "stream",
     "text": [
      "Gene mutation\n",
      "\tState\n",
      "\tNodes: 5 (3), {0: [Node(0,L=0), Node(1,L=0)], 1: [Node(3,L=1), Node(4,L=1)], 2: [Node(2,L=2)]}\n",
      "\tConnections: 8, [Gene(Node(0,L=0)->Node(2,L=2),W=-0.1614,I=0,E=1), Gene(Node(1,L=0)->Node(2,L=2),W=-0.8549,I=1,E=0), Gene(Node(1,L=0)->Node(3,L=1),W=1.0000,I=2,E=1), Gene(Node(3,L=1)->Node(2,L=2),W=-0.8549,I=3,E=1), Gene(Node(0,L=0)->Node(3,L=1),W=0.0000,I=4,E=1), Gene(Node(1,L=0)->Node(4,L=1),W=1.0000,I=5,E=1), Gene(Node(4,L=1)->Node(2,L=2),W=-0.8549,I=6,E=1), Gene(Node(0,L=0)->Node(4,L=1),W=0.0000,I=7,E=1)]\n",
      "\tHistory: [History(0->2,I=0,L=[]), History(1->2,I=1,L=[0]), History(1->3,I=2,L=[0, 1]), History(3->2,I=3,L=[0, 1, 2]), History(0->3,I=4,L=[0, 1, 2, 3]), History(1->4,I=5,L=[0, 1, 2, 3, 4]), History(4->2,I=6,L=[0, 1, 2, 3, 4, 5]), History(0->4,I=7,L=[0, 1, 2, 3, 4, 5, 6])]\n",
      "\n",
      "\tMutations\n",
      "\tConnections: [None]\n",
      "\n",
      "\n"
     ]
    },
    {
     "data": {
      "image/png": "[encoded data removed]",
      "text/plain": [
       "<Figure size 432x288 with 1 Axes>"
      ]
     },
     "metadata": {
      "needs_background": "light"
     },
     "output_type": "display_data"
    }
   ],
   "source": [
    "print(\"Gene mutation\")\n",
    "connection = genome2.mutate_connection(history)\n",
    "genome2.print_state(history=history, connections=[connection])\n",
    "genome2.draw_state()"
   ]
  },
  {
   "cell_type": "code",
   "execution_count": 16,
   "metadata": {},
   "outputs": [
    {
     "name": "stdout",
     "output_type": "stream",
     "text": [
      "Node mutation\n",
      "\tState\n",
      "\tNodes: 6 (3), {0: [Node(0,L=0), Node(1,L=0)], 1: [Node(3,L=1), Node(4,L=1), Node(5,L=1)], 2: [Node(2,L=2)]}\n",
      "\tConnections: 11, [Gene(Node(0,L=0)->Node(2,L=2),W=-0.1614,I=0,E=1), Gene(Node(1,L=0)->Node(2,L=2),W=-0.8549,I=1,E=0), Gene(Node(1,L=0)->Node(3,L=1),W=1.0000,I=2,E=1), Gene(Node(3,L=1)->Node(2,L=2),W=-0.8549,I=3,E=1), Gene(Node(0,L=0)->Node(3,L=1),W=0.0000,I=4,E=1), Gene(Node(1,L=0)->Node(4,L=1),W=1.0000,I=5,E=1), Gene(Node(4,L=1)->Node(2,L=2),W=-0.8549,I=6,E=1), Gene(Node(0,L=0)->Node(4,L=1),W=0.0000,I=7,E=1), Gene(Node(1,L=0)->Node(5,L=1),W=1.0000,I=8,E=1), Gene(Node(5,L=1)->Node(2,L=2),W=-0.8549,I=9,E=1), Gene(Node(0,L=0)->Node(5,L=1),W=0.0000,I=10,E=1)]\n",
      "\tHistory: [History(0->2,I=0,L=[]), History(1->2,I=1,L=[0]), History(1->3,I=2,L=[0, 1]), History(3->2,I=3,L=[0, 1, 2]), History(0->3,I=4,L=[0, 1, 2, 3]), History(1->4,I=5,L=[0, 1, 2, 3, 4]), History(4->2,I=6,L=[0, 1, 2, 3, 4, 5]), History(0->4,I=7,L=[0, 1, 2, 3, 4, 5, 6]), History(1->5,I=8,L=[0, 1, 2, 3, 4, 5, 6, 7]), History(5->2,I=9,L=[0, 1, 2, 3, 4, 5, 6, 7, 8]), History(0->5,I=10,L=[0, 1, 2, 3, 4, 5, 6, 7, 8, 9])]\n",
      "\n",
      "\tMutations\n",
      "\tNodes: [Node(5,L=1)]\n",
      "\tConnections: [Gene(Node(1,L=0)->Node(5,L=1),W=1.0000,I=8,E=1), Gene(Node(5,L=1)->Node(2,L=2),W=-0.8549,I=9,E=1), Gene(Node(0,L=0)->Node(5,L=1),W=0.0000,I=10,E=1)]\n",
      "\n",
      "\n"
     ]
    },
    {
     "data": {
      "image/png": "[encoded data removed]",
      "text/plain": [
       "<Figure size 432x288 with 1 Axes>"
      ]
     },
     "metadata": {
      "needs_background": "light"
     },
     "output_type": "display_data"
    }
   ],
   "source": [
    "print(\"Node mutation\")\n",
    "nodes, connections = genome2.mutate_node(history)\n",
    "genome2.print_state(history=history, nodes=nodes, connections=connections)\n",
    "genome2.draw_state()"
   ]
  },
  {
   "attachments": {},
   "cell_type": "markdown",
   "metadata": {},
   "source": [
    "# Crossover"
   ]
  },
  {
   "cell_type": "code",
   "execution_count": 17,
   "metadata": {},
   "outputs": [
    {
     "name": "stdout",
     "output_type": "stream",
     "text": [
      "genome1\n",
      "\tState\n",
      "\tNodes: 4 (3), {0: [Node(0,L=0), Node(1,L=0)], 1: [Node(3,L=1)], 2: [Node(2,L=2)]}\n",
      "\tConnections: 5, [Gene(Node(0,L=0)->Node(2,L=2),W=-0.3997,I=0,E=1), Gene(Node(1,L=0)->Node(2,L=2),W=0.4348,I=1,E=0), Gene(Node(1,L=0)->Node(3,L=1),W=1.0000,I=2,E=1), Gene(Node(3,L=1)->Node(2,L=2),W=0.4348,I=3,E=1), Gene(Node(0,L=0)->Node(3,L=1),W=0.0000,I=4,E=1)]\n",
      "\n",
      "\n"
     ]
    },
    {
     "data": {
      "image/png": "[encoded data removed]",
      "text/plain": [
       "<Figure size 432x288 with 1 Axes>"
      ]
     },
     "metadata": {
      "needs_background": "light"
     },
     "output_type": "display_data"
    }
   ],
   "source": [
    "print(\"genome1\")\n",
    "genome1.print_state()\n",
    "genome1.draw_state()"
   ]
  },
  {
   "cell_type": "code",
   "execution_count": 18,
   "metadata": {},
   "outputs": [
    {
     "name": "stdout",
     "output_type": "stream",
     "text": [
      "genome2\n",
      "\tState\n",
      "\tNodes: 6 (3), {0: [Node(0,L=0), Node(1,L=0)], 1: [Node(3,L=1), Node(4,L=1), Node(5,L=1)], 2: [Node(2,L=2)]}\n",
      "\tConnections: 11, [Gene(Node(0,L=0)->Node(2,L=2),W=-0.1614,I=0,E=1), Gene(Node(1,L=0)->Node(2,L=2),W=-0.8549,I=1,E=0), Gene(Node(1,L=0)->Node(3,L=1),W=1.0000,I=2,E=1), Gene(Node(3,L=1)->Node(2,L=2),W=-0.8549,I=3,E=1), Gene(Node(0,L=0)->Node(3,L=1),W=0.0000,I=4,E=1), Gene(Node(1,L=0)->Node(4,L=1),W=1.0000,I=5,E=1), Gene(Node(4,L=1)->Node(2,L=2),W=-0.8549,I=6,E=1), Gene(Node(0,L=0)->Node(4,L=1),W=0.0000,I=7,E=1), Gene(Node(1,L=0)->Node(5,L=1),W=1.0000,I=8,E=1), Gene(Node(5,L=1)->Node(2,L=2),W=-0.8549,I=9,E=1), Gene(Node(0,L=0)->Node(5,L=1),W=0.0000,I=10,E=1)]\n",
      "\n",
      "\n"
     ]
    },
    {
     "data": {
      "image/png": "[encoded data removed]",
      "text/plain": [
       "<Figure size 432x288 with 1 Axes>"
      ]
     },
     "metadata": {
      "needs_background": "light"
     },
     "output_type": "display_data"
    }
   ],
   "source": [
    "print(\"genome2\")\n",
    "genome2.print_state()\n",
    "genome2.draw_state()"
   ]
  },
  {
   "cell_type": "code",
   "execution_count": 19,
   "metadata": {},
   "outputs": [
    {
     "name": "stdout",
     "output_type": "stream",
     "text": [
      "Crossover genome1 with genome 2 to create genome3\n",
      "\tState\n",
      "\tNodes: 4 (3), {0: [Node(0,L=0), Node(1,L=0)], 1: [Node(3,L=1)], 2: [Node(2,L=2)]}\n",
      "\tConnections: 5, [Gene(Node(0,L=0)->Node(2,L=2),W=-0.3997,I=0,E=1), Gene(Node(1,L=0)->Node(2,L=2),W=0.4348,I=1,E=0), Gene(Node(1,L=0)->Node(3,L=1),W=1.0000,I=2,E=1), Gene(Node(3,L=1)->Node(2,L=2),W=0.4348,I=3,E=1), Gene(Node(0,L=0)->Node(3,L=1),W=0.0000,I=4,E=1)]\n",
      "\n",
      "\n"
     ]
    },
    {
     "data": {
      "image/png": "[encoded data removed]",
      "text/plain": [
       "<Figure size 432x288 with 1 Axes>"
      ]
     },
     "metadata": {
      "needs_background": "light"
     },
     "output_type": "display_data"
    }
   ],
   "source": [
    "print(\"Crossover genome1 with genome 2 to create genome3\")\n",
    "genome3 = genome1.crossover(genome2)\n",
    "genome3.print_state()\n",
    "genome3.draw_state()"
   ]
  },
  {
   "cell_type": "code",
   "execution_count": 20,
   "metadata": {},
   "outputs": [
    {
     "name": "stdout",
     "output_type": "stream",
     "text": [
      "Crossover genome2 with genome 1 to create genome4\n",
      "\tState\n",
      "\tNodes: 6 (3), {0: [Node(0,L=0), Node(1,L=0)], 1: [Node(3,L=1), Node(4,L=1), Node(5,L=1)], 2: [Node(2,L=2)]}\n",
      "\tConnections: 11, [Gene(Node(0,L=0)->Node(2,L=2),W=-0.1614,I=0,E=1), Gene(Node(1,L=0)->Node(2,L=2),W=-0.8549,I=1,E=0), Gene(Node(1,L=0)->Node(3,L=1),W=1.0000,I=2,E=1), Gene(Node(3,L=1)->Node(2,L=2),W=-0.8549,I=3,E=1), Gene(Node(0,L=0)->Node(3,L=1),W=0.0000,I=4,E=1), Gene(Node(1,L=0)->Node(4,L=1),W=1.0000,I=5,E=1), Gene(Node(4,L=1)->Node(2,L=2),W=-0.8549,I=6,E=1), Gene(Node(0,L=0)->Node(4,L=1),W=0.0000,I=7,E=1), Gene(Node(1,L=0)->Node(5,L=1),W=1.0000,I=8,E=1), Gene(Node(5,L=1)->Node(2,L=2),W=-0.8549,I=9,E=1), Gene(Node(0,L=0)->Node(5,L=1),W=0.0000,I=10,E=1)]\n",
      "\n",
      "\n"
     ]
    },
    {
     "data": {
      "image/png": "[encoded data removed]",
      "text/plain": [
       "<Figure size 432x288 with 1 Axes>"
      ]
     },
     "metadata": {
      "needs_background": "light"
     },
     "output_type": "display_data"
    }
   ],
   "source": [
    "print(\"Crossover genome2 with genome 1 to create genome4\")\n",
    "genome4 = genome2.crossover(genome1)\n",
    "genome4.print_state()\n",
    "genome4.draw_state()"
   ]
  },
  {
   "attachments": {},
   "cell_type": "markdown",
   "metadata": {},
   "source": [
    "# Propagation"
   ]
  },
  {
   "cell_type": "code",
   "execution_count": 21,
   "metadata": {},
   "outputs": [
    {
     "name": "stdout",
     "output_type": "stream",
     "text": [
      "[0.46777201197102647] [0.1470497808469632] [0.5] [0.5]\n"
     ]
    }
   ],
   "source": [
    "out1 = genome1.forward_pass([1.1, 0.5])\n",
    "out2 = genome2.forward_pass([1, 0.5])\n",
    "out3 = genome3.forward_pass([1, 0.5])\n",
    "out4 = genome4.forward_pass([1, 0.5])\n",
    "print(out1, out2, out3, out4)"
   ]
  }
 ],
 "metadata": {
  "kernelspec": {
   "display_name": "Python 3",
   "language": "python",
   "name": "python3"
  },
  "language_info": {
   "codemirror_mode": {
    "name": "ipython",
    "version": 3
   },
   "file_extension": ".py",
   "mimetype": "text/x-python",
   "name": "python",
   "nbconvert_exporter": "python",
   "pygments_lexer": "ipython3",
   "version": "3.10.2"
  },
  "orig_nbformat": 4
 },
 "nbformat": 4,
 "nbformat_minor": 2
}
